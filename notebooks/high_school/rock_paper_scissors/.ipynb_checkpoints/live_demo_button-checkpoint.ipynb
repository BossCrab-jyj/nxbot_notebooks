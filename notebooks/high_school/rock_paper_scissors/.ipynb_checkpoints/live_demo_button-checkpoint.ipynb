{
 "cells": [
  {
   "cell_type": "markdown",
   "metadata": {},
   "source": [
    "# 猜拳游戏\n",
    "\n",
    "![title](other_data/1.jpg)\n",
    "\n",
    "## 1.加载所需模块"
   ]
  },
  {
   "cell_type": "code",
   "execution_count": null,
   "metadata": {},
   "outputs": [],
   "source": [
    "import torch\n",
    "import time\n",
    "import torchvision\n",
    "import traitlets\n",
    "from IPython.display import display\n",
    "import ipywidgets.widgets as widgets\n",
    "from nxbot import Robot,event,bgr8_to_jpeg\n",
    "import torch.nn.functional as F\n",
    "from torch.autograd import Variable\n",
    "from torchvision import datasets, models, transforms\n",
    "from PIL import Image, ImageDraw,ImageFont\n",
    "import cv2\n",
    "import numpy as np"
   ]
  },
  {
   "cell_type": "markdown",
   "metadata": {},
   "source": [
    "## 2.加载神经网络\n",
    "\n",
    "加载我们训练好的神经网络模型\n",
    "\n",
    "然后把模型数据传输到GPU设备上，加快运行速度。"
   ]
  },
  {
   "cell_type": "code",
   "execution_count": null,
   "metadata": {},
   "outputs": [],
   "source": [
    "model = torch.load('../../models/rock_paper_scissors_model/origin_model/rock_paper_scissors.pth')\n",
    "device = torch.device('cuda')\n",
    "model = model.to(device)"
   ]
  },
  {
   "cell_type": "markdown",
   "metadata": {},
   "source": [
    "## 3.创建预处理函数\n",
    "\n",
    "我们现在已经加载了我们的模型，但是有一个小问题。我们训练时模型接收的图片格式与机器人拍摄的图片的格式不匹配。为此，我们对机器人拍摄的图片做一些预处理，使得在训练和检测时输入神经网络的图片格式是一致的。"
   ]
  },
  {
   "cell_type": "code",
   "execution_count": null,
   "metadata": {},
   "outputs": [],
   "source": [
    "transforms = transforms.Compose([\n",
    "                # 将图片大小转换为224*224\n",
    "                transforms.Resize((224,224)),\n",
    "                # 将图像数据转换为tensor\n",
    "                transforms.ToTensor(),\n",
    "                # 将图像数据标准化\n",
    "                transforms.Normalize([0.587, 0.578, 0.573], [0.272, 0.273, 0.276])])\n",
    "\n",
    "def preprocess(camera_value):\n",
    "    # 给数据在索引0上增加一维\n",
    "    x = transforms(camera_value).unsqueeze(0)\n",
    "    # 将数据传给GPU\n",
    "    x = Variable(x).to(device)\n",
    "    return x"
   ]
  },
  {
   "cell_type": "markdown",
   "metadata": {},
   "source": [
    "## 4.检测模型是否能正常使用\n",
    "\n",
    "我们通过numpy创建与我们将要预测的图片格式一致的形状为（224，224，3）的数组，这里我们创建的全为1的数组将这个数组经过预处理再将数据放入模型中，如果有输出结果那么说明模型可以正常使用了。"
   ]
  },
  {
   "cell_type": "code",
   "execution_count": null,
   "metadata": {},
   "outputs": [],
   "source": [
    "try:\n",
    "    img_data = Image.fromarray(np.uint8(np.ones([224,224,3],np.float32)))\n",
    "    model(preprocess(img_data))\n",
    "except:\n",
    "    print('请检查模型是否正确')"
   ]
  },
  {
   "cell_type": "markdown",
   "metadata": {},
   "source": [
    "## 5.定义预测函数"
   ]
  },
  {
   "cell_type": "code",
   "execution_count": null,
   "metadata": {},
   "outputs": [],
   "source": [
    "\n",
    "import random\n",
    "\n",
    "image_widget = widgets.Image(format='jpeg', width=300, height=300)\n",
    "robot_widget = widgets.Image(format='jpeg', width=300, height=300)\n",
    "labels = ['back_ground','paper', 'rock', 'scissors']\n",
    "global chinese_label\n",
    "chinese_label = {'back_ground':'背景','paper':'布', 'rock':'石头', 'scissors':'剪刀'}\n",
    "global num_times\n",
    "global last_result\n",
    "global start\n",
    "global stop\n",
    "global exit\n",
    "global result\n",
    "            \n",
    "num_times = 0\n",
    "last_result = ''\n",
    "start = False\n",
    "stop = False\n",
    "exit = False\n",
    "result=None\n",
    "\n",
    "# 设置字体\n",
    "font = ImageFont.truetype('/usr/share/fonts/windows/simhei.ttf',20,encoding=\"utf-8\")\n",
    "\n",
    "# 将机器人出的手势显示出来\n",
    "robot_widget.value = bgr8_to_jpeg(cv2.imread('other_data/back_ground.jpg'))\n",
    "\n",
    "#开始检测\n",
    "def prediction():\n",
    "    global exit\n",
    "    global see_stop_flag\n",
    "    global chinese_label\n",
    "    while exit==False:\n",
    "        global num_times\n",
    "        time.sleep(0.001)\n",
    "        # 获取图像数据\n",
    "        img_data = rbt.camera.read()\n",
    "        # 水平翻转\n",
    "        img_data=cv2.flip(img_data,1)\n",
    "        # 如果有检测到数据\n",
    "        if img_data is not None:\n",
    "            # 将openvc格式转换为PIL格式\n",
    "            x = cv2.cvtColor(img_data,cv2.COLOR_BGR2RGB)\n",
    "            img_pil = Image.fromarray(np.uint8(x))\n",
    "            # 在图片上进行打印\n",
    "            draw = ImageDraw.Draw(img_pil)\n",
    "            # 方框坐标\n",
    "            x0, y0, x1, y1 = [40, 40, 260, 260]  # (x0,y0)左上，（x1,y1）右下\n",
    "            draw.rectangle([x0, y0, x1, y1], outline=(0, 0, 255))\n",
    "            # 数据预处理\n",
    "            x = preprocess(img_pil)\n",
    "            # 开始进行预测\n",
    "            y = model(x)\n",
    "\n",
    "            # 我们运用“softmax”函数对输出的结果进行处理，使其输出的值为一个概率值(0-1)。\n",
    "            y = F.softmax(y, dim=1)\n",
    "            prob = y.squeeze(0).cpu().detach().numpy()\n",
    "            pred_index = y.argmax(1)\n",
    "            label = labels[pred_index]\n",
    "            \n",
    "            if label != labels[0] and start:\n",
    "                if max(prob)>0.8:\n",
    "                    global result\n",
    "                    result = chinese_label[label]\n",
    "                    # 将类别与概率显示在图像上。\n",
    "                    draw.text((80, 10),'类别为：'+result,(255, 0, 0),font=font)\n",
    "                    if last_result==result:\n",
    "                        num_times+=1\n",
    "                    if label!=labels[0] and last_result!=result:\n",
    "                        num_times=0\n",
    "            if label==labels[0] or start==False:\n",
    "                draw.text((20, 10),'请将手放在方框内进行识别哦！',(255, 0, 0),font=font)\n",
    "                \n",
    "\n",
    "            last_result = result\n",
    "            # 把dachbot摄像头画面的数据传给图像窗口。\n",
    "            img_cv = cv2.cvtColor(np.array(img_pil),cv2.COLOR_RGB2BGR)\n",
    "            image_widget.value=bgr8_to_jpeg(img_cv)\n"
   ]
  },
  {
   "cell_type": "markdown",
   "metadata": {},
   "source": [
    "## 6.识别结果显示窗口"
   ]
  },
  {
   "cell_type": "code",
   "execution_count": null,
   "metadata": {},
   "outputs": [],
   "source": [
    "result_info = widgets.Textarea(\n",
    "    placeholder='NXROBO',\n",
    "    description='识别结果',\n",
    "    disabled=False\n",
    ")"
   ]
  },
  {
   "cell_type": "markdown",
   "metadata": {},
   "source": [
    "## 7.小车状态信息显示窗口"
   ]
  },
  {
   "cell_type": "code",
   "execution_count": null,
   "metadata": {},
   "outputs": [],
   "source": [
    "robot_info = widgets.Textarea(\n",
    "    placeholder='NXROBO',\n",
    "    description='小车状态信息',\n",
    "    disabled=False\n",
    ")\n",
    "\n",
    "def on_robot_state(evt):\n",
    "    if evt.dict['module']=='nxbot.speech':\n",
    "        robot_info.value = evt.dict['data']"
   ]
  },
  {
   "cell_type": "markdown",
   "metadata": {},
   "source": [
    "## 8.创建开始按钮"
   ]
  },
  {
   "cell_type": "code",
   "execution_count": null,
   "metadata": {},
   "outputs": [],
   "source": [
    "# 创建按钮外观。\n",
    "button_layout = widgets.Layout(width='100px', height='80px', align_self='center')\n",
    "\n",
    "#创建控制按钮。\n",
    "start_button = widgets.Button(description='开始游戏', button_style='primary', layout=button_layout)\n",
    "\n",
    "stop_button = widgets.Button(description='不玩了', button_style='danger', layout=button_layout)\n",
    "\n",
    "# 创建按钮执行的命令\n",
    "def start_game(change):\n",
    "    global start\n",
    "    global stop\n",
    "    start=True\n",
    "    stop = False\n",
    "    \n",
    "# 停止按钮\n",
    "def stop_game(change):\n",
    "    global start\n",
    "    global stop\n",
    "    stop =True\n",
    "    start=False\n",
    "    \n",
    "start_button.on_click(start_game)\n",
    "stop_button.on_click(stop_game)"
   ]
  },
  {
   "cell_type": "markdown",
   "metadata": {},
   "source": [
    "## 9.猜拳游戏\n",
    "1. 机器人会问你是否要玩猜拳游戏；\n",
    "2. 点击开始按钮，机器人就会和你进行比赛；\n",
    "3. 机器人会通过摄像头接收到的图像进行手势识别，并返回识别结果；\n",
    "4. 同时机器人会随机选择一个手势；\n",
    "5. 如果连续2次识别到相同的手势就进行判断胜负；\n",
    "6. 如果不玩了就点击不玩了按钮。"
   ]
  },
  {
   "cell_type": "code",
   "execution_count": null,
   "metadata": {},
   "outputs": [],
   "source": [
    "import threading\n",
    "\n",
    "def interaction():\n",
    "    time.sleep(5)\n",
    "    clasess = ['rock', 'paper', 'scissors']\n",
    "    stop_once = False\n",
    "    global exit\n",
    "    exit = False\n",
    "    rbt.speech.play_text('想和我玩猜拳吗?', True)\n",
    "    global chinese_label\n",
    "    while exit==False:\n",
    "        global start\n",
    "        global stop\n",
    "        # 如果点击开始按钮，机器人就会和你进行比赛\n",
    "        \n",
    "        # 将机器人出的手势显示出来\n",
    "        robot_widget.value = bgr8_to_jpeg(cv2.imread('other_data/back_ground.jpg'))\n",
    "        \n",
    "        if start:\n",
    "            rbt.speech.play_text('那我们开始吧', True)\n",
    "            # 机器人随机出拳\n",
    "            random_choise= random.randint(0, 2)\n",
    "            robo_choise = clasess[random_choise]\n",
    "            robo_chinese_choise = chinese_label[robo_choise]\n",
    "            # 说出机器人自己选择的手势\n",
    "            rbt.speech.play_text('1,2,3',True)\n",
    "            # 将机器人出的手势显示出来\n",
    "            robot_widget.value = bgr8_to_jpeg(cv2.imread('other_data/'+robo_choise+'.jpg'))\n",
    "            \n",
    "            rbt.speech.play_text(robo_chinese_choise,True)\n",
    "            global num_times\n",
    "            # 如果识别到的出拳连续两次一致，就执行下列代码\n",
    "            if num_times>=2:\n",
    "                # 接受识别结果\n",
    "                global result\n",
    "                result_info.value = result\n",
    "                human_choice = result\n",
    "                \n",
    "                # 说出当前对局\n",
    "                rbt.speech.play_text('我出了{}，你出了{}'.format(robo_chinese_choise,human_choice),True)\n",
    "                # 判断胜负\n",
    "                if human_choice == robo_chinese_choise:\n",
    "                    rbt.speech.play_text('我们想的一样呢!', True)\n",
    "                elif human_choice == '剪刀' and robo_chinese_choise == '布':\n",
    "                    rbt.speech.play_text('你赢啦', True)\n",
    "                elif human_choice == '石头' and robo_chinese_choise == '剪刀':\n",
    "                    rbt.speech.play_text('你赢啦', True)\n",
    "                elif human_choice == '布' and robo_chinese_choise == '石头':\n",
    "                    rbt.speech.play_text('你赢啦', True)\n",
    "                else:\n",
    "                    rbt.speech.play_text('我赢啦', True)\n",
    "                rbt.speech.play_text('想再玩一次吗?',True)\n",
    "                num_times = 0\n",
    "            # 如果没有识别到或者，没有连续3次识别到相同的手势\n",
    "            else:\n",
    "                rbt.speech.play_text('不要让我一个人玩耍,好吗？',True)\n",
    "                rbt.speech.play_text('想和我再玩一次吗?',True)\n",
    "            start = False\n",
    "            stop_once = False\n",
    "        # 停止按钮\n",
    "        if stop:\n",
    "            if stop_once==False:\n",
    "                rbt.speech.play_text('再见了',True)\n",
    "                stop_once = True\n",
    "        time.sleep(0.1)\n",
    "                "
   ]
  },
  {
   "cell_type": "markdown",
   "metadata": {},
   "source": [
    "## 10.开始运行\n",
    "1. 连接机器人；\n",
    "2. 打开机器人摄像头；\n",
    "3. 监听机器人摄像头画面，并进行手势识别；\n",
    "4. 通过线程启动游戏程序；\n",
    "5. 显示图像与游戏按钮。"
   ]
  },
  {
   "cell_type": "code",
   "execution_count": null,
   "metadata": {},
   "outputs": [],
   "source": [
    "rbt = Robot()\n",
    "rbt.connect()\n",
    "rbt.base.set_ptz(0)\n",
    "rbt.camera.start()\n",
    "rbt.event_manager.add_event_listener(event.EventTypes.ROBOT_STATE,on_robot_state)\n",
    "\n",
    "rbt.speech.start()\n",
    "\n",
    "process1 = threading.Thread(target=prediction,)\n",
    "process1.start()\n",
    "\n",
    "process2 = threading.Thread(target=interaction,)\n",
    "process2.start()\n",
    "\n",
    "display(widgets.HBox([robot_widget,image_widget]))\n",
    "display(widgets.VBox([widgets.HBox([robot_info, start_button]) ,widgets.HBox([result_info,stop_button])]))"
   ]
  },
  {
   "cell_type": "markdown",
   "metadata": {},
   "source": [
    "## 11.断开与机器人的连接"
   ]
  },
  {
   "cell_type": "code",
   "execution_count": null,
   "metadata": {},
   "outputs": [],
   "source": [
    "# exit = True\n",
    "# rbt.disconnect()"
   ]
  },
  {
   "cell_type": "code",
   "execution_count": null,
   "metadata": {},
   "outputs": [],
   "source": []
  }
 ],
 "metadata": {
  "kernelspec": {
   "display_name": "Python 3",
   "language": "python",
   "name": "python3"
  },
  "language_info": {
   "codemirror_mode": {
    "name": "ipython",
    "version": 3
   },
   "file_extension": ".py",
   "mimetype": "text/x-python",
   "name": "python",
   "nbconvert_exporter": "python",
   "pygments_lexer": "ipython3",
   "version": "3.6.8"
  },
  "widgets": {
   "application/vnd.jupyter.widget-state+json": {
    "state": {},
    "version_major": 2,
    "version_minor": 0
   }
  }
 },
 "nbformat": 4,
 "nbformat_minor": 4
}
