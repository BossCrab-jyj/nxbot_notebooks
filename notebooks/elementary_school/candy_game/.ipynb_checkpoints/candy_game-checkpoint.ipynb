{
 "cells": [
  {
   "cell_type": "markdown",
   "metadata": {},
   "source": [
    "# 抢30数字游戏\n",
    "\n",
    "![title](other_data/digital.jpg)\n",
    "\n",
    "游戏规则：\n",
    "\n",
    "游戏人数: 2人以上，本规则以2人为例。\n",
    "1. 首先，两名玩家中任选一人从数字1开始交替连续报数(整数)， 玩家每次可以自由选择报1个数或者2个数;\n",
    "2. 两名玩家所报的数必须是相互紧邻且递增的;\n",
    "3. 例如玩家A可以报\"1”，也可以报“1, 2”。如果玩家A报“1，2”，玩家B可以选择报“3”，也可以选择报“3，4”,依此类推;\n",
    "4. 游戏的目标是谁先报出数字 (30) ，谁就获胜。"
   ]
  },
  {
   "cell_type": "markdown",
   "metadata": {},
   "source": [
    "## 分析\n",
    "\n",
    "  我们先分析一个更简单的例子：\n",
    "规则：每人每次可以报1个数或者2个数，不能不报，谁抢到18谁就赢。\n",
    "\n",
    "分析：\n",
    "\n",
    "  如果我们想抢到18，就必须抢到15，因为抢到15之后，对方只能说小于等于2的数字个数，因此当你说出数字（ 18 -（15 + 对方说的数））就可以抢到18了，当我们抢15时，必须抢到12。如此倒推回去，可得到一系列关键数 18 15 12 9 6 3，因此只要谁抢到数字 3 就可以获胜了。也就是说只要按照这个规则谁先报数谁就会输。"
   ]
  },
  {
   "cell_type": "markdown",
   "metadata": {},
   "source": [
    "## 找出规律\n",
    "\n",
    "![title](other_data/think.png)\n",
    "\n",
    "这次我们选择抢30，规则是每人每次最多可以报4个数。\n",
    "\n",
    "* 找出规律：\n",
    "\n",
    "按照上面的分析，如果我们想抢到30，可以根据推论得到系列关键数 30 25 20 15 10 5，现在这个规律是不是更加清晰了，只要你报出与对手相加的和等于5你就\n",
    "\n",
    "可以获得胜利，现在我们来分析数组 30 25 20 15 10 5 之间的关系，我们可以根据数组和报数的次数得到这个规律 6×5, 5×5, 4×5 ... 1×5，因为我们还有一\n",
    "\n",
    "个可以调整的参数，报数的个数，因为一旦报数的个数定了，这个参数就不会变，因此可以得到关于次数和报数的数量这两个参数的关系：6×（4+1）, 5×（4+1）,\n",
    "\n",
    "4×（4+1） ... 1×（4+1）。\n",
    "\n",
    "* 可以用公式表达这些数组的关系为：S = m ×（n+1），S为所抢数字，m为次数，n为最大报数个数。\n",
    "\n",
    "\n",
    "思考：\n",
    "\n",
    "可以发现上面是一种特殊情况，关键数数组都可以被（n+1）整除，如果此时抢的数字为32或者其它不能被（n+1）整除的数，现在的输赢会发生改变吗？\n",
    "\n",
    "下面我们判断在 S /（n+1）有余数时，比如抢13，其他规则和抢30一样，按照S /（n+1）这个规律可以得出16/5=3...2。现在余数为2，之前能整除时谁后报就一定赢，现在多了2个数就轮到先报的那个人报数了，因此这时谁先报谁就赢了。\n",
    "\n",
    "* 也就是说在满足 m ×（n+1）的报数规律下并且满足S / m ×（n+1）没有余数时谁先报谁就输，因为m是整数，因此在当前规律的情况下满足S /（n+1）没有余数时谁先报谁就输。"
   ]
  },
  {
   "cell_type": "markdown",
   "metadata": {},
   "source": [
    "# 根据规律写出逻辑\n",
    "\n",
    "![title](other_data/mind.jpg)\n",
    "\n",
    "必赢规律：\n",
    "\n",
    "1. 当S(抢数数字)/(n(报数个数)+1) 的余数等于 0 时，后手必赢\n",
    "2. 当S(抢数数字)/(n(报数个数)+1) 的余数不等于 0 时，先手必赢\n"
   ]
  },
  {
   "cell_type": "markdown",
   "metadata": {},
   "source": [
    "# 抢糖果游戏\n",
    "\n",
    "![title](other_data/candy.png)\n",
    "\n",
    "下面我们就通过上面总结出来的规律来和机器人玩抢糖果的游戏！\n",
    "\n",
    "游戏说明：在这个游戏中我们会设定抢糖果的数量和每次抢糖果的数量限制，最后一颗糖果是最大的，也是最好吃的！那么谁会抢到最大的那颗糖果呢？"
   ]
  },
  {
   "cell_type": "markdown",
   "metadata": {},
   "source": [
    "## 定义机器人取糖果的规则\n",
    "根据我们总结的规则用代码表示出来。\n",
    "\n",
    "需要输入的参数：糖果总数量，抢糖果最大的数量。\n",
    "\n",
    "输出：S % m ×(n+1)的余数（\"%\"表示整除，当两个数相除没有余数时结果等于0，如果有余数就输出余数值）。"
   ]
  },
  {
   "cell_type": "code",
   "execution_count": 1,
   "metadata": {},
   "outputs": [],
   "source": [
    "def findChoose(total_value,limit_value):\n",
    "    return total_value % (limit_value+1)"
   ]
  },
  {
   "cell_type": "markdown",
   "metadata": {},
   "source": [
    "## 设定参数\n",
    "按照我们总结的规律，以下参数会影响游戏最后的结果，因此我们需要自己调整这些参数。\n",
    "1. 选择糖果总数量；\n",
    "2. 选择最先抢糖果的玩家（按照规律谁先开始抢糖果谁就会输）；\n",
    "3. 选择最大抢糖果的数量。"
   ]
  },
  {
   "cell_type": "code",
   "execution_count": 2,
   "metadata": {},
   "outputs": [
    {
     "data": {
      "application/vnd.jupyter.widget-view+json": {
       "model_id": "13c940378dbe468e980bf2d457a4949d",
       "version_major": 2,
       "version_minor": 0
      },
      "text/plain": [
       "HBox(children=(IntText(value=30, description='糖果数量'), interactive(children=(Dropdown(description='first_player…"
      ]
     },
     "metadata": {},
     "output_type": "display_data"
    }
   ],
   "source": [
    "# 导入小部件显示模块\n",
    "from IPython.display import display\n",
    "import ipywidgets.widgets as widgets\n",
    "from ipywidgets import interactive\n",
    "\n",
    "def run(first_player):\n",
    "    return first_player\n",
    "limit = widgets.IntSlider(value=4, min=1, step=1, max=6, description='抢糖果限制')\n",
    "total = widgets.IntText(value=30, description='糖果数量')\n",
    "# 设定机器人先报数\n",
    "first_player = interactive(run, first_player=['同学', '机器人'])\n",
    "# 显示需要设置的参数\n",
    "display(widgets.HBox([total, first_player, limit]))"
   ]
  },
  {
   "cell_type": "markdown",
   "metadata": {},
   "source": [
    "## 定义"
   ]
  },
  {
   "cell_type": "code",
   "execution_count": 3,
   "metadata": {},
   "outputs": [
    {
     "name": "stdout",
     "output_type": "stream",
     "text": [
      "同学先开始抢糖果, 一共有30颗糖果,每次最多只能抢4颗糖果\n"
     ]
    },
    {
     "name": "stdin",
     "output_type": "stream",
     "text": [
      "还剩 30 颗糖果,  你想抢几颗： 2\n"
     ]
    },
    {
     "name": "stdout",
     "output_type": "stream",
     "text": [
      "同学 取了 2 颗糖果，还剩 28 颗.\n",
      "3\n",
      "机器人 取了 3 颗糖果，还剩 25 颗.\n"
     ]
    },
    {
     "name": "stdin",
     "output_type": "stream",
     "text": [
      "还剩 25 颗糖果,  你想抢几颗： 3\n"
     ]
    },
    {
     "name": "stdout",
     "output_type": "stream",
     "text": [
      "同学 取了 3 颗糖果，还剩 22 颗.\n",
      "2\n",
      "机器人 取了 2 颗糖果，还剩 20 颗.\n"
     ]
    },
    {
     "name": "stdin",
     "output_type": "stream",
     "text": [
      "还剩 20 颗糖果,  你想抢几颗： 4\n"
     ]
    },
    {
     "name": "stdout",
     "output_type": "stream",
     "text": [
      "同学 取了 4 颗糖果，还剩 16 颗.\n",
      "1\n",
      "机器人 取了 1 颗糖果，还剩 15 颗.\n"
     ]
    },
    {
     "name": "stdin",
     "output_type": "stream",
     "text": [
      "还剩 15 颗糖果,  你想抢几颗： 5\n",
      "请在 4 颗范围内选取糖果： 2\n"
     ]
    },
    {
     "name": "stdout",
     "output_type": "stream",
     "text": [
      "同学 取了 2 颗糖果，还剩 13 颗.\n",
      "3\n",
      "机器人 取了 3 颗糖果，还剩 10 颗.\n"
     ]
    },
    {
     "name": "stdin",
     "output_type": "stream",
     "text": [
      "还剩 10 颗糖果,  你想抢几颗： 1\n"
     ]
    },
    {
     "name": "stdout",
     "output_type": "stream",
     "text": [
      "同学 取了 1 颗糖果，还剩 9 颗.\n",
      "4\n",
      "机器人 取了 4 颗糖果，还剩 5 颗.\n"
     ]
    },
    {
     "name": "stdin",
     "output_type": "stream",
     "text": [
      "还剩 5 颗糖果,  你想抢几颗： 4\n"
     ]
    },
    {
     "name": "stdout",
     "output_type": "stream",
     "text": [
      "同学 取了 4 颗糖果，还剩 1 颗.\n",
      "1\n",
      "机器人 取了 1 颗糖果，还剩 0 颗.\n",
      "同学 失败了\n"
     ]
    }
   ],
   "source": [
    "## 随机数模块\n",
    "import random\n",
    "\n",
    "# 将设定的参数值赋给变量，player表示玩家，用total_value表示糖果数量，limit_value表示最多能抢糖果的数量\n",
    "player = tuple(first_player.children)[0].value\n",
    "total_value = total.value\n",
    "limit_value = limit.value\n",
    "print('{}先开始抢糖果, 一共有{}颗糖果,每次最多只能抢{}颗糖果'.format(player, total_value, limit_value))\n",
    "\n",
    "# 一直抢到没有糖果就退出。\n",
    "while( total_value > 0):\n",
    "    \n",
    "    # 定义“同学”抢糖果规则，在这里我们定义的是同学手动输入选择的糖果数量\n",
    "    if player == '同学':\n",
    "        result = int(input(\"还剩 {} 颗糖果,  你想抢几颗：\".format(total_value,limit_value)))\n",
    "        \n",
    "        # 如果输入格式不满足定义的规则就需要重新输入。\n",
    "        if result not in range(1,limit_value+1):  \n",
    "            result = int(input(\"请在 {} 颗范围内选取糖果：\".format(limit_value)))\n",
    "    \n",
    "    # 定义 '机器人' 抢糖果规则，在这里我们定义的是 '机器人'随机选择定义范围内的数字\n",
    "    elif player == '机器人':\n",
    "        # 机器人会根据我们定义的逻辑规则来取数字。\n",
    "        result = findChoose(total_value,limit_value)\n",
    "        print(result)\n",
    "        #因为当'机器人'先手且当我们按照逻辑规则来抢糖果'机器人'就一定会输，因此就让“机器人”在1-4中随机选取抢糖果的数量。\n",
    "        if result == 0:\n",
    "            result = random.choice(range(1, limit_value+1))\n",
    "            \n",
    "    # 统计当前还剩多少糖果。\n",
    "    total_value -= result\n",
    "    print(\"{} 取了 {} 颗糖果，还剩 {} 颗.\".format(player, result, total_value))\n",
    "    \n",
    "    # 轮流抢糖果\n",
    "    player = '机器人' if player == '同学' else '同学' \n",
    "    \n",
    "# 判定勝負谁会获胜\n",
    "if total_value == 0 :\n",
    "    print(\"{} 失败了\".format(player))\n",
    "else:\n",
    "    print(\"{} 胜利了\".format(player))"
   ]
  },
  {
   "cell_type": "code",
   "execution_count": null,
   "metadata": {},
   "outputs": [],
   "source": []
  }
 ],
 "metadata": {
  "kernelspec": {
   "display_name": "Python 3",
   "language": "python",
   "name": "python3"
  },
  "language_info": {
   "codemirror_mode": {
    "name": "ipython",
    "version": 3
   },
   "file_extension": ".py",
   "mimetype": "text/x-python",
   "name": "python",
   "nbconvert_exporter": "python",
   "pygments_lexer": "ipython3",
   "version": "3.6.8"
  },
  "toc": {
   "base_numbering": 1,
   "nav_menu": {},
   "number_sections": true,
   "sideBar": true,
   "skip_h1_title": false,
   "title_cell": "Table of Contents",
   "title_sidebar": "Contents",
   "toc_cell": false,
   "toc_position": {
    "height": "calc(100% - 180px)",
    "left": "10px",
    "top": "150px",
    "width": "384px"
   },
   "toc_section_display": true,
   "toc_window_display": true
  }
 },
 "nbformat": 4,
 "nbformat_minor": 4
}
