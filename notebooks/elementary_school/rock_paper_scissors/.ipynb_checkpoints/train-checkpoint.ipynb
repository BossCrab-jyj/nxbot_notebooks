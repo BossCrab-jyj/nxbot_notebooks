{
 "cells": [
  {
   "cell_type": "markdown",
   "metadata": {},
   "source": [
    "# 导入所需模块"
   ]
  },
  {
   "cell_type": "code",
   "execution_count": null,
   "metadata": {},
   "outputs": [],
   "source": [
    "import os\n",
    "import shutil\n",
    "import torch\n",
    "import torch.optim as optim\n",
    "import torch.nn.functional as F\n",
    "import torchvision\n",
    "import torchvision.datasets as datasets\n",
    "import torchvision.models as models\n",
    "import torchvision.transforms as transforms"
   ]
  },
  {
   "cell_type": "markdown",
   "metadata": {},
   "source": [
    "# 加载数据集\n",
    "加载之前收集好的数据"
   ]
  },
  {
   "cell_type": "code",
   "execution_count": null,
   "metadata": {},
   "outputs": [],
   "source": [
    "data_dir = 'datasets'\n",
    "\n",
    "# 删除缓存文件夹：'.ipynb_checkpoints'\n",
    "dir_list = os.listdir(data_dir)\n",
    "if '.ipynb_checkpoints' in dir_list:\n",
    "    shutil.rmtree(os.path.join(data_dir,'.ipynb_checkpoints'))\n",
    "\n",
    "dataset = datasets.ImageFolder(\n",
    "    data_dir,\n",
    "    transforms.Compose([\n",
    "        transforms.ColorJitter(0.1, 0.1, 0.1, 0.1),\n",
    "        transforms.Resize((224, 224)),\n",
    "        transforms.ToTensor(),\n",
    "        transforms.Normalize([0.485, 0.456, 0.406], [0.229, 0.224, 0.225])\n",
    "    ])\n",
    ")\n",
    "class_idx = dataset.class_to_idx\n",
    "print('数据标签与对应的索引',class_idx)"
   ]
  },
  {
   "cell_type": "markdown",
   "metadata": {},
   "source": [
    "# 划分训练集与测试集"
   ]
  },
  {
   "cell_type": "code",
   "execution_count": null,
   "metadata": {},
   "outputs": [],
   "source": [
    "# 划分训练集和测试集\n",
    "valid_percente = 0.2\n",
    "num_valid = int(len(dataset)*valid_percente)\n",
    "train_dataset, test_dataset = torch.utils.data.random_split(dataset, [len(dataset) - num_valid, num_valid])\n",
    "num_train_dataset = len(train_dataset)\n",
    "num_test_dataset = len(test_dataset)"
   ]
  },
  {
   "cell_type": "markdown",
   "metadata": {},
   "source": [
    "# 将数据放入加载器"
   ]
  },
  {
   "cell_type": "code",
   "execution_count": null,
   "metadata": {},
   "outputs": [],
   "source": [
    "train_loader = torch.utils.data.DataLoader(\n",
    "    train_dataset,\n",
    "    batch_size=64,\n",
    "    shuffle=True,\n",
    "    num_workers=4\n",
    ")\n",
    "\n",
    "test_loader = torch.utils.data.DataLoader(\n",
    "    test_dataset,\n",
    "    batch_size=64,\n",
    "    shuffle=True,\n",
    "    num_workers=4\n",
    ")"
   ]
  },
  {
   "cell_type": "markdown",
   "metadata": {},
   "source": [
    "# 加载网络结构与预训练模型参数"
   ]
  },
  {
   "cell_type": "code",
   "execution_count": null,
   "metadata": {},
   "outputs": [],
   "source": [
    "model = torchvision.models.resnet18(pretrained=True)\n",
    "model.fc = torch.nn.Linear(model.fc.in_features, len(class_idx))"
   ]
  },
  {
   "cell_type": "markdown",
   "metadata": {},
   "source": [
    "# 将模型转移到GPU"
   ]
  },
  {
   "cell_type": "code",
   "execution_count": null,
   "metadata": {},
   "outputs": [],
   "source": [
    "device = torch.device('cuda')\n",
    "model = model.to(device)"
   ]
  },
  {
   "cell_type": "markdown",
   "metadata": {},
   "source": [
    "# 开始训练"
   ]
  },
  {
   "cell_type": "code",
   "execution_count": null,
   "metadata": {},
   "outputs": [],
   "source": [
    "NUM_EPOCHS = 10\n",
    "\n",
    "model_path = r'students_model/rps.pth'\n",
    "\n",
    "optimizer = optim.SGD(model.parameters(), lr=0.001, momentum=0.9)\n",
    "\n",
    "loss_fc = torch.nn.CrossEntropyLoss()\n",
    "\n",
    "def train():\n",
    "    \n",
    "    for epoch in range(NUM_EPOCHS):\n",
    "        # 初始化训练参数\n",
    "        best_accuracy = 0.0\n",
    "        train_loss = 0.0\n",
    "        train_corrects = 0\n",
    "\n",
    "        # 初始化测试参数\n",
    "        test_acc = 0.0\n",
    "        test_loss = 0.0\n",
    "        test_corrects = 0\n",
    "        # 模型训练\n",
    "        model.train()\n",
    "\n",
    "        for images, labels in iter(train_loader):\n",
    "            # 选择设备将“图片”和“标签”输入模型中\n",
    "            images = images.to(device)\n",
    "            labels = labels.to(device)\n",
    "            # 初始化梯度\n",
    "            optimizer.zero_grad()\n",
    "            # 模型前向传播\n",
    "            outputs = model(images)\n",
    "            # 通过交叉熵求出模型预测的结果与真实“标签”之间的误差值loss\n",
    "            tr_loss = loss_fc(outputs, labels)\n",
    "            # 反向传播，通过loss对模型参数进行求导更新参数\n",
    "            tr_loss.backward()\n",
    "            # 使用优化器对模型参数进行更新\n",
    "            optimizer.step()\n",
    "\n",
    "            train_loss += tr_loss.item() * images.size(0)\n",
    "\n",
    "            _, predict = torch.max(outputs, 1)\n",
    "            train_corrects += torch.sum(labels.data == predict)\n",
    "\n",
    "        train_loss = train_loss / num_train_dataset\n",
    "        train_acc = train_corrects.item() / num_train_dataset\n",
    "        # 对测试集进行评估\n",
    "        model.eval()\n",
    "\n",
    "        for images, labels in iter(test_loader):\n",
    "            images = images.to(device)\n",
    "            labels = labels.to(device)\n",
    "            with torch.no_grad():\n",
    "                # 前向传播得到预测结果\n",
    "                outputs = model(images)\n",
    "                _, predict = torch.max(outputs, 1)\n",
    "                t_loss = loss_fc(outputs, labels)\n",
    "                test_loss += t_loss.item() * images.size(0)\n",
    "\n",
    "                # 记录预测正确的数量\n",
    "                test_corrects += torch.sum(labels.data == predict)\n",
    "\n",
    "        test_loss = test_loss / num_test_dataset\n",
    "        test_acc = test_corrects.item() / num_test_dataset\n",
    "\n",
    "        print('epoch={}'.format(epoch + 1))\n",
    "        print('训练数据集准确率为：{:.2%}，误差为：{:.5f}'.format(train_acc, train_loss))\n",
    "        print('测试数据集准确率为：{:.2%}, 误差为：{:.5f}'.format(test_acc, test_loss))\n",
    "        if test_acc > 0.6:\n",
    "            if test_acc > best_accuracy:\n",
    "                torch.save(model, model_path)\n",
    "                best_accuracy = test_acc"
   ]
  },
  {
   "cell_type": "code",
   "execution_count": null,
   "metadata": {},
   "outputs": [],
   "source": [
    "train()"
   ]
  },
  {
   "cell_type": "code",
   "execution_count": null,
   "metadata": {},
   "outputs": [],
   "source": []
  }
 ],
 "metadata": {
  "kernelspec": {
   "display_name": "Python 3",
   "language": "python",
   "name": "python3"
  },
  "language_info": {
   "codemirror_mode": {
    "name": "ipython",
    "version": 3
   },
   "file_extension": ".py",
   "mimetype": "text/x-python",
   "name": "python",
   "nbconvert_exporter": "python",
   "pygments_lexer": "ipython3",
   "version": "3.6.8"
  }
 },
 "nbformat": 4,
 "nbformat_minor": 4
}
