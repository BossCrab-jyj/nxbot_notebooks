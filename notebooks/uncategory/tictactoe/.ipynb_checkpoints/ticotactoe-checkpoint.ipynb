{
 "cells": [
  {
   "cell_type": "markdown",
   "metadata": {},
   "source": [
    "# 井字棋-博弈搜索\n",
    "\n",
    "*  游戏规则:双方轮流放子,当某一方的三个子连成一线(行,列,对角)时,该方获胜。\n",
    "\n",
    "![title](other_data/01.jpg)"
   ]
  },
  {
   "cell_type": "markdown",
   "metadata": {},
   "source": [
    "# 程序设计思想\n",
    "1. 首先选择先手的玩家，如果选择“X”表示“玩家”先手，如果选择“O”表示“电脑”先手，如果输入错误就会默认“玩家”先手。\n",
    "2. 我们通过（0-8）的数字表示棋盘上的位置，“玩家”和“电脑”会轮流下棋，如果一方获得胜利，或者平局的时候（棋盘上没有空位置）就结束。当轮到“玩家”下棋，就让玩家自己输入（0-8）的数字，但是要求不能输入棋盘上已经有棋子的位置，否则就让玩家重新输入，如果轮到“电脑”下棋，那么就让“电脑”采用极大极小值算法自动选择最适合下棋的位置。\n",
    "    * 用以下的9个数字来表示棋盘的位置:\n",
    "    * 0  1  2\n",
    "    * 3  4  5\n",
    "    * 6  7  8\n",
    "\n",
    "3. 在该程序中，我们会用-1，1来表示具体的玩家，0来表示空位置，这样就会方便我们计算胜利或失败的情况。\n",
    "\n",
    "![title](other_data/02.jpg)\n",
    "\n",
    "* 我们用-1（绿色方块）来表示“玩家”，1（红色方块）来表示“电脑”，0（灰色方块）表示空位置。"
   ]
  },
  {
   "cell_type": "markdown",
   "metadata": {},
   "source": [
    "## 1.初始化参数"
   ]
  },
  {
   "cell_type": "code",
   "execution_count": null,
   "metadata": {},
   "outputs": [],
   "source": [
    "import random\n",
    "\n",
    "# 用一维列表表示棋盘:\n",
    "SLOTS = (0, 1, 2, 3, 4, 5, 6, 7, 8)\n",
    "\n",
    "# -1表示X玩家 0表示空位 1表示O玩家,在游戏时就会生成类似[-1, 1, -1, 0, 1, 0, 0, 0, 0]的数组\n",
    "X_token = -1\n",
    "None_token = 0\n",
    "O_token = 1\n",
    "\n",
    "# 设定获胜的组合方式(横、竖、斜)\n",
    "WINNING_TRIADS = ((0, 1, 2), (3, 4, 5), (6, 7, 8),\n",
    "                  (0, 3, 6), (1, 4, 7),(2, 5, 8),\n",
    "                  (0, 4, 8), (2, 4, 6))\n",
    "\n",
    "# 三种结果\n",
    "result = ('平局', '胜利', '失败')"
   ]
  },
  {
   "cell_type": "markdown",
   "metadata": {},
   "source": [
    "## 2.判断棋盘上是否还有空位\n",
    "* 如果棋盘中有 0 存在，那么就有空位置，返回True,否则就返回False。"
   ]
  },
  {
   "cell_type": "code",
   "execution_count": null,
   "metadata": {},
   "outputs": [],
   "source": [
    "def legal_move_left(board):\n",
    "    for slot in SLOTS:\n",
    "        if board[slot] == None_token:\n",
    "            return True\n",
    "    return False"
   ]
  },
  {
   "cell_type": "markdown",
   "metadata": {},
   "source": [
    "## 3.判断棋盘上是否有获胜者\n",
    "* 判断局面的胜者,如果“玩家”获胜返回-1，如果“电脑”获胜返回1，平局或者未结束返回0。"
   ]
  },
  {
   "cell_type": "code",
   "execution_count": null,
   "metadata": {},
   "outputs": [],
   "source": [
    "def winner(board):\n",
    "    for triad in WINNING_TRIADS:\n",
    "        triad_sum = board[triad[0]] + board[triad[1]] + board[triad[2]]\n",
    "        # 如果在获胜组合中每一个元素都等于1，那么相加就等于3，也就是说在获胜组合中都是“电脑”，因此“电脑”就赢了，返回 1\n",
    "        if triad_sum == 3:\n",
    "            return 1\n",
    "         # 如果在获胜组合中每一个元素都等于-1，那么相加就等于-3，也就是说在获胜组合中都是“玩家”，因此“玩家”就赢了，返回 -1\n",
    "        elif triad_sum == -3:\n",
    "            return -1\n",
    "    # 其它情况都返回 0 。\n",
    "    return 0"
   ]
  },
  {
   "cell_type": "markdown",
   "metadata": {},
   "source": [
    "## 极大极小值算法计算当前位置分数\n",
    "\n",
    "* 在决策树中，轮到我方决策层时，我们总希望做出得分最高的决策（得分以我方标准来算）；而在敌方决策层时，我们假定敌方总能够做出得分最小的决策（我方得分最小便是相应敌方得分最高）。所以在博弈树中，每一层所要追求的结果，在极大分数和极小分数中不断交替，故称之为极大极小搜索。\n",
    "\n",
    "* 我们会搜索“玩家”和“电脑”对弈的所有情况，每一种情况都有一个棋盘状态，因此最后肯定有结果（输，赢，平局），我们规定，输=-1，赢=1，平局=0。\n",
    "\n",
    "* 我们观察下图第一排，第一排由“电脑”（O）下棋得到，因此“电脑”会选择最大的状态值，第二排由“玩家”（X）下棋得到，因此“电脑”会选择当前所有局面最小的状态值，以此类推，第三排“电脑”选择最大值，第四排“电脑”选择最小值。\n",
    "\n",
    "![title](other_data/03.jpg)\n",
    "\n",
    "* 这里我们可以通过剪枝的方式来剪掉一些多余的分支，也就是剪掉状态值大于等于2，或者小于等于-2的情况，因此我们用两个参数，alpha=-2, beta=2作为该算法的剪枝参数。"
   ]
  },
  {
   "cell_type": "code",
   "execution_count": null,
   "metadata": {},
   "outputs": [],
   "source": [
    "\n",
    "def alpha_beta_valuation(board, player, next_player, alpha, beta):\n",
    "    # 判断是否有玩家获胜\n",
    "    wnnr = winner(board)\n",
    "    if wnnr != None_token:\n",
    "        # 有玩家获胜\n",
    "        return wnnr\n",
    "    # 没有空位,平局，返回 0\n",
    "    elif not legal_move_left(board):\n",
    "        return 0\n",
    "    \n",
    "    # 遍历所有可以下棋的位置\n",
    "    for move in SLOTS:\n",
    "        # 只能下在空位置上。\n",
    "        if board[move] == None_token:\n",
    "            # 默认由“电脑”开始下棋，因此这次就由“玩家”下棋并更新状态值\n",
    "            board[move] = player\n",
    "            # “玩家”下完棋之后交换玩家，由“电脑”下棋，通过递归的方法计算状态值。\n",
    "            val = alpha_beta_valuation(board, next_player, player, alpha, beta)\n",
    "            # 把空位置状态还原\n",
    "            board[move] = None_token\n",
    "            # 如果是“电脑”下棋,“电脑”就会选择当前状态下的最大评估值。\n",
    "            if player == O_token:\n",
    "                # 对于“电脑”来说，只要有比最小值alpha要大的话，就会选择更大的状态值val。\n",
    "                if val > alpha:\n",
    "                    alpha = val\n",
    "                # 对结果进行剪枝，只要有比最大值beta大的，就选择我们限定的最大值beta\n",
    "                if alpha >= beta:\n",
    "                    return beta\n",
    "                \n",
    "             # 如果是“玩家”下棋，对于“电脑”来说就会选择当前状态下的最小评估值。\n",
    "            else: \n",
    "                # 对于“电脑”来说，只要有比最大值beta小的，就选择更小的状态值val\n",
    "                if val < beta:\n",
    "                    beta = val\n",
    "                 # 对结果进行剪枝，只要有比最小值alpha小的，就选择我们限定的最小值alpha\n",
    "                if beta <= alpha:\n",
    "                    return alpha\n",
    "    # 如果当前玩家是“电脑”，就找出对“电脑”来说最坏的情况，一共三种情况，输赢和平局\n",
    "    if player == O_token:\n",
    "        retval = alpha\n",
    "    # 如果当前玩家是“玩家”，就找出对“电脑”来说最好的情况\n",
    "    else:\n",
    "        retval = beta\n",
    "    return retval"
   ]
  },
  {
   "cell_type": "markdown",
   "metadata": {},
   "source": [
    "## 决定电脑下棋的位置\n",
    "* 创建空列表接收通过极大极小值算法计算的最大分值的位置信息，如果有多个相同最大分值的位置信息就随机挑选一个位置。"
   ]
  },
  {
   "cell_type": "code",
   "execution_count": null,
   "metadata": {},
   "outputs": [],
   "source": [
    "def determine_move(board):\n",
    "    \n",
    "    min_val = -2\n",
    "    my_moves = []\n",
    "    print(\"正在思考\")\n",
    "    # 遍历所有棋盘的每一个位置\n",
    "    for move in SLOTS:\n",
    "        # 判断当前move是否为0\n",
    "        if board[move] == None_token:\n",
    "            # 默认让“电脑”先下棋，下一次就由“玩家”X_token下棋\n",
    "            board[move] = O_token\n",
    "            # 当前的状态值。\n",
    "            val = alpha_beta_valuation(board, X_token, O_token, -2, 2)\n",
    "            # 恢复“电脑”占用的空位置。\n",
    "            board[move] = None_token\n",
    "            # 根据极大极小值val判断“电脑”的输赢。\n",
    "            print(\"电脑如果下在\", move, \",将导致\", result[val])\n",
    "            # 只要有比设定的最小状态值更大那么就当记录最大的这个状态值，并记录走的哪一步。\n",
    "            if val > min_val:\n",
    "                min_val = val\n",
    "                my_moves = [move]\n",
    "            # 如果有当前状态值与之前最大的状态值相等，就记录当前走的哪一步。\n",
    "            if val == min_val:\n",
    "                my_moves.append(move)\n",
    "    # 如果电脑可以有多个最大并且相等的状态值，那么就随机选择一步。\n",
    "    return random.choice(my_moves)"
   ]
  },
  {
   "cell_type": "markdown",
   "metadata": {},
   "source": [
    "## 主函数\n",
    "* 轮流让“玩家”与“电脑”进行博弈，一直循环直到有一方获胜或者棋盘上没有空位置为止。"
   ]
  },
  {
   "cell_type": "code",
   "execution_count": null,
   "metadata": {},
   "outputs": [],
   "source": [
    "HUMAN = 1\n",
    "COMPUTER = 0\n",
    "import show_box\n",
    "import matplotlib.pyplot as plt\n",
    "from IPython.display import display\n",
    "from ipywidgets import Button, GridBox, Layout, ButtonStyle\n",
    "\n",
    "\"\"\"程序入口,先决定谁是先手方,再开始下棋\"\"\"\n",
    "next_move = HUMAN\n",
    "opt = input(\"请选择先手方，输入X表示玩家先手，输入O表示电脑先手：\")\n",
    "if opt == \"X\":\n",
    "    next_move = HUMAN\n",
    "elif opt == \"O\":\n",
    "    next_move = COMPUTER\n",
    "else:\n",
    "    print(\"输入有误，默认玩家先手\")\n",
    "\n",
    "def display_box(board):\n",
    "    box_values = show_box.plot(board).values()\n",
    "    display(GridBox(children=list(box_values),layout = Layout(\n",
    "            width='80%',\n",
    "            grid_template_columns='40px 40px 40px',\n",
    "            grid_template_rows='40px 40px 40px',\n",
    "            grid_gap='1px')))\n",
    "    \n",
    "    \n",
    "    \n",
    "    \n",
    "# 初始化空棋盘\n",
    "board = [None_token for i in range(9)]\n",
    "# 开始下棋\n",
    "# 一直循环直到有一方获胜或者棋盘上没有空位置为止。\n",
    "while legal_move_left(board) and winner(board) == None_token:\n",
    "    # 将棋局显示出来\n",
    "    print(board)\n",
    "    display_box(board)\n",
    "    # 如果轮到玩家下棋，并且棋盘上有空格并且对方没有获得胜利的时候就让玩家选择下棋位置。\n",
    "    if next_move == HUMAN and legal_move_left(board):\n",
    "        try:\n",
    "            humanmv = int(input(\"请输入你要落子的位置(0-8)：\"))\n",
    "            if board[humanmv] != None_token:\n",
    "                continue\n",
    "            board[humanmv] = X_token\n",
    "            next_move = COMPUTER\n",
    "        except:\n",
    "            print(\"输入有误，请重试\")\n",
    "            continue\n",
    "    # 如果轮到电脑下棋，并且棋盘上有空格并且玩家没有获得胜利的时候就让电脑选择下棋位置。\n",
    "    if next_move == COMPUTER and legal_move_left(board):\n",
    "        mymv = determine_move(board)\n",
    "        print(\"Computer最终决定下在\", mymv)\n",
    "        board[mymv] = O_token\n",
    "        next_move = HUMAN\n",
    "\n",
    "# 输出结果\n",
    "display_box(board)\n",
    "print([\"平局\", \"电脑赢了\", \"你赢了\"][winner(board)])"
   ]
  },
  {
   "cell_type": "code",
   "execution_count": null,
   "metadata": {},
   "outputs": [],
   "source": []
  }
 ],
 "metadata": {
  "kernelspec": {
   "display_name": "Python 3",
   "language": "python",
   "name": "python3"
  },
  "language_info": {
   "codemirror_mode": {
    "name": "ipython",
    "version": 3
   },
   "file_extension": ".py",
   "mimetype": "text/x-python",
   "name": "python",
   "nbconvert_exporter": "python",
   "pygments_lexer": "ipython3",
   "version": "3.6.9"
  }
 },
 "nbformat": 4,
 "nbformat_minor": 4
}
