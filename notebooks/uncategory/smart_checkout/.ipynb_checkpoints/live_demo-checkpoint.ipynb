{
 "cells": [
  {
   "cell_type": "markdown",
   "metadata": {},
   "source": [
    "# 智能结账\n",
    "\n",
    "* 模型简介：\n",
    "    该模型模拟超市智能结账的功能。\n",
    "    \n",
    "![image.png](other_data/01.jpg)\n",
    "\n",
    "* 模型最佳运行环境：室内。\n",
    "\n",
    "* 模型所需材料：机器人1台、商品纸质图片若干。\n",
    "\n",
    "* 模型玩法：\n",
    "    1. 根据自己需要运行到代码块编号 #5 处自行修改商品价格；\n",
    "    2. 运行后续代码块；\n",
    "    3. 将商品纸质图片放置在机器人前方20cm处进行识别；\n",
    "    4. 点击对应的按钮进行删除商品或者进行结账。\n",
    "\n",
    "## 1.导入所需模块"
   ]
  },
  {
   "cell_type": "code",
   "execution_count": null,
   "metadata": {},
   "outputs": [],
   "source": [
    "from nxbot import Robot,event,bgr8_to_jpeg\n",
    "import torchvision\n",
    "import torch\n",
    "import torchvision.transforms as transforms\n",
    "import torch.nn.functional as F\n",
    "import cv2\n",
    "import PIL\n",
    "import numpy as np\n",
    "from IPython.display import display\n",
    "import ipywidgets\n",
    "import traitlets\n",
    "import ipywidgets.widgets as widgets\n",
    "from ipywidgets import Layout, Button, Box, VBox,GridBox\n",
    "import time\n",
    "import threading\n",
    "from edit_goods import *\n"
   ]
  },
  {
   "cell_type": "markdown",
   "metadata": {},
   "source": [
    "# 2.创建可视化窗口"
   ]
  },
  {
   "cell_type": "code",
   "execution_count": null,
   "metadata": {},
   "outputs": [],
   "source": [
    "image_widget = widgets.Image(format='jpeg')\n",
    "\n",
    "shopping_cart_head = [\n",
    "    Button(description='序号', layout=Layout(width='100px'), button_style='info'),\n",
    "    Button(description='商品名称', layout=Layout(width='220px'), button_style='info'),\n",
    "    Button(description='单价（元）', layout=Layout(width='220px'), button_style='info'),\n",
    "    Button(description='数量', layout=Layout(width='150px'), button_style='info'),\n",
    "    Button(description='总价', layout=Layout(width='150px'), button_style='info'),\n",
    " ]\n",
    "\n",
    "\n",
    "goods_items = [\n",
    "    Button(description='0', layout=Layout(width='100px'), button_style='info'),\n",
    "    Button(description=' ', layout=Layout(width='220px'), button_style='info'),\n",
    "    Button(description='0', layout=Layout(width='220px'), button_style='info'),\n",
    "    Button(description='0', layout=Layout(width='150px'), button_style='info'),\n",
    "    Button(description='0', layout=Layout(width='150px'), button_style='info'),\n",
    " ]\n",
    "\n",
    "total = [\n",
    "    Button(description='总价', layout=Layout(width='715px'), button_style='danger'),\n",
    "    Button(description='0', layout=Layout(width='135px'), button_style='danger'),\n",
    " ]\n",
    "box_layout = Layout(display='flex',\n",
    "                    flex_flow='row',\n",
    "                    align_items='stretch',\n",
    "                    width='40%')\n",
    "\n",
    "box_cart = Box(children=shopping_cart_head, layout=box_layout)\n",
    "\n",
    "global box_goods\n",
    "box_goods = Box(children=goods_items, layout=box_layout)\n",
    "\n",
    "\n",
    "global box_total\n",
    "box_total = Box(children=total, layout=box_layout)\n",
    "\n",
    "global shopping_cart_box\n",
    "shopping_cart_box = VBox([box_cart,box_goods,box_total])"
   ]
  },
  {
   "cell_type": "markdown",
   "metadata": {},
   "source": [
    "## 3.创建货物信息"
   ]
  },
  {
   "cell_type": "code",
   "execution_count": null,
   "metadata": {},
   "outputs": [],
   "source": [
    "global label_list\n",
    "label_list = ['bg', '书包', '可乐', '圆规', '尺子', '果汁', '橡皮擦', '沐浴乳', \n",
    "              '洗发水', '洗洁精', '洗衣液', '爆米花', '牛奶', '笔', '茶', '薯片', '衣服', '裤子', '面包', '鞋子', '饼干']\n",
    "\n",
    "global shopping_cart\n",
    "shopping_cart = {'洗衣液':['生活用品',39.9,0],'沐浴乳':['生活用品',26,0],'洗发水':['生活用品',48,0],'洗洁精':['生活用品',6,0],\n",
    "        '薯片':['零食',6.8,0],'饼干':['零食',10,0],'面包':['零食',12,0],'爆米花':['零食',8,0],\n",
    "        '可乐':['饮品',3,0],'牛奶':['饮品',5,0],'果汁':['饮品',5.5,0],'茶':['饮品',7,0],\n",
    "        '笔':['文具用品',1.5,0],'橡皮擦':['文具用品',2,0],'尺子':['文具用品',3,0],'圆规':['文具用品',8,0],\n",
    "        '衣服':['服饰',50,0],'裤子':['服饰',55,0],'鞋子':['服饰',100,0],'书包':['服饰',80,0]}\n",
    "\n",
    "init_state = {'total_price':0, 'last_name':None,'name_list':[],'goods_count':0,'last_count':0,'star_time':0,'end_time':0}\n",
    "\n",
    "global rbs\n",
    "rbs = init_state"
   ]
  },
  {
   "cell_type": "markdown",
   "metadata": {},
   "source": [
    "## 4.选择需要更改价格的类别"
   ]
  },
  {
   "cell_type": "code",
   "execution_count": null,
   "metadata": {},
   "outputs": [],
   "source": [
    "classes,name_dict = goods_edit(shopping_cart)\n",
    "display(classes)"
   ]
  },
  {
   "cell_type": "markdown",
   "metadata": {},
   "source": [
    "## 5.修改对应货物的价格\n",
    "可以在此处提前修改商品价格"
   ]
  },
  {
   "cell_type": "code",
   "execution_count": null,
   "metadata": {},
   "outputs": [],
   "source": [
    "price_tag = edit_price(name_dict[classes.children[0].children[1].value])\n",
    "display(price_tag)"
   ]
  },
  {
   "cell_type": "markdown",
   "metadata": {},
   "source": [
    "## 6.更新购物车功能模块"
   ]
  },
  {
   "cell_type": "code",
   "execution_count": null,
   "metadata": {},
   "outputs": [],
   "source": [
    "import copy\n",
    "\n",
    "def create_goods():\n",
    "    goods_box = [\n",
    "                Button(description='0', layout=Layout(width='100px'), button_style='info'),\n",
    "                Button(description='0', layout=Layout(width='220px'), button_style='info'),\n",
    "                Button(description='0', layout=Layout(width='220px'), button_style='info'),\n",
    "                Button(description='0', layout=Layout(width='150px'), button_style='info'),\n",
    "                Button(description='0', layout=Layout(width='150px'), button_style='info'),\n",
    "             ]\n",
    "    return goods_box\n",
    "\n",
    "\n",
    "def calculate_price(shopping_cart,rbs):\n",
    "    global shopping_cart_box, box_goods, box_total\n",
    "    info = ''\n",
    "    count = 0 \n",
    "    total_price = 0\n",
    "    goods_box_list = []\n",
    "    price_data = []\n",
    "    for name in shopping_cart:\n",
    "        if shopping_cart[name][2]!=0:\n",
    "            count+=1\n",
    "            total_item = round(shopping_cart[name][1]*shopping_cart[name][2],3)\n",
    "            price_data.append([str(count),str(name),str(shopping_cart[name][1]),str(shopping_cart[name][2]),str(total_item)])\n",
    "\n",
    "            total_price+=total_item\n",
    "    \n",
    "    if count==0:\n",
    "        shopping_cart_box.children = [box_cart,box_goods,box_total]\n",
    "    else:\n",
    "        if rbs['last_count']!=count:\n",
    "            all_goods = VBox([Box(children=create_goods(), layout=box_layout) for i in range(count)])\n",
    "        else:\n",
    "            rbs['last_count']=count\n",
    "        for i in range(count):\n",
    "            all_goods.children[i].children[0].description = price_data[i][0]\n",
    "            all_goods.children[i].children[1].description = price_data[i][1]\n",
    "            all_goods.children[i].children[2].description = price_data[i][2]\n",
    "            all_goods.children[i].children[3].description = price_data[i][3]\n",
    "            all_goods.children[i].children[4].description = price_data[i][4]\n",
    "        \n",
    "        shopping_cart_box.children = [box_cart,all_goods,box_total]\n",
    "        box_total.children[1].description = str(total_price)"
   ]
  },
  {
   "cell_type": "markdown",
   "metadata": {},
   "source": [
    "## 7.创建结账和货物删除功能模块"
   ]
  },
  {
   "cell_type": "code",
   "execution_count": null,
   "metadata": {},
   "outputs": [],
   "source": [
    "# 创建按钮外观。\n",
    "pay_layout = widgets.Layout(width='100px', height='80px', align_self='center')\n",
    "delete_layout = widgets.Layout(width='130px', height='80px', align_self='center')\n",
    "# 创建结账和货物删除按钮。\n",
    "pay_button = widgets.Button(description='结账', layout=pay_layout)\n",
    "delete_button = widgets.Button(description='删除上一件商品', button_style='danger', layout=delete_layout)\n",
    "\n",
    "# 结账功能。\n",
    "def pay(change):\n",
    "    global rbs, shopping_cart, speech_word\n",
    "    goods_count = 0 \n",
    "    for name in shopping_cart:\n",
    "        if shopping_cart[name][2]!=0:\n",
    "            goods_count += shopping_cart[name][2]\n",
    "            rbs['total_price'] += shopping_cart[name][1]*shopping_cart[name][2]\n",
    "            shopping_cart[name][2] = 0\n",
    "    calculate_price(shopping_cart,rbs)\n",
    "    if rbs['total_price']!=0:\n",
    "        speech_word = '开始结账，一共'+  +'件商品，' + '共计'+ str(rbs['total_price'])+'元'\n",
    "        speech_word = '购物车已清空，'+'\\n'+'开始结账，一共'+str(rbs['total_price'])+'元'\n",
    "    else:\n",
    "        speech_word = '购物车没有商品，请添加商品'\n",
    "    rbs = {'total_price':0, 'last_name':None,'name_list':[],'goods_count':0,'last_count':0,'star_time':0,'end_time':0}\n",
    "    \n",
    "    \n",
    "# 删除功能。\n",
    "def delete(change):\n",
    "    global shopping_cart, rbs, speech_word\n",
    "    \n",
    "    if len(rbs['name_list'])>0:\n",
    "        goods_name = rbs['name_list'][-1]\n",
    "        if shopping_cart[goods_name][2]>0:\n",
    "            shopping_cart[goods_name][2] -= 1\n",
    "            speech_word = '已删除一件商品'+goods_name\n",
    "            rbs['name_list'] = rbs['name_list'][:-1]\n",
    "    else:\n",
    "        speech_word = '购物车里没有商品可以删除'\n",
    "    calculate_price(shopping_cart,rbs)\n",
    "    \n",
    "# 将功能绑定到按钮上\n",
    "pay_button.on_click(pay)\n",
    "delete_button.on_click(delete)"
   ]
  },
  {
   "cell_type": "markdown",
   "metadata": {},
   "source": [
    "## 8.测试模型是否正常"
   ]
  },
  {
   "cell_type": "code",
   "execution_count": null,
   "metadata": {},
   "outputs": [],
   "source": [
    "# 数据预处理。\n",
    "img_size = 224\n",
    "mean = 255.0 * np.array([0.637,0.619,0.5936])\n",
    "stdev = 255.0 * np.array([0.336,0.339,0.358])\n",
    "normalize = transforms.Normalize(mean, stdev)\n",
    "\n",
    "def preprocess(image):\n",
    "    image = cv2.resize(image,(img_size, img_size),interpolation=cv2.INTER_CUBIC)\n",
    "    image = cv2.cvtColor(image, cv2.COLOR_BGR2RGB)\n",
    "    image = image.transpose((2, 0, 1))\n",
    "    image = np.ascontiguousarray(image, dtype=np.float32)\n",
    "    image = normalize(torch.from_numpy(image)).unsqueeze(0).cuda()\n",
    "    return image\n",
    "\n",
    "# 加载模型\n",
    "detect_model=torch.load('../../../models/local/resnet18/goods_classification.pth')\n",
    "detect_model.cuda()\n",
    "\n",
    "try:\n",
    "    img_data = np.ones([img_size, img_size, 3],np.float32)\n",
    "    detect_model(preprocess(img_data))\n",
    "    print('模型加载成功！')\n",
    "except:\n",
    "    print('请检查模型是否正确')"
   ]
  },
  {
   "cell_type": "markdown",
   "metadata": {},
   "source": [
    "## 9.定义物品检测功能"
   ]
  },
  {
   "cell_type": "code",
   "execution_count": null,
   "metadata": {},
   "outputs": [],
   "source": [
    "def goods_detection(img_data,shopping_cart,rbs):\n",
    "    global speech_word\n",
    "    out = detect_model(preprocess(img_data))\n",
    "    \n",
    "    prob, index = torch.max(F.softmax(out,1), 1)\n",
    "    label = label_list[index]\n",
    "    if label!='bg':\n",
    "        if label!=rbs['last_name']:\n",
    "            rbs['last_name']=label\n",
    "            rbs['goods_count']=0\n",
    "        else:\n",
    "            rbs['goods_count']+=1\n",
    "        if rbs['goods_count']>3 and (time.time() - rbs['star_time'])>3:\n",
    "            shopping_cart[label][2]+=1\n",
    "            rbs['name_list'].append(label)\n",
    "            speech_word = '识别到了'+label + '，单价为，'+str(shopping_cart[label][1])+'元'\n",
    "            calculate_price(shopping_cart,rbs)\n",
    "            rbs['goods_count']=0\n",
    "            rbs['star_time'] = time.time()\n",
    "                \n",
    "                "
   ]
  },
  {
   "cell_type": "markdown",
   "metadata": {},
   "source": [
    "## 10.将预测功能放入线程"
   ]
  },
  {
   "cell_type": "code",
   "execution_count": null,
   "metadata": {},
   "outputs": [],
   "source": [
    "global detect_flag\n",
    "detect_flag = True\n",
    "def detection():\n",
    "    global label_list\n",
    "    while detect_flag:\n",
    "        time.sleep(0.03)\n",
    "        image = rbt.camera.read()\n",
    "        global rbs\n",
    "        global shopping_cart\n",
    "        \n",
    "        if image is not None:\n",
    "            goods_detection(image,shopping_cart,rbs)\n",
    "            image_widget.value = bgr8_to_jpeg(cv2.resize(image, (320, 240)))\n",
    "            \n",
    "# 创建线程\n",
    "process1 = threading.Thread(target=detection,)"
   ]
  },
  {
   "cell_type": "markdown",
   "metadata": {},
   "source": [
    "## 11.创建语音合成线程"
   ]
  },
  {
   "cell_type": "code",
   "execution_count": null,
   "metadata": {},
   "outputs": [],
   "source": [
    "global speech_word\n",
    "speech_word = None\n",
    "\n",
    "global word_list\n",
    "word_list = []\n",
    "\n",
    "# 创建显现收集语音\n",
    "def collect_voice():\n",
    "    last_word = ''\n",
    "    while detect_flag:\n",
    "        time.sleep(0.05)\n",
    "        global speech_word\n",
    "        global word_list\n",
    "        if speech_word is not None:\n",
    "            if last_word!=speech_word:\n",
    "                word_list.append(speech_word)\n",
    "                last_word = speech_word\n",
    "        speech_word=None\n",
    "\n",
    "# 创建线程\n",
    "process2 = threading.Thread(target=collect_voice,)\n",
    "\n",
    "# 创建语音合成线程\n",
    "def run_speech():\n",
    "    while detect_flag:\n",
    "        global word_list\n",
    "        time.sleep(0.03)\n",
    "        if len(word_list)>0:\n",
    "            rbt.speech.play_text(word_list[0],True)\n",
    "            word_list = word_list[1:]\n",
    "# 创建线程\n",
    "process3 = threading.Thread(target=run_speech,)"
   ]
  },
  {
   "cell_type": "markdown",
   "metadata": {},
   "source": [
    "## 12.启动机器人与结账功能配套线程\n",
    "\n",
    "* 将商品放在机器人前方大约20cm处进行识别；\n",
    "\n",
    "* 点击对应的按钮进行删除商品或者进行结账。"
   ]
  },
  {
   "cell_type": "code",
   "execution_count": null,
   "metadata": {},
   "outputs": [],
   "source": [
    "rbt = Robot()\n",
    "rbt.connect()\n",
    "rbt.camera.start()\n",
    "rbt.base.set_ptz(0)\n",
    "# 启动线程\n",
    "process1.start()\n",
    "process2.start()\n",
    "process3.start()\n",
    "display(widgets.HBox([image_widget,pay_button,delete_button]))\n",
    "display(shopping_cart_box)"
   ]
  },
  {
   "cell_type": "markdown",
   "metadata": {},
   "source": [
    "## 13.断开与机器人的连接"
   ]
  },
  {
   "cell_type": "code",
   "execution_count": null,
   "metadata": {},
   "outputs": [],
   "source": [
    "# detect_flag = False\n",
    "# rbt.disconnect()"
   ]
  },
  {
   "cell_type": "code",
   "execution_count": null,
   "metadata": {},
   "outputs": [],
   "source": []
  },
  {
   "cell_type": "code",
   "execution_count": null,
   "metadata": {},
   "outputs": [],
   "source": []
  }
 ],
 "metadata": {
  "kernelspec": {
   "display_name": "Python 3",
   "language": "python",
   "name": "python3"
  },
  "language_info": {
   "codemirror_mode": {
    "name": "ipython",
    "version": 3
   },
   "file_extension": ".py",
   "mimetype": "text/x-python",
   "name": "python",
   "nbconvert_exporter": "python",
   "pygments_lexer": "ipython3",
   "version": "3.6.8"
  }
 },
 "nbformat": 4,
 "nbformat_minor": 4
}
