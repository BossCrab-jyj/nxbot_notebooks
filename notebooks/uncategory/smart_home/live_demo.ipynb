{
 "cells": [
  {
   "cell_type": "markdown",
   "metadata": {},
   "source": [
    "# 智能家居控制\n",
    "\n",
    "* 模型简介：\n",
    "    该模型模拟智能家居的场景，我们可以通过语音对房子模型进行控制，可以控制房子开关窗帘，开关草坪、餐厅、主卧、次卧、楼道的灯光。\n",
    "    \n",
    "* 模型最佳运行环境：室内。    \n",
    "\n",
    "* 模型所需材料：机器人1台、房子模型1个。\n",
    "\n",
    "![image.png](other_data/01.jpg)\n",
    "\n",
    "* 模型玩法：\n",
    "    1. 运行该demo中所有代码块；\n",
    "    2. 运行完成之后对机器人说出控制命令就可以控制小房子了；\n",
    "\n",
    "## 1.导入相关包并连接机器人"
   ]
  },
  {
   "cell_type": "code",
   "execution_count": null,
   "metadata": {},
   "outputs": [],
   "source": [
    "from nxbot import Robot,event,util\n",
    "import ipywidgets.widgets as widgets\n",
    "from IPython.display import display\n",
    "\n",
    "rbt = Robot()\n",
    "rbt.connect()"
   ]
  },
  {
   "cell_type": "markdown",
   "metadata": {},
   "source": [
    "## 2.创建可视化小部件"
   ]
  },
  {
   "cell_type": "code",
   "execution_count": null,
   "metadata": {},
   "outputs": [],
   "source": [
    "result_info = widgets.Textarea(\n",
    "    placeholder='NXROBO',\n",
    "    description='识别结果：',\n",
    "    disabled=False\n",
    ")\n"
   ]
  },
  {
   "cell_type": "markdown",
   "metadata": {},
   "source": [
    "## 3.语义理解函数\n",
    "我们通过识别结果里面的关键字判断来模拟语义理解。这里仅演示如何控制灯光和窗帘"
   ]
  },
  {
   "cell_type": "code",
   "execution_count": null,
   "metadata": {},
   "outputs": [],
   "source": [
    "def nlp(res):\n",
    "    ret={}\n",
    "    if '灯' in res:\n",
    "        ret['location']='all'\n",
    "        if '开' in res:\n",
    "            ret['light']='on'\n",
    "        if '关' in res:\n",
    "            ret['light']='off'\n",
    "        if any(key in res for key in ['花园','草坪']):\n",
    "            ret['location']='garden'\n",
    "        if any(key in res for key in ['餐厅','饭厅']):\n",
    "            ret['location']='dinigroom'\n",
    "        if any(key in res for key in ['卧室','主卧']):\n",
    "            ret['location']='bedroom'\n",
    "        if any(key in res for key in ['儿童','次卧']):\n",
    "            ret['location']='childrenroom'\n",
    "        if any(key in res for key in ['塔','楼']):\n",
    "            ret['location']='tower'\n",
    "    if '窗' in res:\n",
    "        if '开' in res:\n",
    "            ret['curtain']='on'\n",
    "        if '关' in res:\n",
    "            ret['curtain']='off'\n",
    "    return ret        "
   ]
  },
  {
   "cell_type": "markdown",
   "metadata": {},
   "source": [
    "## 4.设置智能家居的IP地址\n",
    "每个智能家居都有一个类似门牌号的IP地址"
   ]
  },
  {
   "cell_type": "code",
   "execution_count": null,
   "metadata": {},
   "outputs": [],
   "source": [
    "global address\n",
    "address = 'http://192.168.100.188/api'"
   ]
  },
  {
   "cell_type": "markdown",
   "metadata": {},
   "source": [
    "## 5.创建语音识别回调"
   ]
  },
  {
   "cell_type": "code",
   "execution_count": null,
   "metadata": {},
   "outputs": [],
   "source": [
    "def on_new_asr(evt):\n",
    "    global address\n",
    "    result = evt.dict['data']\n",
    "    result_info.value = str(result)\n",
    "    ret=nlp(result)\n",
    "    if ret:\n",
    "        try:\n",
    "            util.send_post(address,ret)\n",
    "        except Exception as result:\n",
    "            result_info.value = '没有检测到当前IP地址：'+ address\n",
    "    rbt.speech.start()\n",
    "\n",
    "rbt.event_manager.add_event_listener(event.EventTypes.NEW_MIC_ASR,on_new_asr)\n",
    "rbt.speech.start()\n",
    "display(result_info)"
   ]
  },
  {
   "cell_type": "markdown",
   "metadata": {},
   "source": [
    "## 6.断开连接"
   ]
  },
  {
   "cell_type": "code",
   "execution_count": null,
   "metadata": {},
   "outputs": [],
   "source": [
    "# rbt.disconnect()"
   ]
  },
  {
   "cell_type": "code",
   "execution_count": null,
   "metadata": {},
   "outputs": [],
   "source": []
  }
 ],
 "metadata": {
  "kernelspec": {
   "display_name": "Python 3",
   "language": "python",
   "name": "python3"
  },
  "language_info": {
   "codemirror_mode": {
    "name": "ipython",
    "version": 3
   },
   "file_extension": ".py",
   "mimetype": "text/x-python",
   "name": "python",
   "nbconvert_exporter": "python",
   "pygments_lexer": "ipython3",
   "version": "3.6.8"
  }
 },
 "nbformat": 4,
 "nbformat_minor": 4
}
