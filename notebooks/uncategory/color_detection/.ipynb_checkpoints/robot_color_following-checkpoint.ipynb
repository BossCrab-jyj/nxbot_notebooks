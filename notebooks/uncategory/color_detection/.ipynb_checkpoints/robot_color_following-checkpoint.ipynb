{
 "cells": [
  {
   "cell_type": "markdown",
   "metadata": {},
   "source": [
    "# 机器人颜色跟踪\n",
    "\n",
    "让机器人跟踪选择的颜色\n",
    "\n",
    "![title](other_data/01.jpg)"
   ]
  },
  {
   "cell_type": "markdown",
   "metadata": {},
   "source": [
    "## 1.加载所需模块"
   ]
  },
  {
   "cell_type": "code",
   "execution_count": null,
   "metadata": {},
   "outputs": [],
   "source": [
    "import traitlets\n",
    "import ipywidgets.widgets as widgets\n",
    "from traitlets.config.configurable import Configurable\n",
    "from IPython.display import display\n",
    "from nxbot import Robot,ObjectDetector,bgr8_to_jpeg,event,pid\n",
    "import cv2\n",
    "import numpy as np"
   ]
  },
  {
   "cell_type": "markdown",
   "metadata": {},
   "source": [
    "## 2.创建颜色选择部件"
   ]
  },
  {
   "cell_type": "code",
   "execution_count": null,
   "metadata": {},
   "outputs": [],
   "source": [
    "from ipywidgets import Layout, Box, Dropdown, Label\n",
    "# 设置颜色下拉选项布局\n",
    "form_item_layout = Layout(\n",
    "    display='flex',\n",
    "    flex_flow='row',\n",
    "    justify_content='space-between',\n",
    "    )\n",
    "# 设置颜色选择布局方式\n",
    "layout = Layout(\n",
    "        display='flex',\n",
    "        flex_flow='column',\n",
    "        border='solid 2px',\n",
    "        align_items='stretch',\n",
    "        width='50%')\n",
    "\n",
    "# 颜色选项\n",
    "color_list=['红色','黄色','蓝色','绿色','紫色','粉红色']\n",
    "\n",
    "# 颜色选项下拉菜单\n",
    "list_options =[Box([Label(value='颜色选择'),Dropdown(options=color_list)], layout=form_item_layout)]\n",
    "\n",
    "# 颜色选择部件\n",
    "color_widget = Box(list_options, layout=layout)"
   ]
  },
  {
   "cell_type": "markdown",
   "metadata": {},
   "source": [
    "## 3.创建控制滑块\n",
    "1. 速度\n",
    "2. 转向增益\n",
    "3. HSV(min，max)"
   ]
  },
  {
   "cell_type": "code",
   "execution_count": null,
   "metadata": {},
   "outputs": [],
   "source": [
    "import ipywidgets\n",
    "import traitlets\n",
    "import ipywidgets.widgets as widgets\n",
    "# 速度控制滑块\n",
    "speed_gain_slider = ipywidgets.FloatSlider(min=-0.3, max=0.3, step=0.01, value=0.0, description='速度')\n",
    "# 转向增益控制滑块\n",
    "steering_gain_slider = ipywidgets.FloatSlider(min=0.0, max=5.0, step=0.01, value=0.6, description='转向增益')\n",
    "\n",
    "\n",
    "H_MIN_slider = ipywidgets.IntSlider(min=0, max=180, step=1, value=0, description='H_MIN')\n",
    "H_MAX_slider = ipywidgets.IntSlider(min=0, max=180, step=1, value=180, description='H_MAX')\n",
    "\n",
    "S_MIN_slider = ipywidgets.IntSlider(min=0, max=255, step=1, value=0, description='S_MIN')\n",
    "S_MAX_slider = ipywidgets.IntSlider(min=0, max=255, step=1, value=255, description='S_MAX')\n",
    "\n",
    "V_MIN_slider = ipywidgets.IntSlider(min=0, max=255, step=1, value=0, description='V_MIN')\n",
    "V_MAX_slider = ipywidgets.IntSlider(min=0, max=255, step=1, value=255, description='V_MAX')\n",
    "\n",
    "HSV_BOX = widgets.VBox([H_MIN_slider,H_MAX_slider,S_MIN_slider,S_MAX_slider,V_MIN_slider,V_MAX_slider])"
   ]
  },
  {
   "cell_type": "markdown",
   "metadata": {},
   "source": [
    "## 4.设置识别颜色的HSV值"
   ]
  },
  {
   "cell_type": "code",
   "execution_count": null,
   "metadata": {},
   "outputs": [],
   "source": [
    "def choose_color(name,last_name):\n",
    "    \n",
    "    if last_name!=name:\n",
    "        if name == '红色':\n",
    "            H_MIN_slider.value,S_MIN_slider.value,V_MIN_slider.value = 157,43,43\n",
    "            H_MAX_slider.value,S_MAX_slider.value,V_MAX_slider.value = 172, 255, 255\n",
    "        \n",
    "        elif name == '黄色':\n",
    "            H_MIN_slider.value,S_MIN_slider.value,V_MIN_slider.value = 0, 36, 51\n",
    "            H_MAX_slider.value,S_MAX_slider.value,V_MAX_slider.value = 18, 255, 255\n",
    "\n",
    "        elif name == '蓝色':\n",
    "            H_MIN_slider.value,S_MIN_slider.value,V_MIN_slider.value = 86,46,39\n",
    "            H_MAX_slider.value,S_MAX_slider.value,V_MAX_slider.value = 119, 255, 255\n",
    "\n",
    "        elif name == '绿色':\n",
    "            H_MIN_slider.value,S_MIN_slider.value,V_MIN_slider.value = 35, 43, 43\n",
    "            H_MAX_slider.value,S_MAX_slider.value,V_MAX_slider.value = 90, 255, 255\n",
    "\n",
    "        elif name == '紫色':\n",
    "            H_MIN_slider.value,S_MIN_slider.value,V_MIN_slider.value = 115,43,43\n",
    "            H_MAX_slider.value,S_MAX_slider.value,V_MAX_slider.value = 132, 255, 255\n",
    "\n",
    "        elif name == '粉红色':\n",
    "            H_MIN_slider.value,S_MIN_slider.value,V_MIN_slider.value = 163, 18, 39\n",
    "            H_MAX_slider.value,S_MAX_slider.value,V_MAX_slider.value = 180, 255, 255\n",
    "            \n",
    "        last_name = name\n",
    "        \n",
    "    h_min = H_MIN_slider.value\n",
    "    s_min = S_MIN_slider.value\n",
    "    v_min = V_MIN_slider.value\n",
    "    \n",
    "    h_max = H_MAX_slider.value\n",
    "    s_max = S_MAX_slider.value\n",
    "    v_max = V_MAX_slider.value\n",
    "    \n",
    "    color_lower = np.array([h_min,s_min,v_min])\n",
    "    color_upper = np.array([h_max,s_max,v_max])\n",
    "    \n",
    "    return color_lower,color_upper,last_name"
   ]
  },
  {
   "cell_type": "markdown",
   "metadata": {},
   "source": [
    "## 5.定义预测与跟踪模块"
   ]
  },
  {
   "cell_type": "code",
   "execution_count": null,
   "metadata": {},
   "outputs": [],
   "source": [
    "# 创建显示窗口\n",
    "image_widget = widgets.Image(format='jpeg')\n",
    "mask_widget = widgets.Image(format='jpeg')\n",
    "kernel = np.ones((3,3),np.uint8)#3x3的卷积核\n",
    "last_name = ''\n",
    "\n",
    "def on_new_image(evt):\n",
    "    global last_name\n",
    "    # 获取图像数据，图像大小为300*300\n",
    "    image = evt.dict['data']\n",
    "    # 将图像转换为HSV格式\n",
    "    hsv=cv2.cvtColor(image,cv2.COLOR_BGR2HSV)\n",
    "    # 获取手动选择的颜色\n",
    "    color_name = color_widget.children[0].children[1].value\n",
    "    # HSV颜色范围\n",
    "    color_lower, color_upper,last_name = choose_color(color_name,last_name)\n",
    "    # 固定HSV颜色范围\n",
    "    mask=cv2.inRange(hsv,color_lower,color_upper)  \n",
    "    # 图像腐蚀\n",
    "    mask=cv2.erode(mask,kernel,iterations=1)\n",
    "    # 图像膨胀\n",
    "    mask=cv2.dilate(mask,kernel,iterations=1)\n",
    "    # 图像滤波，卷积核5×5，标准差为0\n",
    "    mask=cv2.GaussianBlur(mask,(5,5),0)\n",
    "    # 显示二值图\n",
    "    mask_widget.value = bgr8_to_jpeg(cv2.resize(mask,(400, 280)))\n",
    "    # 找出滤波后的图像轮廓\n",
    "    cnts=cv2.findContours(mask.copy(),cv2.RETR_EXTERNAL,cv2.CHAIN_APPROX_SIMPLE)[-2] \n",
    "    # 如果有轮廓\n",
    "    if len(cnts)>0:\n",
    "        # 找出轮廓最大的那个区域\n",
    "        cnt = max (cnts,key=cv2.contourArea)\n",
    "        # 获取最小包围圆的中心点坐标与半径大小\n",
    "        (color_x,color_y),color_radius=cv2.minEnclosingCircle(cnt)\n",
    "        # 设置半径大小\n",
    "        if color_radius > 5 and color_radius<60:\n",
    "            # 将检测到的颜色标记出来\n",
    "            cv2.circle(image,(int(color_x),int(color_y)),int(color_radius),(255,0,255),2)\n",
    "            #计算转向值\n",
    "            steering = (150-color_x)/300 * steering_gain_slider.value\n",
    "            # 根据圆圈半径大小进行前进后退或者停止\n",
    "            if color_radius < 45:\n",
    "                rbt.base.move(speed_gain_slider.value, 0, steering)\n",
    "            elif color_radius > 45 and color_radius < 60:\n",
    "                rbt.base.move(0, 0, 0)\n",
    "            elif color_radius > 60:\n",
    "                rbt.base.move(-speed_gain_slider.value, 0, steering)\n",
    "    # 如果没有找到轮廓就停下来\n",
    "    else:\n",
    "        rbt.base.stop()\n",
    "    image_widget.value = bgr8_to_jpeg(cv2.resize(image,(400, 280)))"
   ]
  },
  {
   "cell_type": "markdown",
   "metadata": {},
   "source": [
    "## 6.开始预测"
   ]
  },
  {
   "cell_type": "code",
   "execution_count": null,
   "metadata": {},
   "outputs": [],
   "source": [
    "rbt = Robot()\n",
    "rbt.connect()\n",
    "rbt.event_manager.add_event_listener(event.EventTypes.NEW_CAMERA_IMAGE,on_new_image)\n",
    "rbt.camera.start()\n",
    "display(widgets.HBox([image_widget,mask_widget]))\n",
    "display(color_widget, speed_gain_slider, steering_gain_slider)\n",
    "display(HSV_BOX)"
   ]
  },
  {
   "cell_type": "markdown",
   "metadata": {},
   "source": [
    "## 7.断开与机器人的连接"
   ]
  },
  {
   "cell_type": "code",
   "execution_count": null,
   "metadata": {},
   "outputs": [],
   "source": [
    "# rbt.disconnect()"
   ]
  }
 ],
 "metadata": {
  "kernelspec": {
   "display_name": "Python 3",
   "language": "python",
   "name": "python3"
  },
  "language_info": {
   "codemirror_mode": {
    "name": "ipython",
    "version": 3
   },
   "file_extension": ".py",
   "mimetype": "text/x-python",
   "name": "python",
   "nbconvert_exporter": "python",
   "pygments_lexer": "ipython3",
   "version": "3.6.8"
  }
 },
 "nbformat": 4,
 "nbformat_minor": 4
}
