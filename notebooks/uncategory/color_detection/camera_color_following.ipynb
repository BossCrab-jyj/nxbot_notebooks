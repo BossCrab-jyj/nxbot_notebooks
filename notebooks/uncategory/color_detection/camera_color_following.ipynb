{
 "cells": [
  {
   "cell_type": "markdown",
   "metadata": {},
   "source": [
    "# 摄像头颜色跟踪"
   ]
  },
  {
   "cell_type": "markdown",
   "metadata": {},
   "source": [
    "## 1.导入所需模块"
   ]
  },
  {
   "cell_type": "code",
   "execution_count": null,
   "metadata": {},
   "outputs": [],
   "source": [
    "import traitlets\n",
    "import ipywidgets.widgets as widgets\n",
    "from ipywidgets import Layout, Button, Box, FloatText, Textarea, Dropdown, Label, IntSlider,FloatSlider, interact, interactive,SelectionSlider\n",
    "from traitlets.config.configurable import Configurable\n",
    "from IPython.display import display\n",
    "from nxbot import Robot,bgr8_to_jpeg,event,pid\n",
    "import cv2\n",
    "import numpy as np"
   ]
  },
  {
   "cell_type": "markdown",
   "metadata": {},
   "source": [
    "## 2.创建颜色选择部件"
   ]
  },
  {
   "cell_type": "code",
   "execution_count": null,
   "metadata": {},
   "outputs": [],
   "source": [
    "from ipywidgets import Layout, Box, Dropdown, Label\n",
    "# 设置颜色下拉选项布局\n",
    "form_item_layout = Layout(\n",
    "    display='flex',\n",
    "    flex_flow='row',\n",
    "    justify_content='space-between',\n",
    "    )\n",
    "# 设置颜色选择布局方式\n",
    "layout = Layout(\n",
    "        display='flex',\n",
    "        flex_flow='column',\n",
    "        border='solid 2px',\n",
    "        align_items='stretch',\n",
    "        width='50%')\n",
    "\n",
    "# 颜色选项\n",
    "color_list=['红色','黄色','蓝色','绿色','紫色','粉红色']\n",
    "\n",
    "# 颜色选项下拉菜单\n",
    "list_options =[Box([Label(value='颜色选择'),Dropdown(options=color_list)], layout=form_item_layout)]\n",
    "\n",
    "# 颜色选择部件\n",
    "color_widget = Box(list_options, layout=layout)"
   ]
  },
  {
   "cell_type": "markdown",
   "metadata": {},
   "source": [
    "## 3.创建控制滑块\n",
    "1. 速度\n",
    "2. 转向增益\n",
    "3. HSV(min，max)"
   ]
  },
  {
   "cell_type": "code",
   "execution_count": null,
   "metadata": {},
   "outputs": [],
   "source": [
    "import ipywidgets\n",
    "import traitlets\n",
    "import ipywidgets.widgets as widgets\n",
    "# 设置图像显示窗口\n",
    "image_widget = widgets.Image(format='jpeg')\n",
    "mask_widget = widgets.Image(format='jpeg')\n",
    "# 速度控制滑块\n",
    "speed_gain_slider = ipywidgets.FloatSlider(min=-0.3, max=0.3, step=0.01, value=0.0, description='速度')\n",
    "# 转向增益控制滑块\n",
    "steering_gain_slider = ipywidgets.FloatSlider(min=0.0, max=5.0, step=0.01, value=0.6, description='转向增益')\n",
    "\n",
    "\n",
    "H_MIN_slider = ipywidgets.IntSlider(min=0, max=180, step=1, value=0, description='H_MIN')\n",
    "H_MAX_slider = ipywidgets.IntSlider(min=0, max=180, step=1, value=180, description='H_MAX')\n",
    "\n",
    "S_MIN_slider = ipywidgets.IntSlider(min=0, max=255, step=1, value=0, description='S_MIN')\n",
    "S_MAX_slider = ipywidgets.IntSlider(min=0, max=255, step=1, value=255, description='S_MAX')\n",
    "\n",
    "V_MIN_slider = ipywidgets.IntSlider(min=0, max=255, step=1, value=0, description='V_MIN')\n",
    "V_MAX_slider = ipywidgets.IntSlider(min=0, max=255, step=1, value=255, description='V_MAX')\n",
    "\n",
    "HSV_BOX = widgets.VBox([H_MIN_slider,H_MAX_slider,S_MIN_slider,S_MAX_slider,V_MIN_slider,V_MAX_slider])"
   ]
  },
  {
   "cell_type": "markdown",
   "metadata": {},
   "source": [
    "## 4.设置识别颜色的HSV值"
   ]
  },
  {
   "cell_type": "code",
   "execution_count": null,
   "metadata": {},
   "outputs": [],
   "source": [
    "def choose_color(name,last_name):\n",
    "    \n",
    "    if last_name!=name:\n",
    "        if name == '红色':\n",
    "            H_MIN_slider.value,S_MIN_slider.value,V_MIN_slider.value = 157,43,43\n",
    "            H_MAX_slider.value,S_MAX_slider.value,V_MAX_slider.value = 172, 255, 255\n",
    "        \n",
    "        elif name == '黄色':\n",
    "            H_MIN_slider.value,S_MIN_slider.value,V_MIN_slider.value = 0, 36, 51\n",
    "            H_MAX_slider.value,S_MAX_slider.value,V_MAX_slider.value = 18, 255, 255\n",
    "\n",
    "        elif name == '蓝色':\n",
    "            H_MIN_slider.value,S_MIN_slider.value,V_MIN_slider.value = 86,46,39\n",
    "            H_MAX_slider.value,S_MAX_slider.value,V_MAX_slider.value = 119, 255, 255\n",
    "\n",
    "        elif name == '绿色':\n",
    "            H_MIN_slider.value,S_MIN_slider.value,V_MIN_slider.value = 35, 43, 43\n",
    "            H_MAX_slider.value,S_MAX_slider.value,V_MAX_slider.value = 90, 255, 255\n",
    "\n",
    "        elif name == '紫色':\n",
    "            H_MIN_slider.value,S_MIN_slider.value,V_MIN_slider.value = 115,43,43\n",
    "            H_MAX_slider.value,S_MAX_slider.value,V_MAX_slider.value = 132, 255, 255\n",
    "\n",
    "        elif name == '粉红色':\n",
    "            H_MIN_slider.value,S_MIN_slider.value,V_MIN_slider.value = 163, 18, 39\n",
    "            H_MAX_slider.value,S_MAX_slider.value,V_MAX_slider.value = 180, 255, 255\n",
    "            \n",
    "        last_name = name\n",
    "        \n",
    "    h_min = H_MIN_slider.value\n",
    "    s_min = S_MIN_slider.value\n",
    "    v_min = V_MIN_slider.value\n",
    "    \n",
    "    h_max = H_MAX_slider.value\n",
    "    s_max = S_MAX_slider.value\n",
    "    v_max = V_MAX_slider.value\n",
    "    \n",
    "    color_lower = np.array([h_min,s_min,v_min])\n",
    "    color_upper = np.array([h_max,s_max,v_max])\n",
    "    \n",
    "    return color_lower,color_upper,last_name"
   ]
  },
  {
   "cell_type": "markdown",
   "metadata": {},
   "source": [
    "## 5.设置PID参数"
   ]
  },
  {
   "cell_type": "code",
   "execution_count": null,
   "metadata": {},
   "outputs": [],
   "source": [
    "# x轴PID参数\n",
    "xservo_pid = pid.PositionalPID(1.8, 0.1, 5)\n",
    "# y轴PID参数\n",
    "yservo_pid = pid.PositionalPID(1.8, 0.1, 5)"
   ]
  },
  {
   "cell_type": "markdown",
   "metadata": {},
   "source": [
    "## 6.定义预测与跟踪模块"
   ]
  },
  {
   "cell_type": "code",
   "execution_count": null,
   "metadata": {},
   "outputs": [],
   "source": [
    "global target_valuex\n",
    "global target_valuey\n",
    "target_valuex = 0\n",
    "target_valuey = 0\n",
    "last_name = ''\n",
    "def on_new_image(evt):\n",
    "    global last_name\n",
    "    # 摄像头图像数据\n",
    "    image = evt.dict['data']\n",
    "    # 图像缩放为300，300\n",
    "    image = cv2.resize(image, (300, 300))\n",
    "    # RGB转HSV\n",
    "    hsv=cv2.cvtColor(image,cv2.COLOR_BGR2HSV)\n",
    "    # 获取想要跟踪的颜色\n",
    "    color_name = color_widget.children[0].children[1].value\n",
    "    # 颜色对应的HSV值\n",
    "    color_lower, color_upper,last_name = choose_color(color_name,last_name)\n",
    "    # 在图像中寻找这个颜色\n",
    "    mask=cv2.inRange(hsv,color_lower,color_upper)  \n",
    "    # 图像处理-腐蚀\n",
    "    mask=cv2.erode(mask,None,iterations=2)\n",
    "    # 图像处理-膨胀\n",
    "    mask=cv2.dilate(mask,None,iterations=2)\n",
    "    # 图像处理-高斯去噪\n",
    "    mask=cv2.GaussianBlur(mask,(5,5),0)\n",
    "    \n",
    "    mask_widget.value = bgr8_to_jpeg(cv2.resize(mask,(320,240)))\n",
    "    # 寻找轮廓\n",
    "    cnts=cv2.findContours(mask.copy(),cv2.RETR_EXTERNAL,cv2.CHAIN_APPROX_SIMPLE)[-2] \n",
    "    # 如果有轮廓\n",
    "    if len(cnts)>0:\n",
    "        # 安装识别到的颜色区域从大到小排列\n",
    "        cnt = max (cnts,key=cv2.contourArea)\n",
    "        # 用圆圈圈出找到的颜色区域，返回中心点与半径\n",
    "        (color_x,color_y),color_radius=cv2.minEnclosingCircle(cnt)\n",
    "        if color_radius > 10:\n",
    "            # 将检测到的颜色用圆圈标记出来\n",
    "            cv2.circle(image,(int(color_x),int(color_y)),int(color_radius),(255,0,255),2)\n",
    "            \n",
    "           # PID 调整机器人左右转向数值\n",
    "            xservo_pid.SystemOutput = color_x\n",
    "            xservo_pid.SetStepSignal(150)\n",
    "            xservo_pid.SetInertiaTime(0.01, 0.006)\n",
    "            target_valuex = int(xservo_pid.SystemOutput)\n",
    "            # PID 调整机器人上下转向数值\n",
    "            yservo_pid.SystemOutput = color_y\n",
    "            yservo_pid.SetStepSignal(150)\n",
    "            yservo_pid.SetInertiaTime(0.01, 0.006)\n",
    "            target_valuey = int(yservo_pid.SystemOutput)\n",
    "            # 将PID调整的数值传给机器人舵机\n",
    "            rbt.base.set_ptz(target_valuey/5,-target_valuex/5)\n",
    "    # 将图像传输给显示窗口\n",
    "    image_widget.value = bgr8_to_jpeg(cv2.resize(image,(320,240)))\n"
   ]
  },
  {
   "cell_type": "markdown",
   "metadata": {},
   "source": [
    "## 7.开始进行颜色跟踪"
   ]
  },
  {
   "cell_type": "code",
   "execution_count": null,
   "metadata": {},
   "outputs": [],
   "source": [
    "rbt = Robot()\n",
    "rbt.connect()\n",
    "rbt.event_manager.add_event_listener(event.EventTypes.NEW_CAMERA_IMAGE,on_new_image)\n",
    "rbt.camera.start()\n",
    "rbt.base.set_ptz(0)\n",
    "display(widgets.HBox([image_widget,mask_widget]))\n",
    "display(color_widget,HSV_BOX)"
   ]
  },
  {
   "cell_type": "markdown",
   "metadata": {},
   "source": [
    "## 8.断开与机器人的连接"
   ]
  },
  {
   "cell_type": "code",
   "execution_count": null,
   "metadata": {},
   "outputs": [],
   "source": [
    "# rbt.disconnect()"
   ]
  }
 ],
 "metadata": {
  "kernelspec": {
   "display_name": "Python 3",
   "language": "python",
   "name": "python3"
  },
  "language_info": {
   "codemirror_mode": {
    "name": "ipython",
    "version": 3
   },
   "file_extension": ".py",
   "mimetype": "text/x-python",
   "name": "python",
   "nbconvert_exporter": "python",
   "pygments_lexer": "ipython3",
   "version": "3.6.8"
  }
 },
 "nbformat": 4,
 "nbformat_minor": 4
}
