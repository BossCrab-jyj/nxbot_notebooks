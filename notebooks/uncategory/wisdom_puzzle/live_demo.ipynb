{
 "cells": [
  {
   "cell_type": "markdown",
   "metadata": {},
   "source": [
    "# 智慧拼图游戏\n",
    "\n",
    "目标：通过 A* 算法将随机状态的拼图恢复到目标状态。\n",
    "\n",
    "![title](other_data/01.jpg)\n"
   ]
  },
  {
   "cell_type": "markdown",
   "metadata": {},
   "source": [
    "## 创建一个随机布局"
   ]
  },
  {
   "cell_type": "code",
   "execution_count": null,
   "metadata": {},
   "outputs": [],
   "source": [
    "import random\n",
    "\n",
    "digits = [0,1,2,3,4,5,6,7,8]\n",
    "\n",
    "#将数字打乱\n",
    "random.shuffle(digits)\n",
    "\n",
    "input_layout = ''\n",
    "for numb in digits:\n",
    "    input_layout+=str(numb)\n",
    "    \n",
    "print(input_layout)"
   ]
  },
  {
   "cell_type": "markdown",
   "metadata": {},
   "source": [
    "## 九宫格显示布局"
   ]
  },
  {
   "cell_type": "code",
   "execution_count": null,
   "metadata": {},
   "outputs": [],
   "source": [
    "def show_arrange(str_digits):\n",
    "    row = []\n",
    "    for i in range(len(str_digits)):\n",
    "        row.append(int(str_digits[i]))\n",
    "        if (i+1)%3==0:\n",
    "            print(row)\n",
    "            row = []\n",
    "\n",
    "show_arrange(input_layout)"
   ]
  },
  {
   "cell_type": "markdown",
   "metadata": {},
   "source": [
    "## 判断该布局是否能够恢复到目标布局\n",
    "先进行判断input_layout和target_layout逆序值是否同是奇数或偶数,如果不是就没有解\n",
    "* 逆序值: 记录当前状态中除0以外每一个值大于后面所有值的个数\n",
    "    1. 如果当前状态为 [3,1,2,0,4,5,6,7,8]；\n",
    "    2. 满足当前状态中的值大于后面的值的情况有 3>1,3>2，有2个逆序值，也就有偶数个逆序值；\n",
    "    3. 如果目标状态为[0,1,2,3,4,5,6,7,8],那么目标状态的逆序值就为0，0也为偶数，所以状态[3,1,2,0,4,5,6,7,8]可以恢复到[0,1,2,3,4,5,6,7,8]。"
   ]
  },
  {
   "cell_type": "code",
   "execution_count": null,
   "metadata": {},
   "outputs": [],
   "source": [
    "# 设置状态\n",
    "# input_layout = '312045678'\n",
    "\n",
    "# 目标状态\n",
    "target_layout = '012345678'\n",
    "\n",
    "def able_change(layout):\n",
    "    num_bigger  = 0\n",
    "    for i in range(1,9):\n",
    "        bigger=0\n",
    "        for j in range(0,i):\n",
    "            # 不记录数字 0 的逆序值\n",
    "            if layout[j]>layout[i] and layout[i]!='0':\n",
    "                bigger=bigger+1\n",
    "        num_bigger=num_bigger+bigger\n",
    "    return num_bigger\n",
    "\n",
    "input_result = able_change(input_layout)\n",
    "target_result = able_change(target_layout)\n",
    "\n",
    "if (input_result%2)==(target_result%2):\n",
    "    able_change = True\n",
    "    show_arrange(input_layout)\n",
    "    print('该布局可以变为目标状态')\n",
    "else:\n",
    "    able_change=False\n",
    "    print('该布局不能变为目标状态') "
   ]
  },
  {
   "cell_type": "markdown",
   "metadata": {},
   "source": [
    "## 曼哈顿距离\n",
    "计算当前布局恢复到目标位置的步数 hn "
   ]
  },
  {
   "cell_type": "code",
   "execution_count": null,
   "metadata": {},
   "outputs": [],
   "source": [
    "# 将字符串转换为矩阵形式\n",
    "def str2list(curLayout):\n",
    "    matrix = []\n",
    "    row = []\n",
    "    for i in range(len(curLayout)):\n",
    "        row.append(int(curLayout[i]))\n",
    "        if (i+1) % 3==0:\n",
    "            matrix.append(row)\n",
    "            row = []\n",
    "    return matrix\n",
    "\n",
    "# 计算hn\n",
    "def cal_hn(curLayout, target_layout):\n",
    "    hn = 0\n",
    "    curLayout = str2list(curLayout)\n",
    "    target_layout = str2list(target_layout)\n",
    "    # 当前状态的行列\n",
    "    for i in range(len(curLayout)):\n",
    "        for j in range(len(curLayout[i])):\n",
    "            # 目标状态的行列\n",
    "            for m in range(len(target_layout)):\n",
    "                for n in range(len(target_layout[m])):\n",
    "                    # 如果当前状态的数字等于目标状态的数字\n",
    "                    if curLayout[i][j]==target_layout[m][n]:\n",
    "                        # 当前目标状态的数字的坐标为[m,n]\n",
    "                        pos = [m,n]\n",
    "                        # 当前hn等于目标状态的每一个数字坐标减去当前状态的每一个数字坐标\n",
    "                        hn += abs(pos[0] - i) + abs(pos[1] - j)\n",
    "    return hn"
   ]
  },
  {
   "cell_type": "markdown",
   "metadata": {},
   "source": [
    "## A*算法\n",
    "移动当前状态中数字0到相邻位置，每次移动一步\n",
    "参数说明：\n",
    "1. curLayout：当前布局；\n",
    "2. swp_index：数字0可以移动的位置索引，当前我们移动数字0时，每次只能移动一步，因此每个位置都有对应移动的位置索引；\n",
    "    * 比如当前状态为 [3,1,2,0,4,5,6,7,8]，数字 0 的索引为 3 ，那么数字 0 就可以移动到 [0, 4, 6]三个位置，那么我们就可以用一个字典将每个位置的可移动的位置索引记录下来。\n",
    "3. zero_index：当前布局中数字 0 的索引值；\n",
    "4. layouts_gn：当前的gn值，该程序循环的步数；\n",
    "5. target_layout：目标布局。"
   ]
  },
  {
   "cell_type": "code",
   "execution_count": null,
   "metadata": {},
   "outputs": [],
   "source": [
    "#每个位置可交换的位置集合\n",
    "able_swp = {0:[1, 3], 1:[0, 2, 4], 2:[1, 5],\n",
    "                 3:[0,4,6], 4:[1,3,5,7], 5:[2,4,8],\n",
    "                 6:[3,7],  7:[4,6,8], 8:[5,7]}\n",
    "\n",
    "def swap_chr(curLayout, swp_index, zero_index, layouts_gn, target_layout):\n",
    "    # 如果移动索引值 大于数字0索引值，交换两个的索引值\n",
    "    if swp_index > zero_index:\n",
    "        swp_index, zero_index = zero_index, swp_index\n",
    "    #得到交换后的数组\n",
    "    # 例子 ： 如果当前状态为 [3,1,2,0,4,5,6,7,8]，数字 0 可以移动到 [0, 4, 6]三个位置，如果当前状态中数字0往右移动，移动到索引 4 ,4(swp_index) > 3(zero_index),\n",
    "    # 交换两个索引值 swp_index = 3 ，zero_index = 4\n",
    "    # 1. curLayout[:swp_index] = curLayout[:3] = [3,1,2]\n",
    "    # 2. curLayout[zero_index] = curLayout[4] = [4]\n",
    "    # 3. curLayout[swp_index+1:zero_index] = curLayout[4:4] = []\n",
    "    # 4. curLayout[swp_index] = curLayout[3] = [0]\n",
    "    # 5. curLayout[zero_index+1:] = curLayout[5:] = [5,6,7,8]\n",
    "    # layout = #1 + #2 + #3 + #4 + #5 = [3,1,2,4,0,5,6,7,8]\n",
    "    layout = curLayout[:swp_index] + curLayout[zero_index] + curLayout[swp_index+1:zero_index] + curLayout[swp_index] + curLayout[zero_index+1:]\n",
    "    # A*算法算出fn\n",
    "    fn = cal_hn(layout, target_layout)+layouts_gn\n",
    "    return layout, fn"
   ]
  },
  {
   "cell_type": "markdown",
   "metadata": {},
   "source": [
    "## 记录交换后的信息值\n",
    "1. g_dict_layouts：根据fn值记录的所有变化的布局，上一次状态与新状态的字典\n",
    "2. layouts_gn：记录布局状态与gn值的字典\n",
    "3. layouts_fn：记录布局状态与fn值的字典"
   ]
  },
  {
   "cell_type": "code",
   "execution_count": null,
   "metadata": {},
   "outputs": [],
   "source": [
    "g_dict_layouts = {}\n",
    "layouts_gn = {}\n",
    "layouts_fn = {}\n",
    "\n",
    "g_dict_layouts[input_layout] = 0\n",
    "for keys,values in g_dict_layouts.items():\n",
    "    print('当前布局为\\n')\n",
    "    show_arrange(keys)\n",
    "\n",
    "# 初始gn设置为1\n",
    "layouts_gn[input_layout] = 1\n",
    "for keys,values in layouts_gn.items():\n",
    "    print('\\ngn值为：{}'.format(values))\n",
    "\n",
    "# fn = hn + gn\n",
    "layouts_fn[input_layout] = cal_hn(input_layout, target_layout) + layouts_gn[input_layout]\n",
    "\n",
    "for keys,values in layouts_fn.items():\n",
    "    print('\\nfn值为：{}'.format(values))"
   ]
  },
  {
   "cell_type": "markdown",
   "metadata": {},
   "source": [
    "## A*算法自动恢复布局"
   ]
  },
  {
   "cell_type": "code",
   "execution_count": null,
   "metadata": {},
   "outputs": [],
   "source": [
    "\n",
    "if able_change==True:\n",
    "    while True:\n",
    "        # 找出字典layouts_fn中fn最小的布局\n",
    "        curLayout = min(layouts_fn, key=layouts_fn.get)\n",
    "        \n",
    "        # 因为每次要在字典里面找出fn最小的布局，因此需要删除当前fn最小的布局\n",
    "        del layouts_fn[curLayout]\n",
    "        \n",
    "        #判断当前状态是否为目标状态\n",
    "        if curLayout == target_layout:\n",
    "            break\n",
    "\n",
    "        # 寻找 0 的位置。\n",
    "        zero_index = curLayout.index(\"0\")\n",
    "\n",
    "        #当前可进行交换的位置集合\n",
    "        swaps = able_swp[zero_index]\n",
    "\n",
    "        for swp_index in swaps:\n",
    "            # 给“0”交换位置,返回交换后的布局与fn值\n",
    "            newLayout, fn = swap_chr(curLayout, swp_index, zero_index, layouts_gn[curLayout]+1, target_layout)\n",
    "            \n",
    "            #判断新布局是否在字典g_dict_layouts中\n",
    "            if g_dict_layouts.get(newLayout) == None:\n",
    "\n",
    "                # 保存字典{布局：gn}， gn：在当前curLayout布局状态下+1\n",
    "                layouts_gn[newLayout] = layouts_gn[curLayout]+1\n",
    "                \n",
    "                # 保存字典{布局：fn}\n",
    "                layouts_fn[newLayout] = fn\n",
    "\n",
    "                # 记录布局的更新 {newLayout：curLayout}\n",
    "                g_dict_layouts[newLayout] = curLayout \n",
    "else:\n",
    "    print('该状态布局不能恢复到目标状态')"
   ]
  },
  {
   "cell_type": "markdown",
   "metadata": {},
   "source": [
    "## 打印布局恢复过程"
   ]
  },
  {
   "cell_type": "code",
   "execution_count": null,
   "metadata": {},
   "outputs": [],
   "source": [
    "try:\n",
    "    lst_steps = []\n",
    "    lst_steps.append(curLayout)\n",
    "    while g_dict_layouts[curLayout] != 0:#存入路径\n",
    "        curLayout = g_dict_layouts[curLayout]\n",
    "        lst_steps.append(curLayout)\n",
    "    lst_steps.reverse()\n",
    "\n",
    "    for nIndex in range(len(lst_steps)):\n",
    "        print(\"第%d步:\" %(nIndex + 1))\n",
    "        show_arrange(lst_steps[nIndex])\n",
    "except:\n",
    "    print('该状态布局不能恢复到目标状态')"
   ]
  },
  {
   "cell_type": "code",
   "execution_count": null,
   "metadata": {},
   "outputs": [],
   "source": []
  }
 ],
 "metadata": {
  "kernelspec": {
   "display_name": "Python 3",
   "language": "python",
   "name": "python3"
  },
  "language_info": {
   "codemirror_mode": {
    "name": "ipython",
    "version": 3
   },
   "file_extension": ".py",
   "mimetype": "text/x-python",
   "name": "python",
   "nbconvert_exporter": "python",
   "pygments_lexer": "ipython3",
   "version": "3.6.8"
  }
 },
 "nbformat": 4,
 "nbformat_minor": 4
}
