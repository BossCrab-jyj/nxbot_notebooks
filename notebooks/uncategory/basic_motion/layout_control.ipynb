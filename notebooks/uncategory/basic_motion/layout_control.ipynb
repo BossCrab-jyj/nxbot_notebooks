{
 "cells": [
  {
   "cell_type": "markdown",
   "metadata": {},
   "source": [
    "# 显示控制机器人\n",
    "## 1.导入所需模块"
   ]
  },
  {
   "cell_type": "code",
   "execution_count": null,
   "metadata": {},
   "outputs": [],
   "source": [
    "from nxbot import Robot,event\n",
    "from IPython.display import display\n",
    "import ipywidgets.widgets as widgets\n",
    "from nxbot import Robot,event,bgr8_to_jpeg\n",
    "import traitlets\n",
    "from traitlets.config.configurable import Configurable\n",
    "import ipywidgets\n",
    "import numpy as np\n",
    "import cv2\n",
    "import time"
   ]
  },
  {
   "cell_type": "markdown",
   "metadata": {},
   "source": [
    "## 2.创建摄像头RGB数据回调函数"
   ]
  },
  {
   "cell_type": "code",
   "execution_count": null,
   "metadata": {},
   "outputs": [],
   "source": [
    "# 创建图像显示部件\n",
    "image_widget = widgets.Image(format='jpeg')\n",
    "\n",
    "# 创建接收图像数据的函数\n",
    "def on_new_image(evt):\n",
    "    img_data = cv2.resize(evt.dict['data'], (320,240))\n",
    "    # 将图像数据传输给图像显示部件\n",
    "    image_widget.value=bgr8_to_jpeg(img_data)"
   ]
  },
  {
   "cell_type": "markdown",
   "metadata": {},
   "source": [
    "## 3.创建摄像头深度数据回调函数\n",
    "摄像头深度信息由[640，480]的深度值矩阵构成。\n",
    "1. 我们可以获取某一个点的深度值，通过滑块将这个点的深度值展示出来；\n",
    "2. 我们也可以获取所有深度值，将深度值转为图像信息，通过图像的方式展示出来。"
   ]
  },
  {
   "cell_type": "code",
   "execution_count": null,
   "metadata": {},
   "outputs": [],
   "source": [
    "# 创建滑块，将深度信息进行可视化\n",
    "depth_slider = ipywidgets.FloatSlider(min=0.0, max=10000.0, description='中心点深度值')\n",
    "\n",
    "# 创建深度图像显示窗口\n",
    "depth_image_widget = widgets.Image(format='jpeg')\n",
    "\n",
    "def on_new_depth(evt):\n",
    "    \n",
    "    # 获取中心点的深度值\n",
    "    depth = evt.dict['data'].get_distance(320, 240)\n",
    "    if depth ==0:\n",
    "        depth = evt.dict['data'].get_distance(322, 241)\n",
    "    depth_slider.value = depth\n",
    "    # 将深度数据转换为opencv接受的格式\n",
    "    depth_frame = np.asanyarray(evt.dict['data'].get_data())\n",
    "    # 转换深度数据转换为图像数据\n",
    "    depth_colormap = cv2.applyColorMap(cv2.convertScaleAbs(depth_frame, alpha=0.03), cv2.COLORMAP_JET)\n",
    "    # 改变图像大小\n",
    "    show_img = cv2.resize(depth_colormap, (320,240))\n",
    "    # 将图像数据传给图像显示窗口小部件\n",
    "    depth_image_widget.value = bgr8_to_jpeg(show_img)"
   ]
  },
  {
   "cell_type": "markdown",
   "metadata": {},
   "source": [
    "## 4.创建摄像头控制滑块"
   ]
  },
  {
   "cell_type": "code",
   "execution_count": null,
   "metadata": {},
   "outputs": [],
   "source": [
    "# 创建摄像头视角滑块。\n",
    "camera_x_slider = ipywidgets.FloatSlider(min=-90, max=90, step=1, value=0, description='摄像头左右')\n",
    "camera_y_slider = ipywidgets.FloatSlider(min=-90, max=90, step=1, value=0, description='摄像头上下')\n",
    "\n",
    "class Camera(Configurable):\n",
    "    cx_speed = traitlets.Float(default_value=0.0)\n",
    "    cy_speed = traitlets.Float(default_value=0.0)\n",
    "    @traitlets.observe('cx_speed')\n",
    "    def x_speed_value(self, change):\n",
    "        time.sleep(0.1)\n",
    "        self.cx_speed=change['new']\n",
    "        rbt.base.set_ptz(x = self.cx_speed, y = self.cy_speed)\n",
    "\n",
    "    @traitlets.observe('cy_speed')\n",
    "    def a_speed_value(self, change):\n",
    "        time.sleep(0.1)\n",
    "        self.cy_speed=change['new']\n",
    "        rbt.base.set_ptz(x = self.cx_speed, y = self.cy_speed)\n",
    "\n",
    "camera = Camera()\n",
    "\n",
    "camera_x_link = traitlets.dlink((camera_x_slider,'value'), (camera, 'cx_speed'), transform=lambda x: x)\n",
    "camera_y_link = traitlets.dlink((camera_y_slider,'value'), (camera, 'cy_speed'), transform=lambda x: x)"
   ]
  },
  {
   "cell_type": "markdown",
   "metadata": {},
   "source": [
    "## 5.图形化界面操控机器人\n",
    "通过“ipywidgets”工具包下面的“widgets”模块可以让我们通过图形界面来操控小车。\n",
    "下面我们先创建一个滑块，然后通过“IPython”工具包的“display”模块将滑块显示出来。\n",
    "1. 导入所需工具包；\n",
    "2. 创建前后左右，停止，左平移，右平移按钮控制按钮；\n",
    "3. 设置默认运行速度和时间；\n",
    "4. 将所有运动模式分别对接到对应的控制按钮上面，并通过“on_click”方法来激活小车进行运动，“on_click”表示鼠标左键单击。\n",
    "5. 将按键显示在窗口\n",
    "> 注意：此时点击按钮将会触发机器人进行运动，请让机器人周围保持空旷，同时注意安全，避免被小车撞到。"
   ]
  },
  {
   "cell_type": "code",
   "execution_count": null,
   "metadata": {},
   "outputs": [],
   "source": [
    "from IPython.display import display\n",
    "import ipywidgets.widgets as widgets\n",
    "\n",
    "# 创建按钮外观。\n",
    "button_layout = widgets.Layout(width='100px', height='80px', align_self='center')\n",
    "\n",
    "#创建控制按钮。\n",
    "stop_button = widgets.Button(description='停止', button_style='danger', layout=button_layout)\n",
    "forward_button = widgets.Button(description='前进', layout=button_layout)\n",
    "backward_button = widgets.Button(description='后退', layout=button_layout)\n",
    "left_button = widgets.Button(description='左转', layout=button_layout)\n",
    "right_button = widgets.Button(description='右转', layout=button_layout)\n",
    "shiftleft_button = widgets.Button(description='左平移', layout=button_layout)\n",
    "shiftright_button = widgets.Button(description='右平移', layout=button_layout)\n",
    "\n",
    "# 默认运行速度和时间。\n",
    "speed = 0.3\n",
    "limit_time = 2\n",
    "\n",
    "#定义所有运动模式。\n",
    "def stop(change):\n",
    "    rbt.base.stop()\n",
    "\n",
    "def step_forward(change):\n",
    "    rbt.base.forward(speed, limit_time)\n",
    "\n",
    "def step_backward(change):\n",
    "    rbt.base.backward(speed, limit_time)\n",
    "\n",
    "def step_left(change):\n",
    "    rbt.base.turnleft(speed, limit_time)\n",
    "\n",
    "def step_right(change):\n",
    "    rbt.base.turnright(speed, limit_time)\n",
    "    \n",
    "def shift_left(change):\n",
    "    rbt.base.shiftleft(speed, limit_time)\n",
    "\n",
    "def shift_right(change):\n",
    "    rbt.base.shiftright(speed, limit_time)\n",
    "    \n",
    "# 通过“on_click”方法来触发小车进行运动。\n",
    "stop_button.on_click(stop)\n",
    "forward_button.on_click(step_forward)\n",
    "backward_button.on_click(step_backward)\n",
    "left_button.on_click(step_left)\n",
    "right_button.on_click(step_right)\n",
    "shiftleft_button.on_click(shift_left)\n",
    "shiftright_button.on_click(shift_right)\n",
    "\n",
    "# 实例化机器人对象\n",
    "rbt = Robot()\n",
    "# 把按键拼接在一起。\n",
    "if rbt.name=='dachbot':\n",
    "    up_box = widgets.HBox([shiftleft_button, forward_button, shiftright_button], layout=widgets.Layout(align_self='center'))\n",
    "\n",
    "elif rbt.name=='dbot':\n",
    "    up_box = widgets.HBox([forward_button], layout=widgets.Layout(align_self='center'))\n",
    "        \n",
    "middle_box = widgets.HBox([left_button, stop_button, right_button], layout=widgets.Layout(align_self='center'))\n",
    "controls_box = widgets.VBox([up_box, middle_box, backward_button])\n",
    "\n",
    "# 显示控制操作界面。"
   ]
  },
  {
   "cell_type": "markdown",
   "metadata": {},
   "source": [
    "## 6.连接机器人，显示所有操作小部件"
   ]
  },
  {
   "cell_type": "code",
   "execution_count": null,
   "metadata": {},
   "outputs": [],
   "source": [
    "rbt.connect()\n",
    "\n",
    "if rbt.name=='dachbot':\n",
    "    # 打开摄像头\n",
    "    rbt.camera.start(enable_depth_stream=True)\n",
    "    # 监听摄像头深度数据，并将数据传给“on_new_depth”函数\n",
    "    rbt.event_manager.add_event_listener(event.EventTypes.NEW_CAMERA_DEPTH,on_new_depth)\n",
    "    # 监听摄像头图像数据，并将数据传给“on_new_image”函数\n",
    "    rbt.event_manager.add_event_listener(event.EventTypes.NEW_CAMERA_IMAGE,on_new_image)\n",
    "    # 通过\"display\"模块将深度值显示在滑块上。\n",
    "    slider_box = ipywidgets.VBox([depth_slider, camera_y_slider])    \n",
    "    \n",
    "    image_box = ipywidgets.HBox([image_widget,depth_image_widget])\n",
    "\n",
    "    display(image_box)\n",
    "    \n",
    "elif rbt.name=='dbot':\n",
    "     # 打开摄像头\n",
    "    rbt.camera.start()\n",
    "    # 监听摄像头图像数据，并将数据传给“on_new_image”函数\n",
    "    rbt.event_manager.add_event_listener(event.EventTypes.NEW_CAMERA_IMAGE,on_new_image)\n",
    "    \n",
    "    slider_box = ipywidgets.VBox([camera_x_slider, camera_y_slider])    \n",
    "    # 显示图像\n",
    "    display(image_widget)\n",
    "\n",
    "# 显示控制滑块\n",
    "display(widgets.HBox([controls_box, slider_box]))\n",
    "    "
   ]
  },
  {
   "cell_type": "markdown",
   "metadata": {},
   "source": [
    "## 7.断开与机器人连接"
   ]
  },
  {
   "cell_type": "code",
   "execution_count": null,
   "metadata": {},
   "outputs": [],
   "source": [
    "# rbt.disconnect()"
   ]
  },
  {
   "cell_type": "code",
   "execution_count": null,
   "metadata": {},
   "outputs": [],
   "source": []
  }
 ],
 "metadata": {
  "kernelspec": {
   "display_name": "Python 3",
   "language": "python",
   "name": "python3"
  },
  "language_info": {
   "codemirror_mode": {
    "name": "ipython",
    "version": 3
   },
   "file_extension": ".py",
   "mimetype": "text/x-python",
   "name": "python",
   "nbconvert_exporter": "python",
   "pygments_lexer": "ipython3",
   "version": "3.6.8"
  }
 },
 "nbformat": 4,
 "nbformat_minor": 4
}
