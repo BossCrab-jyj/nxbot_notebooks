{
 "cells": [
  {
   "cell_type": "markdown",
   "metadata": {},
   "source": [
    "# 打开机器人摄像头"
   ]
  },
  {
   "cell_type": "markdown",
   "metadata": {},
   "source": [
    "## 1.导入所需模块"
   ]
  },
  {
   "cell_type": "code",
   "execution_count": null,
   "metadata": {},
   "outputs": [],
   "source": [
    "from nxbot import Robot,event\n",
    "from IPython.display import display\n",
    "import ipywidgets.widgets as widgets\n",
    "from nxbot import Robot,event,bgr8_to_jpeg\n",
    "import traitlets\n",
    "from traitlets.config.configurable import Configurable\n",
    "import ipywidgets\n",
    "import numpy as np\n",
    "import cv2"
   ]
  },
  {
   "cell_type": "markdown",
   "metadata": {},
   "source": [
    "## 2.创建摄像头RGB数据回调函数"
   ]
  },
  {
   "cell_type": "code",
   "execution_count": null,
   "metadata": {},
   "outputs": [],
   "source": [
    "# 创建显示窗口\n",
    "image_widget = widgets.Image(format='jpeg')\n",
    "# 创建接收图像数据的函数\n",
    "def on_new_image(evt):\n",
    "    # 获取图像信息\n",
    "    img_data = evt.dict['data']\n",
    "    # 将图像大小变为（320，240）\n",
    "    img_data = cv2.resize(img_data, (320,240))\n",
    "    # 将图像信息传给显示窗口\n",
    "    image_widget.value=bgr8_to_jpeg(img_data)"
   ]
  },
  {
   "cell_type": "markdown",
   "metadata": {},
   "source": [
    "## 3.创建摄像头深度数据回调函数\n",
    "摄像头深度信息由[640，480]的深度值矩阵构成。\n",
    "1. 我们可以获取某一个点的深度值，通过滑块将这个点的深度值展示出来；\n",
    "2. 我们也可以获取所有深度值，将深度值转为图像信息，通过图像的方式展示出来。"
   ]
  },
  {
   "cell_type": "code",
   "execution_count": null,
   "metadata": {},
   "outputs": [],
   "source": [
    "\n",
    "# 创建滑块，将深度信息进行可视化\n",
    "depth_slider = ipywidgets.FloatSlider(min=0.0, max=10000.0, description='中心点深度值')\n",
    "\n",
    "# 创建深度图像显示窗口\n",
    "depth_image_widget = widgets.Image(format='jpeg')\n",
    "\n",
    "def on_new_depth(evt):\n",
    "    \n",
    "    # 获取指定像素的深度值\n",
    "    depth = evt.dict['data'].get_distance(320, 240)\n",
    "    # 如果320，240这个点的深度值为0，我们就找它相邻的点\n",
    "    if depth ==0:\n",
    "        depth = evt.dict['data'].get_distance(322, 241)\n",
    "        \n",
    "    # 将深度值传给滑块\n",
    "    depth_slider.value = depth\n",
    "    # 获取摄像头所有的深度信息\n",
    "    depth_frame = np.asanyarray(evt.dict['data'].get_data())\n",
    "    # 将深度信息值转换为深度图\n",
    "    depth_colormap = cv2.applyColorMap(cv2.convertScaleAbs(depth_frame, alpha=0.03), cv2.COLORMAP_JET)\n",
    "    # 改变深度图的大小为（320，240）\n",
    "    show_img = cv2.resize(depth_colormap, (320,240))\n",
    "    depth_image_widget.value = bgr8_to_jpeg(show_img)"
   ]
  },
  {
   "cell_type": "markdown",
   "metadata": {},
   "source": [
    "## 4.连接小车，显示摄像头数据"
   ]
  },
  {
   "cell_type": "code",
   "execution_count": null,
   "metadata": {},
   "outputs": [],
   "source": [
    "rbt = Robot()\n",
    "rbt.connect()\n",
    "\n",
    "# 腊肠狗可以打开深度摄像头\n",
    "if rbt.name=='dachbot':\n",
    "    # 打开摄像头,\"enable_depth_stream=True\" 表示打开摄像头深度信息\n",
    "    rbt.camera.start(enable_depth_stream=True)\n",
    "    # 监听摄像头深度数据，并将数据传给“on_new_depth”函数\n",
    "    rbt.event_manager.add_event_listener(event.EventTypes.NEW_CAMERA_DEPTH,on_new_depth)\n",
    "    # 监听摄像头图像数据，并将数据传给“on_new_image”函数\n",
    "    rbt.event_manager.add_event_listener(event.EventTypes.NEW_CAMERA_IMAGE,on_new_image)\n",
    "    # 通过\"display\"模块将深度值显示在滑块上。\n",
    "    image_box = ipywidgets.HBox([image_widget,depth_image_widget])\n",
    "    # 显示窗口\n",
    "    display(image_box)\n",
    "    \n",
    "# 桌面小车只有rbg图像信息    \n",
    "elif rbt.name=='dbot':\n",
    "    rbt.camera.start()\n",
    "    # 监听摄像头图像数据，并将数据传给“on_new_image”函数\n",
    "    rbt.event_manager.add_event_listener(event.EventTypes.NEW_CAMERA_IMAGE,on_new_image)\n",
    "    # 显示窗口\n",
    "    display(image_widget)"
   ]
  },
  {
   "cell_type": "markdown",
   "metadata": {},
   "source": [
    "## 5.断开连接"
   ]
  },
  {
   "cell_type": "code",
   "execution_count": null,
   "metadata": {},
   "outputs": [],
   "source": [
    "# rbt.disconnect()"
   ]
  },
  {
   "cell_type": "code",
   "execution_count": null,
   "metadata": {},
   "outputs": [],
   "source": []
  }
 ],
 "metadata": {
  "kernelspec": {
   "display_name": "Python 3",
   "language": "python",
   "name": "python3"
  },
  "language_info": {
   "codemirror_mode": {
    "name": "ipython",
    "version": 3
   },
   "file_extension": ".py",
   "mimetype": "text/x-python",
   "name": "python",
   "nbconvert_exporter": "python",
   "pygments_lexer": "ipython3",
   "version": "3.6.8"
  }
 },
 "nbformat": 4,
 "nbformat_minor": 4
}
