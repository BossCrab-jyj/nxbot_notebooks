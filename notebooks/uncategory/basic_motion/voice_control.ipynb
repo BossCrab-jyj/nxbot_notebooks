{
 "cells": [
  {
   "cell_type": "markdown",
   "metadata": {},
   "source": [
    "# 机器人语音识别\n",
    "\n",
    "## 1. 导入所需模块"
   ]
  },
  {
   "cell_type": "code",
   "execution_count": null,
   "metadata": {},
   "outputs": [],
   "source": [
    "from nxbot import Robot,event\n",
    "import time\n",
    "import random\n",
    "from IPython.display import display\n",
    "import ipywidgets.widgets as widgets\n",
    "from nxbot import Robot,event,bgr8_to_jpeg\n",
    "import traitlets\n",
    "from traitlets.config.configurable import Configurable\n",
    "import ipywidgets\n",
    "import threading\n",
    "import cv2"
   ]
  },
  {
   "cell_type": "markdown",
   "metadata": {},
   "source": [
    "## 2.连接机器人"
   ]
  },
  {
   "cell_type": "code",
   "execution_count": null,
   "metadata": {},
   "outputs": [],
   "source": [
    "rbt=Robot()\n",
    "rbt.connect()"
   ]
  },
  {
   "cell_type": "markdown",
   "metadata": {},
   "source": [
    "## 3.创建打印窗口"
   ]
  },
  {
   "cell_type": "code",
   "execution_count": null,
   "metadata": {},
   "outputs": [],
   "source": [
    "result_info = widgets.Textarea(\n",
    "    placeholder='NXROBO',\n",
    "    description='识别结果',\n",
    "    disabled=False\n",
    ")"
   ]
  },
  {
   "cell_type": "markdown",
   "metadata": {},
   "source": [
    "## 4.声音定位"
   ]
  },
  {
   "cell_type": "code",
   "execution_count": null,
   "metadata": {},
   "outputs": [],
   "source": [
    "def on_new_wakeup(evt):\n",
    "    #输出唤醒角度\n",
    "    angle = int(evt.dict['data'])\n",
    "    result = '角度为：'+ str(angle)\n",
    "    result_info.value = result\n",
    "    if angle<180:\n",
    "        rbt.base.turn(-angle)\n",
    "    else:\n",
    "        rbt.base.turn(360-angle)\n",
    "    rbt.speech.start()\n",
    "rbt.event_manager.add_event_listener(event.EventTypes.NEW_MIC_WAKEUP,on_new_wakeup)\n",
    "rbt.speech.start()\n",
    "\n",
    "display(result_info)"
   ]
  },
  {
   "cell_type": "markdown",
   "metadata": {},
   "source": [
    "## 5.关闭声音定位"
   ]
  },
  {
   "cell_type": "code",
   "execution_count": null,
   "metadata": {},
   "outputs": [],
   "source": [
    "rbt.event_manager.remove_event_listener(event.EventTypes.NEW_MIC_WAKEUP,on_new_wakeup)"
   ]
  },
  {
   "cell_type": "markdown",
   "metadata": {},
   "source": [
    "## 6.语音合成以及语音检测"
   ]
  },
  {
   "cell_type": "code",
   "execution_count": null,
   "metadata": {},
   "outputs": [],
   "source": [
    "def on_new_asr(evt):\n",
    "    result = evt.dict['data']\n",
    "    result_info.value = result\n",
    "    \n",
    "    rbt.speech.play_text('你说的是：'+ result, True)\n",
    "    rbt.speech.start()\n",
    "\n",
    "rbt.event_manager.add_event_listener(event.EventTypes.NEW_MIC_ASR,on_new_asr)\n",
    "rbt.speech.start()\n",
    "\n",
    "display(result_info)"
   ]
  },
  {
   "cell_type": "markdown",
   "metadata": {},
   "source": [
    "## 7.关闭声音识别"
   ]
  },
  {
   "cell_type": "code",
   "execution_count": null,
   "metadata": {},
   "outputs": [],
   "source": [
    "rbt.event_manager.remove_event_listener(event.EventTypes.NEW_MIC_ASR,on_new_asr)"
   ]
  },
  {
   "cell_type": "markdown",
   "metadata": {},
   "source": [
    "# 8.语音控制\n",
    "\n",
    "* 步骤：\n",
    "\n",
    "1. 首先定义识别的文字对应执行的命令；\n",
    "   \n",
    "2. 通过“rbt.speech.asr()”语音识别接口进行识别。\n",
    "\n",
    "3. 将语音转成文字之后，对文字进行分析，判断文字是否在我们的执行命令中，如果与其中一条命令的文字一致就执行命令”\n",
    "\n",
    "4. 设置时间阈值为20秒，如果20秒内检测到声音就进行语义分析以及让机器人做出相应的动作， 否则就不再进行语音识别。\n"
   ]
  },
  {
   "cell_type": "markdown",
   "metadata": {},
   "source": [
    "## 9.定义打开摄像头模块"
   ]
  },
  {
   "cell_type": "code",
   "execution_count": null,
   "metadata": {},
   "outputs": [],
   "source": [
    "image_widget = widgets.Image(format='jpeg')\n",
    "\n",
    "def open_camera():\n",
    "    # 打开摄像头\n",
    "    rbt.camera.start()\n",
    "    # 通过\"display\"模块显示图像画面\n",
    "    display(image_widget)\n",
    "    global run_camera\n",
    "    run_camera = True\n",
    "    while run_camera:    \n",
    "        time.sleep(0.01)\n",
    "        img_data = rbt.camera.read()\n",
    "        if img_data is not None:\n",
    "            img_data = cv2.resize(img_data, (320,240))\n",
    "            image_widget.value=bgr8_to_jpeg(img_data)\n",
    "\n",
    "process1 = threading.Thread(target=open_camera,)"
   ]
  },
  {
   "cell_type": "markdown",
   "metadata": {},
   "source": [
    "## 10.定义打开激光雷达模块"
   ]
  },
  {
   "cell_type": "code",
   "execution_count": null,
   "metadata": {},
   "outputs": [],
   "source": [
    "# 创建滑块，将深度信息进行可视化\n",
    "depth_slider = ipywidgets.FloatSlider(min=0.0, max=10000.0, description='深度值')\n",
    "\n",
    "def on_new_scan(evt):\n",
    "    depth = evt.dict['data'][-180]\n",
    "    depth_slider.value = depth\n",
    "\n",
    "def open_lidar():\n",
    "    # 打开激光雷达\n",
    "    rbt.lidar.start()\n",
    "    # 监听激光雷达数据，并将数据传给“on_new_scan”函数\n",
    "    rbt.event_manager.add_event_listener(event.EventTypes.NEW_LIDAR_SCAN,on_new_scan)\n",
    "    # 通过\"display\"模块将深度值显示在滑块上。\n",
    "    display(depth_slider)\n",
    "    \n",
    "process2 = threading.Thread(target=open_lidar,)"
   ]
  },
  {
   "cell_type": "markdown",
   "metadata": {},
   "source": [
    "## 11.识别结果显示窗口"
   ]
  },
  {
   "cell_type": "code",
   "execution_count": null,
   "metadata": {},
   "outputs": [],
   "source": [
    "result_info = widgets.Textarea(\n",
    "    placeholder='NXROBO',\n",
    "    description='识别结果',\n",
    "    disabled=False\n",
    ")"
   ]
  },
  {
   "cell_type": "markdown",
   "metadata": {},
   "source": [
    "## 12.小车状态信息显示窗口"
   ]
  },
  {
   "cell_type": "code",
   "execution_count": null,
   "metadata": {},
   "outputs": [],
   "source": [
    "robot_info = widgets.Textarea(\n",
    "    placeholder='NXROBO',\n",
    "    description='小车状态信息',\n",
    "    disabled=False\n",
    ")"
   ]
  },
  {
   "cell_type": "markdown",
   "metadata": {},
   "source": [
    "## 13.封装所有命令"
   ]
  },
  {
   "cell_type": "code",
   "execution_count": null,
   "metadata": {},
   "outputs": [],
   "source": [
    "def do_cmd(result):\n",
    "\n",
    "    #避免雷达与摄像头重复启动\n",
    "    lidar_opened = False\n",
    "    camera_opened = False\n",
    "\n",
    "    if \"前进\" in result:\n",
    "        rbt.speech.play_text('收到')\n",
    "        rbt.base.forward(0.2,3,True)\n",
    "\n",
    "    elif \"后退\" in result:\n",
    "        rbt.speech.play_text('收到')\n",
    "        rbt.base.backward(0.2,3,True)\n",
    "\n",
    "    elif \"左转\" in result:\n",
    "        rbt.speech.play_text('收到')\n",
    "        rbt.base.turnleft(0.2,3,True)\n",
    "\n",
    "    elif \"右转\" in result:\n",
    "        rbt.speech.play_text('收到')\n",
    "        rbt.base.turnright(0.2,3,True)\n",
    "\n",
    "    elif \"左平移\" in result:\n",
    "        rbt.speech.play_text('收到')\n",
    "        rbt.base.shiftleft(0.2,3,True)\n",
    "\n",
    "    elif \"右平移\" in result:\n",
    "        rbt.speech.play_text('收到')\n",
    "        rbt.base.shiftright(0.2,3,True)\n",
    "\n",
    "    elif \"打开摄像头\" in result and camera_opened == False:\n",
    "        process1.start()\n",
    "        rbt.speech.play_text('摄像头已打开')\n",
    "        camera_opened=True\n",
    "        \n",
    "    elif \"打开雷达\" in result and lidar_opened==False:\n",
    "        if rbt.name=='dachbot':\n",
    "            process2.start()\n",
    "            rbt.speech.play_text('雷达已打开')\n",
    "            lidar_opened=True\n",
    "        elif rbt.name=='dbot':\n",
    "            rbt.speech.play_text('平衡车没有激光雷达哦')\n",
    "    elif '关闭' in result:\n",
    "        if rbt.name=='dachbot':\n",
    "            rbt.base.set_transform(False)\n",
    "        global run_camera    \n",
    "        run_camera=False\n",
    "        rbt.event_manager.remove_event_listener(event.EventTypes.NEW_LIDAR_SCAN,on_new_scan)\n",
    "        rbt.speech.play_text('已关闭',True)"
   ]
  },
  {
   "cell_type": "markdown",
   "metadata": {},
   "source": [
    "## 14.开始运行小车并进行命令识别"
   ]
  },
  {
   "cell_type": "code",
   "execution_count": null,
   "metadata": {},
   "outputs": [],
   "source": [
    "# 机器人问候语列表\n",
    "hello_list = ['我在!', '你说!', '啥事?', '你好!', '准备就绪!', '请吩咐?', '正在待命!']\n",
    "\n",
    "global _asr_start_time\n",
    "_asr_start_time=time.time()\n",
    "run_speech = True\n",
    "\n",
    "# 语音识别回调函数\n",
    "def on_new_asr(evt):\n",
    "    global first_start\n",
    "    global _asr_start_time\n",
    "    global run_speech\n",
    "    # 语音识别结果\n",
    "    result = evt.dict['data']\n",
    "    if run_speech:\n",
    "        # 在状态信息窗口中将结果显示出来\n",
    "        result_info.value = result\n",
    "        # 设定语音识别时间间隔\n",
    "        if time.time()-_asr_start_time<20:\n",
    "            # 如果检测到语音\n",
    "            if result:\n",
    "                # 将语音进行判断并执行相应的命令\n",
    "                do_cmd(result)\n",
    "                if '关闭' in result:\n",
    "                    run_speech=False\n",
    "                _asr_start_time=time.time()\n",
    "                # 短暂停止一下\n",
    "                time.sleep(0.5)\n",
    "                result=None\n",
    "\n",
    "            if run_speech:\n",
    "                # 机器人问候语\n",
    "                hello = random.choice(hello_list)\n",
    "                # 让机器人说出来\n",
    "                rbt.speech.play_text(hello, True)\n",
    "                # 短暂停止一下，防止识别过快\n",
    "                time.sleep(0.5)\n",
    "                # 再次启动语音识别\n",
    "                rbt.speech.start()\n",
    "                # 提醒用户再次说出控制命令\n",
    "                result_info.value='请开始说出控制命令！'\n",
    "\n",
    "\n",
    "# 订阅机器人状态信息\n",
    "def on_robot_state(evt):\n",
    "    if evt.dict['module']=='nxbot.speech':\n",
    "        robot_info.value = evt.dict['data']\n",
    "# 添加语音控制回调函数到事件中\n",
    "rbt.event_manager.add_event_listener(event.EventTypes.NEW_MIC_ASR,on_new_asr)\n",
    "# 添加机器人状态信息回调函数到事件中\n",
    "rbt.event_manager.add_event_listener(event.EventTypes.ROBOT_STATE,on_robot_state)\n",
    "# 启动语音识别\n",
    "rbt.speech.start()\n",
    "# 如果是dachbot就打开盖子\n",
    "if rbt.name=='dachbot':\n",
    "    rbt.base.set_transform(True)\n",
    "# 显示识别结果与机器人状态信息\n",
    "display(robot_info)\n",
    "display(result_info)"
   ]
  },
  {
   "cell_type": "markdown",
   "metadata": {},
   "source": [
    "## 15.断开与机器人连接"
   ]
  },
  {
   "cell_type": "code",
   "execution_count": null,
   "metadata": {},
   "outputs": [],
   "source": [
    "# rbt.disconnect()"
   ]
  },
  {
   "cell_type": "code",
   "execution_count": null,
   "metadata": {},
   "outputs": [],
   "source": []
  }
 ],
 "metadata": {
  "kernelspec": {
   "display_name": "Python 3",
   "language": "python",
   "name": "python3"
  },
  "language_info": {
   "codemirror_mode": {
    "name": "ipython",
    "version": 3
   },
   "file_extension": ".py",
   "mimetype": "text/x-python",
   "name": "python",
   "nbconvert_exporter": "python",
   "pygments_lexer": "ipython3",
   "version": "3.6.8"
  }
 },
 "nbformat": 4,
 "nbformat_minor": 4
}
