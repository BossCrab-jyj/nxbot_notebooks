{
 "cells": [
  {
   "cell_type": "markdown",
   "metadata": {},
   "source": [
    "# 机器人dbot基础控制\n",
    "\n",
    "在这个示例中，我们将介绍如何控制机器人。\n",
    "### 首先需要把机器人的工具包“nxbot”导入进来。\n",
    "\n",
    "> 如果你是Python新手，那么“nxbot”工具包就相当于一个管理机器人的“文件夹”。“文件夹”下面又包含有很多模块，你可以把这个模块理解为“小程序”，通过这些“小程序”来执行我们的命令，就可以对小车进行操控，获取小车的各种感应器数据等。点击上面的“开始”按钮或者按下键盘上的“ctrl + enter”按键运行这段代码并且导入“nxbot”工具包里的模块了。\n"
   ]
  },
  {
   "cell_type": "code",
   "execution_count": null,
   "metadata": {},
   "outputs": [],
   "source": [
    "from nxbot import Robot,event"
   ]
  },
  {
   "cell_type": "markdown",
   "metadata": {},
   "source": [
    "现在我们已经导入了“Robot”模块，我们可以将这个模块实例化，这样可以方便编写，使代码更简洁。\n",
    "如下所示："
   ]
  },
  {
   "cell_type": "code",
   "execution_count": null,
   "metadata": {},
   "outputs": [],
   "source": [
    "rbt = Robot()"
   ]
  },
  {
   "cell_type": "markdown",
   "metadata": {},
   "source": [
    "实例化机器人之后，通过下面代码与小车进行连接"
   ]
  },
  {
   "cell_type": "code",
   "execution_count": null,
   "metadata": {},
   "outputs": [],
   "source": [
    "rbt.connect()"
   ]
  },
  {
   "cell_type": "markdown",
   "metadata": {},
   "source": [
    "获取机器人的名字"
   ]
  },
  {
   "cell_type": "code",
   "execution_count": null,
   "metadata": {},
   "outputs": [],
   "source": [
    "name = rbt.name\n",
    "print(name)"
   ]
  },
  {
   "cell_type": "markdown",
   "metadata": {},
   "source": [
    "现在我们已经创建了我们命名为“robot”的‘Robot’实例，我们可以使用这个实例来控制机器人。要使机机器人 以0.2m/s的速度向左旋转3秒钟，可以按照以下代码进行操作。\n",
    "> 注意:执行这个命令将使机器人移动!请先确保小车周围保持空旷，同时注意安全，避免被小车撞到。"
   ]
  },
  {
   "cell_type": "code",
   "execution_count": null,
   "metadata": {},
   "outputs": [],
   "source": [
    "rbt.base.turnleft(0.2, 3)"
   ]
  },
  {
   "cell_type": "markdown",
   "metadata": {},
   "source": [
    "同样的，如果需要向右旋转3秒钟，速度为0.2m/s，可以按照以下代码进行操作。"
   ]
  },
  {
   "cell_type": "code",
   "execution_count": null,
   "metadata": {},
   "outputs": [],
   "source": [
    "rbt.base.turnright(0.2, 3)"
   ]
  },
  {
   "cell_type": "markdown",
   "metadata": {},
   "source": [
    "\n",
    "当然机器人还有前进，后退，停止运动模式\n",
    "\n",
    "接下来我们就展示一下这几个运动模式。\n",
    "\n",
    "可以看到rbt.base.forward(0.2, 2, True)代码中多了一个参数“True”，\n",
    "\n",
    "在程序中可能会连续执行多条命令，那么我们就需要通过参数“True”来保证执行完当前命令后才会执行另外一条命令，否则只会执行当前这一条命令。\n",
    "\n",
    "> 注意：请让机器人周围保持空旷，同时注意安全，避免被机器人车撞到。"
   ]
  },
  {
   "cell_type": "code",
   "execution_count": null,
   "metadata": {},
   "outputs": [],
   "source": [
    "# 前进\n",
    "rbt.base.forward(0.2, 2)\n",
    "# 后退\n",
    "rbt.base.backward(0.2, 2)"
   ]
  },
  {
   "cell_type": "markdown",
   "metadata": {},
   "source": [
    "观察有参数“True”的区别"
   ]
  },
  {
   "cell_type": "code",
   "execution_count": null,
   "metadata": {},
   "outputs": [],
   "source": [
    "rbt.base.forward(0.2, 2, True)\n",
    "rbt.base.backward(0.2, 2, True)\n",
    "# 停止\n",
    "rbt.base.stop()"
   ]
  },
  {
   "cell_type": "markdown",
   "metadata": {},
   "source": [
    "我们还可以通过 rbt.base.move(x_speed=0.0,a_speed=0.0, duration=None) 这个函数来控制小车。\n",
    "1. x_speed：大于0就前进，小于0则后退。\n",
    "2. a_speed：大于0就左旋转，小于0则右旋转。\n",
    "3. duration：运行时间，如果等于None则一直运行。"
   ]
  },
  {
   "cell_type": "code",
   "execution_count": null,
   "metadata": {},
   "outputs": [],
   "source": [
    "x_speed = 0.0\n",
    "a_speed = 0.3\n",
    "duration = 2\n",
    "rbt.base.move(x_speed, a_speed, duration)"
   ]
  },
  {
   "cell_type": "markdown",
   "metadata": {},
   "source": [
    "机器人dbot拥有自己的手臂，因此我们可以通过以下命令控制机器人手臂\n",
    "* rbt.base.set_servo(servo_index,angle), servo_index:关节舵机编号，angle：单位为度。\n",
    "* 编号对应的关节舵机以及度数范围分别为：\n",
    "\n",
    "    3：左肩舵机，6：右肩舵机，舵机度数范围为（-45°，90°），正值手臂向上，负值手臂向下。\n",
    "    \n",
    "    4：左臂舵机，7：右臂舵机，舵机度数范围为（-10°，60°），正值手臂向内，负值手臂向外。"
   ]
  },
  {
   "cell_type": "code",
   "execution_count": null,
   "metadata": {},
   "outputs": [],
   "source": [
    "rbt.base.set_servo(3,60)"
   ]
  },
  {
   "cell_type": "markdown",
   "metadata": {},
   "source": [
    "下面就可以设计一套自己的动作了\n",
    "1. 抓取"
   ]
  },
  {
   "cell_type": "code",
   "execution_count": null,
   "metadata": {},
   "outputs": [],
   "source": [
    "def grasp():\n",
    "    rbt.base.set_servo(3,0)\n",
    "    rbt.base.set_servo(6,0)\n",
    "    rbt.base.set_servo(4,60)\n",
    "    rbt.base.set_servo(7,60)"
   ]
  },
  {
   "cell_type": "markdown",
   "metadata": {},
   "source": [
    "执行上面定义的动作"
   ]
  },
  {
   "cell_type": "code",
   "execution_count": null,
   "metadata": {},
   "outputs": [],
   "source": [
    "grasp()"
   ]
  },
  {
   "cell_type": "markdown",
   "metadata": {},
   "source": [
    "2. 放下"
   ]
  },
  {
   "cell_type": "code",
   "execution_count": null,
   "metadata": {},
   "outputs": [],
   "source": [
    "def release():\n",
    "    rbt.base.set_servo(3,-35)\n",
    "    rbt.base.set_servo(6,-35)\n",
    "    rbt.base.set_servo(4,0)\n",
    "    rbt.base.set_servo(7,0)"
   ]
  },
  {
   "cell_type": "code",
   "execution_count": null,
   "metadata": {},
   "outputs": [],
   "source": [
    "release()"
   ]
  },
  {
   "cell_type": "markdown",
   "metadata": {},
   "source": [
    "摄像头舵机进行上下左右运动\n",
    "\n",
    "rbt.base.set_ptz(y,x)\n",
    "\n",
    "* y:正值为上，负值为下\n",
    "\n",
    "* x:正值为右，负值为左"
   ]
  },
  {
   "cell_type": "code",
   "execution_count": null,
   "metadata": {},
   "outputs": [],
   "source": [
    "rbt.base.set_ptz(15,15)"
   ]
  },
  {
   "cell_type": "markdown",
   "metadata": {},
   "source": [
    "### 运行下面的代码断开与机器人的连接\n",
    "> 示例文件是在机器人上进行运行的，因此需要手动断开与机器人的连接来释放机器人资源，如果不运行这段代码然后运行其它示例文件，运行其它程序有可能会出错。"
   ]
  },
  {
   "cell_type": "code",
   "execution_count": null,
   "metadata": {},
   "outputs": [],
   "source": [
    "# rbt.disconnect()"
   ]
  },
  {
   "cell_type": "markdown",
   "metadata": {},
   "source": [
    "#### 这就是机器人的基本控制，希望在接下来的学习中更有信心:)\n",
    "> 注意：在未修改代码的情况下，运行程序出现任何错误，可以尝试点击左边工具栏中上方的“Kernel”，再点击“Shut Down All Kernels”,然后再重新运行就好啦。\n",
    "\n",
    "   ![title](other_data/conten1.jpg)"
   ]
  },
  {
   "cell_type": "code",
   "execution_count": null,
   "metadata": {},
   "outputs": [],
   "source": []
  }
 ],
 "metadata": {
  "kernelspec": {
   "display_name": "Python 3",
   "language": "python",
   "name": "python3"
  },
  "language_info": {
   "codemirror_mode": {
    "name": "ipython",
    "version": 3
   },
   "file_extension": ".py",
   "mimetype": "text/x-python",
   "name": "python",
   "nbconvert_exporter": "python",
   "pygments_lexer": "ipython3",
   "version": "3.6.8"
  }
 },
 "nbformat": 4,
 "nbformat_minor": 4
}
