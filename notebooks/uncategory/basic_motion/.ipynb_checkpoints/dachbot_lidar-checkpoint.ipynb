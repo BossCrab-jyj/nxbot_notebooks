{
 "cells": [
  {
   "cell_type": "markdown",
   "metadata": {},
   "source": [
    "# Dachbot激光雷达模块"
   ]
  },
  {
   "cell_type": "markdown",
   "metadata": {},
   "source": [
    "## 1.导入所需模块"
   ]
  },
  {
   "cell_type": "code",
   "execution_count": null,
   "metadata": {},
   "outputs": [],
   "source": [
    "import os\n",
    "import ydlidar\n",
    "import sys\n",
    "from matplotlib.patches import Arc\n",
    "import matplotlib.pyplot as plt\n",
    "import matplotlib.animation as animation\n",
    "import numpy as np\n",
    "from nxbot import Robot,event,bgr8_to_jpeg\n",
    "import ipywidgets.widgets as widgets\n",
    "import threading\n",
    "import cv2\n",
    "from matplotlib.animation import FuncAnimation \n",
    "import threading \n",
    "import time\n",
    "from IPython.display import display, HTML\n",
    "import PIL\n",
    "\n",
    "%matplotlib inline"
   ]
  },
  {
   "cell_type": "markdown",
   "metadata": {},
   "source": [
    "## 2.创建图像格式转换函数\n",
    "将matplot数据格式转换为opencv图片格式"
   ]
  },
  {
   "cell_type": "code",
   "execution_count": null,
   "metadata": {},
   "outputs": [],
   "source": [
    "import io\n",
    "\n",
    "def buffer_plot_and_get():\n",
    "    buf = io.BytesIO()\n",
    "    fig.savefig(buf)\n",
    "    buf.seek(0)\n",
    "    image = PIL.Image.open(buf)\n",
    "    img = cv2.cvtColor(np.asarray(image),cv2.COLOR_RGB2BGR)\n",
    "    return img"
   ]
  },
  {
   "cell_type": "markdown",
   "metadata": {},
   "source": [
    "## 3.创建雷达画布"
   ]
  },
  {
   "cell_type": "code",
   "execution_count": null,
   "metadata": {},
   "outputs": [],
   "source": [
    "\n",
    "RMAX = 32.0\n",
    "\n",
    "fig = plt.figure(figsize=(5,5))\n",
    "\n",
    "fig.canvas.set_window_title('YDLidar LIDAR Monitor')\n",
    "lidar_polar = plt.subplot(polar=True)\n",
    "lidar_polar.autoscale_view(True,True,True)\n",
    "lidar_polar.set_rmax(RMAX)\n",
    "lidar_polar.grid(True)\n",
    "lidar_polar\n",
    "\n",
    "ports = ydlidar.lidarPortList()\n",
    "port = \"/dev/ttyS0\";\n",
    "for key, value in ports.items():\n",
    "    port = value;\n",
    "    \n",
    "laser = ydlidar.CYdLidar()\n",
    "laser.setlidaropt(ydlidar.LidarPropSerialPort, port)\n",
    "laser.setlidaropt(ydlidar.LidarPropSerialBaudrate, 512000)\n",
    "laser.setlidaropt(ydlidar.LidarPropLidarType, ydlidar.TYPE_TRIANGLE)\n",
    "laser.setlidaropt(ydlidar.LidarPropDeviceType, ydlidar.YDLIDAR_TYPE_SERIAL)\n",
    "laser.setlidaropt(ydlidar.LidarPropScanFrequency, 10.0)\n",
    "laser.setlidaropt(ydlidar.LidarPropSampleRate, 8)\n",
    "laser.setlidaropt(ydlidar.LidarPropSingleChannel, False)\n",
    "scan = ydlidar.LaserScan()\n"
   ]
  },
  {
   "cell_type": "markdown",
   "metadata": {},
   "source": [
    "## 4.获取雷达数据并显示\n",
    "\n",
    "1. 获取雷达数据\n",
    "2. 将数据通过matplot画在画布上\n",
    "3. 将画布数据转换为opencv图像格式\n",
    "4. 将图像传给显示窗口“image_widget”"
   ]
  },
  {
   "cell_type": "code",
   "execution_count": null,
   "metadata": {},
   "outputs": [],
   "source": [
    "\n",
    "# 创建显示窗口\n",
    "image_widget = widgets.Image(format='jpeg')\n",
    "def interaction():\n",
    "    # 初始化雷达\n",
    "    ret = laser.initialize()\n",
    "    if ret:\n",
    "        # 判断是否已打开\n",
    "        ret = laser.turnOn()\n",
    "        while True:\n",
    "            \n",
    "            r = laser.doProcessSimple(scan)\n",
    "            if r:\n",
    "                angle = []\n",
    "                ran = []\n",
    "                intensity = []\n",
    "                # 将雷达数据放入空列表中\n",
    "                for point in scan.points:\n",
    "                    # 雷达检测到的物体的角度\n",
    "                    angle.append(point.angle)\n",
    "                    # 雷达检测到的物体的距离\n",
    "                    ran.append(point.range)\n",
    "                    # 不同距离有不同的颜色信息\n",
    "                    intensity.append(point.intensity)\n",
    "                # 生成画布钱会先清理画布\n",
    "                lidar_polar.clear()\n",
    "                # 在雷达画布上生成散点图\n",
    "                lidar_polar.scatter(angle, ran, c=intensity, cmap='hsv', alpha=0.95)\n",
    "                # 改变画布的方向，我们的雷达是以180度为正前方来检测距离的，\n",
    "                lidar_polar.set_theta_zero_location('S')\n",
    "                # 将画布转换为cv2格式的图像\n",
    "                img = buffer_plot_and_get()\n",
    "                # 将图像传输给显示窗口\n",
    "                image_widget.value = bgr8_to_jpeg(img)\n",
    "            # 在循环时需要短暂睡眠一下，以免占用太多资源。    \n",
    "            time.sleep(0.05)\n",
    "            \n",
    "# 创建线程\n",
    "process1 = threading.Thread(target=interaction,)\n",
    "# 启动线程\n",
    "process1.start()\n",
    "# 显示图像\n",
    "display(image_widget)"
   ]
  },
  {
   "cell_type": "markdown",
   "metadata": {},
   "source": [
    "## 5.关闭"
   ]
  },
  {
   "cell_type": "code",
   "execution_count": null,
   "metadata": {},
   "outputs": [],
   "source": [
    "# laser.disconnecting()\n",
    "# plt.close()"
   ]
  },
  {
   "cell_type": "code",
   "execution_count": null,
   "metadata": {},
   "outputs": [],
   "source": []
  }
 ],
 "metadata": {
  "kernelspec": {
   "display_name": "Python 3",
   "language": "python",
   "name": "python3"
  },
  "language_info": {
   "codemirror_mode": {
    "name": "ipython",
    "version": 3
   },
   "file_extension": ".py",
   "mimetype": "text/x-python",
   "name": "python",
   "nbconvert_exporter": "python",
   "pygments_lexer": "ipython3",
   "version": "3.6.8"
  }
 },
 "nbformat": 4,
 "nbformat_minor": 4
}
