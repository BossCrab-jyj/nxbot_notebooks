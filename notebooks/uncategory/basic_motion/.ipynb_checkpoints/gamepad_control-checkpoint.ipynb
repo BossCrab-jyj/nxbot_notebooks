{
 "cells": [
  {
   "cell_type": "markdown",
   "metadata": {},
   "source": [
    "# 通过游戏手柄控制机器人\n",
    "\n",
    "\n",
    "我们要做的第一件事是创建一个“Controller”小部件，我们将使用它来驱动我们的机器人。\n",
    "“Controller”小部件接受一个“index”参数，每一个参数代表一个控制按钮，如果你有多个参数，你就可以对机器人进行更多操作。\n",
    "1. 进入 [http://html5gamepad.com](http://html5gamepad.com) 查看更多游戏手柄信息 \n",
    "2. 按下你正在使用的游戏手柄上的按钮\n",
    "3. 请记住gamepad的“index”，它会对按键做出响应\n",
    "\n",
    "## 1.首先导入创建“Controller”小部件所需要的模块"
   ]
  },
  {
   "cell_type": "code",
   "execution_count": null,
   "metadata": {},
   "outputs": [],
   "source": [
    "import traitlets\n",
    "import ipywidgets.widgets as widgets\n",
    "from traitlets.config.configurable import Configurable\n",
    "from IPython.display import display\n",
    "import time"
   ]
  },
  {
   "cell_type": "markdown",
   "metadata": {},
   "source": [
    "## 2.导入nxbot模块"
   ]
  },
  {
   "cell_type": "code",
   "execution_count": null,
   "metadata": {},
   "outputs": [],
   "source": [
    "from nxbot import Robot,event,bgr8_to_jpeg\n",
    "rbt = Robot()\n",
    "# 连接机器人\n",
    "rbt.connect()"
   ]
  },
  {
   "cell_type": "markdown",
   "metadata": {},
   "source": [
    "## 3.接下来，我们将使用该索引创建并显示手柄控制器。\n",
    "创建成功之后，你可以看到很多滑块，你可以按下手柄按键或者旋转操作杆可以看到滑块也有所变化。\n",
    "* 注意：如果出现错误提示，请重新运行下列代码块"
   ]
  },
  {
   "cell_type": "code",
   "execution_count": null,
   "metadata": {},
   "outputs": [],
   "source": [
    "index = 0\n",
    "controller = widgets.Controller(index=index)\n",
    "display(controller)"
   ]
  },
  {
   "cell_type": "markdown",
   "metadata": {},
   "source": [
    "## 4.添加手臂动作\n",
    "只有dbot机器人支持手臂动作"
   ]
  },
  {
   "cell_type": "code",
   "execution_count": null,
   "metadata": {},
   "outputs": [],
   "source": [
    "def grasp():\n",
    "    rbt.base.set_servo(3,0)\n",
    "    rbt.base.set_servo(6,0)\n",
    "    rbt.base.set_servo(4,60)\n",
    "    rbt.base.set_servo(7,60)\n",
    "    \n",
    "def release():\n",
    "    rbt.base.set_servo(3,-35)\n",
    "    rbt.base.set_servo(6,-35)\n",
    "    rbt.base.set_servo(4,0)\n",
    "    rbt.base.set_servo(7,0)"
   ]
  },
  {
   "cell_type": "markdown",
   "metadata": {},
   "source": [
    "## 5.将游戏手柄连接到机器人\n",
    "连接之后我们需要在游戏手柄上设定控制小车运动的按钮，使不同的按钮可以分别控制机器人前后左右行驶，控制机器人摄像头上下左右转动。"
   ]
  },
  {
   "cell_type": "code",
   "execution_count": null,
   "metadata": {},
   "outputs": [],
   "source": [
    "# 控制小车运动\n",
    "class Move(Configurable):\n",
    "    x_speed = traitlets.Float(default_value=0.0)\n",
    "    a_speed = traitlets.Float(default_value=0.0)\n",
    "    y_speed = traitlets.Float(default_value=0.0)\n",
    "    @traitlets.observe('x_speed')\n",
    "    def x_speed_value(self, change):\n",
    "        time.sleep(0.1)\n",
    "        self.x_speed=change['new']\n",
    "        rbt.base.move(x_speed=self.x_speed*0.3, a_speed=self.a_speed, y_speed=-self.y_speed*0.5)\n",
    "\n",
    "    @traitlets.observe('a_speed')\n",
    "    def a_speed_value(self, change):\n",
    "        time.sleep(0.1)\n",
    "        self.a_speed=change['new']\n",
    "        rbt.base.move(x_speed=self.x_speed*0.3, a_speed=self.a_speed, y_speed=-self.y_speed*0.5)\n",
    "        \n",
    "    @traitlets.observe('y_speed')\n",
    "    def y_speed_value(self, change):\n",
    "        time.sleep(0.1)\n",
    "        self.y_speed=change['new']\n",
    "        rbt.base.move(x_speed=self.x_speed*0.3, a_speed=self.a_speed, y_speed=-self.y_speed*0.5)\n",
    "        \n",
    "# 控制摄像头转动  \n",
    "class Camera(Configurable):\n",
    "    cx_speed = traitlets.Float(default_value=0.0)\n",
    "    cy_speed = traitlets.Float(default_value=0.0)\n",
    "    @traitlets.observe('cx_speed')\n",
    "    def x_speed_value(self, change):\n",
    "        time.sleep(0.1)\n",
    "        self.cx_speed=change['new']\n",
    "        rbt.base.set_ptz(x=self.cx_speed*90, y=self.cy_speed*90)\n",
    "\n",
    "    @traitlets.observe('cy_speed')\n",
    "    def a_speed_value(self, change):\n",
    "        time.sleep(0.1)\n",
    "        self.cy_speed=change['new']\n",
    "        rbt.base.set_ptz(x=self.cx_speed*90, y=self.cy_speed*90)\n",
    "\n",
    "# 控制dbot手臂动作 \n",
    "class Arm(Configurable):    \n",
    "    grasp_ = traitlets.Float(default_value=0.0)\n",
    "    release_ = traitlets.Float(default_value=0.0)\n",
    "    @traitlets.observe('grasp_')\n",
    "    def arm_grasp(self, change):\n",
    "        time.sleep(0.1)\n",
    "        grasp()\n",
    "\n",
    "    @traitlets.observe('release_')\n",
    "    def arm_release(self, change):\n",
    "        time.sleep(0.1)\n",
    "        release()\n",
    "        \n",
    "# 实例化对象\n",
    "move=Move()\n",
    "camera = Camera()\n",
    "arm = Arm()\n",
    "\n",
    "# 将手柄上的摇杆axes[1]来控制小车的前进后退，摇杆axes[0]来控制小车的左右。摇杆axes[2]来控制左右平移\n",
    "move_link = traitlets.dlink((controller.axes[1], 'value'), (move, 'x_speed'), transform=lambda x: -x)\n",
    "turn_link = traitlets.dlink((controller.axes[0], 'value'), (move, 'a_speed'), transform=lambda x: -x)\n",
    "\n",
    "if rbt.name=='dachbot':\n",
    "    shift_left_link = traitlets.dlink((controller.buttons[6], 'value'), (move, 'y_speed'), transform=lambda x: x)\n",
    "    shift_right_link = traitlets.dlink((controller.buttons[7], 'value'), (move, 'y_speed'), transform=lambda x: -x)\n",
    "elif rbt.name=='dbot':\n",
    "    grasp_link = traitlets.dlink((controller.buttons[6], 'value'), (arm, 'grasp_'), transform=lambda x: -x)\n",
    "    release_link = traitlets.dlink((controller.buttons[7], 'value'), (arm, 'release_'), transform=lambda x: -x)\n",
    "    camera_x_link = traitlets.dlink((controller.axes[2], 'value'), (camera, 'cx_speed'), transform=lambda x: x)\n",
    "\n",
    "camera_y_link = traitlets.dlink((controller.axes[3], 'value'), (camera, 'cy_speed'), transform=lambda x: -x)\n",
    "\n",
    "# 定义断开控制函数\n",
    "def unlink_control():\n",
    "    move_link.unlink()\n",
    "    turn_link.unlink()\n",
    "    if rbt.name=='dachbot':\n",
    "        shift_left_link.unlink()\n",
    "        shift_right_link.unlink()\n",
    "    elif rbt.name=='dbot':\n",
    "        grasp_link.unlink()\n",
    "        release_link.unlink()\n",
    "        camera_x_link.unlink()\n",
    "    camera_y_link.unlink()"
   ]
  },
  {
   "cell_type": "markdown",
   "metadata": {},
   "source": [
    "## 6.打开摄像头"
   ]
  },
  {
   "cell_type": "code",
   "execution_count": null,
   "metadata": {},
   "outputs": [],
   "source": [
    "image_widget = widgets.Image(format='jpeg', width=300, height=300)\n",
    "def on_new_image(evt):\n",
    "    image_widget.value= bgr8_to_jpeg(evt.dict['data'])\n",
    "\n",
    "# 监听机器人摄像头数据\n",
    "rbt.event_manager.add_event_listener(event.EventTypes.NEW_CAMERA_IMAGE,on_new_image)\n",
    "rbt.camera.start()\n",
    "\n",
    "if rbt.name=='dachbot':\n",
    "    rbt.base.set_transform(True)\n",
    "display(image_widget)"
   ]
  },
  {
   "cell_type": "markdown",
   "metadata": {},
   "source": [
    "## 7.断开连接\n",
    "运行下面代码，断开手柄与dachbot的连接，并且关闭控制台与小车的连接"
   ]
  },
  {
   "cell_type": "code",
   "execution_count": null,
   "metadata": {},
   "outputs": [],
   "source": [
    "# unlink_control()\n",
    "# rbt.disconnect()"
   ]
  },
  {
   "cell_type": "code",
   "execution_count": null,
   "metadata": {},
   "outputs": [],
   "source": []
  }
 ],
 "metadata": {
  "kernelspec": {
   "display_name": "Python 3",
   "language": "python",
   "name": "python3"
  },
  "language_info": {
   "codemirror_mode": {
    "name": "ipython",
    "version": 3
   },
   "file_extension": ".py",
   "mimetype": "text/x-python",
   "name": "python",
   "nbconvert_exporter": "python",
   "pygments_lexer": "ipython3",
   "version": "3.6.8"
  }
 },
 "nbformat": 4,
 "nbformat_minor": 4
}
