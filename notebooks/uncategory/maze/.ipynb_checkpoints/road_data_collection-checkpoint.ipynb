{
 "cells": [
  {
   "cell_type": "markdown",
   "metadata": {},
   "source": [
    "# 路径跟踪\n",
    "在“避障”示例中我们已经学习如何进行数据收集，模型训练和的操作了，在这个示例中我们把数据分为了两类（“有障碍”和“无障碍”），我们把图片通过避障模型预测了这个图片是否有障碍，我们把这种方法叫做分类。\n",
    "\n",
    "在这个示例里，我们还是会通过神经网络来进行训练! 不过，这次我们将学习另一种方法，叫做“regression”（回归），我们将通过回归的方法来让机器人沿着一条路前进。\n",
    "> 什么叫做回归？\n",
    "在分类问题中我们会把神经网络的输出层改为我们想预测的类别数量，并且在训练时我们会给训练图片的标签用0和1的方式来表达，比如“避障”示例中，“有障碍”的标签为[1,0],“无障碍”的标签为[0,1],但是我们在学习中并没有看到这样的操作，因为我们所导入的模块已经自动帮我们把类别标记为以0和1这种方式了。相比分类，回归会更好理解，比如现在我们有120张2种类型的卡片，一种类型卡片上写着“1”，另一种类型卡片写着“2”，但是图片的颜色或者数字的形状不相同，现在我们要随机拿其中100张图片进行训练后得到的模型来预测剩下的20张卡片分别是什么数字，在这种情况下我们使用回归的方法就会更方便，直接把卡片上有“1”的图片标记为1，有“2”的图片标记为2，然后再通过学习训练后就会得到一个回归的模型，然后再通过模型进行预测就会预测出这张卡片的数字是多少了。\n",
    "\n",
    "路径跟踪的具体步骤：\n",
    "1. 打开机器人的摄像头；\n",
    ">  从“避障”示例中可以知道，数据的多样性是很重要的!\n",
    "2. 将机器人放置在路径的不同位置，不同角度等；\n",
    "3. 使用gamepad控制器，在图像上放置一个“绿点”，这个绿点代表当机器人在当前的位置上是想向左还是向右行驶；\n",
    "4. 存储机器人拍摄的图像，同时存储这个绿色点的X、Y的坐标值作为图片的名称；\n",
    "5. 在训练的时候，我们将机器人保存的图像作为训练样本，每张图片都有对应X, Y值作为标签，然后把样本和标签输入到神经网络种就可以训练出模型了；\n",
    "6. 在现场演示中，我们将通过机器人对拍摄到的图片通过模型进行预测，再根据预测出来的X、Y值来计算一个相应转向值。 \n"
   ]
  },
  {
   "cell_type": "markdown",
   "metadata": {},
   "source": [
    "# 数据收集\n",
    "\n",
    "那么，我们具体应该怎样来收集图片呢？\n",
    "执行下面这段代码来打开视频进行参考，查看如何对图像进行标记。"
   ]
  },
  {
   "cell_type": "code",
   "execution_count": null,
   "metadata": {},
   "outputs": [],
   "source": [
    "from IPython.display import HTML\n",
    "HTML('<iframe width=\"560\" height=\"315\" src=\"https://www.youtube.com/embed/FW4En6LejhI\" frameborder=\"0\" allow=\"accelerometer; autoplay; encrypted-media; gyroscope; picture-in-picture\" allowfullscreen></iframe>')"
   ]
  },
  {
   "cell_type": "markdown",
   "metadata": {},
   "source": [
    "## 1.导入所需模块"
   ]
  },
  {
   "cell_type": "code",
   "execution_count": null,
   "metadata": {},
   "outputs": [],
   "source": [
    "from nxbot import Robot,event,bgr8_to_jpeg\n",
    "import traitlets\n",
    "import ipywidgets.widgets as widgets\n",
    "from traitlets.config.configurable import Configurable\n",
    "from IPython.display import display\n",
    "from uuid import uuid1\n",
    "import os\n",
    "import json\n",
    "import glob\n",
    "import numpy as np\n",
    "import cv2"
   ]
  },
  {
   "cell_type": "markdown",
   "metadata": {},
   "source": [
    "## 2.连接机器人"
   ]
  },
  {
   "cell_type": "code",
   "execution_count": null,
   "metadata": {},
   "outputs": [],
   "source": [
    "rbt = Robot()\n",
    "rbt.connect()"
   ]
  },
  {
   "cell_type": "markdown",
   "metadata": {},
   "source": [
    "## 3.创建文件夹"
   ]
  },
  {
   "cell_type": "code",
   "execution_count": null,
   "metadata": {},
   "outputs": [],
   "source": [
    "# 创建文件夹\n",
    "DATASET_DIR = 'dataset_xy'\n",
    "try:\n",
    "    os.makedirs(DATASET_DIR)\n",
    "except FileExistsError:\n",
    "    print('Directories not created becasue they already exist')"
   ]
  },
  {
   "cell_type": "markdown",
   "metadata": {},
   "source": [
    "## 4.在图像上创建绿色标记\n",
    "1. 创建图像显示窗口；\n",
    "2. 获取图像数据；\n",
    "3. 在图像上创建一个绿点在标记时作为参考；\n",
    "4. 显示图形化界面。"
   ]
  },
  {
   "cell_type": "code",
   "execution_count": null,
   "metadata": {},
   "outputs": [],
   "source": [
    "image_widget = widgets.Image(format='jpeg', width=300, height=300)\n",
    "target_widget = widgets.Image(format='jpeg', width=300, height=300)\n",
    "\n",
    "x_slider = widgets.FloatSlider(min=-1.0, max=1.0, step=0.0001, description='x')\n",
    "y_slider = widgets.FloatSlider(min=-1.0, max=1.0, step=0.0001, description='y')\n",
    "\n",
    "def display_xy(camera_image):\n",
    "    image = np.copy(camera_image)\n",
    "    x = x_slider.value\n",
    "    y = y_slider.value\n",
    "    x = int(x * 300 / 2 + 150)\n",
    "    y = int(y * 300 / 2 + 150)\n",
    "    image = cv2.circle(image, (x, y), 8, (0, 255, 0), 3)\n",
    "    #img:图像，圆心坐标，圆半径，颜色，线宽度(-1：表示对封闭图像进行内部填满)\n",
    "    image = cv2.circle(image, (150, 300), 8, (0, 0,255), 3)\n",
    "    # img:图像，起点坐标，终点坐标，颜色，线的宽度\n",
    "    image = cv2.line(image, (x,y), (150, 300), (255,0,0), 3)\n",
    "    jpeg_image = bgr8_to_jpeg(image)\n",
    "    return jpeg_image\n",
    "\n",
    "def on_new_image(evt):\n",
    "    image_widget.value= bgr8_to_jpeg(evt.dict['data'])\n",
    "    target_widget.value = display_xy(evt.dict['data'])\n",
    "    \n",
    "rbt.camera.start()\n",
    "rbt.base.set_ptz(-20)\n",
    "rbt.event_manager.add_event_listener(event.EventTypes.NEW_CAMERA_IMAGE,on_new_image)\n",
    "display(widgets.HBox([image_widget, target_widget]), x_slider, y_slider)"
   ]
  },
  {
   "cell_type": "markdown",
   "metadata": {},
   "source": [
    "## 5.创建gamepad控制器\n",
    "\n",
    "我们可以通过游戏手柄来控制机器人，首先将游戏手柄的无线usb插到电脑上，然后打开游戏手柄的开关。http://html5gamepad.com 打开这个网址然后按下你正在使用的游戏手柄上的按钮，可以看到网页上也会有相应的反应。\n",
    "在网站上可以看到“index”下面有个数字，记住这个数字，然后我们通过“widgets.Controller()”连接到手柄然后再显示出来。"
   ]
  },
  {
   "cell_type": "code",
   "execution_count": null,
   "metadata": {},
   "outputs": [],
   "source": [
    "controller = widgets.Controller(index=0)\n",
    "display(controller)"
   ]
  },
  {
   "cell_type": "markdown",
   "metadata": {},
   "source": [
    "## 6.连接Gamepad控制器来标记图像\n",
    "\n",
    "虽然我们现在已经创建了gamepad控制器，但我们还需要将它连接到上下左右滑块，来控制绿点的位置，我们将使用dlink函数将手柄的摇杆其连接到左右垂直滑块。\n",
    "然后我们再用gamepad控制器的另外一个摇杆连接到机器人，这样我们就可以通过手柄来控制小车，并且收集数据了。"
   ]
  },
  {
   "cell_type": "code",
   "execution_count": null,
   "metadata": {},
   "outputs": [],
   "source": [
    "class Move(Configurable):\n",
    "    x_speed = traitlets.Float(default_value=0.0)\n",
    "    a_speed = traitlets.Float(default_value=0.0)\n",
    "    @traitlets.observe('x_speed')\n",
    "    def x_speed_value(self, change):\n",
    "        self.x_speed=change['new']\n",
    "        rbt.base.move(x_speed=self.x_speed)\n",
    "\n",
    "    @traitlets.observe('a_speed')\n",
    "    def a_speed_value(self, change):\n",
    "        self.a_speed=change['new']\n",
    "        rbt.base.move(a_speed=self.a_speed)\n",
    "move=Move()\n",
    "\n",
    "# 将手柄上的按钮axes[3]来控制小车的前进后退，按钮axes[2]来控制小车的左右。\n",
    "move_link = traitlets.dlink((controller.axes[3], 'value'), (move, 'x_speed'), transform=lambda x: -x)\n",
    "turn_link = traitlets.dlink((controller.axes[2], 'value'), (move, 'a_speed'), transform=lambda x: -x)\n",
    "\n",
    "# 将手柄上的按钮axes[0]连接到左右滑块，按钮axes[1]连接到上下滑块\n",
    "widgets.jsdlink((controller.axes[0], 'value'), (x_slider, 'value'))\n",
    "widgets.jsdlink((controller.axes[1], 'value'), (y_slider, 'value'))"
   ]
  },
  {
   "cell_type": "markdown",
   "metadata": {},
   "source": [
    "## 7.开始收集数据"
   ]
  },
  {
   "cell_type": "code",
   "execution_count": null,
   "metadata": {},
   "outputs": [],
   "source": [
    "# 在窗口实时显示图片的数量\n",
    "count_widget = widgets.IntText(description='count', value=len(glob.glob(os.path.join(DATASET_DIR, '*.jpg'))))\n",
    "\n",
    "# 给图片的添加一个随机不重复的文件名(注意X, Y的位置都是固定的，因为当我们训练时，需要先加载图像并解析文件名中的x、y值)。\n",
    "def xy_uuid(x, y):\n",
    "    return 'xy_%03d_%03d_%s' % (x * 50 + 50, y * 50 + 50, uuid1())\n",
    "\n",
    "# 创建保存按钮并连接到游戏手柄上，通过点击buttons[1]就可以保存图片了\n",
    "def save_snapshot(change):\n",
    "    if change['new']:\n",
    "        uuid = xy_uuid(x_slider.value, y_slider.value)\n",
    "        image_path = os.path.join(DATASET_DIR, uuid + '.jpg')\n",
    "        with open(image_path, 'wb') as f:\n",
    "            f.write(image_widget.value)\n",
    "        count_widget.value = len(glob.glob(os.path.join(DATASET_DIR, '*.jpg')))\n",
    "\n",
    "controller.buttons[1].observe(save_snapshot, names='value')\n",
    "\n",
    "# 显示可视化窗口\n",
    "display(x_slider, y_slider)\n",
    "display(widgets.VBox([target_widget,count_widget]))"
   ]
  },
  {
   "cell_type": "markdown",
   "metadata": {},
   "source": [
    "当你收集了最够多的数据后，运行下面代码与机器人断开连接。"
   ]
  },
  {
   "cell_type": "code",
   "execution_count": null,
   "metadata": {},
   "outputs": [],
   "source": [
    "# rbt.disconnect()"
   ]
  },
  {
   "cell_type": "code",
   "execution_count": null,
   "metadata": {},
   "outputs": [],
   "source": []
  },
  {
   "cell_type": "code",
   "execution_count": null,
   "metadata": {},
   "outputs": [],
   "source": []
  }
 ],
 "metadata": {
  "kernelspec": {
   "display_name": "Python 3",
   "language": "python",
   "name": "python3"
  },
  "language_info": {
   "codemirror_mode": {
    "name": "ipython",
    "version": 3
   },
   "file_extension": ".py",
   "mimetype": "text/x-python",
   "name": "python",
   "nbconvert_exporter": "python",
   "pygments_lexer": "ipython3",
   "version": "3.6.8"
  }
 },
 "nbformat": 4,
 "nbformat_minor": 4
}
