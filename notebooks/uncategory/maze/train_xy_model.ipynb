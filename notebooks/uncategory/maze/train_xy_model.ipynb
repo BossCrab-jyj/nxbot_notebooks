{
 "cells": [
  {
   "cell_type": "markdown",
   "metadata": {},
   "source": [
    "# 机器人道路跟踪-模型训练\n",
    "在这个示例中，我们将采用ResNet18神经网络结构来训练模型。\n",
    "> “ResNet18”相比“alexnet”的网络结构会更加复杂，但是训练出来的模型表现力会更好。\n",
    "## 1.导入所需模块"
   ]
  },
  {
   "cell_type": "code",
   "execution_count": null,
   "metadata": {},
   "outputs": [],
   "source": [
    "import torch\n",
    "import torch.optim as optim\n",
    "import torch.nn.functional as F\n",
    "import torchvision\n",
    "import torchvision.datasets as datasets\n",
    "import torchvision.models as models\n",
    "import torchvision.transforms as transforms\n",
    "import glob\n",
    "import PIL.Image\n",
    "import os\n",
    "import numpy as np\n",
    "import warnings\n",
    "warnings.filterwarnings(\"ignore\", category=UserWarning)"
   ]
  },
  {
   "cell_type": "markdown",
   "metadata": {},
   "source": [
    "## 2.加载数据\n",
    "1. 解析图片名称；\n",
    "> 在保存数据时，我们给每张图片都添加了关于 x,y的位置信息，因此我们需要把x,y的信息提取出来\n",
    "2. 自己定义一个类，用于管理我们的数据并且给数据做预处理。"
   ]
  },
  {
   "cell_type": "code",
   "execution_count": null,
   "metadata": {},
   "outputs": [],
   "source": [
    " # 解析x的信息\n",
    "def get_x(path):\n",
    "    return (float(int(path[3:6])) - 50.0) / 50.0\n",
    "\n",
    "# 解析y的信息\n",
    "def get_y(path):\n",
    "    return (float(int(path[7:10])) - 50.0) / 50.0\n",
    "\n",
    "# 定义XYDataset类，来管理我们的数据。\n",
    "class XYDataset(torch.utils.data.Dataset):\n",
    "    def __init__(self, directory, random_hflips=False):\n",
    "        self.directory = directory\n",
    "        self.random_hflips = random_hflips\n",
    "        self.image_paths = glob.glob(os.path.join(self.directory, '*.jpg'))\n",
    "        self.color_jitter = transforms.ColorJitter(0.3, 0.3, 0.3, 0.3)\n",
    "        \n",
    "    # 计算图片数量\n",
    "    def __len__(self):\n",
    "        return len(self.image_paths)\n",
    "    \n",
    "    # 读取图片\n",
    "    def __getitem__(self, idx):\n",
    "        image_path = self.image_paths[idx]\n",
    "        image = PIL.Image.open(image_path)\n",
    "        x = float(get_x(os.path.basename(image_path)))\n",
    "        y = float(get_y(os.path.basename(image_path)))\n",
    "        \n",
    "        # 随机翻转图片\n",
    "        if float(np.random.rand(1)) > 0.5:\n",
    "            image = transforms.functional.hflip(image)\n",
    "            x = -x\n",
    "        # 改变图片对比度，亮度，增加图片数量\n",
    "        image = self.color_jitter(image)\n",
    "        # resnet18输入的图片尺寸为224×224，因此需要把图片变换成这个尺寸\n",
    "        image = transforms.functional.resize(image, (224, 224))\n",
    "        image = transforms.functional.to_tensor(image)\n",
    "        image = image.numpy()[::-1].copy()\n",
    "        image = torch.from_numpy(image)\n",
    "        # 预处理图片\n",
    "        image = transforms.functional.normalize(image, [0.485, 0.456, 0.406], [0.229, 0.224, 0.225])\n",
    "        return image, torch.tensor([x, y]).float()\n",
    "    \n",
    "dataset = XYDataset('dataset_xy', random_hflips=False)"
   ]
  },
  {
   "cell_type": "markdown",
   "metadata": {},
   "source": [
    "## 3.将数据集分割为训练集和测试集\n",
    "\n",
    "我们把数据集的90%进行训练，10%的数据进行测试。测试集将用于验证我们训练的模型的准确性。"
   ]
  },
  {
   "cell_type": "code",
   "execution_count": null,
   "metadata": {},
   "outputs": [],
   "source": [
    "test_percent = 0.2\n",
    "num_test = int(test_percent * len(dataset))\n",
    "train_dataset, test_dataset = torch.utils.data.random_split(dataset, [len(dataset) - num_test, num_test])"
   ]
  },
  {
   "cell_type": "markdown",
   "metadata": {},
   "source": [
    "## 4.创建数据加载器\n",
    "\n",
    "我们使用“DataLoader”模块进行批量加载数据到神经网络。我们打乱所有的图片顺序，每次随机的从数据中提取64张图片作为一批输入神经网络，批量大小取决于GPU的性能。“num_workers=4”表示我们加载数据时使用的核心数量。"
   ]
  },
  {
   "cell_type": "code",
   "execution_count": null,
   "metadata": {},
   "outputs": [],
   "source": [
    "train_loader = torch.utils.data.DataLoader(\n",
    "    train_dataset,\n",
    "    batch_size=64,\n",
    "    shuffle=True,\n",
    "    num_workers=4\n",
    ")\n",
    "\n",
    "test_loader = torch.utils.data.DataLoader(\n",
    "    test_dataset,\n",
    "    batch_size=64,\n",
    "    shuffle=True,\n",
    "    num_workers=4\n",
    ")"
   ]
  },
  {
   "cell_type": "markdown",
   "metadata": {},
   "source": [
    "## 5.定义神经网络模型\n",
    "\n",
    "和“避障”实验一样，我们也会用到迁移学习，提高训练效率和模型准确率，我们将加载“resnet18”网络结构和预训练模型。"
   ]
  },
  {
   "cell_type": "code",
   "execution_count": null,
   "metadata": {},
   "outputs": [],
   "source": [
    "model = models.resnet18(pretrained=True)"
   ]
  },
  {
   "cell_type": "markdown",
   "metadata": {},
   "source": [
    "## 6.改变网络输出神经元\n",
    "这里和“alexnet”有点不一样，“resnet”的最后一层输入为512个特征，因为我们只要2个坐标的回归值，所以需要把输出数量改为2。\n",
    "最后，我们将模型转移到GPU上执行"
   ]
  },
  {
   "cell_type": "code",
   "execution_count": null,
   "metadata": {},
   "outputs": [],
   "source": [
    "model.fc = torch.nn.Linear(512, 2)\n",
    "device = torch.device('cuda')\n",
    "model = model.to(device)"
   ]
  },
  {
   "cell_type": "markdown",
   "metadata": {},
   "source": [
    "## 7.回归模型训练:\n",
    "\n",
    "我们将训练50个epoch，每训练完一个epoch会分别打印出loss在训练数据集上和在测试数据集上的结果，最终我们会保存在测试集上loss最小的模型，因为在测试集上的loss更能反应出在真实场景下模型的表现力的强弱。训练完成后可以在左边目录中看到'best_steering_model_xy.pth'模型文件。"
   ]
  },
  {
   "cell_type": "code",
   "execution_count": null,
   "metadata": {},
   "outputs": [],
   "source": [
    "NUM_EPOCHS = 50\n",
    "BEST_MODEL_PATH = 'studens_models/best_steering_model_xy.pth'\n",
    "best_loss = 1e9\n",
    "\n",
    "# adam自适应优化器\n",
    "optimizer = optim.Adam(model.parameters())\n",
    "\n",
    "for epoch in range(NUM_EPOCHS):\n",
    "    \n",
    "    # 模型训练\n",
    "    model.train()\n",
    "    train_loss = 0.0\n",
    "    for images, labels in iter(train_loader):\n",
    "        images = images.to(device)\n",
    "        labels = labels.to(device)\n",
    "        optimizer.zero_grad()\n",
    "        outputs = model(images)\n",
    "        loss = F.mse_loss(outputs, labels)\n",
    "        train_loss += loss\n",
    "        loss.backward()\n",
    "        optimizer.step()\n",
    "    train_loss /= len(train_loader)\n",
    "    \n",
    "    # 模型评估\n",
    "    model.eval()\n",
    "    test_loss = 0.0\n",
    "    for images, labels in iter(test_loader):\n",
    "        images = images.to(device)\n",
    "        labels = labels.to(device)\n",
    "        outputs = model(images)\n",
    "        loss = F.mse_loss(outputs, labels)\n",
    "        test_loss += loss\n",
    "    test_loss /= len(test_loader)\n",
    "    \n",
    "    # 打印训练和评估时loss的结果\n",
    "    print('%f, %f' % (train_loss, test_loss))\n",
    "    \n",
    "    # 保存测试时loss最低的模型\n",
    "    if test_loss < best_loss:\n",
    "        torch.save(model, BEST_MODEL_PATH)\n",
    "        best_loss = test_loss\n",
    "print('训练完成！')"
   ]
  },
  {
   "cell_type": "markdown",
   "metadata": {},
   "source": [
    "当我们训练完成后，您可以使用这个模型在“livedemo”中进行实验了。\n",
    "你也可以在电脑上进行训练，完成之后把模型上传到这个目录下面。"
   ]
  }
 ],
 "metadata": {
  "kernelspec": {
   "display_name": "Python 3",
   "language": "python",
   "name": "python3"
  },
  "language_info": {
   "codemirror_mode": {
    "name": "ipython",
    "version": 3
   },
   "file_extension": ".py",
   "mimetype": "text/x-python",
   "name": "python",
   "nbconvert_exporter": "python",
   "pygments_lexer": "ipython3",
   "version": "3.6.8"
  }
 },
 "nbformat": 4,
 "nbformat_minor": 4
}
