{
 "cells": [
  {
   "cell_type": "markdown",
   "metadata": {},
   "source": [
    "# 人脸检测"
   ]
  },
  {
   "cell_type": "markdown",
   "metadata": {},
   "source": [
    "## 1.导入所需模块"
   ]
  },
  {
   "cell_type": "code",
   "execution_count": null,
   "metadata": {},
   "outputs": [],
   "source": [
    "from nxbot import Robot,ObjectDetector,bgr8_to_jpeg,event,pid\n",
    "from IPython.display import display\n",
    "import ipywidgets.widgets as widgets\n",
    "import cv2\n",
    "import threading\n",
    "import time"
   ]
  },
  {
   "cell_type": "markdown",
   "metadata": {},
   "source": [
    "## 2.加载opencv人脸识别模型"
   ]
  },
  {
   "cell_type": "code",
   "execution_count": null,
   "metadata": {},
   "outputs": [],
   "source": [
    "# 加载opencv人脸检测所需文件\n",
    "face_cascade = cv2.CascadeClassifier('haarcascade_frontalface_default.xml')\n",
    "# 加载opencv眼睛检测所需文件\n",
    "eye_cascade = cv2.CascadeClassifier('haarcascade_eye.xml')"
   ]
  },
  {
   "cell_type": "markdown",
   "metadata": {},
   "source": [
    "## 3.小车桌面控制按钮与摄像头控制滑块"
   ]
  },
  {
   "cell_type": "code",
   "execution_count": null,
   "metadata": {},
   "outputs": [],
   "source": [
    "import control\n",
    "controls_box = control.controls_box\n",
    "camera_slider = control.camera_slider"
   ]
  },
  {
   "cell_type": "markdown",
   "metadata": {},
   "source": [
    "## 4.初始化参数"
   ]
  },
  {
   "cell_type": "code",
   "execution_count": null,
   "metadata": {},
   "outputs": [],
   "source": [
    "# 初始化人脸坐标与尺寸\n",
    "global face_x, face_y, face_w, face_h\n",
    "face_x = face_y = face_w = face_h = 0\n",
    "\n",
    "# 设置PID参数\n",
    "xservo_pid = pid.PositionalPID(2, 0.1, 1)\n",
    "yservo_pid = pid.PositionalPID(2, 0.1, 1)\n",
    "\n",
    "# 创建显示部件\n",
    "image_widget = widgets.Image(format='jpeg', width=300, height=300)\n",
    "speed_widget = widgets.FloatSlider(value=0.0, min=0.0, step=0.01, max=0.5, description='运行速度')\n",
    "turn_gain_widget = widgets.FloatSlider(value=2.0, min=0.0, step=0.01, max=5.0, description='转向增益')\n",
    "\n",
    "# 设置任务类型\n",
    "task1 ='camera_following'\n",
    "task2 ='robot_following'\n",
    "task = task2"
   ]
  },
  {
   "cell_type": "markdown",
   "metadata": {},
   "source": [
    "## 5.开始进行人脸识别并执行相应的任务"
   ]
  },
  {
   "cell_type": "code",
   "execution_count": null,
   "metadata": {},
   "outputs": [],
   "source": [
    "def _prediction():\n",
    "    global detect_face\n",
    "    detect_face = True\n",
    "    while detect_face:    \n",
    "        time.sleep(0.001)\n",
    "        img = rbt.camera.read()\n",
    "        if img is not None:\n",
    "            newImage = cv2.resize(img, (300, 300))\n",
    "            # 将图片变为灰度图\n",
    "            gray_img = cv2.cvtColor(newImage,cv2.COLOR_BGR2GRAY)\n",
    "            # 图片输入人脸检测模型\n",
    "            faces = face_cascade.detectMultiScale(gray_img, scaleFactor = 1.1,minNeighbors = 3, minSize = (10,10),flags = cv2.CASCADE_SCALE_IMAGE)\n",
    "            # 如果检测到人脸\n",
    "            if len(faces)>0:\n",
    "                # 人脸坐标\n",
    "                (face_x, face_y, face_w, face_h) = faces[0]\n",
    "                # 将人脸在图片上框出来\n",
    "                cv2.rectangle(img,(face_x+10,face_y),(face_x+face_w-10,face_y+face_h+20),(0,255,0),2)\n",
    "                # 人脸中心点坐标\n",
    "                face_center = [face_x+face_w/2.0, face_y+face_h/2.0]\n",
    "                # 如果任务为摄像头跟踪\n",
    "                if task=='camera_following':\n",
    "                    #Proportion-Integration-Differentiation\n",
    "                    xservo_pid.SystemOutput = face_center[0]\n",
    "                    xservo_pid.SetStepSignal(150)\n",
    "                    xservo_pid.SetInertiaTime(0.01, 0.06)\n",
    "                    target_valuex = int(xservo_pid.SystemOutput)\n",
    "                    # 输入Y轴方向参数PID控制输入\n",
    "                    yservo_pid.SystemOutput = face_center[1]\n",
    "                    yservo_pid.SetStepSignal(150)\n",
    "                    yservo_pid.SetInertiaTime(0.01, 0.06)\n",
    "                    target_valuey = int(yservo_pid.SystemOutput)\n",
    "                         # 将云台转动至PID调校位置\n",
    "                    rbt.base.set_ptz(target_valuey/5,-target_valuex/5)\n",
    "\n",
    "                # 如果任务为机器人跟踪\n",
    "                elif task=='robot_following':\n",
    "                    steering = (150 - face_center[0])/150/2*turn_gain_widget.value\n",
    "                    xservo_pid.SystemOutput = steering\n",
    "                    xservo_pid.SetStepSignal(150)\n",
    "                    xservo_pid.SetInertiaTime(0.01, 0.006)\n",
    "                    target_steering = int(xservo_pid.SystemOutput)\n",
    "                    rbt.base.move(speed_widget.value, 0, target_steering)\n",
    "\n",
    "            else:\n",
    "                rbt.base.move(0, 0, 0)\n",
    "                \n",
    "            image_widget.value = bgr8_to_jpeg(img)\n",
    "            "
   ]
  },
  {
   "cell_type": "markdown",
   "metadata": {},
   "source": [
    "## 6.连接小车并进行人脸检测"
   ]
  },
  {
   "cell_type": "code",
   "execution_count": null,
   "metadata": {},
   "outputs": [],
   "source": [
    "rbt = control.rbt\n",
    "rbt.connect()\n",
    "rbt.camera.start()\n",
    "rbt.base.set_ptz(0)\n",
    "process1 = threading.Thread(target=_prediction,)\n",
    "process1.start()\n",
    "\n",
    "display(widgets.HBox([image_widget, widgets.VBox([speed_widget,turn_gain_widget]), controls_box]))\n",
    "display(camera_slider)"
   ]
  },
  {
   "cell_type": "markdown",
   "metadata": {},
   "source": [
    "## 7.断开与小车连接"
   ]
  },
  {
   "cell_type": "code",
   "execution_count": null,
   "metadata": {},
   "outputs": [],
   "source": [
    "# detect_face=False\n",
    "# control.unlink_control()\n",
    "# rbt.disconnect()"
   ]
  },
  {
   "cell_type": "code",
   "execution_count": null,
   "metadata": {},
   "outputs": [],
   "source": []
  }
 ],
 "metadata": {
  "kernelspec": {
   "display_name": "Python 3",
   "language": "python",
   "name": "python3"
  },
  "language_info": {
   "codemirror_mode": {
    "name": "ipython",
    "version": 3
   },
   "file_extension": ".py",
   "mimetype": "text/x-python",
   "name": "python",
   "nbconvert_exporter": "python",
   "pygments_lexer": "ipython3",
   "version": "3.6.8"
  }
 },
 "nbformat": 4,
 "nbformat_minor": 4
}
