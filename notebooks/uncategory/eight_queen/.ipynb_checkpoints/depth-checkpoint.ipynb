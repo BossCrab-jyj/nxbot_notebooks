{
 "cells": [
  {
   "cell_type": "markdown",
   "metadata": {},
   "source": [
    "# 八皇后问题-深度优先算法"
   ]
  },
  {
   "cell_type": "markdown",
   "metadata": {
    "jupyter": {
     "outputs_hidden": true
    }
   },
   "source": [
    "## 定义冲突判断函数"
   ]
  },
  {
   "cell_type": "code",
   "execution_count": null,
   "metadata": {},
   "outputs": [],
   "source": [
    "def conflict(location):\n",
    "    \n",
    "    for i in range(8):\n",
    "        for j in range(i+1,8):\n",
    "            # 判断是否在同一行，同一列和在对角线上\n",
    "            if  (location[i] == location[j]) or (i==j) or abs(location[i]-location[j])==j-i :\n",
    "                return True\n",
    "            else:\n",
    "                pass\n",
    "    return False"
   ]
  },
  {
   "cell_type": "markdown",
   "metadata": {},
   "source": [
    "## 找出所有皇后位置状态进行判断"
   ]
  },
  {
   "cell_type": "code",
   "execution_count": null,
   "metadata": {},
   "outputs": [],
   "source": [
    "# 初始化成功次数与失败次数\n",
    "num_success = 0\n",
    "num_failed = 0\n",
    "\n",
    "import time\n",
    "start = time.time()\n",
    "# 一共会判断 8^8次幂个位置状态。\n",
    "for i1 in range(8):\n",
    "    for i2 in range(8):\n",
    "        for i3 in range(8):\n",
    "            for i4 in range(8):\n",
    "                for i5 in range(8):\n",
    "                    for i6 in range(8):\n",
    "                        for i7 in range(8):\n",
    "                            for i8 in range(8):\n",
    "                                \n",
    "                                # 如果有冲突就跳过，进行下次循环\n",
    "                                location = list((i1,i2,i3,i4,i5,i6,i7,i8))\n",
    "                                if conflict(location):\n",
    "                                    num_failed+=1\n",
    "                                    pass\n",
    "                                # 否则就打印没有冲突的解\n",
    "                                else:\n",
    "                                    num_success +=1;\n",
    "                                    print('成功生成次数：{}，位置为：{}'.format(num_success,location))\n",
    "print('生成失败次数：',num_failed)\n",
    "print('所有状态：',num_success+num_failed)\n",
    "print('时间:',time.time()-start)"
   ]
  },
  {
   "cell_type": "markdown",
   "metadata": {},
   "source": [
    "## 通过下面代码查看皇后位置"
   ]
  },
  {
   "cell_type": "code",
   "execution_count": null,
   "metadata": {},
   "outputs": [],
   "source": [
    "import queen\n",
    "from ipywidgets import Button, GridBox, Layout, ButtonStyle\n",
    "\n",
    "# 当前皇后位置信息\n",
    "status = [0, 6, 4, 7, 1, 3, 5, 2]\n",
    "\n",
    "# 通过plot可以画出当前棋盘\n",
    "GridBox(children=list(queen.plot(status).values()),\n",
    "        layout=Layout(\n",
    "            width='80%',\n",
    "            grid_template_columns='40px 40px 40px 40px 40px 40px 40px 40px',\n",
    "            grid_template_rows='40px 40px 40px 40px 40px 40px 40px 40px',\n",
    "            grid_gap='1px')\n",
    "               )"
   ]
  },
  {
   "cell_type": "code",
   "execution_count": null,
   "metadata": {},
   "outputs": [],
   "source": []
  }
 ],
 "metadata": {
  "kernelspec": {
   "display_name": "Python 3",
   "language": "python",
   "name": "python3"
  },
  "language_info": {
   "codemirror_mode": {
    "name": "ipython",
    "version": 3
   },
   "file_extension": ".py",
   "mimetype": "text/x-python",
   "name": "python",
   "nbconvert_exporter": "python",
   "pygments_lexer": "ipython3",
   "version": "3.6.9"
  }
 },
 "nbformat": 4,
 "nbformat_minor": 4
}
