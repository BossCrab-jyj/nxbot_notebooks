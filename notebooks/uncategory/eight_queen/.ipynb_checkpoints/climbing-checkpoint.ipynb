{
 "cells": [
  {
   "cell_type": "markdown",
   "metadata": {},
   "source": [
    "# 八皇后问题——爬山算法\n",
    "\n",
    "![title](other/01.jpg)\n",
    "\n",
    "* 八皇后问题，一个古老而著名的问题，是回溯算法的典型案例。该问题由国际西洋棋棋手马克斯·贝瑟尔于 1848 年提出：在 8×8 格的国际象棋上摆放八个皇后，使其不能互相攻击，即任意两个皇后都不能处于同一行、同一列或同一斜线上，问有多少种摆法。高斯认为有 76 种方案。1854 年在柏林的象棋杂志上不同的作者发表了 40 种不同的解，后来有人用图论的方法解出 92 种结果。\n",
    "\n",
    "下面我们将学习如何用爬山算法解决八皇后问题"
   ]
  },
  {
   "cell_type": "markdown",
   "metadata": {},
   "source": [
    "## 爬山算法：\n",
    "\n",
    "![title](other/hill_climbing.png)\n",
    "\n",
    "1. 随机选择一个登山的起点；\n",
    "2. 每次拿相邻点与当前点进行比对,取两者中较优者,作为爬坡的下一步；\n",
    "3. 重复第2步，直至该点的邻近点中不再有比其大的点；\n",
    "4. 选择该点作为本次爬山的顶点,即为该算法获得的最优解。"
   ]
  },
  {
   "cell_type": "code",
   "execution_count": null,
   "metadata": {},
   "outputs": [],
   "source": [
    "import random\n",
    "from time import sleep\n",
    "import matplotlib.pyplot as plt\n",
    "from ipywidgets import Button, GridBox, Layout, ButtonStyle\n",
    "%matplotlib inline"
   ]
  },
  {
   "cell_type": "markdown",
   "metadata": {},
   "source": [
    "### 1.随机选择一组皇后位置并且保证每一行都只有一个皇后\n",
    "\n",
    "![title](other/01.gif)\n",
    "\n",
    " 给空列表添加0-7的元素，并且保证列表中不会有重复的元素，说明每一行就不会有重复的皇后了。 \n",
    " 这里的会返回类似 [5,6,2,1,3,7,4,0] 的随机数组，表示 [(0,5),(1,6),(2,2),(3,1),(4,3),(5,7),(6,4),(7,0)] 八个皇后位置信息。"
   ]
  },
  {
   "cell_type": "code",
   "execution_count": null,
   "metadata": {},
   "outputs": [],
   "source": [
    "def initiate(status):\n",
    "    while len(status)<8:\n",
    "        r=random.randint(0,7)\n",
    "        if not (r in status):\n",
    "            status.append(r)\n",
    "    return status"
   ]
  },
  {
   "cell_type": "markdown",
   "metadata": {},
   "source": [
    "### 2.定义择优规则\n",
    "定义冲突函数，主要检测皇后位置在同一列和对角线上的情况,最终返回冲突皇后的数量和冲突皇后的位置信息。"
   ]
  },
  {
   "cell_type": "code",
   "execution_count": null,
   "metadata": {},
   "outputs": [],
   "source": [
    "def conflict(status):\n",
    "    num = 0\n",
    "    conflict_chess = []\n",
    "    # 计算所有皇后的冲突值\n",
    "    for i in range(8):\n",
    "        for j in range(i+1,8):\n",
    "            \n",
    "            # 1.记录同一列的情况，如status = [0,1,1,2,3,4,5,6,7]，此时status[1] == status[2]，说明当前两个皇后位置在(1,1)和(2,1),就表示这两个皇后的位置在同一列。\n",
    "            if status[i]==status[j]:\n",
    "                num += 1\n",
    "                \n",
    "                #记录冲突皇后的位置信息, [i,status[i]]或者[j,status[j]]代表一个棋子当前的位置\n",
    "                location = [[i,status[i]],[j,status[j]]]\n",
    "                for m in range(len(location)):\n",
    "                    if location[m] not in conflict_chess:\n",
    "                        # 将有冲突的皇后位置放入列表“conflict_chess”\n",
    "                        conflict_chess.append(location[m])\n",
    "                        \n",
    "            # 2.记录皇后位置是否在斜边上。\n",
    "            elif abs(status[i]-status[j])==j-i:\n",
    "                num += 1\n",
    "                \n",
    "                #记录冲突皇后的位置信息\n",
    "                location = [[i,status[i]],[j,status[j]]]\n",
    "                for n in range(len(location)):\n",
    "                    if location[n] not in conflict_chess:\n",
    "                        conflict_chess.append(location[n])\n",
    "                \n",
    "    return num, conflict_chess"
   ]
  },
  {
   "cell_type": "markdown",
   "metadata": {},
   "source": [
    "### 3.计算每个空位置的冲突值\n",
    "\n",
    "![title](other/03.png)\n",
    "\n",
    "通过这个函数我们可以计算除皇后以外每个空位置的冲突值，作为我们皇后进行下一次移动的条件。\n",
    "1. 我们通过“close”字典来存储位置信息和对应位置的冲突值，如：{(0,0):5},表示位置（0，0）的冲突值为5。"
   ]
  },
  {
   "cell_type": "code",
   "execution_count": null,
   "metadata": {},
   "outputs": [],
   "source": [
    "import copy\n",
    "def neighbour(status):\n",
    "    \n",
    "    # 创建空键值对，用来存储位置和冲突数量，如{(0,0):5},表示位置（0，0）的冲突值为5。\n",
    "    close = {}\n",
    "    \n",
    "    # 两个循环生成8*8棋盘。\n",
    "    for i in range(8):\n",
    "        for j in range(8):\n",
    "            \n",
    "            # 当检测到当前位置有皇后时，不记录有皇后的位置\n",
    "            # 如初始状态为 status = [4, 1, 5, 3, 0, 6, 2, 5]，当status[0] == 4时，不运行后面代码，直接进入下一次循环。\n",
    "            if status[i] == j:\n",
    "                continue\n",
    "                \n",
    "            # 将status的位置信息拷贝到新列表new_status中（需要将status拷贝到新的列表中，否则会改变原始的status的状态）\n",
    "            new_status = copy.deepcopy(status)\n",
    "            \n",
    "            # 遍历棋盘上的每一个位置，执行内循环依次从0-7更新列。\n",
    "            new_status[i] = j\n",
    "            '''\n",
    "            初始状态： [4, 1, 5, 3, 0, 6, 2, 5]\n",
    "            \n",
    "            [0, 1, 5, 3, 0, 6, 2, 5]\n",
    "            [1, 1, 5, 3, 0, 6, 2, 5]\n",
    "            [2, 1, 5, 3, 0, 6, 2, 5]\n",
    "            [3, 1, 5, 3, 0, 6, 2, 5]\n",
    "            [5, 1, 5, 3, 0, 6, 2, 5]\n",
    "            [6, 1, 5, 3, 0, 6, 2, 5]\n",
    "            [7, 1, 5, 3, 0, 6, 2, 5]\n",
    "            [4, 0, 5, 3, 0, 6, 2, 5]\n",
    "            \n",
    "            ...（不保留当前状态皇后的位置，因此一共有56组）\n",
    "            \n",
    "            '''\n",
    "            \n",
    "            \n",
    "            # 计算皇后移动到位置(i，j)时，将对应的（i，j）坐标与皇后的冲突数量添加到close字典里面。一共有56组。\n",
    "            close[(i, j)] = conflict(new_status)[0]\n",
    "    return close"
   ]
  },
  {
   "cell_type": "markdown",
   "metadata": {},
   "source": [
    "### 3.爬山算法主函数\n",
    "1. 通过上面函数我们可以观察当前状态下整个棋盘的冲突值信息，我们会观察每一行的冲突值，\n",
    "2. 因此这个函数就会根据当前棋盘的冲突值来替换当前皇后的位置：如果当前行中的空位置中有最小的冲突值，我们就让当前行上的皇后移动到这个空位置上。"
   ]
  },
  {
   "cell_type": "code",
   "execution_count": null,
   "metadata": {},
   "outputs": [],
   "source": [
    "def climbing(status):\n",
    "    # 随机生成的8皇后的8个位置冲突数量\n",
    "    conflict_count=conflict(status)[0]\n",
    "    \n",
    "    # 初始化列表new用来添加当冲突数量与上一次8皇后位置冲突数量相等时的位置信息。\n",
    "    new=[]\n",
    "    \n",
    "    # 空位置和对应的冲突数量\n",
    "    close = neighbour(status)\n",
    "    \n",
    "    # 打印位置与冲突信息\n",
    "    print('位置和对应的冲突数量：')\n",
    "    for locations in queen.queue(close.items(), size=7):\n",
    "        print(locations)\n",
    "    \n",
    "    # 棋盘所有空位置的冲突值与皇后的冲突值进行比较。\n",
    "    # 如果有位置比皇后的冲突值小，将当前冲突值value赋值给conflict_count，在所有空位置做循环，找到数值最低的冲突值。\n",
    "    for key,value in close.items():\n",
    "        if value < conflict_count:\n",
    "            conflict_count=value\n",
    "            \n",
    "    # 如果所有的空位置中有多个相等的最小的冲突值，将最小的这几个冲突值对应得位置添加到列表 new[] 里面。\n",
    "    for key,value in close.items():\n",
    "        if value == conflict_count:\n",
    "            new.append(key)\n",
    "    \n",
    "    #我们已经找到了当前棋盘上冲突值最小的位置信息，因此只需要将每一行的皇后进行平移到冲突值最小的位置上。如果有多个冲突值相等的位置，就随机移动其中的一个位置上。\n",
    "    if len(new)>0:\n",
    "        rnd=random.randint(0,len(new)-1)\n",
    "        i, j = new[rnd][0], new[rnd][1]\n",
    "        status[i]=j\n",
    "    return status, conflict_count"
   ]
  },
  {
   "cell_type": "markdown",
   "metadata": {},
   "source": [
    "### 4.重复运行爬山算法，达到最优\n",
    "设置最大100次循环运行爬山算法，并且计算冲突数量，当数量为0时，则找到8皇后所有的位置。\n",
    "然后通过“GridBox()”函数将棋盘画出来。"
   ]
  },
  {
   "cell_type": "code",
   "execution_count": null,
   "metadata": {},
   "outputs": [],
   "source": [
    "import queen\n",
    "from IPython.display import display\n",
    "\n",
    "#若找不到解，循环的最大次数\n",
    "max=100\n",
    "total=0\n",
    "status=[]\n",
    "status=initiate(status)\n",
    "\n",
    "print(\"八皇后初始位置 {}\".format(status))\n",
    "# 画出八皇后初始位置，需要输入当前的状态 status。\n",
    "def display_box(status):\n",
    "    display(GridBox(children=list(queen.plot(status).values()),\n",
    "            layout=Layout(\n",
    "                width='80%',\n",
    "                grid_template_columns='40px 40px 40px 40px 40px 40px 40px 40px',\n",
    "                grid_template_rows='40px 40px 40px 40px 40px 40px 40px 40px',\n",
    "                grid_gap='1px')\n",
    "                   ))\n",
    "display_box(status)"
   ]
  },
  {
   "cell_type": "markdown",
   "metadata": {},
   "source": [
    "# 5.循环使用爬山算法找出没有冲突的棋盘"
   ]
  },
  {
   "cell_type": "code",
   "execution_count": null,
   "metadata": {},
   "outputs": [],
   "source": [
    "#开始运行爬山算法,直到冲突值为0，或者当达到我们规定的循环次数才退出。\n",
    "while conflict(status)[0]>0:\n",
    "    status, conflict_count=climbing(status)\n",
    "    print('生成过程: {}冲突数量：{}'.format(status, conflict_count))\n",
    "    display_box(status)\n",
    "    total+=1\n",
    "    # 有可能在规定次数中没有找到八皇后的位置。\n",
    "    if total==max:\n",
    "        print(\"爬山算法在{}次生成中没有找到8皇后的位置\".format(max))\n",
    "        \n",
    "# 如果找到，打印出皇后的位置。\n",
    "if total < max:\n",
    "    #可行解的可视化\n",
    "    print(\"在循环{}次后找到八皇后位置{}\".format(total, status))"
   ]
  },
  {
   "cell_type": "code",
   "execution_count": null,
   "metadata": {},
   "outputs": [],
   "source": []
  },
  {
   "cell_type": "code",
   "execution_count": null,
   "metadata": {},
   "outputs": [],
   "source": []
  }
 ],
 "metadata": {
  "kernelspec": {
   "display_name": "Python 3",
   "language": "python",
   "name": "python3"
  },
  "language_info": {
   "codemirror_mode": {
    "name": "ipython",
    "version": 3
   },
   "file_extension": ".py",
   "mimetype": "text/x-python",
   "name": "python",
   "nbconvert_exporter": "python",
   "pygments_lexer": "ipython3",
   "version": "3.6.9"
  }
 },
 "nbformat": 4,
 "nbformat_minor": 4
}
