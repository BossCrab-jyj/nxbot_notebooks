{
 "cells": [
  {
   "cell_type": "markdown",
   "metadata": {},
   "source": [
    "# 八皇后问题——爬山算法\n",
    "![title](other/01.jpg)"
   ]
  },
  {
   "cell_type": "markdown",
   "metadata": {},
   "source": [
    "## 爬山算法：\n",
    "\n",
    "![title](other/hill_climbing.png)\n",
    "\n",
    "1. 随机选择一个登山的起点；\n",
    "2. 每次拿相邻点与当前点进行比对,取两者中较优者,作为爬坡的下一步；\n",
    "3. 重复第2步，直至该点的邻近点中不再有比其大的点；\n",
    "4. 选择该点作为本次爬山的顶点,即为该算法获得的最优解。"
   ]
  },
  {
   "cell_type": "code",
   "execution_count": null,
   "metadata": {},
   "outputs": [],
   "source": [
    "import queen\n",
    "from ipywidgets import Button, GridBox, Layout, ButtonStyle\n",
    "import random"
   ]
  },
  {
   "cell_type": "markdown",
   "metadata": {},
   "source": [
    "### 1.爬山算法主函数"
   ]
  },
  {
   "cell_type": "code",
   "execution_count": null,
   "metadata": {},
   "outputs": [],
   "source": [
    "def climbing(status):\n",
    "    # 随机生成的8皇后的8个位置冲突数量\n",
    "    conflict_count=queen.conflict(status)[0]\n",
    "    \n",
    "    # 初始化列表new用来添加当冲突数量与上一次8皇后位置冲突数量相等时的位置信息。\n",
    "    new=[]\n",
    "    \n",
    "    # 空位置和对应的冲突数量\n",
    "    close = queen.neighbour(status)\n",
    "    print('位置和对应的冲突数量：',close)\n",
    "    \n",
    "    # 棋盘所有空位置的冲突值与皇后的冲突值进行比较。\n",
    "    # 如果有位置比皇后的冲突值小，将当前冲突值value赋值给conflict_count，在所有空位置做循环，找到数值最低的冲突值。\n",
    "    for key,value in close.items():\n",
    "        if value < conflict_count:\n",
    "            conflict_count=value\n",
    "            \n",
    "    # 如果所有的空位置中有多个相等的最小的冲突值，将最小的这几个冲突值对应得位置添加到列表 new[] 里面。\n",
    "    for key,value in close.items():\n",
    "        if value == conflict_count:\n",
    "            new.append(key)\n",
    "    \n",
    "    #我们已经找到了当前棋盘上冲突值最小的位置信息，因此只需要将每一行的皇后进行平移到冲突值最小的位置上。如果有多个冲突值相等的位置，就随机移动其中的一个位置上。\n",
    "    if len(new)>0:\n",
    "        rnd=random.randint(0,len(new)-1)\n",
    "        i, j = new[rnd][0], new[rnd][1]\n",
    "        status[i]=j\n",
    "    return status, conflict_count"
   ]
  },
  {
   "cell_type": "markdown",
   "metadata": {},
   "source": [
    "### 重复运行爬山算法，达到最优\n",
    "设置最大100次循环运行爬山算法，并且计算冲突数量，当数量为0时，则找到8皇后所有的位置。"
   ]
  },
  {
   "cell_type": "code",
   "execution_count": null,
   "metadata": {},
   "outputs": [],
   "source": [
    "#若找不到解，循环的最大次数\n",
    "max=100\n",
    "total=0\n",
    "status=[]\n",
    "status=queen.initiate(status)\n",
    "\n",
    "print(\"八皇后初始位置 {}\".format(status))\n",
    "# 画出八皇后初始位置，需要输入当前的状态 status。\n",
    "GridBox(children=list(queen.plot(status).values()),\n",
    "        layout=Layout(\n",
    "            width='80%',\n",
    "            grid_template_columns='40px 40px 40px 40px 40px 40px 40px 40px',\n",
    "            grid_template_rows='40px 40px 40px 40px 40px 40px 40px 40px',\n",
    "            grid_gap='1px')\n",
    "               )\n",
    "\n",
    "#开始运行爬山算法,直到冲突值为0，或者当达到我们规定的循环次数才退出。\n",
    "while queen.conflict(status)[0]>0:\n",
    "    \n",
    "    status, conflict_count=climbing(status)\n",
    "    print('生成过程: {}冲突数量：{}'.format(status, conflict_count))\n",
    "    GridBox(children=list(queen.plot(status).values()),\n",
    "            layout=Layout(\n",
    "                width='80%',\n",
    "                grid_template_columns='40px 40px 40px 40px 40px 40px 40px 40px',\n",
    "                grid_template_rows='40px 40px 40px 40px 40px 40px 40px 40px',\n",
    "                grid_gap='1px')\n",
    "       )\n",
    "    total+=1\n",
    "    # 有可能在规定次数中没有找到八皇后的位置。\n",
    "    if total==max:\n",
    "        print(\"爬山算法在{}次生成中没有找到8皇后的位置\".format(max))\n",
    "        \n",
    "# 如果找到，打印出皇后的位置。\n",
    "if total < max:\n",
    "    #可行解的可视化\n",
    "    print(\"在循环{}次后找到八皇后位置{}\".format(total, status))"
   ]
  },
  {
   "cell_type": "code",
   "execution_count": null,
   "metadata": {},
   "outputs": [],
   "source": []
  },
  {
   "cell_type": "code",
   "execution_count": null,
   "metadata": {},
   "outputs": [],
   "source": []
  }
 ],
 "metadata": {
  "kernelspec": {
   "display_name": "Python 3",
   "language": "python",
   "name": "python3"
  },
  "language_info": {
   "codemirror_mode": {
    "name": "ipython",
    "version": 3
   },
   "file_extension": ".py",
   "mimetype": "text/x-python",
   "name": "python",
   "nbconvert_exporter": "python",
   "pygments_lexer": "ipython3",
   "version": "3.6.8"
  }
 },
 "nbformat": 4,
 "nbformat_minor": 4
}
