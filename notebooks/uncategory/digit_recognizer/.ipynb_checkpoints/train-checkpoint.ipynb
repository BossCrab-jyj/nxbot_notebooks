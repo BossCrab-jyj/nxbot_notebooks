{
 "cells": [
  {
   "cell_type": "markdown",
   "metadata": {},
   "source": [
    "# 数字识别-模型训练\n",
    "## 1.导入所需模块"
   ]
  },
  {
   "cell_type": "code",
   "execution_count": null,
   "metadata": {},
   "outputs": [],
   "source": [
    "import numpy as np\n",
    "import cv2\n",
    "import torch\n",
    "import torchvision\n",
    "import torch.nn as nn\n",
    "import torch.optim as optim\n",
    "import torchvision.transforms as transforms\n",
    "import torch.nn.functional as F\n",
    "import time\n",
    "import matplotlib.pyplot as plt\n",
    "from torch.optim.lr_scheduler import StepLR\n",
    "import net \n",
    "import warnings\n",
    "warnings.filterwarnings(\"ignore\", category=UserWarning)"
   ]
  },
  {
   "cell_type": "markdown",
   "metadata": {},
   "source": [
    "## 2.数据预处理\n",
    "加载手写数字数据集并进行图片预处理"
   ]
  },
  {
   "cell_type": "code",
   "execution_count": null,
   "metadata": {},
   "outputs": [],
   "source": [
    "# 数据预处理\n",
    "\n",
    "transform=transforms.Compose([\n",
    "                           transforms.ToTensor(),\n",
    "                           transforms.Normalize((0.1307,), (0.3081,))])\n",
    "\n",
    "# 加载数据\n",
    "trainset = torchvision.datasets.MNIST(root='../../../models/local/datasets/mnist',train=True,download=True,transform=transform)\n",
    "# 将数据加载器中\n",
    "trainloader = torch.utils.data.DataLoader(trainset, batch_size=256,shuffle=True,num_workers=0)# windows下num_workers设置为0，不然有bug\n",
    "\n",
    "testset = torchvision.datasets.MNIST(root='../../../models/local/datasets/mnist',train=False,download=True,transform=transform)\n",
    "testloader = torch.utils.data.DataLoader(testset,batch_size=256,shuffle=False,num_workers=0)\n",
    "\n",
    "# 将图像显示出来\n",
    "plt.imshow(trainset.train_data[0].numpy(), cmap='gray')\n",
    "plt.title('%i' % trainset.train_labels[0])\n",
    "plt.show()"
   ]
  },
  {
   "cell_type": "markdown",
   "metadata": {},
   "source": [
    "## 3.参数设置"
   ]
  },
  {
   "cell_type": "code",
   "execution_count": null,
   "metadata": {},
   "outputs": [],
   "source": [
    "#net\n",
    "net = net.Net()\n",
    "\n",
    "#device : GPU or CPU\n",
    "device = torch.device(\"cuda:0\" if torch.cuda.is_available() else \"cpu\")\n",
    "\n",
    "net.to(device)\n",
    "\n",
    "num_epochs = 50 #训练次数\n",
    "\n",
    "#损失函数:这里用交叉熵\n",
    "criterion = nn.CrossEntropyLoss()\n",
    "\n",
    "#优化器 这里用SGD\n",
    "optimizer = optim.SGD(net.parameters(),lr=1e-3, momentum=0.9)\n",
    "\n",
    "# 滑动平均，作用：随着训练次数的增加而减小学习率\n",
    "scheduler = StepLR(optimizer, step_size=10, gamma=0.7)"
   ]
  },
  {
   "cell_type": "markdown",
   "metadata": {},
   "source": [
    "## 4.定义模型训练函数"
   ]
  },
  {
   "cell_type": "code",
   "execution_count": null,
   "metadata": {},
   "outputs": [],
   "source": [
    "def train():\n",
    "    \n",
    "    print(\"开始训练\")\n",
    "    correct_preds = 0\n",
    "    # 在训练次数中做循环\n",
    "    for epoch in range(num_epochs):\n",
    "        # 开始训练\n",
    "        net.train()\n",
    "        # 从数据加载器中依次读取数据\n",
    "        for i, data in enumerate(trainloader):\n",
    "            # 数据包括经过处理后的图像数据，和通过onehot编码处理后的标签。\n",
    "            inputs, labels = data\n",
    "            # 是否使用显卡进行加速训练。\n",
    "            inputs, labels = inputs.to(device), labels.to(device)\n",
    "            # 梯度归零\n",
    "            optimizer.zero_grad()\n",
    "            # 将数据输入网络\n",
    "            outputs = net(inputs)\n",
    "            # 计算预测结果与真实标签的损失值\n",
    "            loss = criterion(outputs, labels)\n",
    "            # 开始更新模型参数\n",
    "            loss.backward()\n",
    "            optimizer.step()\n",
    "        scheduler.step()\n",
    "\n",
    "        print('epoch：%d，训练数据集：loss:%.4f'%(epoch+1, loss.item()))\n",
    "        \n",
    "        # 开始评估模型\n",
    "        net.eval()\n",
    "        correct = 0\n",
    "        total = 0\n",
    "        # 依次加载测试数据集\n",
    "        for data in testloader:\n",
    "            images, labels = data\n",
    "            images, labels = images.to(device), labels.to(device)\n",
    "            with torch.no_grad():\n",
    "                out = net(images)\n",
    "                valid_loss = criterion(out, labels)\n",
    "                prob, predicted = torch.max(out.data, 1)\n",
    "                total += labels.size(0)\n",
    "                # 计算预测准确的图片数量\n",
    "                correct += (predicted == labels).sum().item()\n",
    "        # 计算准确率\n",
    "        correct_pre = 100 * correct / total\n",
    "        print('测试数据集：    loss:%.4f'%(valid_loss.item()))\n",
    "        print('测试数据集准确率为：{}%'.format(correct_pre))  # 输出识别准确率\n",
    "        # 保存训练模型\n",
    "        if correct_pre > correct_preds:\n",
    "            torch.save(net, 'studens_models/MNIST_student.pth')\n",
    "            correct_preds = correct_pre\n",
    "            print(\"模型已保存\")"
   ]
  },
  {
   "cell_type": "markdown",
   "metadata": {},
   "source": [
    "## 5.开始训练\n",
    "由于该数据集图片数量较多，在dachbot上进行训练花费时间较长。\n",
    "预计3分钟训练1个epoch。"
   ]
  },
  {
   "cell_type": "code",
   "execution_count": null,
   "metadata": {},
   "outputs": [],
   "source": [
    "train()"
   ]
  },
  {
   "cell_type": "code",
   "execution_count": null,
   "metadata": {},
   "outputs": [],
   "source": []
  }
 ],
 "metadata": {
  "kernelspec": {
   "display_name": "Python 3",
   "language": "python",
   "name": "python3"
  },
  "language_info": {
   "codemirror_mode": {
    "name": "ipython",
    "version": 3
   },
   "file_extension": ".py",
   "mimetype": "text/x-python",
   "name": "python",
   "nbconvert_exporter": "python",
   "pygments_lexer": "ipython3",
   "version": "3.6.8"
  }
 },
 "nbformat": 4,
 "nbformat_minor": 4
}
