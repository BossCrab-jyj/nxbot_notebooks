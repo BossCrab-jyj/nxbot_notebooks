{
 "cells": [
  {
   "cell_type": "markdown",
   "metadata": {},
   "source": [
    "# 数字识别-图片识别\n",
    "\n",
    "## 1.导入所需模块"
   ]
  },
  {
   "cell_type": "code",
   "execution_count": null,
   "metadata": {},
   "outputs": [],
   "source": [
    "from nxbot import Robot,event,bgr8_to_jpeg\n",
    "import torch\n",
    "import torchvision\n",
    "import torch.nn as nn\n",
    "import torch.optim as optim\n",
    "import torchvision.transforms as transforms\n",
    "import torch.nn.functional as F\n",
    "import time\n",
    "import cv2\n",
    "import numpy as np\n",
    "from PIL import Image\n",
    "from IPython.display import display\n",
    "import ipywidgets\n",
    "import traitlets\n",
    "import ipywidgets.widgets as widgets\n",
    "import net\n",
    "import matplotlib.pyplot as plt\n",
    "import threading\n",
    "import queue"
   ]
  },
  {
   "cell_type": "markdown",
   "metadata": {},
   "source": [
    "## 2.实例化模型"
   ]
  },
  {
   "cell_type": "code",
   "execution_count": null,
   "metadata": {},
   "outputs": [],
   "source": [
    "net = net.Net()"
   ]
  },
  {
   "cell_type": "markdown",
   "metadata": {},
   "source": [
    "## 3.加载模型"
   ]
  },
  {
   "cell_type": "code",
   "execution_count": null,
   "metadata": {},
   "outputs": [],
   "source": [
    "# 选择默认的模型或者自己训练的模型\n",
    "model_path = r'../../../models/local/personal_net/digit_classification.pth'\n",
    "# model_path = 'studens_models/MNIST_student.pth'\n",
    "model = torch.load(model_path)\n",
    "if torch.cuda.is_available():\n",
    "    model = model.cuda()"
   ]
  },
  {
   "cell_type": "markdown",
   "metadata": {},
   "source": [
    "## 4.对图片进行滤波处理\n",
    "\n",
    "1. 将图片处理成灰度图\n",
    "2. 通过滤波处理找出图片中物体的轮廓"
   ]
  },
  {
   "cell_type": "code",
   "execution_count": null,
   "metadata": {},
   "outputs": [],
   "source": [
    "# 二值化滤波，返回滤波后的图片和轮廓数量\n",
    "def get_img_contour_thresh(img):\n",
    "    gray = cv2.cvtColor(img, cv2.COLOR_BGR2GRAY)\n",
    "    \n",
    "    # 高斯阈值\n",
    "    blur = cv2.GaussianBlur(gray, (9, 9), 0)\n",
    "    ret, thresh_img = cv2.threshold(blur, 0, 255, cv2.THRESH_BINARY_INV + cv2.THRESH_OTSU)\n",
    "    \n",
    "    # 返回轮廓列表contours（ndarray）；  \n",
    "    '''\n",
    "    第二个参数表示轮廓的检索模式：\n",
    "        cv2.RETR_EXTERNAL表示只检测外轮廓\n",
    "        cv2.RETR_LIST检测的轮廓不建立等级关系\n",
    "        cv2.RETR_CCOMP建立两个等级的轮廓，上面的一层为外边界，里面的一层为内孔的边界信息。如果内孔内还有一个连通物体，这个物体的边界也在顶层。\n",
    "        cv2.RETR_TREE建立一个等级树结构的轮廓。\n",
    "\n",
    "    第三个参数method为轮廓的近似办法\n",
    "        cv2.CHAIN_APPROX_NONE存储所有的轮廓点，相邻的两个点的像素位置差不超过1，即max（abs（x1-x2），abs（y2-y1））==1\n",
    "        cv2.CHAIN_APPROX_SIMPLE压缩水平方向，垂直方向，对角线方向的元素，只保留该方向的终点坐标，例如一个矩形轮廓只需4个点来保存轮廓信息\n",
    "        cv2.CHAIN_APPROX_TC89_L1，CV_CHAIN_APPROX_TC89_KCOS使用teh-Chinl chain 近似算法\n",
    "    '''   \n",
    "    contours, _ = cv2.findContours(thresh_img, cv2.RETR_TREE, cv2.CHAIN_APPROX_SIMPLE)[-2:]\n",
    "    return contours, thresh_img"
   ]
  },
  {
   "cell_type": "markdown",
   "metadata": {},
   "source": [
    "## 5.图片预处理"
   ]
  },
  {
   "cell_type": "code",
   "execution_count": null,
   "metadata": {},
   "outputs": [],
   "source": [
    "# 图片预处理\n",
    "def preprogress(thresh_img):\n",
    "    \n",
    "    newImage = np.array(thresh_img)\n",
    "    newImage = newImage.reshape(28, 28, 1)\n",
    "    transform = transforms.Compose([\n",
    "                transforms.ToTensor(),\n",
    "                transforms.Normalize((0.1307,), (0.3081,))])\n",
    "    newImage = transform(newImage)\n",
    "    newImage = torch.unsqueeze(newImage,0).cuda().float()\n",
    "    return newImage"
   ]
  },
  {
   "cell_type": "markdown",
   "metadata": {},
   "source": [
    "## 6.检测模型是否能正常使用\n",
    "\n",
    "我们通过numpy创建与我们将要预测的图片格式一致的形状为（28，28，1）的数组，这里我们创建的全为1的数组将这个数组经过预处理再将数据放入模型中，如果能运行通过说明模型可以正常使用了。"
   ]
  },
  {
   "cell_type": "code",
   "execution_count": null,
   "metadata": {},
   "outputs": [],
   "source": [
    "try:\n",
    "    img_data = np.ones([28,28,1],np.float32)\n",
    "    model(preprogress(img_data))\n",
    "except:\n",
    "    print('请检查模型是否正确')"
   ]
  },
  {
   "cell_type": "markdown",
   "metadata": {},
   "source": [
    "## 7.创建显示窗口界面"
   ]
  },
  {
   "cell_type": "code",
   "execution_count": null,
   "metadata": {},
   "outputs": [],
   "source": [
    "image_widget = widgets.Image(format='jpeg')\n",
    "thresh_widget = widgets.Image(format='jpeg')\n",
    "result_info = widgets.Textarea(\n",
    "    placeholder='NXROBO',\n",
    "    description='预测结果',\n",
    "    disabled=False\n",
    ")"
   ]
  },
  {
   "cell_type": "markdown",
   "metadata": {},
   "source": [
    "## 8.开始预测"
   ]
  },
  {
   "cell_type": "code",
   "execution_count": null,
   "metadata": {},
   "outputs": [],
   "source": [
    "global detect_flag\n",
    "detect_flag = True\n",
    "global number\n",
    "number=None\n",
    "def detection():\n",
    "    while detect_flag:\n",
    "        \n",
    "        time.sleep(0.03)\n",
    "        img = rbt.camera.read()\n",
    "        if img is not None:\n",
    "            # 找出图像中的轮廓，contours表示轮廓列表，list中每个元素都是图像中的一个轮廓，用numpy中的ndarray表示，thresh_img轮廓图像。\n",
    "            contours, thresh_img = get_img_contour_thresh(img)\n",
    "            thresh_img = cv2.resize(thresh_img, (28, 28))\n",
    "            # 如果有轮廓    \n",
    "            if len(contours) > 0:\n",
    "                # 找出最大轮廓\n",
    "                contour = max(contours, key=cv2.contourArea)\n",
    "                # 轮廓大小\n",
    "                contour_area = cv2.contourArea(contour)\n",
    "\n",
    "                # 设定轮廓阈值\n",
    "                if (1000 < contour_area < 30000):\n",
    "                    # 数据预处理\n",
    "                    newImage = preprogress(thresh_img)\n",
    "                    # 开始预测\n",
    "                    with torch.no_grad():\n",
    "                        out = model(newImage)\n",
    "                        prob, index = torch.max(out, 1)\n",
    "                        if prob > 0.8:\n",
    "                            global number\n",
    "                            number = index.item()\n",
    "                            cv2.putText(img, \"number is: \" + str(number), (10, 20),cv2.FONT_HERSHEY_SIMPLEX, 0.8, (0, 0, 255), 2)\n",
    "\n",
    "\n",
    "            img = cv2.resize(img, (320, 240))\n",
    "            image_widget.value = bgr8_to_jpeg(img)\n",
    "\n",
    "            thresh_img = cv2.resize(thresh_img, (320, 240))\n",
    "            thresh_widget.value = bgr8_to_jpeg(thresh_img)\n",
    "            \n",
    "# 创建线程\n",
    "process1 = threading.Thread(target=detection,)"
   ]
  },
  {
   "cell_type": "markdown",
   "metadata": {},
   "source": [
    "## 9.使用线程说出预测结果"
   ]
  },
  {
   "cell_type": "code",
   "execution_count": null,
   "metadata": {},
   "outputs": [],
   "source": [
    "def interaction():\n",
    "    global detect_flag\n",
    "    while detect_flag:\n",
    "        time.sleep(0.05)\n",
    "        global number\n",
    "        if number is not None:\n",
    "            result_info.value = '预测结果是数字：{}'.format(number)\n",
    "            rbt.speech.play_text('预测结果是数字{}'.format(number), True)\n",
    "            number = None\n",
    "# 创建线程\n",
    "process2 = threading.Thread(target=interaction,)"
   ]
  },
  {
   "cell_type": "markdown",
   "metadata": {},
   "source": [
    "## 10.开始预测"
   ]
  },
  {
   "cell_type": "code",
   "execution_count": null,
   "metadata": {},
   "outputs": [],
   "source": [
    "rbt = Robot()\n",
    "rbt.connect()\n",
    "rbt.camera.start()\n",
    "rbt.base.set_ptz(20)\n",
    "\n",
    "process1.start()\n",
    "process2.start()\n",
    "\n",
    "display(ipywidgets.HBox([image_widget, thresh_widget]))\n",
    "display(result_info)"
   ]
  },
  {
   "cell_type": "markdown",
   "metadata": {},
   "source": [
    "## 11.断开连接"
   ]
  },
  {
   "cell_type": "code",
   "execution_count": null,
   "metadata": {},
   "outputs": [],
   "source": [
    "# detect_flag=False\n",
    "# rbt.disconnect()"
   ]
  },
  {
   "cell_type": "code",
   "execution_count": null,
   "metadata": {},
   "outputs": [],
   "source": []
  }
 ],
 "metadata": {
  "kernelspec": {
   "display_name": "Python 3",
   "language": "python",
   "name": "python3"
  },
  "language_info": {
   "codemirror_mode": {
    "name": "ipython",
    "version": 3
   },
   "file_extension": ".py",
   "mimetype": "text/x-python",
   "name": "python",
   "nbconvert_exporter": "python",
   "pygments_lexer": "ipython3",
   "version": "3.6.8"
  }
 },
 "nbformat": 4,
 "nbformat_minor": 4
}
