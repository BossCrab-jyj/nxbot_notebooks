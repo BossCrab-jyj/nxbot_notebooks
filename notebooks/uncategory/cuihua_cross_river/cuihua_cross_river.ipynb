{
 "cells": [
  {
   "cell_type": "markdown",
   "metadata": {},
   "source": [
    "# 翠花过河\n",
    "\n",
    "![title](other_data/01.jpg)"
   ]
  },
  {
   "cell_type": "markdown",
   "metadata": {},
   "source": [
    "* 乘客有：'狼','羊','菜'\n",
    "* 初始化状态为  岸边：[1,1,1,1]， 对岸：[0,0,0,0]\n",
    "* 规则： 让翠花依次从河边将乘客带到对面，当翠花没有和乘客在一起时会发生冲突，比如状态为[0,1,1,0]时狼会吃掉羊，还有一种情况就是羊吃掉菜，因此翠花需要在保证乘客不会被吃掉的情况下将所有乘客带到对岸。\n"
   ]
  },
  {
   "cell_type": "markdown",
   "metadata": {},
   "source": [
    "## 首先定义移动乘客方法\n",
    "依次从状态中挑选一位乘客，每一次挑选完后，需要恢复原始状态，再取下一位乘客。 如这一次翠花带走了狼，状态为[0,0,1,1]需要恢复为[1,1,1,1]，然后再带走羊[0,1,0,1]。"
   ]
  },
  {
   "cell_type": "code",
   "execution_count": null,
   "metadata": {},
   "outputs": [],
   "source": [
    "# 每次从状态“state”依次减少1添加到字典temp_dict并记录减少的是哪一个位置的1，如{1：[0,0,1,1],2：[0,1,0,1],3：[0,1,1,0]}\n",
    "def pick(state):\n",
    "    temp_dict = {}\n",
    "    for i in range(1,len(state)):\n",
    "        temp = list(state)\n",
    "        if state[i]==1:\n",
    "            temp[i]=0\n",
    "        if temp!=state:\n",
    "            temp_dict[i]=temp\n",
    "    return temp_dict\n"
   ]
  },
  {
   "cell_type": "markdown",
   "metadata": {},
   "source": [
    "## 定义冲突规则\n",
    "* 输入当前状态 \"state\"，判断当前状态是否有乘客会被吃掉的情况，返回是否有冲突（“True”或者“False”）和乘客冲突的索引值 （“index0”和“index1”）。\n",
    "* 通过判断相邻的两个位置的值是否都等于1，如果都等于1说明就冲突了，比如[0,1,1,0]，当前状态的位置1与位置2都等于1了，因此判断为冲突，否则就不冲突。"
   ]
  },
  {
   "cell_type": "code",
   "execution_count": null,
   "metadata": {},
   "outputs": [],
   "source": [
    "def conflicts(state):\n",
    "    pairs = 0\n",
    "    index0 = None\n",
    "    index1 = None\n",
    "    # 依次比较索引0和1，1和2，2和3。\n",
    "    for i,j in zip(range(0,len(state)-1), range(1,len(state))):\n",
    "        if state[i]==1 and state[j]==1:\n",
    "            index0 = i\n",
    "            index1 = j\n",
    "            pairs+=1\n",
    "        if pairs>0:\n",
    "            conflict = True\n",
    "        else:\n",
    "            conflict = False\n",
    "    return conflict, index0, index1"
   ]
  },
  {
   "cell_type": "markdown",
   "metadata": {},
   "source": [
    "## 定义状态交换函数\n",
    "* 输入当前状态\"state\"，返回相对的状态信息，如果当前岸边状态为[0,0,1,1],通过该函数就可以得到对岸状态就为[1,1,0,0]"
   ]
  },
  {
   "cell_type": "code",
   "execution_count": null,
   "metadata": {},
   "outputs": [],
   "source": [
    "def change_side(state):\n",
    "    other_state=copy.copy(state)\n",
    "    for i in range(len(state)):\n",
    "        if state[i] == 0:\n",
    "            other_state[i]=1\n",
    "        elif state[i] == 1:\n",
    "            other_state[i]=0\n",
    "    return other_state"
   ]
  },
  {
   "cell_type": "markdown",
   "metadata": {},
   "source": [
    "## 筛选冲突状态\n",
    "* 如果翠花在岸边，那么岸边无论什么情况都不会有冲突，如果翠花在对岸，那么对岸无论什么情况也都不会有冲突。否则就可能有冲突，如果冲突打印冲突的情况。"
   ]
  },
  {
   "cell_type": "code",
   "execution_count": null,
   "metadata": {},
   "outputs": [],
   "source": [
    "def decide(move_index,state,Flag):\n",
    "    if Flag == 'shore_side':\n",
    "        if state[0] == 1:\n",
    "            conflict = False\n",
    "            \n",
    "        else:\n",
    "            if state==[0,1,1,1]:\n",
    "                conflict = False\n",
    "            else:\n",
    "                conflict, index_0, index_1= conflicts(state)\n",
    "                if conflict==True:\n",
    "                    print('翠花带走“{}”后岸边状态为:{}, 但是{}把{}吃了，失败'.format(classes[move_index], state,classes[index_0], classes[index_1]))\n",
    "    else:\n",
    "        if state[0] == 1:\n",
    "            conflict = False\n",
    "            print('翠花成功带走了“{}”,对岸状态为：{}'.format(classes[move_index],state))\n",
    "        else:\n",
    "            if state==[0,1,1,1]:\n",
    "                conflict = False\n",
    "            else:\n",
    "                conflict, index_0, index_1= conflicts(state)\n",
    "                if conflict==True:\n",
    "                    print('翠花带走“{}”后对岸状态为:{},但是{}把{}吃了，失败'.format(classes[move_index], state,classes[index_0], classes[index_1]))\n",
    "    return conflict"
   ]
  },
  {
   "cell_type": "markdown",
   "metadata": {},
   "source": [
    "## 定义初始状态\n",
    "* 导入所需模块，定义岸边初始状态。"
   ]
  },
  {
   "cell_type": "code",
   "execution_count": null,
   "metadata": {},
   "outputs": [],
   "source": [
    "import copy\n",
    "\n",
    "classes=['翠花','狼','羊','菜']\n",
    "shore_side_list=[[1,1,1,1]]\n",
    "print('岸边初始状态：',shore_side_list)"
   ]
  },
  {
   "cell_type": "markdown",
   "metadata": {},
   "source": [
    "## 更新岸边状态，直到达到目标状态\n",
    "* 直到对岸的状态为[1,1,1,1]结束。"
   ]
  },
  {
   "cell_type": "code",
   "execution_count": null,
   "metadata": {},
   "outputs": [],
   "source": [
    "while True:\n",
    "    for shore_side in shore_side_list:\n",
    "        \n",
    "        # 初始化空列表用来添加岸边状态与对岸状态\n",
    "        shore_side_list = []\n",
    "        other_side_list = []\n",
    "        \n",
    "        # 翠花离开岸边到船上\n",
    "        shore_side[0]=0\n",
    "        # 带走一位幸运乘客\n",
    "        shore_side_dict = pick(shore_side)\n",
    "        \n",
    "        for move_index,shore_side in shore_side_dict.items():\n",
    "            # 判断带走一位乘客后，判断岸边状态是否会冲突。如果没有冲突，就运行以下代码。\n",
    "            if decide(move_index, shore_side, 'shore_side') == False:\n",
    "                print('运送成功时岸边的状态：',shore_side)\n",
    "                # 对岸状态\n",
    "                other_side = change_side(shore_side)\n",
    "                # 翠花离开对岸到船上\n",
    "                other_side[0]=0\n",
    "                \n",
    "                # 如果对岸状态有冲突，就让翠花按照索引将乘客带回岸边（不带回刚被带过来的乘客）\n",
    "                if decide(move_index, other_side, 'other_side') == True:\n",
    "                    index=None\n",
    "                    for i in range(len(other_side)):\n",
    "                        if other_side[i]==1:\n",
    "                            # move_index被运送的乘客的索引，\n",
    "                            if move_index!=i:\n",
    "                                index = i\n",
    "                                \n",
    "                    # 我们将对岸冲突的乘客带回到岸边\n",
    "                    if index!=None:\n",
    "                        print('翠花把“{}”带回了岸边'.format(classes[index]))\n",
    "                        if other_side[index]==1:\n",
    "                            other_side[index]=0\n",
    "                        if shore_side[index]==0:\n",
    "                            shore_side[index]=1\n",
    "                            \n",
    "                        # 只要岸边状态没有冲突了，就跳过当前循环\n",
    "                        if decide(move_index, shore_side, 'shore_side') == False:\n",
    "                            continue\n",
    "                 \n",
    "                # 去掉重复的状态，在将不冲突的状态放入空列表中\n",
    "                if shore_side not in shore_side_list:\n",
    "                    # 让翠花回到岸边\n",
    "                    shore_side[0]=1\n",
    "                    shore_side_list.append(shore_side)\n",
    "                    \n",
    "                # 对岸状态\n",
    "                other_side = change_side(shore_side)\n",
    "                if other_side not in other_side_list:\n",
    "                    other_side_list.append(other_side)\n",
    "                    \n",
    "    print('满足条件时岸边状态集合为：',shore_side_list)\n",
    "    print('满足条件时对岸状态集合为：',other_side_list)\n",
    "    \n",
    "    # 因为上面我们将翠花转移到岸边了，因此当岸边状态为[1,0,0,0]时，说明翠花就已经成功了。\n",
    "    if [1,0,0,0] in shore_side_list:\n",
    "        target_other_side=[1,1,1,1]\n",
    "        print('翠花移到对岸，对岸状态为{}，翠花成功将所有乘客带到对岸！'.format(target_other_side))\n",
    "        break"
   ]
  },
  {
   "cell_type": "code",
   "execution_count": null,
   "metadata": {},
   "outputs": [],
   "source": []
  }
 ],
 "metadata": {
  "kernelspec": {
   "display_name": "Python 3",
   "language": "python",
   "name": "python3"
  },
  "language_info": {
   "codemirror_mode": {
    "name": "ipython",
    "version": 3
   },
   "file_extension": ".py",
   "mimetype": "text/x-python",
   "name": "python",
   "nbconvert_exporter": "python",
   "pygments_lexer": "ipython3",
   "version": "3.6.8"
  }
 },
 "nbformat": 4,
 "nbformat_minor": 4
}
