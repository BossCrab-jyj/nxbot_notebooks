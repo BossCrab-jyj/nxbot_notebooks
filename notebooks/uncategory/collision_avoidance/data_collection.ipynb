{
 "cells": [
  {
   "cell_type": "markdown",
   "metadata": {},
   "source": [
    "# 图形界面收集数据\n",
    "## 机器人 “避障” 简介\n",
    "\n",
    "在这个‘避障’演示中，我们想要让机器人自己在场景中跑起来，让机器人辨别是否遇到障碍或者危险，在这种情况下知道自己往哪个方向走，在什么情况下才向前运动，防止把自己摔坏。\n",
    "\n",
    "我们将尝试用深度学习和摄像头来解决这个问题，您将学习到如何通过神经网络让机器人学会躲避障碍或者避开危险区域!\n",
    "\n",
    "当然，机器人的视野是有限的，例如机器人不能识别放在后面的物体。\n",
    "\n",
    "步骤：\n",
    "1. 首先，我们手动将机器人分别放置在障碍物前面和会掉落的场景前面，并将这些场景标记为“有障碍”。我们把标记了“有障碍”的照片保存下来。\n",
    "2. 然后，我们手动将机器人放置在可以正常行驶的安全场景中，并将这些场景标记为“无障碍”。同样我们把带有“无障碍”标签的照片保存下来。\n",
    "3. 一旦收集了大量被我们标记好的图像后，我们就可以用机器人通过深度学习来进行训练让它能够识别出自己在什么样的场景中。\n",
    "4. 当机器人能够识别出自己处在什么样的场景中，我们就可以通过控制机器人的方向让它自己在场地中跑起来了。"
   ]
  },
  {
   "cell_type": "markdown",
   "metadata": {},
   "source": [
    "## 1.导入机器人所需模块\n",
    " \n",
    "在编写python代码前，需要导入我们要使用的模块，在接下来的过程中我们将使用和学习到以下模块。\n",
    "\n",
    "1. nxbot：机器人模块\n",
    "2. cv2：图像处理模块\n",
    "3. time：时间模块\n",
    "4. IPython.display：显示模块\n",
    "5. ipywidgets.widgets：添加小部件模块"
   ]
  },
  {
   "cell_type": "code",
   "execution_count": null,
   "metadata": {
    "scrolled": true
   },
   "outputs": [],
   "source": [
    "from nxbot import Robot,event,bgr8_to_jpeg\n",
    "import cv2\n",
    "import time\n",
    "from IPython.display import display\n",
    "import ipywidgets.widgets as widgets\n",
    "import ipywidgets\n",
    "import traitlets\n",
    "from traitlets.config.configurable import Configurable"
   ]
  },
  {
   "cell_type": "markdown",
   "metadata": {},
   "source": [
    "## 2.打开机器人的摄像头并显示图像\n",
    " \n",
    "步骤：\n",
    "\n",
    "1. 首先我们实例化从nxbot模块导入的Robot()对象，方便我们编写代码。\n",
    "2. 使用Robot()下的connect()和机器人建立连接。\n",
    "3. 使用widgets.Image创建显示窗口，格式为‘jpeg’。\n",
    "4. 通过rbt.camera.start()启动摄像头，rbt.base.set_ptz(-15)调整摄像头角度。\n",
    "5. 通过回调函数监听摄像头的事件，回调函数中‘evt.dict['data']’就是图像数据，通过bgr8_to_jpeg()方法把数据转换为图像格式并把转换后的值赋给image_widget.value，也就是我们上面创建的显示窗口。\n",
    "6. 虽然我们把图片信息赋值给了image_widget，但是我们还是需要通过display（）方法把图片显示出来。"
   ]
  },
  {
   "cell_type": "code",
   "execution_count": null,
   "metadata": {},
   "outputs": [],
   "source": [
    "rbt = Robot()\n",
    "rbt.connect()\n",
    "image_widget = widgets.Image(format='jpeg', width=224, height=224)\n",
    "\n",
    "def on_new_image(evt):\n",
    "    image_widget.value=bgr8_to_jpeg(evt.dict['data'])\n",
    "\n",
    "rbt.base.set_ptz(-15)\n",
    "rbt.camera.start()\n",
    "rbt.event_manager.add_event_listener(event.EventTypes.NEW_CAMERA_IMAGE,on_new_image)\n",
    "display(image_widget)"
   ]
  },
  {
   "cell_type": "markdown",
   "metadata": {},
   "source": [
    "## 3.创建保存图片文件夹\n",
    "创建一个名为“datasets”的文件夹来存储数据，下面包含“free”和“blocked”两个子文件夹，用于分别保存无障碍和有障碍的图片。\n",
    "> 创建成功后你可以在左边的工具栏中看到“dataset”这个文件夹，打开这个文件见可以看到“free”和“blocked”两个子文件夹。（如果没有，可以点击左边工具栏的刷新就可以看到了！）"
   ]
  },
  {
   "cell_type": "code",
   "execution_count": null,
   "metadata": {},
   "outputs": [],
   "source": [
    "import os\n",
    "free_dir = 'datasets/free'\n",
    "blocked_dir = 'datasets/block'\n",
    "try:\n",
    "    os.makedirs(free_dir)\n",
    "    os.makedirs(blocked_dir)\n",
    "except FileExistsError:\n",
    "    print('该文件夹已创建！')"
   ]
  },
  {
   "cell_type": "markdown",
   "metadata": {},
   "source": [
    "## 4.创建图片收集按钮\n",
    "创建并显示两个按钮，通过这些按钮来保存图片。同时，我们还将添加一些文本框，它会显示当前保存的图片数量。\n",
    "> 收集图片的时候尽可能让“无障碍”图片和“有障碍”图片尽量一样多。"
   ]
  },
  {
   "cell_type": "code",
   "execution_count": null,
   "metadata": {},
   "outputs": [],
   "source": [
    "button_layout = widgets.Layout(width='128px', height='64px')\n",
    "\n",
    "free_button = widgets.Button(description='无障碍', button_style='success', layout=button_layout)\n",
    "blocked_button = widgets.Button(description='有障碍', button_style='danger', layout=button_layout)\n",
    "\n",
    "free_count = widgets.IntText(layout=button_layout, value=len(os.listdir(free_dir)))\n",
    "blocked_count = widgets.IntText(layout=button_layout, value=len(os.listdir(blocked_dir)))\n",
    "\n",
    "display(widgets.HBox([free_count, free_button]))\n",
    "display(widgets.HBox([blocked_count, blocked_button]))"
   ]
  },
  {
   "cell_type": "markdown",
   "metadata": {},
   "source": [
    "## 5.给按钮添加保存功能\n",
    "可以发现现在点击这些按钮是没有反应的，因为我们还需要给按钮添加保存的功能。现在我们添加一个“on_click”的方法，当我们点击这个图标就可以保存每个类别的图像了。\n",
    "\n",
    "> 我们保存图片是刚刚已经创建好的“widgets.Image”显示窗口的值，像素为大小为224×224!\n",
    "> 为了确保每张图片的文件名都是不同的，我们将使用python中的“uuid”模块。"
   ]
  },
  {
   "cell_type": "code",
   "execution_count": null,
   "metadata": {},
   "outputs": [],
   "source": [
    "from uuid import uuid1\n",
    "\n",
    "def save_snapshot(directory):\n",
    "    image_path = os.path.join(directory, str(uuid1()) + '.jpg')\n",
    "    with open(image_path, 'wb') as f:\n",
    "        f.write(image_widget.value)\n",
    "\n",
    "def save_free():\n",
    "    global free_dir, free_count\n",
    "    save_snapshot(free_dir)\n",
    "    free_count.value = len(os.listdir(free_dir))\n",
    "    \n",
    "def save_blocked():\n",
    "    global blocked_dir, blocked_count\n",
    "    save_snapshot(blocked_dir)\n",
    "    blocked_count.value = len(os.listdir(blocked_dir))\n",
    "\n",
    "\n",
    "free_button.on_click(lambda x: save_free())\n",
    "blocked_button.on_click(lambda x: save_blocked())\n",
    "display(widgets.HBox([free_count, free_button]))\n",
    "display(widgets.HBox([blocked_count, blocked_button]))"
   ]
  },
  {
   "cell_type": "markdown",
   "metadata": {},
   "source": [
    "## 6.创建控制按钮并连接机器人\n",
    "\n",
    "通过“widgets”模块创建前后左右等按键，通过“.on_click()”方法把这些按键和小车相应的运动模式连接起来。\n",
    "\n",
    "### 开始收集图片\n",
    "现在点击“有障碍”按钮和“无障碍”按钮就可以保存对应的图片了，你可以在“free”和“blocked”文件夹下查看图片。\n",
    "现在继续收集一些数据\n",
    "\n",
    "首先将刚刚保存的图片删除，因为刚刚保存的图片有可能不是我们想要的图片。\n",
    "\n",
    "1. 将机器人放置在一个有障碍的场景中，然后点击“有障碍”；\n",
    "2. 将机器人放置在一个没有障碍的场景中，然后点击“无障碍”；\n",
    "3. 重复1,2。\n",
    "    \n",
    ">小提示:您可以通过右键单击单元格并单击“Create new View for Output”将小部件移动到新窗口单独显示出来。\n",
    "\n",
    "#### 下面是数据收集的技巧，可以提高模型训练的准确率。\n",
    "\n",
    "1. 尝试在不同的方向收集图片；\n",
    "2. 尝试在不同的光照强度，不同亮度的环境下收集图片；\n",
    "3. 尝试在不同的房间面对不同的物体收集图片；\n",
    "4. 尝试在不同纹理的地面收集图片，如有图案的、光滑的、玻璃的等。\n",
    "\n",
    ">小提示：小车在哪一种场景下收集的图片，对于这种场景下的识别率就越高，收集图片时使用的场景越多，整个模型的泛化能力越强，在不同场景下的表现也就越好。因此获取不同场景的数据是很重要的，当然图片的数量对模型的影响也是一个重要的因素，在这个例子里面我们建议每个类别至少收集100张图片。"
   ]
  },
  {
   "cell_type": "code",
   "execution_count": null,
   "metadata": {},
   "outputs": [],
   "source": [
    "\n",
    "button_layout = widgets.Layout(width='100px', height='80px', align_self='center')\n",
    "stop_button = widgets.Button(description='停止', button_style='danger', layout=button_layout)\n",
    "forward_button = widgets.Button(description='前进', layout=button_layout)\n",
    "backward_button = widgets.Button(description='后退', layout=button_layout)\n",
    "left_button = widgets.Button(description='左转', layout=button_layout)\n",
    "right_button = widgets.Button(description='右转', layout=button_layout)\n",
    "shiftleft_button = widgets.Button(description='左平移', layout=button_layout)\n",
    "shiftright_button = widgets.Button(description='右平移', layout=button_layout)\n",
    "\n",
    "# display buttons\n",
    "if rbt.name=='dachbot':\n",
    "    up_box = widgets.HBox([shiftleft_button, forward_button, shiftright_button], layout=widgets.Layout(align_self='center'))\n",
    "elif rbt.name=='dbot':\n",
    "    up_box = widgets.HBox([forward_button], layout=widgets.Layout(align_self='center'))\n",
    "middle_box = widgets.HBox([left_button, stop_button, right_button], layout=widgets.Layout(align_self='center'))\n",
    "controls_box = widgets.VBox([up_box, middle_box, backward_button])\n",
    "\n",
    "speed = 0.3\n",
    "time = 1\n",
    "\n",
    "# 创建摄像头视角滑块。\n",
    "camera_x_slider = ipywidgets.FloatSlider(min=-90, max=90, step=1, value=0, description='摄像头左右')\n",
    "camera_y_slider = ipywidgets.FloatSlider(min=-90, max=90, step=1, value=0, description='摄像头上下')\n",
    "\n",
    "class Camera(Configurable):\n",
    "    cx_speed = traitlets.Float(default_value=0.0)\n",
    "    cy_speed = traitlets.Float(default_value=0.0)\n",
    "    @traitlets.observe('cx_speed')\n",
    "    def x_speed_value(self, change):\n",
    "        self.cx_speed=change['new']\n",
    "        rbt.base.set_ptz(self.cy_speed,self.cx_speed)\n",
    "\n",
    "    @traitlets.observe('cy_speed')\n",
    "    def a_speed_value(self, change):\n",
    "        self.cy_speed=change['new']\n",
    "        rbt.base.set_ptz(self.cy_speed,self.cx_speed)\n",
    "\n",
    "camera = Camera()\n",
    "\n",
    "camera_x_link = traitlets.dlink((camera_x_slider,'value'), (camera, 'cx_speed'), transform=lambda x: x)\n",
    "camera_y_link = traitlets.dlink((camera_y_slider,'value'), (camera, 'cy_speed'), transform=lambda x: x)\n",
    "\n",
    "def stop(change):\n",
    "    rbt.base.stop()\n",
    "\n",
    "def step_forward(change):\n",
    "    rbt.base.forward(speed, time)\n",
    "\n",
    "def step_backward(change):\n",
    "    rbt.base.backward(speed, time)\n",
    "\n",
    "def step_left(change):\n",
    "    rbt.base.turnleft(speed, time)\n",
    "\n",
    "def step_right(change):\n",
    "    rbt.base.turnright(speed, time)\n",
    "    \n",
    "def shift_left(change):\n",
    "    rbt.base.shiftleft(speed, time)\n",
    "\n",
    "def shift_right(change):\n",
    "    rbt.base.shiftright(speed, time)\n",
    "\n",
    "stop_button.on_click(stop)\n",
    "forward_button.on_click(step_forward)\n",
    "backward_button.on_click(step_backward)\n",
    "left_button.on_click(step_left)\n",
    "right_button.on_click(step_right)\n",
    "shiftleft_button.on_click(shift_left)\n",
    "shiftright_button.on_click(shift_right)\n",
    "display(widgets.HBox([widgets.VBox([image_widget,widgets.HBox([free_count, free_button]),widgets.HBox([blocked_count, blocked_button])]),controls_box]))\n",
    "display(camera_x_slider, camera_y_slider)"
   ]
  },
  {
   "cell_type": "markdown",
   "metadata": {},
   "source": [
    "## 7.断开连接\n",
    "当你收集了足够的数据，通过“disconnect()”方法来和小车断开连接，释放资源。"
   ]
  },
  {
   "cell_type": "code",
   "execution_count": null,
   "metadata": {},
   "outputs": [],
   "source": [
    "# rbt.disconnect()"
   ]
  },
  {
   "cell_type": "code",
   "execution_count": null,
   "metadata": {},
   "outputs": [],
   "source": []
  }
 ],
 "metadata": {
  "kernelspec": {
   "display_name": "Python 3",
   "language": "python",
   "name": "python3"
  },
  "language_info": {
   "codemirror_mode": {
    "name": "ipython",
    "version": 3
   },
   "file_extension": ".py",
   "mimetype": "text/x-python",
   "name": "python",
   "nbconvert_exporter": "python",
   "pygments_lexer": "ipython3",
   "version": "3.6.8"
  }
 },
 "nbformat": 4,
 "nbformat_minor": 4
}
