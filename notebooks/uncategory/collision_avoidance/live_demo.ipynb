{
 "cells": [
  {
   "cell_type": "markdown",
   "metadata": {},
   "source": [
    "# 避障演示\n",
    "\n",
    "在这个示例中，我们将使用之前训练的模型让机器人判断前方是“有障碍”还是“无障碍”，然后再让机器人做出相应的动作。\n",
    "\n",
    "## 1.首先加载所需模块"
   ]
  },
  {
   "cell_type": "code",
   "execution_count": null,
   "metadata": {},
   "outputs": [],
   "source": [
    "import torch\n",
    "import torchvision\n",
    "import traitlets\n",
    "from IPython.display import display\n",
    "import ipywidgets.widgets as widgets\n",
    "from nxbot import Robot,event,bgr8_to_jpeg\n",
    "import torch.nn.functional as F"
   ]
  },
  {
   "cell_type": "markdown",
   "metadata": {},
   "source": [
    "## 2.加载神经网络\n",
    "\n",
    "在训练模型的demo中我们也加载过“alexnet”神经网络，但是在这里“pretrained=False”表示只加载网络结构，不加载预训练模型。\n",
    "同样的，还是需要把网络的类别数量改为2个。"
   ]
  },
  {
   "cell_type": "code",
   "execution_count": null,
   "metadata": {},
   "outputs": [],
   "source": [
    "model = torchvision.models.alexnet(pretrained=False)\n",
    "model.classifier[6] = torch.nn.Linear(model.classifier[6].in_features, 2)"
   ]
  },
  {
   "cell_type": "markdown",
   "metadata": {},
   "source": [
    "接下来，加载之前训练得到的“best_model.pth”模型。\n",
    "把模型数据传输到GPU设备上，加快运行速度。\n",
    "* 如果使用你自己训练的模型可以选择第二个模型地址\"model_path\"。"
   ]
  },
  {
   "cell_type": "code",
   "execution_count": null,
   "metadata": {},
   "outputs": [],
   "source": [
    "model_path = r'../../../models/local/alexnet/collision_avoid.pth'\n",
    "# model_path = r'students_models/best_model_custom.pth'\n",
    "model.load_state_dict(torch.load(model_path))\n",
    "device = torch.device('cuda')\n",
    "model = model.to(device)"
   ]
  },
  {
   "cell_type": "markdown",
   "metadata": {},
   "source": [
    "## 3.创建预处理函数\n",
    "\n",
    "我们现在已经加载了我们的模型，但是有一个小问题。我们训练时模型接收的图片格式与机器人拍摄的图片的格式不匹配。为此，我们对机器人拍摄的图片做一些预处理，使得在训练和检测时输入神经网络的图片格式是一致的。包括以下步骤：\n",
    "1. 把机器人拍摄的图片像素缩放为224×224\n",
    "2. 从BGR转换为RGB（蓝绿红转为红绿蓝）\n",
    "3. 从HWC（高/宽/通道）布局转换为CHW（宽/高/通道）布局\n",
    "4. 将数据从CPU内存传输到GPU内存\n",
    "5. 把图像进行标准化处理。"
   ]
  },
  {
   "cell_type": "code",
   "execution_count": null,
   "metadata": {},
   "outputs": [],
   "source": [
    "import cv2\n",
    "import numpy as np\n",
    "\n",
    "mean = 255.0 * np.array([0.485, 0.456, 0.406])\n",
    "stdev = 255.0 * np.array([0.229, 0.224, 0.225])\n",
    "\n",
    "normalize = torchvision.transforms.Normalize(mean, stdev)\n",
    "\n",
    "def preprocess(camera_value):\n",
    "    global device, normalize\n",
    "    x = camera_value\n",
    "    x = cv2.resize(x,(224,224),interpolation=cv2.INTER_CUBIC)\n",
    "    x = cv2.cvtColor(x, cv2.COLOR_BGR2RGB)\n",
    "    x = x.transpose((2, 0, 1))\n",
    "    x = np.ascontiguousarray(x, dtype=np.float32)\n",
    "    x = normalize(torch.from_numpy(x)).unsqueeze(0)\n",
    "    return x"
   ]
  },
  {
   "cell_type": "markdown",
   "metadata": {},
   "source": [
    "## 4.检测模型是否能正常使用\n",
    "\n",
    "我们通过numpy创建与我们将要预测的图片格式一致的形状为（224，224，3）的数组，这里我们创建的全为1的数组将这个数组经过预处理再将数据放入模型中，如果能运行通过说明模型可以正常使用了。"
   ]
  },
  {
   "cell_type": "code",
   "execution_count": null,
   "metadata": {},
   "outputs": [],
   "source": [
    "try:\n",
    "    img_data = np.ones([224, 224, 3],np.uint8)\n",
    "    model(preprocess(img_data).to(device))\n",
    "except:\n",
    "    print('请检查模型是否正确')"
   ]
  },
  {
   "cell_type": "markdown",
   "metadata": {},
   "source": [
    "## 5.创建可视化界面\n",
    "1. 通过“widgets.Image()”创建图像窗口显示机器人摄像头画面；\n",
    "2. 再创建一个有障碍的滑块，显示有障碍的概率。"
   ]
  },
  {
   "cell_type": "code",
   "execution_count": null,
   "metadata": {},
   "outputs": [],
   "source": [
    "image_widget = widgets.Image(format='jpeg', width=224, height=224)\n",
    "blocked_slider = widgets.FloatSlider(description='blocked', min=0.0, max=1.0, orientation='vertical')"
   ]
  },
  {
   "cell_type": "markdown",
   "metadata": {},
   "source": [
    "## 6.图像识别\n",
    "\n",
    "1. 把图像数据进行预处理；\n",
    "2. 把处理后的数据输入网络得到预测结果；\n",
    "3. 通过预测得到的结果来控制小车移动，如果无障碍就继续向前行驶，如果有障碍就向左转。"
   ]
  },
  {
   "cell_type": "code",
   "execution_count": null,
   "metadata": {
    "scrolled": true
   },
   "outputs": [],
   "source": [
    "def on_new_image(evt):\n",
    "    # 把机器人摄像头画面的数据传给图像窗口。\n",
    "    image_widget.value=bgr8_to_jpeg(evt.dict['data'])\n",
    "    \n",
    "    x = evt.dict['data']\n",
    "    x = preprocess(x).to(device)\n",
    "    y = model(x)\n",
    "    # 我们运用“softmax”函数对输出的结果进行处理，使其输出的值为一个概率值(0-1)。\n",
    "    y = F.softmax(y, dim=1)\n",
    "    # 这里的y.flatten()[0]表示有障碍的概率，如果是y.flatten()[1]就表示无障碍的概率\n",
    "    prob_blocked = float(y.flatten()[0])\n",
    "    \n",
    "    # 将图像数据传给显示界面。\n",
    "    blocked_slider.value = prob_blocked\n",
    "    \n",
    "    # 如果有障碍的概率小于0.7，就前进\n",
    "    if prob_blocked < 0.7:\n",
    "        rbt.base.forward(0.1)\n",
    "    # 否则就左转\n",
    "    else:\n",
    "        rbt.base.turnleft(0.3)"
   ]
  },
  {
   "cell_type": "markdown",
   "metadata": {},
   "source": [
    "## 7.启动机器人，进行避障演示\n",
    "1. 通过“rbt.connect()” 连接小车\n",
    "2. 通过“rbt.set_ptz(-15)”调整摄像头向下15°，获取最佳的障碍识别视角。\n",
    "3. 通过“rbt.camera.start()”打开摄像头。\n",
    "4. 通过“rbt.event_manager.add_event_listener(event.EventTypes.NEW_CAMERA_IMAGE,on_new_image)”获取机器人图像数据，并将图像数据传给“图像识别”函数，进行预测；\n",
    "5. 通过“display(widgets.HBox([image_widget, blocked_slider]))”将图像显示出来，并且通过滑块展示当前预测障碍的概率值。"
   ]
  },
  {
   "cell_type": "code",
   "execution_count": null,
   "metadata": {},
   "outputs": [],
   "source": [
    "rbt = Robot()\n",
    "rbt.connect()        \n",
    "rbt.base.set_ptz(-15)\n",
    "rbt.camera.start()\n",
    "rbt.event_manager.add_event_listener(event.EventTypes.NEW_CAMERA_IMAGE,on_new_image)\n",
    "display(widgets.HBox([image_widget, blocked_slider]))"
   ]
  },
  {
   "cell_type": "markdown",
   "metadata": {},
   "source": [
    "## 8.结论\n",
    "如果机器人没有很好地避开障碍，我们可以通过收集更多的场景数据来使机器人做得更好:)"
   ]
  },
  {
   "cell_type": "markdown",
   "metadata": {},
   "source": [
    "提示：如果想运行其他示例，需要先将机器人断开连接。"
   ]
  },
  {
   "cell_type": "code",
   "execution_count": null,
   "metadata": {},
   "outputs": [],
   "source": [
    "# rbt.disconnect()"
   ]
  },
  {
   "cell_type": "code",
   "execution_count": null,
   "metadata": {},
   "outputs": [],
   "source": []
  }
 ],
 "metadata": {
  "kernelspec": {
   "display_name": "Python 3",
   "language": "python",
   "name": "python3"
  },
  "language_info": {
   "codemirror_mode": {
    "name": "ipython",
    "version": 3
   },
   "file_extension": ".py",
   "mimetype": "text/x-python",
   "name": "python",
   "nbconvert_exporter": "python",
   "pygments_lexer": "ipython3",
   "version": "3.6.8"
  }
 },
 "nbformat": 4,
 "nbformat_minor": 4
}
