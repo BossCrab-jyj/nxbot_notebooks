{
 "cells": [
  {
   "cell_type": "markdown",
   "metadata": {},
   "source": [
    "# 游戏手柄避障数据收集"
   ]
  },
  {
   "cell_type": "markdown",
   "metadata": {},
   "source": [
    "## 1.导入所需模块"
   ]
  },
  {
   "cell_type": "code",
   "execution_count": null,
   "metadata": {},
   "outputs": [],
   "source": [
    "from nxbot import Robot,event,bgr8_to_jpeg\n",
    "import traitlets\n",
    "import ipywidgets.widgets as widgets\n",
    "from traitlets.config.configurable import Configurable\n",
    "from IPython.display import display\n",
    "from uuid import uuid1\n",
    "import os\n",
    "import json\n",
    "import glob\n",
    "import datetime\n",
    "import numpy as np\n",
    "import cv2\n",
    "import time"
   ]
  },
  {
   "cell_type": "markdown",
   "metadata": {},
   "source": [
    "## 2.连接dachbot"
   ]
  },
  {
   "cell_type": "code",
   "execution_count": null,
   "metadata": {},
   "outputs": [],
   "source": [
    "rbt = Robot()\n",
    "rbt.connect()"
   ]
  },
  {
   "cell_type": "markdown",
   "metadata": {},
   "source": [
    "## 3.创建图片收集文件夹"
   ]
  },
  {
   "cell_type": "code",
   "execution_count": null,
   "metadata": {},
   "outputs": [],
   "source": [
    "import os\n",
    "free_dir = 'datasets/free'\n",
    "blocked_dir = 'datasets/block'\n",
    "try:\n",
    "    os.makedirs(free_dir)\n",
    "    os.makedirs(blocked_dir)\n",
    "except FileExistsError:\n",
    "    print('该文件夹已创建！')"
   ]
  },
  {
   "cell_type": "markdown",
   "metadata": {},
   "source": [
    "## 4.创建图片收集按钮"
   ]
  },
  {
   "cell_type": "code",
   "execution_count": null,
   "metadata": {},
   "outputs": [],
   "source": [
    "# 按钮外观\n",
    "button_layout = widgets.Layout(width='128px', height='64px')\n",
    "# 无障碍按钮\n",
    "free_button = widgets.Button(description='无障碍', button_style='success', layout=button_layout)\n",
    "# 有障碍按钮\n",
    "blocked_button = widgets.Button(description='有障碍', button_style='danger', layout=button_layout)\n",
    "# 无障碍图片数量\n",
    "free_count = widgets.IntText(layout=button_layout, value=len(os.listdir(free_dir)))\n",
    "# 有障碍图片数量\n",
    "blocked_count = widgets.IntText(layout=button_layout, value=len(os.listdir(blocked_dir)))\n",
    "# 显示图片收集按钮与每个类别的图片数量\n",
    "display(widgets.HBox([free_count, free_button]))\n",
    "display(widgets.HBox([blocked_count, blocked_button]))"
   ]
  },
  {
   "cell_type": "markdown",
   "metadata": {},
   "source": [
    "## 5.给按钮添加点击功能"
   ]
  },
  {
   "cell_type": "code",
   "execution_count": null,
   "metadata": {},
   "outputs": [],
   "source": [
    "from uuid import uuid1\n",
    "# 创建保存图片功能函数\n",
    "def save_snapshot(directory):\n",
    "    image_path = os.path.join(directory, str(uuid1()) + '.jpg')\n",
    "    with open(image_path, 'wb') as f:\n",
    "        f.write(image_widget.value)\n",
    "# 保存无障碍图片\n",
    "def save_free():\n",
    "    global save_dir\n",
    "    save_dir = free_dir\n",
    "# 保存有障碍图片 \n",
    "def save_blocked():\n",
    "    global save_dir\n",
    "    save_dir = blocked_dir\n",
    "# 添加点击功能\n",
    "free_button.on_click(lambda x: save_free())\n",
    "blocked_button.on_click(lambda x: save_blocked())\n",
    "# 显示图片收集按钮与每个类别的图片数量\n",
    "display(widgets.HBox([free_count, free_button]))\n",
    "display(widgets.HBox([blocked_count, blocked_button]))"
   ]
  },
  {
   "cell_type": "markdown",
   "metadata": {},
   "source": [
    "## 6.在图像上创建绿色标记\n",
    "1. 创建图像显示窗口；\n",
    "2. 获取图像数据；\n",
    "3. 在图像上创建一个绿点在标记时作为参考；\n",
    "4. 显示图形化界面。"
   ]
  },
  {
   "cell_type": "code",
   "execution_count": null,
   "metadata": {},
   "outputs": [],
   "source": [
    "image_widget = widgets.Image(format='jpeg', width=300, height=300)\n",
    "\n",
    "def on_new_image(evt):\n",
    "    image_widget.value= bgr8_to_jpeg(evt.dict['data'])\n",
    "    \n",
    "rbt.camera.start()\n",
    "rbt.base.set_ptz(-10)\n",
    "rbt.event_manager.add_event_listener(event.EventTypes.NEW_CAMERA_IMAGE,on_new_image)\n",
    "display(image_widget)"
   ]
  },
  {
   "cell_type": "markdown",
   "metadata": {},
   "source": [
    "### 7.创建gamepad控制器\n",
    "\n",
    "我们可以通过游戏手柄来控制dachbot，首先将游戏手柄的无线usb插到电脑上，然后打开游戏手柄的开关。http://html5gamepad.com 打开这个网址然后按下你正在使用的游戏手柄上的按钮，可以看到网页上也会有相应的反应。\n",
    "在网站上可以看到“index”下面有个数字，记住这个数字，然后我们通过“widgets.Controller()”连接到手柄然后再显示出来。"
   ]
  },
  {
   "cell_type": "code",
   "execution_count": null,
   "metadata": {},
   "outputs": [],
   "source": [
    "controller = widgets.Controller(index=0)\n",
    "display(controller)"
   ]
  },
  {
   "cell_type": "markdown",
   "metadata": {},
   "source": [
    "## 8.创建手柄控制功能\n",
    "1. 控制机器人前后左右运动\n",
    "2. 控制机器人摄像头运动"
   ]
  },
  {
   "cell_type": "code",
   "execution_count": null,
   "metadata": {},
   "outputs": [],
   "source": [
    "# 控制小车运动\n",
    "class Move(Configurable):\n",
    "    x_speed = traitlets.Float(default_value=0.0)\n",
    "    a_speed = traitlets.Float(default_value=0.0)\n",
    "    y_speed = traitlets.Float(default_value=0.0)\n",
    "    @traitlets.observe('x_speed')\n",
    "    def x_speed_value(self, change):\n",
    "        self.x_speed=change['new']\n",
    "        rbt.base.move(x_speed=self.x_speed*0.3, a_speed=self.a_speed, y_speed=-self.y_speed*0.5)\n",
    "\n",
    "    @traitlets.observe('a_speed')\n",
    "    def a_speed_value(self, change):\n",
    "        self.a_speed=change['new']\n",
    "        rbt.base.move(x_speed=self.x_speed*0.3, a_speed=self.a_speed, y_speed=-self.y_speed*0.5)\n",
    "        \n",
    "    @traitlets.observe('y_speed')\n",
    "    def y_speed_value(self, change):\n",
    "        self.y_speed=change['new']\n",
    "        rbt.base.move(x_speed=self.x_speed*0.3, a_speed=self.a_speed, y_speed=-self.y_speed*0.5)\n",
    "        \n",
    "# 控制摄像头转动  \n",
    "class Camera(Configurable):\n",
    "    cx_speed = traitlets.Float(default_value=0.0)\n",
    "    cy_speed = traitlets.Float(default_value=0.0)\n",
    "    @traitlets.observe('cx_speed')\n",
    "    def x_speed_value(self, change):\n",
    "        self.cx_speed=change['new']\n",
    "        rbt.base.set_ptz(x=self.cx_speed*90, y=self.cy_speed*90)\n",
    "\n",
    "    @traitlets.observe('cy_speed')\n",
    "    def a_speed_value(self, change):\n",
    "        self.cy_speed=change['new']\n",
    "        rbt.base.set_ptz(x=self.cx_speed*90, y=self.cy_speed*90)\n",
    "        \n",
    "# 实例化对象\n",
    "move=Move()\n",
    "camera = Camera()\n",
    "\n",
    "# 将手柄上的摇杆axes[1]来控制小车的前进后退，摇杆axes[0]来控制小车的左右。摇杆axes[2]来控制左右平移\n",
    "move_link = traitlets.dlink((controller.axes[1], 'value'), (move, 'x_speed'), transform=lambda x: -x)\n",
    "turn_link = traitlets.dlink((controller.axes[0], 'value'), (move, 'a_speed'), transform=lambda x: -x)\n",
    "if rbt.name=='dachbot':\n",
    "    shift_left_link = traitlets.dlink((controller.buttons[6], 'value'), (move, 'y_speed'), transform=lambda x: x)\n",
    "    shift_right_link = traitlets.dlink((controller.buttons[7], 'value'), (move, 'y_speed'), transform=lambda x: -x)\n",
    "elif rbt.name=='dbot':\n",
    "    camera_x_link = traitlets.dlink((controller.axes[2], 'value'), (camera, 'cx_speed'), transform=lambda x: x)\n",
    "camera_y_link = traitlets.dlink((controller.axes[3], 'value'), (camera, 'cy_speed'), transform=lambda x: -x)\n",
    "\n",
    "# 定义断开控制函数\n",
    "def unlink_control():\n",
    "    move_link.unlink()\n",
    "    turn_link.unlink()\n",
    "    if rbt.name=='dachbot':\n",
    "        shift_left_link.unlink()\n",
    "        shift_right_link.unlink()\n",
    "    elif rbt.name=='dbot':\n",
    "        camera_x_link.unlink()\n",
    "    camera_y_link.unlink()"
   ]
  },
  {
   "cell_type": "markdown",
   "metadata": {},
   "source": [
    "## 9.开始收集数据"
   ]
  },
  {
   "cell_type": "code",
   "execution_count": null,
   "metadata": {},
   "outputs": [],
   "source": [
    "# 根据图像小部件的红色圆圈的中心坐标作为图片名称\n",
    "# 通过该坐标确定当前状态应该左转和右转\n",
    "def xy_uuid(x, y):\n",
    "    return 'xy_%03d_%03d_%s' % (x * 50 + 50, y * 50 + 50, uuid1())\n",
    "\n",
    "# 创建保存无障碍按钮并连接到游戏手柄，通过点击手柄上的buttons[1]就可以保存图片了\n",
    "def save_free(change):\n",
    "    if change['new']:\n",
    "        image_path = os.path.join(free_dir, str(uuid1()) + '.jpg')\n",
    "        with open(image_path, 'wb') as f:\n",
    "            f.write(image_widget.value)\n",
    "        free_count.value = len(glob.glob(os.path.join(free_dir, '*.jpg')))\n",
    "controller.buttons[1].observe(save_free, names='value')\n",
    "\n",
    "# 创建保存有障碍按钮并连接到游戏手柄，通过点击手柄上的buttons[2]就可以保存图片了\n",
    "def save_blocked(change):\n",
    "    if change['new']:\n",
    "        image_path = os.path.join(blocked_dir, str(uuid1()) + '.jpg')\n",
    "        with open(image_path, 'wb') as f:\n",
    "            f.write(image_widget.value)\n",
    "        blocked_count.value = len(glob.glob(os.path.join(blocked_dir, '*.jpg')))        \n",
    "controller.buttons[2].observe(save_blocked, names='value')\n",
    "\n",
    "# 显示可视化窗口\n",
    "display(image_widget)\n",
    "display(widgets.HBox([free_count, free_button]))\n",
    "display(widgets.HBox([blocked_count, blocked_button]))"
   ]
  },
  {
   "cell_type": "markdown",
   "metadata": {},
   "source": [
    "## 10.断开连接\n",
    "当你收集了最够多的数据后，运行下面代码与dachbot断开连接。"
   ]
  },
  {
   "cell_type": "code",
   "execution_count": null,
   "metadata": {},
   "outputs": [],
   "source": [
    "# unlink_control()\n",
    "# rbt.disconnect()"
   ]
  }
 ],
 "metadata": {
  "kernelspec": {
   "display_name": "Python 3",
   "language": "python",
   "name": "python3"
  },
  "language_info": {
   "codemirror_mode": {
    "name": "ipython",
    "version": 3
   },
   "file_extension": ".py",
   "mimetype": "text/x-python",
   "name": "python",
   "nbconvert_exporter": "python",
   "pygments_lexer": "ipython3",
   "version": "3.6.8"
  }
 },
 "nbformat": 4,
 "nbformat_minor": 4
}
