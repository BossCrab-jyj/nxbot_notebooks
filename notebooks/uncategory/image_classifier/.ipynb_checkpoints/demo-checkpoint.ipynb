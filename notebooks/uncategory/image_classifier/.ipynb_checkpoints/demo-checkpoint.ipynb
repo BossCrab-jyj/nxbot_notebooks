{
 "cells": [
  {
   "cell_type": "markdown",
   "metadata": {},
   "source": [
    "# 图像识别-有教师学习\n",
    "\n",
    "![title](data/other_data/cnn.gif)\n",
    "\n",
    "* 图像识别\n",
    "\n",
    "## 1.什么是图像识别？\n",
    "* 图像识别技术是人工智能的一个重要领域。它是指计算机通过对图像进行分析，使计算机在不同场景下识别出图像里面的内容。\n",
    "* 计算机本身不具有理解图像的能力，图像识别就是让计算机有和人类一样对图像理解的能力，包括图像表示的内容，图像中物体之间的关系等要素。\n",
    "\n",
    "![title](data/other_data/detect.jpg)\n",
    "\n",
    "## 2.图像识别技术原理\n",
    "\n",
    "计算机的图像识别技术和人类的图像识别在原理上并没有本质的区别，人类的图像识别都是依靠图像所具有的本身特征分类，然后通过各个类别所具有的特征将图像识别出来的，我们的大脑会根据存储记忆中已经分好的类别进行识别，查看是否有与该图像具有相同或类似特征的存储记忆，从而识别出是否见过该图像。\n",
    "因此我们会让机器以相同的模式来学习和分析，让机器具有图像识别的能力。\n",
    "\n",
    "## 3.机器如何学习？\n",
    "说起图像识别就不得不提到神经网络了\n",
    "\n",
    "![title](data/other_data/1.webp)\n",
    "\n",
    "机器通过神经网络学习到物体的轮廓，颜色，纹理等特征，并通过计算将这些特征记录下来，就可以得到一个分类模型了，最终我们既可以通过这个模型进行图像识别了。\n",
    "\n",
    "![title](data/other_data/detail.jpg)\n",
    "\n",
    "## 那么图像识别具体是怎样操作的呢？\n",
    "* 主要包括以下步骤：\n",
    "1. 确定需要机器识别的物体种类，收集该物体的图像，并将收集的图片标记对应的标签；\n",
    "2. 对收集的图像进行预处理；\n",
    "3. 构建神经网络；\n",
    "4. 加载图像，将图像输入神经网络进行训练并保存模型；\n",
    "5. 对模型进行评估。\n",
    "\n",
    "在接下来的这个实验中我们将学习到如何通过神经网络训练出图像分类的模型。\n",
    "\n",
    "## 首先导入我们需要的模块"
   ]
  },
  {
   "cell_type": "code",
   "execution_count": 1,
   "metadata": {},
   "outputs": [],
   "source": [
    "import show_box\n",
    "import os\n",
    "import torch\n",
    "import torchvision\n",
    "import numpy as np\n",
    "import cv2\n",
    "import PIL\n",
    "from PIL import ImageDraw,ImageFont\n",
    "import torch.optim as optim\n",
    "import torch.nn as nn\n",
    "import torch.nn.functional as F\n",
    "import torchvision.models as models\n",
    "import torchvision.datasets as datasets\n",
    "import torchvision.transforms as transforms\n",
    "import warnings\n",
    "warnings.filterwarnings(\"ignore\")"
   ]
  },
  {
   "cell_type": "markdown",
   "metadata": {},
   "source": [
    "## 创建类别\n",
    "\n",
    "1. 首先创建类别，类别文件夹创建在“data/dataset”目录下；"
   ]
  },
  {
   "cell_type": "code",
   "execution_count": null,
   "metadata": {},
   "outputs": [],
   "source": [
    "show_box.add_classes()"
   ]
  },
  {
   "cell_type": "markdown",
   "metadata": {},
   "source": [
    "## 选则收集图片方式\n",
    "1. 添加已有图片\n",
    "2. 上传一段视频"
   ]
  },
  {
   "cell_type": "code",
   "execution_count": null,
   "metadata": {},
   "outputs": [],
   "source": [
    "show_box.upload_way()"
   ]
  },
  {
   "cell_type": "markdown",
   "metadata": {},
   "source": [
    "## 开始收集\n",
    "1. 添加已有图片\n",
    "    * 可以使用我们准备好的“data/image_data”文件夹下的猫狗图片，使用“show_box.select_image('data/image_data')”。\n",
    "    * 也可以点击上传图标选择想要上传的图片，只需要将'image_data'删除，使用“show_box.select_image()”,最后保存的图片在文件夹“data/dataset”中。\n",
    " \n",
    "2. 上传一段视频\n",
    "    * 选择想要自己上传的视频，使用show_box.select_video()。\n",
    "    * 上传完成之后，我们会将视频转换成图片并且保存在“data/dataset”目录下，最多只能保存300张图片。\n",
    "    \n",
    "    * 也可以使用我们在文件夹“data/video_data”中准备好的手势视频，使用“show_box.select_video('data/video_data')”\n",
    "  "
   ]
  },
  {
   "cell_type": "code",
   "execution_count": null,
   "metadata": {},
   "outputs": [],
   "source": [
    "\n",
    "upload_way = show_box.get_uploadWay()\n",
    "if upload_way == '上传图片':\n",
    "    show_box.select_image('data/image_data')\n",
    "elif upload_way=='上传视频':\n",
    "    show_box.select_video('data/video_data')"
   ]
  },
  {
   "cell_type": "markdown",
   "metadata": {},
   "source": [
    "## 设置参数\n",
    "\n",
    "1. valid_percente：测试数据集占总数据集比例；\n",
    "2. epochs：数值越大，模型表现就可能越好，训练时间会增加;\n",
    "3. batch_size：数值越小，越容易陷入局部最优，反之更容易找到全局最优，但是对硬件要求就会越高;\n",
    "4. learning_rate：学习率过大，loss下降速度更快，但loss可能不能到达最优，反之loss下降速度更慢，但找到最优的几率越大；\n",
    "5. 选择神经网络；\n",
    "6. 选择优化器。"
   ]
  },
  {
   "cell_type": "code",
   "execution_count": null,
   "metadata": {},
   "outputs": [],
   "source": [
    "show_box.set_param()\n",
    "show_box.choose_model()\n",
    "show_box.set_optimizer()"
   ]
  },
  {
   "cell_type": "markdown",
   "metadata": {},
   "source": [
    "## 数据预处理\n",
    "* 将我们的图片和图片对应的标签进行处理成神经网络所接收的格式。\n",
    "\n",
    "首先我们需要了解的是图片的格式，对于机器来说他只能把图片信息转化为数字信息他才能看懂，每一张图片都是由很多个像素组成的，每个像素是通过RGB（红绿蓝）3个通道的数值来存储的，数值范围在（0，255），当RGB分别的数值不同时就可以构造出千变万化的颜色了，然后再根据设置长宽就可以构造出图片了。\n",
    "\n",
    "![title](data/other_data/RGB.jpg)\n",
    "\n",
    "* 数据预处理主要包括有：\n",
    "1. transforms.ColorJitter() 功能：调整亮度、对比度、饱和度和色相\n",
    "\n",
    "![title](data/other_data/color.jpg)\n",
    "\n",
    "2. transforms.Resize((224, 224))，在这个实验中我们将会用到“alexnet”神经网络，这个神经网络接收的图片像素为224×224，因此我们将改变所有输入神经网络的图片像素大小。\n",
    "3. transforms.ToTensor()，将图片数据格式转换我们使用的“pytorch”深度学习框架所能理解的数据格式，因此我们将图片数据转换为“tensor”格式,并且将数据归一化至[0-1] \n",
    "4. transforms.Normalize()， 使图像数据的分布范围限定在[-1,1]之间，在这样的分布情况下，我们神经网络就可以更好的学习到图片的特征。\n",
    "\n",
    "![title](data/other_data/hince.png)"
   ]
  },
  {
   "cell_type": "code",
   "execution_count": null,
   "metadata": {},
   "outputs": [],
   "source": [
    "image_transforms = transforms.Compose([\n",
    "        # 将图片缩放为我们使用的模型所接受的尺寸。\n",
    "        transforms.Resize((224,224)),\n",
    "        # 图像随机旋转15度。\n",
    "        transforms.RandomRotation(degrees=15),\n",
    "        # 图像水平翻转。\n",
    "        transforms.RandomHorizontalFlip(),\n",
    "        # 图像增强，修改亮度、对比度和饱和度。\n",
    "        transforms.ColorJitter(0.1, 0.1, 0.1, 0.1),\n",
    "        # 将数组转换为tensor\n",
    "        transforms.ToTensor(),\n",
    "        # 因为在这里我们使用的是预训练模型进行迁移学习，因此该均值与方差是通过coco数据集计算得到的，也可以使用自己的数据集计算得到的均值与方差\n",
    "        # 如果自己的数据较少则建议使用下列均值与方差。\n",
    "        transforms.Normalize([0.471, 0.448, 0.408], [0.234, 0.239, 0.242])\n",
    "    ])\n",
    "\n"
   ]
  },
  {
   "cell_type": "markdown",
   "metadata": {},
   "source": [
    "## 划分训练集和测试集\n",
    "1. 如果使用默认的猫狗图片；\n",
    "    * data_dir = 'data/image_data'\n",
    "2. 如果使用自己上传的图片；\n",
    "    * data_dir = 'data/dataset'\n",
    "3. 如果使用默认的视频；\n",
    "    * data_dir = 'data/video_data'\n",
    "4. 如果使用自己上传的视频；\n",
    "    * data_dir = 'data/dataset'"
   ]
  },
  {
   "cell_type": "code",
   "execution_count": null,
   "metadata": {},
   "outputs": [],
   "source": [
    "data_dir = 'data/image_data'\n",
    "# 删除缓存文件夹。\n",
    "data_dir = show_box.clean_data(data_dir)\n",
    "try:\n",
    "    dataset = datasets.ImageFolder(data_dir,image_transforms)\n",
    "    classes = dataset.classes\n",
    "    num_of_classes = len(classes)\n",
    "    # 将数据分为训练集与测试集，测试机的比例占数据集的“valid_percente”（百分比）\n",
    "    valid_percente, epochs, batch_size, learning_rate = show_box.get_param()\n",
    "    num_valid = int(len(dataset)*valid_percente)\n",
    "    train_dataset, test_dataset = torch.utils.data.random_split(dataset, [len(dataset) - num_valid, num_valid])\n",
    "    \n",
    "    num_train_dataset = len(train_dataset)\n",
    "    num_test_dataset = len(test_dataset)\n",
    "    print('数据集信息： 类别种类：{}，类别数量：{}，训练数据集数量：{}， 测试数据集数量：{}'.format(classes, num_of_classes, num_train_dataset, num_test_dataset))\n",
    "    \n",
    "except Exception as error:\n",
    "    print('错误，请至少添加两个类别!')"
   ]
  },
  {
   "cell_type": "markdown",
   "metadata": {},
   "source": [
    "## 加载数据集\n",
    "\n",
    "![title](data/other_data/data_pakage.png)\n",
    "\n",
    "* 打乱图片顺序，设置每次输入神经网络的图片数量：batch_size，并加载到内存中为训练做准备。"
   ]
  },
  {
   "cell_type": "code",
   "execution_count": null,
   "metadata": {},
   "outputs": [],
   "source": [
    "# 通过\"torch.utils.data.DataLoader()\"函数加载数据，对数据集进行管理。\n",
    "train_loader = torch.utils.data.DataLoader(\n",
    "        train_dataset,\n",
    "        batch_size=batch_size,\n",
    "        shuffle=True,\n",
    "        num_workers=4\n",
    "    )\n",
    "\n",
    "test_loader = torch.utils.data.DataLoader(\n",
    "    test_dataset,\n",
    "    batch_size=batch_size,\n",
    "    shuffle=True,\n",
    "    num_workers=4\n",
    "    )\n"
   ]
  },
  {
   "cell_type": "markdown",
   "metadata": {},
   "source": [
    "\n",
    "# 定义模型训练\n",
    "\n",
    "\n",
    "* 训练完成之后模型保存在'model'文件夹下。\n",
    "\n",
    "模型到底是如何训练的？\n",
    "1. 激活函数sigmoid：\n",
    "* 在上面我们选择好网络框架了，，例如我们选择了alexnet，那么如何通过网络来对模型进行训练呢？在定义alexnet时我们直到，网络最后输出的是[batch_size, 2]这么一个数组，表示每张图片有2个通过神经网络输出的值。这个值有什么意义呢？我们怎么通过这两个值来判断这张图片到底是个什么类别呢？\n",
    "\n",
    "* 因此接下来就学习这个神奇的激活函数sigmoid，可以看到当x<0时，y[0, 0.5];当x>0时，y[0.5, 1]，sigmoid函数S(x)的取值区间在[0, 1]这对于我们分类来说是一个很好的性质，当我们将通过神经网络输出来的2个向量，再通过sigmoid函数计算就可以得到2个新的处于[0, 1]区间的向量，这不正好表达了两个类别分别的概率吗？ \n",
    "\n",
    "![title](data/other_data/sigmoid.gif)\n",
    "\n",
    "2. 损失函数：\n",
    "\n",
    ">“onehot”定义标签\n",
    "\n",
    "* 现在我们通过神经网络已经预测出这两个类别分别的概率了，虽然这个概率不一定准确，我们的目的就是想让这个概率更加准确，然而我们定义的标签是用['有狗', '没有狗']来表示的，一个是数字一个是文字没有办法进行比较啊，因此我们想到了一个很好的办法，“onehot”编码，我们定义，在训练数据集中如果这张图片是“有狗”的图片，那么我么就把这个图片的标签用[1, 0]表示，反之就用[0, 1]来表示。如果我们有3个类别，分别为：猫，狗，猪，那我们就可以用[1,0,0]来表示猫，[0,1,0]来表示狗，[0,0,1]来表示猪，需要注意的是，要记住排列的顺序。\n",
    "\n",
    "> 计算损失值“Loss”\n",
    "\n",
    "* 分类损失函数“cross_entropy”\n",
    "* 交叉熵是用来评估当前训练得到的概率分布与真实分布的差异情况，减少交叉熵损失就是在提高模型的预测准确率。其中 p(x) 是指真实分布的概率， q(x) 是模型通过数据计算出来的概率估计。因此我们就可以通过由onehot标记的真实标签和通过神经网络计算出的预测值就可以计算出两者之间的误差，也叫做损失值Loss。\n",
    "\n",
    "![title](data/other_data/cross_entropy.jpg)\n",
    "\n",
    "3. 梯度下降更新模型:\n",
    "\n",
    "![title](data/other_data/gradient.png)\n",
    "\n",
    "\n",
    "* 神经网络经过一个epoch计算后，就会得到一个模型，但是这个模型并不准确，那我们应该怎样使模型更加准确呢？我们之前讲过，模型的好坏是和权重相关的，因此只有改变权重，我们的Loss值才会有变化。当Loss足够小时，说明我们的模型就被训练得很好了，因此这就是一个关于权重“w”求Loss极值的问题，这时候就会用求极值最常用的一种方法求偏导。\n",
    "\n",
    "![title](data/other_data/22.jpg)\n",
    "\n",
    "4. 反向传播，链式法则：\n",
    "\n",
    "* 现在我们就可以通过梯度对权重“w”进行更新使得Loss下降了，下图“θo”表示当前权重，“η”表示学习率，表示我们每次延负梯度下降的步长，每次下降多少，学习率“η”不能过大也不能太小，当学习率过大时，相当于我们的步子迈的太大了，会错过Loss最低值，当学习率太小时，我们就需要很长时间才能走到最低处，因此学习率需要设置得合理。因为我们需要往负梯度前进，因此需要在梯度值前面添加“-”负号。\n",
    "\n",
    "![title](data/other_data/23.jpg)\n",
    "\n",
    "* 然后只需要用当前权重“θo”减去学习率乘以当前梯度值就可以得到新的权重“θ”，当前的权重“θ”就会使得Loss往最小值前进一步了，当然Loss不会理想的一次就能到达最小值，因此我们就需要不断的更新我们的权重“θ”，因为在神经网络中是一个神经元连接另一个神经元，因此需要对每一个权重“θ”通过反向传播的方式进行更新，其中计算的方式就是通过链式法则对每一个权重“θ”进行求导。如下图，我们更新权重“z”是通过Loss对“z”求导，更新权重“x”是通过先对Loss对“z”求导乘以权重“z”对“x”求导；同理可以更新权重“y”。这就是链式法则原理。\n",
    "\n",
    "![title](data/other_data/link.jpg)\n",
    "\n",
    "* 最后通过不断迭代一直到loss很难下降时或者到达我们的预期值，就说明我们的模型就训练好了，因此我们观察模型训练时的一个重要指标就是Loss值，当然还有更直观的就是直接检测我们的模型，测试模型的准确率。\n",
    "\n",
    "* 看起来是不是很复杂，但是不用害怕，pytorch学习框架将这些逻辑已经写好了，我们只需要简单的几行代码他就可以自动进行求导计算并更新权重。"
   ]
  },
  {
   "cell_type": "code",
   "execution_count": null,
   "metadata": {},
   "outputs": [],
   "source": [
    "# 定义训练函数\n",
    "def train():\n",
    "    model = show_box.get_model(num_of_classes, pretrained=True)\n",
    "    # 如果有显卡则让神经网路使用显卡计算，否则使用CPU计算。\n",
    "    device = torch.device(\"cuda:0\" if torch.cuda.is_available() else \"cpu\")\n",
    "    model = model.to(device)\n",
    "    model_name = show_box.model_name()\n",
    "    optimizer = show_box.get_optimizer(model)\n",
    "    # 交叉熵损失函数\n",
    "    loss_fc = nn.CrossEntropyLoss()\n",
    "    print('正在训练！')\n",
    "    for epoch in range(epochs):\n",
    "        # 初始化训练参数\n",
    "        # 准确率\n",
    "        best_accuracy = 0.0\n",
    "        # 损失值\n",
    "        train_loss = 0.0\n",
    "        # 预测正确的类别数量\n",
    "        train_corrects = 0\n",
    "        # 初始化测试参数\n",
    "        test_acc = 0.0\n",
    "        test_loss = 0.0\n",
    "        test_corrects = 0\n",
    "        # 模型训练\n",
    "        model.train()\n",
    "        # 读取“图片”与“标签”\n",
    "        for images, labels in iter(train_loader):\n",
    "            \n",
    "            # 选择设备将“图片”和“标签”输入模型中\n",
    "            images = images.to(device)\n",
    "            labels = labels.to(device)\n",
    "            # 初始化梯度\n",
    "            optimizer.zero_grad()\n",
    "            # 模型前向传播\n",
    "            outputs = model(images)\n",
    "            # 通过交叉熵求出模型预测的结果与真实“标签”之间的误差值loss\n",
    "\n",
    "            tr_loss = loss_fc(outputs, labels)\n",
    "            # 反向传播，通过loss对模型参数进行求导更新参数\n",
    "            tr_loss.backward()\n",
    "            # 使用优化器对模型参数进行更新\n",
    "            optimizer.step()\n",
    "            # 找出概率最大的类别\n",
    "            _, predict = torch.max(outputs, 1)\n",
    "            # 累计预测正确的类别数量\n",
    "            train_corrects += torch.sum(labels.data == predict)\n",
    "            # 累计损失值\n",
    "            train_loss += tr_loss.item() * images.size(0)\n",
    "            \n",
    "        # 计算训练数据集平均损失值\n",
    "        train_loss = train_loss/num_train_dataset\n",
    "        # 计算模型在训练数据集上的准确率\n",
    "        train_acc = train_corrects.item()/num_train_dataset\n",
    "        # 对测试集进行评估\n",
    "        model.eval()\n",
    "        for images, labels in iter(test_loader):\n",
    "            images = images.to(device)\n",
    "            labels = labels.to(device)\n",
    "            with torch.no_grad():\n",
    "                # 前向传播得到预测结果\n",
    "                outputs = model(images)\n",
    "                _, predict = torch.max(outputs, 1)\n",
    "                t_loss = loss_fc(outputs, labels)\n",
    "                # 记录预测正确的数量\n",
    "                test_corrects += torch.sum(labels.data == predict)\n",
    "                # 累计损失值\n",
    "                test_loss += t_loss.item() * images.size(0)\n",
    "        # 计算测试数据集平均损失值        \n",
    "        test_loss = test_loss/num_test_dataset\n",
    "        # 计算模型在测试数据集上的准确率\n",
    "        test_acc = test_corrects.item()/num_test_dataset        \n",
    "        \n",
    "        print('epoch={}'.format(epoch+1))\n",
    "        print('训练数据集准确率为：{:.2%}，误差为：{:.5f}'.format(train_acc, train_loss))\n",
    "        print('测试数据集准确率为：{:.2%}, 误差为：{:.5f}'.format(test_acc, test_loss))\n",
    "\n",
    "        \n",
    "#         保存准确率大于0.6以上模型。\n",
    "        if test_acc>0.6:\n",
    "            if test_acc > best_accuracy:\n",
    "                torch.save(model, 'model/'+ model_name +'_epoch_' + str(epoch+1)+'_accuracy_'+str(int(test_acc*100))+'.pth')\n",
    "                best_accuracy = test_acc"
   ]
  },
  {
   "cell_type": "markdown",
   "metadata": {},
   "source": [
    "# 开始训练"
   ]
  },
  {
   "cell_type": "code",
   "execution_count": null,
   "metadata": {},
   "outputs": [],
   "source": [
    "train()"
   ]
  },
  {
   "cell_type": "markdown",
   "metadata": {},
   "source": [
    "## 开始预测\n",
    "* 选择已经训练好的模型"
   ]
  },
  {
   "cell_type": "code",
   "execution_count": null,
   "metadata": {},
   "outputs": [],
   "source": [
    "show_box.choose_trained_model()"
   ]
  },
  {
   "cell_type": "markdown",
   "metadata": {},
   "source": [
    "## 定义预测函数"
   ]
  },
  {
   "cell_type": "code",
   "execution_count": null,
   "metadata": {},
   "outputs": [],
   "source": [
    "device = torch.device(\"cuda:0\" if torch.cuda.is_available() else \"cpu\")\n",
    "\n",
    "from PIL import Image\n",
    "def predict_img():\n",
    "    trained_state_dict,model_path = show_box.get_trained_model(num_of_classes)\n",
    "    trained_model = torch.load(model_path)\n",
    "    trained_model.to(device)\n",
    "    \n",
    "    # 数据预处理\n",
    "    img_transforms = transforms.Compose([\n",
    "            transforms.Resize((224,224)),\n",
    "            transforms.ToTensor(),\n",
    "            transforms.Normalize([0.471, 0.448, 0.408], [0.234, 0.239, 0.242])\n",
    "        ])\n",
    "    \n",
    "    # 获取图像数据  \n",
    "    pil_imgs = show_box.get_test_img()\n",
    "    \n",
    "    labels =[]\n",
    "    probs = []\n",
    "    for pil_img in pil_imgs:\n",
    "        image = img_transforms(pil_img).unsqueeze(0).to(device)\n",
    "       \n",
    "        # 将数据输入模型得到预测结果\n",
    "        output = trained_model(image)\n",
    "        # 将预测结果通过softmax函数将结果映射到0-1之间（概率）\n",
    "        output = F.softmax(output, dim=1)\n",
    "        # 求出概率最大的类别概率与类别索引\n",
    "        prob, predict = torch.max(output, 1)\n",
    "        # 通过索引找到具体预测的类别。\n",
    "        label = classes[predict]\n",
    "        labels.append(label)\n",
    "        probs.append(str('{:.2f}%'.format(prob.item()*100)))\n",
    "        \n",
    "    # 展示预测结果\n",
    "    show_box.show_predict(labels, probs)"
   ]
  },
  {
   "cell_type": "markdown",
   "metadata": {},
   "source": [
    "## 选择需要预测的图片\n",
    "\n",
    "* 你可以选择我们准备好的测试集，测试图片放在“test_img”文件夹下，只需要使用“show_box.choose_test_img('test_img')”。\n",
    "* 你也可以选择上传自己的图片进行预测，直接使用“show_box.choose_test_img()”。"
   ]
  },
  {
   "cell_type": "code",
   "execution_count": null,
   "metadata": {},
   "outputs": [],
   "source": [
    "show_box.choose_test_img()"
   ]
  },
  {
   "cell_type": "markdown",
   "metadata": {
    "jupyter": {
     "outputs_hidden": true
    }
   },
   "source": [
    "## 开始预测\n",
    "\n",
    "![title](data/other_data/prediction.jpg)"
   ]
  },
  {
   "cell_type": "code",
   "execution_count": null,
   "metadata": {},
   "outputs": [],
   "source": [
    "predict_img()"
   ]
  },
  {
   "cell_type": "code",
   "execution_count": null,
   "metadata": {},
   "outputs": [],
   "source": []
  }
 ],
 "metadata": {
  "kernelspec": {
   "display_name": "Python 3",
   "language": "python",
   "name": "python3"
  },
  "language_info": {
   "codemirror_mode": {
    "name": "ipython",
    "version": 3
   },
   "file_extension": ".py",
   "mimetype": "text/x-python",
   "name": "python",
   "nbconvert_exporter": "python",
   "pygments_lexer": "ipython3",
   "version": "3.6.8"
  }
 },
 "nbformat": 4,
 "nbformat_minor": 4
}
