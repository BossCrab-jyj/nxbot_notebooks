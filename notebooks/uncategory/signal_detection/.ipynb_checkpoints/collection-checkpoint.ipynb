{
 "cells": [
  {
   "cell_type": "markdown",
   "metadata": {},
   "source": [
    "# 标识牌数据收集\n",
    "在这个实验中，我们想让机器人在路径跟踪的过程中还能识别我们的标识牌，我们准备了7个标识牌包括有，前进，左转，右转，掉头，停止，红灯，绿灯，黄灯，红黄灯还有一个背景类别(增加背景这个类别可以降低错误识别率)。"
   ]
  },
  {
   "cell_type": "markdown",
   "metadata": {},
   "source": [
    "## 1.打开摄像头，开始收集图片\n",
    "当你点击对应的按钮后，将会保存当前的图片到\"dataset\"目录下的对应类别文件夹里，可以打开文件夹查看图片是否保存成功。\n",
    "图片收集技巧：\n",
    "1. 如果只考虑机器人在自己的跑道上进行识别标识牌，我们可以只在跑道的不同位置进行图片收集，如果想让机器人在不同场景下对标识牌也能进行识别的话，就需要让机器人在不同场景，不同光照情况下进行图片收集，来提高数据的多样性。\n",
    "2. 收集图片时，将标识牌放置在小车前面，通过观看显示的图像窗口来调整标识牌放置的位置，要求在距离机器人20-50cm的位置不停的更换距离，角度和位置来收集图片。\n",
    "3. 尽量保证每个类别的数量一致。\n",
    "4. 每个类别至少收集20张图片，你可以和小伙伴们一起来完成图片的收集。\n",
    "5. 注意将对应的标识牌正确的放在所属的类别里面，如果放错了会降低机器人的识别率哦！"
   ]
  },
  {
   "cell_type": "code",
   "execution_count": null,
   "metadata": {},
   "outputs": [],
   "source": [
    "from collection import *"
   ]
  },
  {
   "cell_type": "markdown",
   "metadata": {},
   "source": [
    "## 2.创建图片保存文件夹"
   ]
  },
  {
   "cell_type": "code",
   "execution_count": null,
   "metadata": {},
   "outputs": [],
   "source": [
    "\n",
    "name = rbt.name\n",
    "rbt.connect()\n",
    "rbt.camera.start()\n",
    "\n",
    "rbt.event_manager.add_event_listener(event.EventTypes.NEW_CAMERA_IMAGE,on_new_image)\n",
    "\n",
    "display(widgets.HBox([image_widget, widgets.VBox([controls_box, collect_box])]))\n",
    "if name == 'dachbot':\n",
    "    display(camera_y_slider)\n",
    "elif name == 'dbot':\n",
    "    display(widgets.VBox([camera_x_slider,camera_y_slider]))\n",
    "display(widgets.HBox([delete_button, make_dir_button]))"
   ]
  },
  {
   "cell_type": "markdown",
   "metadata": {},
   "source": [
    "## 7.断开与机器人的连接"
   ]
  },
  {
   "cell_type": "code",
   "execution_count": null,
   "metadata": {},
   "outputs": [],
   "source": [
    "# rbt.disconnect()"
   ]
  },
  {
   "cell_type": "code",
   "execution_count": null,
   "metadata": {},
   "outputs": [],
   "source": []
  }
 ],
 "metadata": {
  "kernelspec": {
   "display_name": "Python 3",
   "language": "python",
   "name": "python3"
  },
  "language_info": {
   "codemirror_mode": {
    "name": "ipython",
    "version": 3
   },
   "file_extension": ".py",
   "mimetype": "text/x-python",
   "name": "python",
   "nbconvert_exporter": "python",
   "pygments_lexer": "ipython3",
   "version": "3.6.9"
  }
 },
 "nbformat": 4,
 "nbformat_minor": 4
}
