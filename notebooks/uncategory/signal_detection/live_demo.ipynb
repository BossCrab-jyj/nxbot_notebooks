{
 "cells": [
  {
   "cell_type": "markdown",
   "metadata": {},
   "source": [
    "# 交通标识牌识别\n",
    "\n"
   ]
  },
  {
   "cell_type": "markdown",
   "metadata": {},
   "source": [
    "![title](other_data/01.jpg)\n",
    "\n",
    "* 模型简介：\n",
    "\n",
    "    该模型模拟真实汽车行驶在马路上的场景，我们的机器人会在给定的图中进行行驶，当机器人看到斑马线时就开始进行标识牌识别，识别的标识牌有直行、左转、右转、停止、掉头、红灯、绿灯、黄灯，然后在识别到标识牌后做出相应的动作。\n",
    "\n",
    "* 模型最佳运行环境：室内，白色灯光下。\n",
    "    模型所需材料：机器人1台，地图1张，标识牌5张，红绿灯1个。\n",
    "\n",
    "* 模型玩法：\n",
    "    1. 将机器人放置在地图跑道上；\n",
    "    2. 将标识牌放置在地图上；\n",
    "    3. 运行该页面所有代码块；\n",
    "    4. 调整速度值与转向增益值；\n",
    "    5. 点击开始按钮开始进行巡线；\n",
    "    6. 根据实际场景调整巡线（黑色）HSV颜色范围值。\n",
    "\n",
    "![title](other_data/02.jpg)"
   ]
  },
  {
   "cell_type": "markdown",
   "metadata": {},
   "source": [
    "## 1.导入所需模块"
   ]
  },
  {
   "cell_type": "code",
   "execution_count": 1,
   "metadata": {},
   "outputs": [
    {
     "name": "stdout",
     "output_type": "stream",
     "text": [
      "\n",
      "********************************************************\n",
      "*                NXROBO - 机器人SDK                    *\n",
      "********************************************************\n",
      "                 当前SDK版本: 0.6.2\n",
      "            \n"
     ]
    }
   ],
   "source": [
    "from nxbot import Robot,event,bgr8_to_jpeg\n",
    "import torchvision\n",
    "import torch\n",
    "import torchvision.transforms as transforms\n",
    "import torch.nn.functional as F\n",
    "import cv2\n",
    "import PIL\n",
    "import numpy as np\n",
    "from IPython.display import display\n",
    "import ipywidgets\n",
    "import traitlets\n",
    "import ipywidgets.widgets as widgets\n",
    "import time\n",
    "import threading\n",
    "from PIL import ImageDraw,ImageFont\n",
    "from PIL import Image\n",
    "from ipywidgets import Layout, Box, Dropdown, Label\n",
    "import random"
   ]
  },
  {
   "cell_type": "markdown",
   "metadata": {},
   "source": [
    "## 2.创建可视化小部件"
   ]
  },
  {
   "cell_type": "code",
   "execution_count": 2,
   "metadata": {},
   "outputs": [],
   "source": [
    "image_widget = widgets.Image(format='jpeg')\n",
    "mask_widget = widgets.Image(format='jpeg')\n",
    "\n",
    "# 控制滑块\n",
    "speed_gain_slider = ipywidgets.FloatSlider(min=0, max=0.3, step=0.01, value=0.13, description='速度')\n",
    "steering_gain_slider = ipywidgets.FloatSlider(min=0.0, max=2.0, step=0.01, value=1.2, description='转向增益')\n",
    "steering_dgain_slider = ipywidgets.FloatSlider(min=0.0, max=0.05, step=0.01, value=0.03, description='回正微调')\n",
    "\n",
    "\n",
    "state_info = widgets.Textarea(\n",
    "    placeholder='NXROBO',\n",
    "    description='状态信息',\n",
    "    disabled=False\n",
    ")\n",
    "\n",
    "# HSV默认范围值\n",
    "H_MIN_slider = ipywidgets.IntSlider(min=0, max=180, step=1, value=0, description='H_MIN')\n",
    "\n",
    "H_MAX_slider = ipywidgets.IntSlider(min=0, max=180, step=1, value=180, description='H_MAX')\n",
    "\n",
    "S_MIN_slider = ipywidgets.IntSlider(min=0, max=255, step=1, value=0, description='S_MIN')\n",
    "\n",
    "S_MAX_slider = ipywidgets.IntSlider(min=0, max=255, step=1, value=255, description='S_MAX')\n",
    "\n",
    "V_MIN_slider = ipywidgets.IntSlider(min=0, max=255, step=1, value=0, description='V_MIN')\n",
    "\n",
    "V_MAX_slider = ipywidgets.IntSlider(min=0, max=255, step=1, value=120, description='V_MAX')\n",
    "\n",
    "HSV_BOX = widgets.VBox([H_MIN_slider,H_MAX_slider,S_MIN_slider,S_MAX_slider,V_MIN_slider,V_MAX_slider])\n"
   ]
  },
  {
   "cell_type": "markdown",
   "metadata": {},
   "source": [
    "## 3.创建可编辑HSV颜色阈值功能模块\n",
    "可以通过拖动滑块去设置需要识别颜色的HSV范围值"
   ]
  },
  {
   "cell_type": "code",
   "execution_count": 3,
   "metadata": {},
   "outputs": [],
   "source": [
    "def line_hsv():\n",
    "    h_min = H_MIN_slider.value\n",
    "    s_min = S_MIN_slider.value\n",
    "    v_min = V_MIN_slider.value\n",
    "    \n",
    "    h_max = H_MAX_slider.value\n",
    "    s_max = S_MAX_slider.value\n",
    "    v_max = V_MAX_slider.value\n",
    "    \n",
    "    color_lower = np.array([h_min,s_min,v_min])\n",
    "    color_upper = np.array([h_max,s_max,v_max])\n",
    "    \n",
    "    return color_lower,color_upper"
   ]
  },
  {
   "cell_type": "markdown",
   "metadata": {},
   "source": [
    "## 4.交通标识牌识别模型准备"
   ]
  },
  {
   "cell_type": "code",
   "execution_count": 4,
   "metadata": {},
   "outputs": [
    {
     "name": "stdout",
     "output_type": "stream",
     "text": [
      "模型已加载！\n"
     ]
    }
   ],
   "source": [
    "# 数据预处理。\n",
    "img_size = 224\n",
    "mean = 255.0 * np.array([0.52, 0.516, 0.501])\n",
    "stdev = 255.0 * np.array([0.33, 0.311, 0.33])\n",
    "normalize = transforms.Normalize(mean, stdev)\n",
    "\n",
    "def preprocess(image):\n",
    "    image = cv2.resize(image,(img_size, img_size),interpolation=cv2.INTER_CUBIC)\n",
    "    image = cv2.cvtColor(image, cv2.COLOR_BGR2RGB)\n",
    "    image = image.transpose((2, 0, 1))\n",
    "    image = np.ascontiguousarray(image, dtype=np.float32)\n",
    "    image = normalize(torch.from_numpy(image)).unsqueeze(0).cuda()\n",
    "    return image\n",
    "\n",
    "# 加载交通标识牌识别模型\n",
    "model_path = '../../../models/local/mobilenetv2/signal_classification.pth'\n",
    "detect_model = torch.load(model_path)\n",
    "detect_model.cuda()\n",
    "\n",
    "# 测试模型是否正常\n",
    "try:\n",
    "    img_data = np.ones([img_size, img_size, 3],np.float32)\n",
    "    detect_model(preprocess(img_data))\n",
    "    print('模型已加载！')\n",
    "except Exception as result:\n",
    "    print('请检查模型是否正确',result)"
   ]
  },
  {
   "cell_type": "markdown",
   "metadata": {},
   "source": [
    "## 5.创建交通标识牌类别与机器人状态信息"
   ]
  },
  {
   "cell_type": "code",
   "execution_count": 5,
   "metadata": {},
   "outputs": [],
   "source": [
    "global label_list\n",
    "label_list = ['bg','直行','左转','右转','停止标志','掉头','红灯','红黄灯','绿灯','黄灯']\n",
    "# 通过字典表示标识牌其识别到的次数\n",
    "init_signal = {'bg':0, '直行':0,'左转':0,'右转':0,'停止标志':0,'掉头':0,'红灯':0,'红黄灯':0,'绿灯':0,'黄灯':0}\n",
    "\n",
    "global rbs\n",
    "rbs = {'cx':None,'dis_center':None,'task':None,'label':None,'last_label':'','steering':0,'find_turn':False,\n",
    "       'interval':11,'停止标志':0,'直行':0,'line_area':False,'last_dis':200,'start_time':0,'start_button':True}\n",
    "\n",
    "global signals\n",
    "signals = init_signal"
   ]
  },
  {
   "cell_type": "markdown",
   "metadata": {},
   "source": [
    "## 6.创建中文字体显示模块"
   ]
  },
  {
   "cell_type": "code",
   "execution_count": 6,
   "metadata": {},
   "outputs": [],
   "source": [
    "def cv2ImgAddText(img, text, left, top, textColor=(0, 255, 0), textSize=20):\n",
    "    if (isinstance(img, np.ndarray)):  #判断是否OpenCV图片类型\n",
    "        img = Image.fromarray(cv2.cvtColor(img, cv2.COLOR_BGR2RGB))\n",
    "    draw = ImageDraw.Draw(img)\n",
    "    fontText = ImageFont.truetype(\n",
    "        \"/usr/share/fonts/windows/simhei.ttf\", textSize, encoding=\"utf-8\")\n",
    "    draw.text((left, top), text, textColor, font=fontText)\n",
    "    return cv2.cvtColor(np.asarray(img), cv2.COLOR_RGB2BGR)"
   ]
  },
  {
   "cell_type": "markdown",
   "metadata": {},
   "source": [
    "## 7.创建开始与停止按钮"
   ]
  },
  {
   "cell_type": "code",
   "execution_count": 7,
   "metadata": {},
   "outputs": [],
   "source": [
    "# 创建按钮外观。\n",
    "button_layout = widgets.Layout(width='100px', height='80px', align_self='center')\n",
    "\n",
    "#创建开始与停止按钮。\n",
    "start_button = widgets.Button(description='开始运行', layout=button_layout)\n",
    "stop_button = widgets.Button(description='停止运行', button_style='danger', layout=button_layout)\n",
    "\n",
    "def start(change):\n",
    "    global rbs\n",
    "    rbs['task']='find_color_white'\n",
    "    rbs['start_button'] = True\n",
    "def stop(change):\n",
    "    global rbs\n",
    "    rbs['task']=None\n",
    "\n",
    "# 将开始与停止绑定到按钮上\n",
    "start_button.on_click(start)\n",
    "stop_button.on_click(stop)\n"
   ]
  },
  {
   "cell_type": "markdown",
   "metadata": {},
   "source": [
    "## 8.定义颜色识别功能模块"
   ]
  },
  {
   "cell_type": "code",
   "execution_count": 8,
   "metadata": {},
   "outputs": [],
   "source": [
    "kernel = np.ones((5, 5), np.uint8)\n",
    "\n",
    "def color_detection(image,rbs):\n",
    "    hsv=cv2.cvtColor(image,cv2.COLOR_BGR2HSV)\n",
    "    # HSV颜色范围\n",
    "    color_lower, color_upper = line_hsv()\n",
    "    # 固定HSV颜色范围\n",
    "    mask=cv2.inRange(hsv,color_lower,color_upper)\n",
    "    # 图像腐蚀\n",
    "    mask=cv2.erode(mask,kernel,iterations=1)\n",
    "    # 图像膨胀\n",
    "    mask=cv2.dilate(mask,kernel,iterations=1)\n",
    "    # 图像滤波，卷积核5×5，标准差为0\n",
    "    mask=cv2.GaussianBlur(mask,(5,5),0)\n",
    "    \n",
    "    regin = np.array([[(40, image.shape[0]), (100, 250), (200, 250), (260, image.shape[0])]])\n",
    "    mask_ = np.zeros_like(mask)\n",
    "    mask_color = 255  # src3图像的通道数是1，且是灰度图像，所以颜色值在0-255\n",
    "    cv2.fillPoly(mask_, regin, mask_color)\n",
    "    mask = cv2.bitwise_and(mask, mask_)\n",
    "    # 显示二值图\n",
    "    mask_widget.value = bgr8_to_jpeg(mask)\n",
    "    \n",
    "    # 找出滤波后的图像轮廓\n",
    "    cnts=cv2.findContours(mask.copy(),cv2.RETR_EXTERNAL,cv2.CHAIN_APPROX_SIMPLE)[0]\n",
    "    # 如果有轮廓\n",
    "    if len(cnts)>0:\n",
    "        rbs['last_dis'] = 200\n",
    "        for cnt in cnts:\n",
    "            area = int(cv2.contourArea(cnt))\n",
    "            # 限制轮廓大小\n",
    "            if area in range(500,3000):\n",
    "                rbs['line_area'] = area\n",
    "                # 计算轮廓顶点\n",
    "                cx,cy,w,h = cv2.boundingRect(cnt)\n",
    "                cv2.rectangle(image, (cx, cy), (cx + w, cy + h), (0, 255, 0), 2)\n",
    "                cv2.drawContours(image,[cnt],0,(0,0,255),-1)\n",
    "                box_center = np.asarray([cx,cy])\n",
    "                img_center = np.asarray([image.shape[1]/2,image.shape[0]/2])\n",
    "                # 计算轮廓到图像中心点的距离\n",
    "                rbs['dis_center'] = np.sqrt(np.sum((box_center - img_center) ** 2))\n",
    "                # 找出距离中心点最近的轮廓\n",
    "                if rbs['dis_center']<rbs['last_dis']:\n",
    "                    rbs['last_dis']=rbs['dis_center']\n",
    "                    rbs['cx'] = cx\n",
    "                \n",
    "                \n",
    "    return image"
   ]
  },
  {
   "cell_type": "markdown",
   "metadata": {},
   "source": [
    "## 9.定义交通标识牌识别模块"
   ]
  },
  {
   "cell_type": "code",
   "execution_count": 9,
   "metadata": {},
   "outputs": [],
   "source": [
    "def signal_detection(image,signals,rbs):\n",
    "    # 图像经过预处理再输入模型\n",
    "    out = detect_model(preprocess(image))\n",
    "    # 得出预测概率最大的概率值与对应的索引编号\n",
    "    prob, index = torch.max(F.softmax(out,1), 1)\n",
    "    # 通过索引编号找到对应实际类别\n",
    "    label = label_list[index]\n",
    "    # 如果不是背景类别\n",
    "    if label!='bg':\n",
    "        # 判断是否连续看到相同类别\n",
    "        if rbs['last_label'] == label:\n",
    "            signals[label]+=1\n",
    "        else:\n",
    "            signals[label]=0\n",
    "        rbs['last_label'] = label\n",
    "        display_txt = '检测到标志：'+ label\n",
    "        # 如果连续2次看到相同类别，就将该类别进行保存\n",
    "        if signals[label]>2:\n",
    "            rbs['label']=label\n",
    "        image = cv2ImgAddText(image, display_txt, 20, 20, (255, 0, 0), 25)\n",
    "        \n",
    "    else:\n",
    "        rbs['label']=None\n",
    "        signals['bg']+=1\n",
    "        if signals['bg']>20:\n",
    "            # 初始化所有标志数量为0\n",
    "            signals=init_signal\n",
    "            signals[label]=0\n",
    "    return image"
   ]
  },
  {
   "cell_type": "markdown",
   "metadata": {},
   "source": [
    "## 10.定义图像获取线程"
   ]
  },
  {
   "cell_type": "code",
   "execution_count": 10,
   "metadata": {},
   "outputs": [],
   "source": [
    "global detect_flag\n",
    "detect_flag = True\n",
    "def detection():\n",
    "    while detect_flag:\n",
    "        time.sleep(0.03)\n",
    "        image = rbt.camera.read()\n",
    "        global rbs\n",
    "        global signals\n",
    "        \n",
    "        if image is not None:\n",
    "            if rbs['task'] is not None:\n",
    "                # 如果任务为交通标识牌检测\n",
    "                if rbs['task']=='detect_signal':\n",
    "                    image = signal_detection(image,signals,rbs)\n",
    "                # 如果是巡线\n",
    "                else:\n",
    "                    image = color_detection(image,rbs)\n",
    "            # 将图像传输给图像显示部件\n",
    "            image_widget.value = bgr8_to_jpeg(cv2.resize(image, (320, 240)))\n",
    "            \n",
    "# 创建线程\n",
    "process1 = threading.Thread(target=detection,)"
   ]
  },
  {
   "cell_type": "markdown",
   "metadata": {},
   "source": [
    "## 11.定义任务执行线程\n",
    "该线程作为机器人动作执行模块，当机器人执行相应的任务，机器人就会做出相应的动作"
   ]
  },
  {
   "cell_type": "code",
   "execution_count": 11,
   "metadata": {},
   "outputs": [],
   "source": [
    "global speech_word\n",
    "speech_word=None\n",
    "\n",
    "def action():\n",
    "    global speech_word\n",
    "    last_steering = 0\n",
    "    lost_line_time = 0\n",
    "    first_start = True\n",
    "    while detect_flag:\n",
    "        time.sleep(0.1)\n",
    "        global rbs\n",
    "        global signals\n",
    "        rbs['interval'] = time.time()-rbs['start_time']\n",
    "        if rbs['task'] is not None:\n",
    "            state_info.value = rbs['task']\n",
    "        if rbs['task'] is None:\n",
    "            rbt.base.move(0,0,0)\n",
    "        elif rbs['task']=='find_color_white':\n",
    "            speed = speed_gain_slider.value\n",
    "            if rbs['cx'] is not None:\n",
    "                steering = (150-rbs['cx'])/150 * steering_gain_slider.value\n",
    "                steering = (steering - (steering + last_steering)*steering_dgain_slider.value)\n",
    "                rbt.base.move(speed, 0, steering)\n",
    "                if rbs['line_area'] in range(1500,3000):\n",
    "                    if first_start:\n",
    "                        rbt.base.move(0, 0, 0)\n",
    "                        state_info.value = '发现斑马线'\n",
    "                        speech_word = '发现斑马线'\n",
    "                        rbs['task'] = 'find_zebera_line'\n",
    "                        first_start = False\n",
    "                    else:\n",
    "                        if rbs['interval']>10:\n",
    "                            rbt.base.move(0, 0, 0)\n",
    "                            state_info.value = '发现斑马线'\n",
    "                            speech_word = '发现斑马线'\n",
    "                            rbs['task'] = 'find_zebera_line'\n",
    "                        \n",
    "                       \n",
    "                last_steering = steering\n",
    "                lost_line_time = 0\n",
    "                rbs['start_button']=False\n",
    "            else:\n",
    "                state_info.value = '没有找到line'\n",
    "                lost_line_time+=1\n",
    "\n",
    "                if lost_line_time<20 and rbs['start_button']==False:\n",
    "                    rbt.base.move(speed*0.8, 0, last_steering)\n",
    "                else:\n",
    "                    rbt.base.move(0, 0, 0)\n",
    "            rbs['cx'] = None\n",
    "\n",
    "        elif rbs['task']=='find_zebera_line':\n",
    "            \n",
    "            state_info.value = '开始检测标识牌'\n",
    "            speech_word = '开始检测标识牌'\n",
    "            rbt.base.move(0,0,0)\n",
    "            rbt.base.set_ptz(20)\n",
    "            rbs['task']='detect_signal'\n",
    "            time.sleep(3)\n",
    "\n",
    "        elif rbs['task']=='detect_signal':\n",
    "            if rbs['label'] is None:\n",
    "                state_info.value = '没有发现标识牌'\n",
    "                speech_word = '没有发现标识牌'\n",
    "                rbt.base.set_ptz(-45)\n",
    "                time.sleep(2)\n",
    "                rbs['task'] = 'flollowing_line'\n",
    "                rbs['start_time'] = time.time()\n",
    "            else:\n",
    "                speech_word = '识别到'+ rbs['label']\n",
    "                if rbs['label'] in ['停止标志','红灯','黄灯','红黄灯']:\n",
    "                    rbt.base.move(0,0,0)\n",
    "                else:\n",
    "                    \n",
    "                    rbt.base.set_ptz(-45)\n",
    "                    time.sleep(1)\n",
    "                    if rbs['label'] == '绿灯':\n",
    "                        rbs['start_time'] = time.time()\n",
    "                        rbs['task']='flollowing_line'\n",
    "                        \n",
    "                    elif rbs['label'] =='直行':\n",
    "                        rbs['start_time'] = time.time()\n",
    "                        rbs['task']='flollowing_line'\n",
    "                        \n",
    "                    elif rbs['label'] == '左转':\n",
    "                        rbs['start_time'] = time.time()\n",
    "                        rbs['task'] = 'flollowing_line'\n",
    "                        rbs['find_turn'] = True\n",
    "                        \n",
    "                    elif rbs['label'] == '右转':\n",
    "                        rbs['start_time'] = time.time()\n",
    "                        rbs['task'] = 'flollowing_line'\n",
    "                        rbs['find_turn'] = True\n",
    "                        \n",
    "                    elif rbs['label'] == '掉头':\n",
    "                        if random.random()<0.5:\n",
    "                            rbt.base.turn(180,True)\n",
    "                        rbs['task'] = 'find_color_white'\n",
    "                        rbs['label']=None\n",
    "                    \n",
    "        \n",
    "        elif rbs['task']=='flollowing_line':\n",
    "            speed = speed_gain_slider.value\n",
    "            \n",
    "            if rbs['find_turn']:\n",
    "                if rbs['label']=='左转':\n",
    "                    if rbs['line_area'] in range(1300,3000):\n",
    "                        if rbs['interval']>2:\n",
    "                            rbt.base.forward(0.12, 1, True)\n",
    "                            rbt.base.turn(90)\n",
    "                            time.sleep(5)\n",
    "                            rbs['find_turn'] = False\n",
    "                            rbs['label']=None\n",
    "                            rbs['task']='find_color_white'\n",
    "                            rbs['start_time'] = time.time()\n",
    "                    else:\n",
    "                        if rbs['cx'] is not None:\n",
    "                            steering = (150-rbs['cx'])/150 * steering_gain_slider.value\n",
    "                            steering = (steering - (steering + last_steering)*steering_dgain_slider.value)\n",
    "                            rbt.base.move(0.13, 0, steering)\n",
    "                        else:\n",
    "                            rbt.base.move(0, 0, 0)\n",
    "\n",
    "                elif rbs['label']=='右转':\n",
    "                    if rbs['line_area'] in range(1300,3000):\n",
    "                        if rbs['interval']>2:\n",
    "                            rbt.base.forward(0.12, 1, True)\n",
    "                            rbt.base.turn(-90)\n",
    "                            time.sleep(5)\n",
    "                            rbs['find_turn'] = False\n",
    "                            rbs['label']=None\n",
    "                            rbs['task']='find_color_white'\n",
    "                            rbs['start_time'] = time.time()\n",
    "                    else:\n",
    "                        if rbs['cx'] is not None:\n",
    "                            steering = (150-rbs['cx'])/150 * steering_gain_slider.value\n",
    "                            steering = (steering - (steering + last_steering)*steering_dgain_slider.value)\n",
    "                            rbt.base.move(0.13, 0, steering)\n",
    "                        else:\n",
    "                            rbt.base.move(0, 0, 0) \n",
    "                \n",
    "            else:    \n",
    "                if rbs['interval']<5:\n",
    "                    if rbs['cx'] is not None and int(rbs['cx']) in range(80,220):\n",
    "                        steering = (150-rbs['cx'])/150 * steering_gain_slider.value\n",
    "                        steering = (steering - (steering + last_steering)*steering_dgain_slider.value)\n",
    "                        rbt.base.move(speed, 0, steering)\n",
    "                        lost_line_time = 0\n",
    "                    else:\n",
    "                        lost_line_time+=1\n",
    "                        \n",
    "                    if lost_line_time<30:\n",
    "                        rbt.base.move(speed*0.8, 0, last_steering)\n",
    "                    else:\n",
    "                        rbt.base.move(0, 0, 0)\n",
    "                        \n",
    "                else:\n",
    "                    rbs['task']='find_color_white'\n",
    "                    rbs['label']=None\n",
    "             \n",
    "            last_steering = steering\n",
    "        \n",
    "process2 = threading.Thread(target=action,)"
   ]
  },
  {
   "cell_type": "markdown",
   "metadata": {},
   "source": [
    "## 12.定义语音合成线程\n",
    "该线程用于接收需要外放的词语，并通过语音合成进行执行"
   ]
  },
  {
   "cell_type": "code",
   "execution_count": 12,
   "metadata": {},
   "outputs": [],
   "source": [
    "def run_speech():\n",
    "    last_word = ''\n",
    "    while detect_flag:\n",
    "        time.sleep(0.05)\n",
    "        global speech_word\n",
    "        if speech_word is not None:\n",
    "            state_info.value = speech_word\n",
    "            if last_word!= speech_word:\n",
    "                rbt.speech.play_text(speech_word,True)\n",
    "                last_word = speech_word\n",
    "                speech_word = None\n",
    "# 创建线程\n",
    "process3 = threading.Thread(target=run_speech,)"
   ]
  },
  {
   "cell_type": "markdown",
   "metadata": {},
   "source": [
    "## 13.启动机器人，启动设定的线程，打开可视化小部件\n",
    "* 运行成功后会显示机器人视角（彩色图像和巡线HSV过滤后的二值图像），机器人参数调整小部件。\n",
    "\n",
    "* 默认有固定速度与转向增益值，只需要点击开始即可运行。\n",
    "\n",
    "* 当机器人识别不到巡线的颜色时（可以通过HSV过滤后的二值图像判断），手动调整HSV颜色范围值。"
   ]
  },
  {
   "cell_type": "code",
   "execution_count": 13,
   "metadata": {},
   "outputs": [
    {
     "data": {
      "application/vnd.jupyter.widget-view+json": {
       "model_id": "105d9bd1af3e4e97b71ecbb5cffb236b",
       "version_major": 2,
       "version_minor": 0
      },
      "text/plain": [
       "HBox(children=(Image(value=b'', format='jpeg'), Image(value=b'', format='jpeg')))"
      ]
     },
     "metadata": {},
     "output_type": "display_data"
    },
    {
     "data": {
      "application/vnd.jupyter.widget-view+json": {
       "model_id": "d684015d149643f4a77eec511884b561",
       "version_major": 2,
       "version_minor": 0
      },
      "text/plain": [
       "VBox(children=(FloatSlider(value=0.13, description='速度', max=0.3, step=0.01), FloatSlider(value=1.2, descripti…"
      ]
     },
     "metadata": {},
     "output_type": "display_data"
    },
    {
     "data": {
      "application/vnd.jupyter.widget-view+json": {
       "model_id": "16d0308abf744f24ba935065344636c7",
       "version_major": 2,
       "version_minor": 0
      },
      "text/plain": [
       "HBox(children=(Button(description='开始运行', layout=Layout(align_self='center', height='80px', width='100px'), st…"
      ]
     },
     "metadata": {},
     "output_type": "display_data"
    },
    {
     "data": {
      "application/vnd.jupyter.widget-view+json": {
       "model_id": "0abceb58815541a78f3fe287297edaac",
       "version_major": 2,
       "version_minor": 0
      },
      "text/plain": [
       "VBox(children=(IntSlider(value=0, description='H_MIN', max=180), IntSlider(value=180, description='H_MAX', max…"
      ]
     },
     "metadata": {},
     "output_type": "display_data"
    },
    {
     "data": {
      "application/vnd.jupyter.widget-view+json": {
       "model_id": "3f05efd4b60046e5af4c18d501b35639",
       "version_major": 2,
       "version_minor": 0
      },
      "text/plain": [
       "Textarea(value='', description='状态信息', placeholder='NXROBO')"
      ]
     },
     "metadata": {},
     "output_type": "display_data"
    }
   ],
   "source": [
    "rbt = Robot()\n",
    "rbt.connect()\n",
    "rbt.camera.start()\n",
    "rbt.base.set_ptz(-45)\n",
    "# 启动线程\n",
    "process1.start()\n",
    "process2.start()\n",
    "process3.start()\n",
    "display(widgets.HBox([image_widget,mask_widget]))\n",
    "display(widgets.VBox([speed_gain_slider,steering_gain_slider, steering_dgain_slider]))\n",
    "display(widgets.HBox([start_button,stop_button]))\n",
    "display(HSV_BOX,state_info)"
   ]
  },
  {
   "cell_type": "markdown",
   "metadata": {},
   "source": [
    "## 18.断开与机器人的连接"
   ]
  },
  {
   "cell_type": "code",
   "execution_count": 14,
   "metadata": {},
   "outputs": [],
   "source": [
    "# detect_flag = False\n",
    "# rbt.disconnect()"
   ]
  },
  {
   "cell_type": "code",
   "execution_count": null,
   "metadata": {},
   "outputs": [],
   "source": []
  }
 ],
 "metadata": {
  "kernelspec": {
   "display_name": "Python 3",
   "language": "python",
   "name": "python3"
  },
  "language_info": {
   "codemirror_mode": {
    "name": "ipython",
    "version": 3
   },
   "file_extension": ".py",
   "mimetype": "text/x-python",
   "name": "python",
   "nbconvert_exporter": "python",
   "pygments_lexer": "ipython3",
   "version": "3.6.9"
  }
 },
 "nbformat": 4,
 "nbformat_minor": 4
}
