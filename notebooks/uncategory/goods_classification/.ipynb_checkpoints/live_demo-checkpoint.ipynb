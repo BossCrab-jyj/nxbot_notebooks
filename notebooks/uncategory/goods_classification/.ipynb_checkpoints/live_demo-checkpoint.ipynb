{
 "cells": [
  {
   "cell_type": "markdown",
   "metadata": {},
   "source": [
    "# 智能码货\n",
    "\n",
    "* 模型简介：\n",
    "\n",
    "    该模型模拟机器人进行物品识别，然后将物品放置在对应的类别区域中，我们的机器人会在给定的图中进行行驶，当机器人识别到物品后，机器人会一边巡线一边寻找物品对应的类别颜色块，当识别到类别颜色块后，机器人就会停下来将将货物放下，放下后机器人再回到道路上进行巡线，直到回到起始点。\n",
    "\n",
    "* 模型最佳运行环境：室内，白色灯光下。\n",
    "\n",
    "* 模型所需材料：机器人1台，地图1张，商品方块20个(书包, 可乐, 圆规, 尺子, 果汁, 橡皮擦, 沐浴露, 洗发水, 洗洁精, 洗衣液, 爆米花, 牛奶, 笔, 茶, 薯片, 衣服, 裤子, 面包, 鞋子, 饼干)，商品类别颜色标识牌5个。\n",
    "\n",
    "![title](other_data/03.png)  ![title](other_data/5.jpg)\n",
    "\n",
    "* 模型玩法：\n",
    "    1. 将机器人放置在地图跑道上；\n",
    "    2. 将商品类别颜色标识牌放置在跑道上；\n",
    "    2. 运行该页面所有代码块；\n",
    "    3. 调整速度值与转向增益值；\n",
    "    4. 点击开始按钮进行商品识别，识别完成之后机器人就开始自动进行分类码货了。\n",
    "\n",
    "![title](other_data/4.jpg)\n",
    "\n",
    "## 1.导入所需模块"
   ]
  },
  {
   "cell_type": "code",
   "execution_count": null,
   "metadata": {},
   "outputs": [],
   "source": [
    "from nxbot import Robot,event,bgr8_to_jpeg\n",
    "import torchvision\n",
    "import torch\n",
    "import torchvision.transforms as transforms\n",
    "import torch.nn.functional as F\n",
    "import cv2\n",
    "import PIL\n",
    "import numpy as np\n",
    "from IPython.display import display\n",
    "import ipywidgets\n",
    "import traitlets\n",
    "import ipywidgets.widgets as widgets\n",
    "import time\n",
    "import threading"
   ]
  },
  {
   "cell_type": "markdown",
   "metadata": {},
   "source": [
    "## 2.创建可视化小部件"
   ]
  },
  {
   "cell_type": "code",
   "execution_count": null,
   "metadata": {},
   "outputs": [],
   "source": [
    "image_widget = widgets.Image(format='jpeg')\n",
    "mask_line = widgets.Image(format='jpeg')\n",
    "mask_classes = widgets.Image(format='jpeg')\n",
    "# 速度控制滑块\n",
    "speed_gain_slider = ipywidgets.FloatSlider(min=0, max=0.2, step=0.01, value=0.18, description='速度')\n",
    "# 转向增益控制滑块\n",
    "steering_gain_slider = ipywidgets.FloatSlider(min=0.0, max=5.0, step=0.01, value=2.0, description='转向增益')\n",
    "steering_dgain_slider = ipywidgets.FloatSlider(min=0.0, max=0.1, step=0.01, value=0.03, description='回正微调')\n",
    "\n",
    "# HSV控制滑块\n",
    "H_MIN_slider = ipywidgets.IntSlider(min=0, max=180, step=1, value=0, description='H_MIN')\n",
    "\n",
    "H_MAX_slider = ipywidgets.IntSlider(min=0, max=180, step=1, value=43, description='H_MAX')\n",
    "\n",
    "S_MIN_slider = ipywidgets.IntSlider(min=0, max=255, step=1, value=0, description='S_MIN')\n",
    "\n",
    "S_MAX_slider = ipywidgets.IntSlider(min=0, max=255, step=1, value=255, description='S_MAX')\n",
    "\n",
    "V_MIN_slider = ipywidgets.IntSlider(min=0, max=255, step=1, value=0, description='V_MIN')\n",
    "\n",
    "V_MAX_slider = ipywidgets.IntSlider(min=0, max=255, step=1, value=76, description='V_MAX')\n",
    "\n",
    "HSV_BOX = widgets.VBox([H_MIN_slider,H_MAX_slider,S_MIN_slider,S_MAX_slider,V_MIN_slider,V_MAX_slider])\n",
    "\n",
    "layout_ = ipywidgets.Layout(height='300px',width='300px')\n",
    "state_info = widgets.Textarea(placeholder='NXROBO',description='当前状态',layout=layout_)\n"
   ]
  },
  {
   "cell_type": "markdown",
   "metadata": {},
   "source": [
    "## 3.创建货物信息"
   ]
  },
  {
   "cell_type": "code",
   "execution_count": null,
   "metadata": {},
   "outputs": [],
   "source": [
    "label_list = ['bg', '书包', '可乐', '圆规', '尺子', '果汁', '橡皮擦', '沐浴露', '洗发水', '洗洁精', '洗衣液', \n",
    "              '爆米花', '牛奶', '笔', '茶', '薯片', '衣服', '裤子', '面包', '鞋子', '饼干']\n",
    "goods = {'洗衣液':'生活用品','沐浴露':'生活用品','洗发水':'生活用品','洗洁精':'生活用品',\n",
    "        '薯片':'零食','饼干':'零食','面包':'零食','爆米花':'零食',\n",
    "        '可乐':'饮品','牛奶':'饮品','果汁':'饮品','茶':'饮品',\n",
    "        '笔':'文具用品','橡皮擦':'文具用品','尺子':'文具用品','圆规':'文具用品',\n",
    "        '衣服':'服饰','裤子':'服饰','鞋子':'服饰','书包':'服饰'}"
   ]
  },
  {
   "cell_type": "markdown",
   "metadata": {},
   "source": [
    "## 4.创建机器人状态信息"
   ]
  },
  {
   "cell_type": "code",
   "execution_count": null,
   "metadata": {},
   "outputs": [],
   "source": [
    "rbs = {'color_size':0,'dis_center':None,'task':None,'label':None,'last_label':None,'back_home':False,\n",
    "        'label_count':0,'label_class':None,'last_class':None,'steering':0,'find_destination':False,}"
   ]
  },
  {
   "cell_type": "markdown",
   "metadata": {},
   "source": [
    "## 5.创建开始与停止按钮"
   ]
  },
  {
   "cell_type": "code",
   "execution_count": null,
   "metadata": {},
   "outputs": [],
   "source": [
    "# 创建按钮外观。\n",
    "button_layout = widgets.Layout(width='100px', height='80px', align_self='center')\n",
    "\n",
    "#创建开始与停止按钮。\n",
    "stop_button = widgets.Button(description='停止运行', button_style='danger', layout=button_layout)\n",
    "start_button = widgets.Button(description='开始运行', layout=button_layout)\n",
    "\n",
    "\n",
    "def stop(change):\n",
    "    global rbs\n",
    "    rbs = {'color_size':0,'dis_center':None,'task':None,'label':None,'last_label':None,'back_home':False,\n",
    "            'label_count':0,'label_class':None,'last_class':None,'steering':0,'find_destination':False,'last_time':0}\n",
    "    mask_line.value = bgr8_to_jpeg(cv2.imread('other_data/2.jpg'))\n",
    "    \n",
    "def start(change):\n",
    "    global rbs\n",
    "    rbs['task']='detect_goods'\n",
    "\n",
    "# 将开始与停止绑定到按钮上\n",
    "stop_button.on_click(stop)\n",
    "start_button.on_click(start)"
   ]
  },
  {
   "cell_type": "markdown",
   "metadata": {},
   "source": [
    "## 6.创建可编辑巡线HSV颜色阈值功能模块\n",
    "可以通过拖动滑块去设置需要识别颜色的HSV范围值"
   ]
  },
  {
   "cell_type": "code",
   "execution_count": null,
   "metadata": {},
   "outputs": [],
   "source": [
    "def line_hsv():\n",
    "    h_min = H_MIN_slider.value\n",
    "    s_min = S_MIN_slider.value\n",
    "    v_min = V_MIN_slider.value\n",
    "    \n",
    "    h_max = H_MAX_slider.value\n",
    "    s_max = S_MAX_slider.value\n",
    "    v_max = V_MAX_slider.value\n",
    "    \n",
    "    color_lower = np.array([h_min,s_min,v_min])\n",
    "    color_upper = np.array([h_max,s_max,v_max])\n",
    "    \n",
    "    return color_lower,color_upper"
   ]
  },
  {
   "cell_type": "markdown",
   "metadata": {},
   "source": [
    "## 7.不同类别对应不同的HSV颜色范围值\n",
    "不同类别颜色标识牌对应不同的HSV颜色阈值范围，阈值可以通过运行 \"HSV_detect.ipynb\" 进行自动提取，然后将对应的阈值在下面进行更改。"
   ]
  },
  {
   "cell_type": "code",
   "execution_count": null,
   "metadata": {},
   "outputs": [],
   "source": [
    "def classes_color(name):\n",
    "    if name == '生活用品':\n",
    "        color_lower = np.array([23,73,97])\n",
    "        color_upper = np.array([43, 255, 255])\n",
    "\n",
    "    elif name == '服饰':\n",
    "        color_lower = np.array([52, 41, 45])\n",
    "        color_upper = np.array([81, 157, 255])\n",
    "\n",
    "    elif name == '零食':\n",
    "        color_lower = np.array([130,35,35])\n",
    "        color_upper = np.array([158, 255, 255])\n",
    "\n",
    "    elif name == '饮品':\n",
    "        color_lower = np.array([94, 45, 50])\n",
    "        color_upper = np.array([139, 255, 225])\n",
    "\n",
    "    elif name == '文具用品':\n",
    "        color_lower = np.array([0,38,85])\n",
    "        color_upper = np.array([15, 255, 174])\n",
    "    \n",
    "    return color_lower,color_upper"
   ]
  },
  {
   "cell_type": "markdown",
   "metadata": {},
   "source": [
    "## 8.商品识别模型准备"
   ]
  },
  {
   "cell_type": "code",
   "execution_count": null,
   "metadata": {},
   "outputs": [],
   "source": [
    "# 数据预处理。\n",
    "img_size = 224\n",
    "mean = 255.0 * np.array([0.637,0.619,0.5936])\n",
    "stdev = 255.0 * np.array([0.336,0.339,0.358])\n",
    "normalize = transforms.Normalize(mean, stdev)\n",
    "\n",
    "def preprocess(image):\n",
    "    image = cv2.resize(image,(img_size, img_size),interpolation=cv2.INTER_CUBIC)\n",
    "    image = cv2.cvtColor(image, cv2.COLOR_BGR2RGB)\n",
    "    image = image.transpose((2, 0, 1))\n",
    "    image = np.ascontiguousarray(image, dtype=np.float32)\n",
    "    image = normalize(torch.from_numpy(image)).unsqueeze(0).cuda()\n",
    "    return image\n",
    "\n",
    "# 加载商品识别模型\n",
    "detect_model=torch.load('../../../models/local/resnet18/goods_classification.pth')\n",
    "detect_model.cuda()\n",
    "\n",
    "# 测试模型是否正常\n",
    "try:\n",
    "    img_data = np.ones([img_size, img_size, 3],np.float32)\n",
    "    detect_model(preprocess(img_data))\n",
    "    print('模型加载成功！')\n",
    "except:\n",
    "    print('请检查模型是否正确')"
   ]
  },
  {
   "cell_type": "markdown",
   "metadata": {},
   "source": [
    "## 9.定义颜色识别功能模块"
   ]
  },
  {
   "cell_type": "code",
   "execution_count": null,
   "metadata": {},
   "outputs": [],
   "source": [
    "\n",
    "kernel = np.ones((3,3),np.uint8)#3x3的卷积核\n",
    "def color_detection(origin_frame,color_name,rbs):\n",
    "    image = origin_frame[200:300, :]\n",
    "    hsv=cv2.cvtColor(image,cv2.COLOR_BGR2HSV)\n",
    "    if color_name == '巡线':\n",
    "        color_lower, color_upper = line_hsv()\n",
    "    else:\n",
    "        # HSV颜色范围\n",
    "        color_lower, color_upper = classes_color(color_name)\n",
    "    # 固定HSV颜色范围\n",
    "    mask=cv2.inRange(hsv,color_lower,color_upper)\n",
    "    # 图像腐蚀\n",
    "    mask=cv2.erode(mask,kernel,iterations=1)\n",
    "    # 图像膨胀\n",
    "    mask=cv2.dilate(mask,kernel,iterations=1)\n",
    "    # 图像滤波，卷积核5×5，标准差为0\n",
    "    mask=cv2.GaussianBlur(mask,(5,5),0)\n",
    "    \n",
    "    # 找出滤波后的图像轮廓\n",
    "    cnts=cv2.findContours(mask.copy(),cv2.RETR_EXTERNAL,cv2.CHAIN_APPROX_SIMPLE)[0]\n",
    "    return cnts,mask"
   ]
  },
  {
   "cell_type": "markdown",
   "metadata": {},
   "source": [
    "## 10.定义判断是否到达目的地模块"
   ]
  },
  {
   "cell_type": "code",
   "execution_count": null,
   "metadata": {},
   "outputs": [],
   "source": [
    "def class_detection(origin_frame,rbs):\n",
    "    # 类别名称\n",
    "    color_name = rbs['label_class']\n",
    "    # 不同的类别对应不同的HSV颜色阈值\n",
    "    cnts,mask = color_detection(origin_frame,color_name,rbs)\n",
    "    mask = cv2.resize(mask, (320, 240))\n",
    "    mask = cv2.putText(mask, \"goods HSV image\", (20, 20),cv2.FONT_HERSHEY_SIMPLEX, 0.8, (255, 255, 255), 2)\n",
    "    mask_classes.value = bgr8_to_jpeg(mask)\n",
    "    # 如果有轮廓\n",
    "    if len(cnts)>0:\n",
    "        cnt = cnts[0]\n",
    "        area = int(cv2.contourArea(cnt))\n",
    "        # 如果像素数量在设置范围内\n",
    "        if area in range(2000,5000):\n",
    "            # 表示已经到达目的地\n",
    "            if rbs['back_home']==False:\n",
    "                rbs['find_destination'] = True\n",
    "    return origin_frame"
   ]
  },
  {
   "cell_type": "markdown",
   "metadata": {},
   "source": [
    "## 11.定义巡线功能模块"
   ]
  },
  {
   "cell_type": "code",
   "execution_count": null,
   "metadata": {},
   "outputs": [],
   "source": [
    "def line_detection(origin_frame,rbs):\n",
    "    color_name = '巡线'\n",
    "    cnts,mask = color_detection(origin_frame,color_name,rbs)\n",
    "    # 显示二值图\n",
    "    mask = cv2.resize(mask, (320, 240))\n",
    "    mask = cv2.putText(mask, \"line HSV image\", (20, 20),cv2.FONT_HERSHEY_SIMPLEX, 0.8, (255, 255, 255), 2)\n",
    "    mask_line.value = bgr8_to_jpeg(cv2.resize(mask, (320, 240)))\n",
    "    # 如果有轮廓\n",
    "    if len(cnts)>0:\n",
    "        cnt = cnts[0]\n",
    "        area = int(cv2.contourArea(cnt))\n",
    "\n",
    "        # 如果像素数量在设置范围内\n",
    "        if area>500:\n",
    "            # 最小外接矩形\n",
    "            rect = cv2.minAreaRect(cnt)\n",
    "            # 矩形的四个角点取整\n",
    "            box = np.int0(cv2.boxPoints(rect))\n",
    "            # 取颜色区域的重心\n",
    "            M = cv2.moments(cnt)\n",
    "            # 识别到的线段中心点坐标\n",
    "            cx, cy = np.int0(M['m10'] / M['m00']), np.int0(M['m01'] / M['m00'])\n",
    "            # 外接矩形宽度\n",
    "            \n",
    "            if cx>40 and cx<260: \n",
    "                # 画出轮廓外接矩形\n",
    "                rbs['dis_center'] = (origin_frame.shape[1]/2-cx)/origin_frame.shape[1]\n",
    "                if int(rect[1][0]) in range(40,55) and (time.time()-rbs['last_time'])>10:\n",
    "                    if rbs['back_home']==True:\n",
    "                        rbs['task'] = 'mission_complete'\n",
    "    return origin_frame"
   ]
  },
  {
   "cell_type": "markdown",
   "metadata": {},
   "source": [
    "## 13.定义商品识别模块"
   ]
  },
  {
   "cell_type": "code",
   "execution_count": null,
   "metadata": {},
   "outputs": [],
   "source": [
    "def goods_classification(img_data,goods,rbs):\n",
    "    # 将机器人拍摄的图像经过图片预处理然后输入模型得到结果\n",
    "    out = detect_model(preprocess(img_data))\n",
    "    # 输出识别到的商品索引与对应的概率大小\n",
    "    prob, index = torch.max(F.softmax(out,1), 1)\n",
    "    # 将索引转换为实际商品名称\n",
    "    label = label_list[index]\n",
    "    # 如果识别到的物品不是背景\n",
    "    if label!='bg':\n",
    "        # 判断是否连续3次以上都识别到了相同的商品\n",
    "        if label!=rbs['last_label']:\n",
    "            rbs['last_label']=label\n",
    "            rbs['label_count']=0\n",
    "        else:\n",
    "            rbs['label_count']+=1\n",
    "        \n",
    "        if rbs['label_count']>3:\n",
    "            rbs['label_class']=goods[label]\n",
    "            rbs['label'] = label\n",
    "            rbs['label_count']=0\n",
    "     \n",
    "    return img_data"
   ]
  },
  {
   "cell_type": "markdown",
   "metadata": {},
   "source": [
    "## 14.定义图像获取线程"
   ]
  },
  {
   "cell_type": "code",
   "execution_count": null,
   "metadata": {},
   "outputs": [],
   "source": [
    "global detect_flag\n",
    "detect_flag = True\n",
    "def detection():\n",
    "    global label_list\n",
    "    while detect_flag:\n",
    "        time.sleep(0.03)\n",
    "        image = rbt.camera.read()\n",
    "        global rbs\n",
    "        global goods\n",
    "        # 如果检测到了图片\n",
    "        if image is not None:\n",
    "            \n",
    "            if rbs['task'] is not None:\n",
    "                # 如果任务为检测商品\n",
    "                if rbs['task']=='detect_goods':\n",
    "                    image = goods_classification(image,goods,rbs)\n",
    "                # 如果任务为寻找目的地\n",
    "                elif rbs['task']=='detect_color':\n",
    "                    # 巡线\n",
    "                    image = line_detection(image,rbs)\n",
    "                    # 如果还没找到类别所在区域就检测类别所在区域\n",
    "                    if rbs['back_home']==False:\n",
    "                        image = class_detection(image,rbs)\n",
    "                    else:\n",
    "                        mask_classes.value = bgr8_to_jpeg(cv2.imread('other_data/3.jpg'))\n",
    "            # 显示RGB图\n",
    "            image_widget.value = bgr8_to_jpeg(cv2.resize(image, (320, 240)))\n",
    "\n",
    "# 创建线程\n",
    "process1 = threading.Thread(target=detection,)"
   ]
  },
  {
   "cell_type": "markdown",
   "metadata": {},
   "source": [
    "# 15.定义抓取与放下动作"
   ]
  },
  {
   "cell_type": "code",
   "execution_count": null,
   "metadata": {},
   "outputs": [],
   "source": [
    "def grasp():\n",
    "    rbt.base.set_servo(3,0)\n",
    "    rbt.base.set_servo(6,0)\n",
    "    rbt.base.set_servo(4,60)\n",
    "    rbt.base.set_servo(7,60)\n",
    "    time.sleep(2)\n",
    "    rbt.base.set_servo(3,-35)\n",
    "    rbt.base.set_servo(6,-35)\n",
    "    \n",
    "def release():\n",
    "    rbt.base.set_servo(3,-35)\n",
    "    rbt.base.set_servo(6,-35)\n",
    "    rbt.base.set_servo(4,0)\n",
    "    rbt.base.set_servo(7,0)"
   ]
  },
  {
   "cell_type": "markdown",
   "metadata": {},
   "source": [
    "## 16.定义任务执行线程\n",
    "该线程作为机器人动作执行模块，当机器人执行相应的任务，机器人就会做出相应的动作"
   ]
  },
  {
   "cell_type": "code",
   "execution_count": null,
   "metadata": {},
   "outputs": [],
   "source": [
    "global speech_word\n",
    "speech_word=''\n",
    "def action():\n",
    "    last_steering = 0\n",
    "    global speech_word\n",
    "    while detect_flag:\n",
    "        time.sleep(0.03)\n",
    "        global rbs\n",
    "        \n",
    "        if rbs['task'] is None:\n",
    "            rbt.base.move(0,0,0)\n",
    "            state_info.value = '请点击开始按钮执行任务'\n",
    "            speech_word = '请点击开始按钮执行任务'\n",
    "            mask_line.value = bgr8_to_jpeg(cv2.imread('other_data/2.jpg'))\n",
    "            mask_classes.value = bgr8_to_jpeg(cv2.imread('other_data/3.jpg'))\n",
    "        elif rbs['task']=='detect_goods':\n",
    "            mask_line.value = bgr8_to_jpeg(cv2.imread('other_data/1.jpg'))\n",
    "            rbt.base.move(0,0,0)\n",
    "            if rbs['label_class'] is None:\n",
    "                state_info.value = '没有识别到物品'\n",
    "                speech_word = '没有识别到物品'\n",
    "                \n",
    "                time.sleep(2)\n",
    "            else:\n",
    "                if rbs['label'] is not None:\n",
    "                    state_info.value = '识别到了,'+rbs['label_class']+'区的,'+rbs['label']\n",
    "                    speech_word = '识别到了,'+rbs['label_class']+'区的,'+rbs['label']\n",
    "                    time.sleep(3)\n",
    "                    grasp()\n",
    "                    time.sleep(2)\n",
    "                    rbt.base.turn(90,True)\n",
    "                    state_info.value = '开始寻找,'+rbs['label_class']+'区'\n",
    "                    speech_word = '开始寻找,'+rbs['label_class']+'区'\n",
    "                time.sleep(2)\n",
    "                rbs['task'] = 'detect_color'\n",
    "                \n",
    "        elif rbs['task'] =='detect_color':\n",
    "            state_info.value = '正在巡线'\n",
    "            if rbs['find_destination']==True:\n",
    "                rbt.base.move(0.1, 0, last_steering,2,True)\n",
    "                time.sleep(2)\n",
    "                rbt.base.turn(95,True)\n",
    "                time.sleep(1)\n",
    "                rbt.base.forward(0.1,2,True)\n",
    "                state_info.value = '------到达目的地-------'\n",
    "                speech_word = '到达'+rbs['label_class']+'区'\n",
    "                time.sleep(2)\n",
    "                release()\n",
    "                time.sleep(2)\n",
    "                rbt.base.backward(0.1,2,True)\n",
    "                time.sleep(2)\n",
    "                rbt.base.turn(-90,True)\n",
    "                speech_word = '开始回家'\n",
    "                rbs['last_time'] = time.time()\n",
    "                rbs['back_home'] = True\n",
    "                rbs['find_destination']=False\n",
    "                rbs['label']=None\n",
    "            else:\n",
    "                speed = speed_gain_slider.value\n",
    "                if rbs['dis_center'] is not None:\n",
    "                    steering = rbs['dis_center'] * steering_gain_slider.value\n",
    "                    steering = (steering - (steering + last_steering)*steering_dgain_slider.value)\n",
    "                    rbt.base.move(speed, 0, steering)\n",
    "                    last_steering = steering\n",
    "                else:\n",
    "                    state_info.value = '没有找到line'\n",
    "                    rbt.base.move(0, 0, 0)\n",
    "                rbs['dis_center']=None\n",
    "            \n",
    "        elif rbs['task'] == 'mission_complete':\n",
    "            speech_word = '我回来了'\n",
    "            state_info.value = '------到达终点-------'\n",
    "            rbt.base.move(0.1, 0, last_steering,2,True)\n",
    "            rbt.base.turn(-85,True)\n",
    "            rbs['task'] = None\n",
    "            rbs['label_class']=None\n",
    "            rbs['back_home'] = False\n",
    "# 创建线程        \n",
    "process2 = threading.Thread(target=action,)"
   ]
  },
  {
   "cell_type": "markdown",
   "metadata": {},
   "source": [
    "## 17.定义语音合成线程\n",
    "该线程用于接收需要外放的词语，并通过语音合成进行执行"
   ]
  },
  {
   "cell_type": "code",
   "execution_count": null,
   "metadata": {},
   "outputs": [],
   "source": [
    "def run_speech():\n",
    "    last_word = ''\n",
    "    word_list = []\n",
    "    while detect_flag:\n",
    "        time.sleep(0.03)\n",
    "        global speech_word\n",
    "        if last_word != speech_word:\n",
    "            word_list.append(speech_word)\n",
    "            last_word = speech_word\n",
    "        if len(word_list)>0:\n",
    "            rbt.speech.play_text(word_list[0],True)\n",
    "            word_list = word_list[1:]\n",
    "                \n",
    "# 创建线程\n",
    "process3 = threading.Thread(target=run_speech,)"
   ]
  },
  {
   "cell_type": "markdown",
   "metadata": {},
   "source": [
    "## 18.启动机器人，启动设定的线程，打开可视化小部件\n",
    "* 运行成功后会显示机器人视角（彩色图像，巡线HSV过滤后的二值图像，商品类别颜色块HSV过滤后的二值图像），机器人参数调整小部件；\n",
    "\n",
    "* 点击开始按钮进行商品识别；\n",
    "\n",
    "* 可自行根据需要调整运行速度与转弯增益；\n",
    "\n",
    "* 当机器人识别不到巡线的颜色时（可以通过巡线HSV过滤后的二值图像判断），手动调整HSV颜色范围值；\n",
    "\n",
    "* 如果机器人识别不到商品类别颜色块时，请在代码块编号 #7 中进行更改HSV颜色阈值，阈值可以通过运行 \"HSV_detect.ipynb\" 进行自动提取，然后手动在代码块编号 #7 中进行更改。"
   ]
  },
  {
   "cell_type": "code",
   "execution_count": null,
   "metadata": {},
   "outputs": [],
   "source": [
    "rbt = Robot()\n",
    "rbt.connect()\n",
    "rbt.camera.start()\n",
    "rbt.base.set_ptz(-35)\n",
    "# 启动线程\n",
    "process1.start()\n",
    "process2.start()\n",
    "process3.start()\n",
    "display_img = widgets.HBox([image_widget,mask_line,mask_classes])\n",
    "control_button = widgets.HBox([start_button,stop_button])\n",
    "control_slider = widgets.VBox([speed_gain_slider,steering_gain_slider, steering_dgain_slider,HSV_BOX])\n",
    "\n",
    "display(display_img)\n",
    "display(widgets.HBox([control_button,control_slider,state_info]))\n"
   ]
  },
  {
   "cell_type": "markdown",
   "metadata": {},
   "source": [
    "## 19.断开与机器人的连接"
   ]
  },
  {
   "cell_type": "code",
   "execution_count": null,
   "metadata": {},
   "outputs": [],
   "source": [
    "# detect_flag = False\n",
    "# rbt.disconnect()"
   ]
  },
  {
   "cell_type": "code",
   "execution_count": null,
   "metadata": {},
   "outputs": [],
   "source": []
  }
 ],
 "metadata": {
  "kernelspec": {
   "display_name": "Python 3",
   "language": "python",
   "name": "python3"
  },
  "language_info": {
   "codemirror_mode": {
    "name": "ipython",
    "version": 3
   },
   "file_extension": ".py",
   "mimetype": "text/x-python",
   "name": "python",
   "nbconvert_exporter": "python",
   "pygments_lexer": "ipython3",
   "version": "3.6.8"
  }
 },
 "nbformat": 4,
 "nbformat_minor": 4
}
