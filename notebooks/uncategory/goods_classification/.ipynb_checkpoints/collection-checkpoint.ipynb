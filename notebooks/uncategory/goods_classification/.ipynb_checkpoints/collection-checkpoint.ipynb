{
 "cells": [
  {
   "cell_type": "markdown",
   "metadata": {},
   "source": [
    "# 智能码货数据收集\n"
   ]
  },
  {
   "cell_type": "markdown",
   "metadata": {},
   "source": [
    "## 1.打开摄像头，开始收集图片\n",
    "当你点击对应的按钮后，将会保存当前的图片到对应目录下。\n",
    "图片收集技巧：\n",
    "1. 需要让机器人在不同场景，不同光照情况下进行图片收集，来提高数据的多样性。\n",
    "2. 收集图片时，将图片放置在小车前面，通过观看显示的图像窗口来调整图片放置的位置，要求在距离机器人20-50cm的位置不停的更换距离，角度和位置来收集图片。\n",
    "3. 尽量保证每个类别的图片数量一致。\n",
    "4. 每个类别至少收集20张图片，你可以和小伙伴们一起来完成图片的收集。\n",
    "5. 注意将对应的图片正确的放在所属的类别里面，如果放错了会降低机器人的识别率哦！"
   ]
  },
  {
   "cell_type": "code",
   "execution_count": null,
   "metadata": {},
   "outputs": [],
   "source": [
    "from collection import *"
   ]
  },
  {
   "cell_type": "markdown",
   "metadata": {},
   "source": [
    "## 2.连接机器人进行图片收集"
   ]
  },
  {
   "cell_type": "code",
   "execution_count": null,
   "metadata": {},
   "outputs": [],
   "source": [
    "name = rbt.name\n",
    "rbt.connect()\n",
    "rbt.camera.start()\n",
    "\n",
    "rbt.event_manager.add_event_listener(event.EventTypes.NEW_CAMERA_IMAGE,on_new_image)\n",
    "\n",
    "display(widgets.HBox([image_widget, controls_box]))\n",
    "if name == 'dachbot':\n",
    "    display(camera_y_slider)\n",
    "elif name == 'dbot':\n",
    "    display(widgets.VBox([camera_x_slider,camera_y_slider]))\n",
    "rbt.base.set_ptz(0)\n",
    "display(choose_label)\n",
    "display(widgets.HBox([img_count,snapshot,delete_button,clear_button]))\n",
    "display(collection_info)"
   ]
  },
  {
   "cell_type": "markdown",
   "metadata": {},
   "source": [
    "## 3.断开与机器人的连接"
   ]
  },
  {
   "cell_type": "code",
   "execution_count": null,
   "metadata": {},
   "outputs": [],
   "source": [
    "# rbt.disconnect()"
   ]
  },
  {
   "cell_type": "code",
   "execution_count": null,
   "metadata": {},
   "outputs": [],
   "source": []
  }
 ],
 "metadata": {
  "kernelspec": {
   "display_name": "Python 3",
   "language": "python",
   "name": "python3"
  },
  "language_info": {
   "codemirror_mode": {
    "name": "ipython",
    "version": 3
   },
   "file_extension": ".py",
   "mimetype": "text/x-python",
   "name": "python",
   "nbconvert_exporter": "python",
   "pygments_lexer": "ipython3",
   "version": "3.6.9"
  }
 },
 "nbformat": 4,
 "nbformat_minor": 4
}
