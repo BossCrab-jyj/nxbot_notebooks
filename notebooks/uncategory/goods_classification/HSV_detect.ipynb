{
 "cells": [
  {
   "cell_type": "markdown",
   "metadata": {},
   "source": [
    "# HSV颜色检测\n",
    "* 通过机器人的摄像头识别矩形框中的HSV颜色值"
   ]
  },
  {
   "cell_type": "markdown",
   "metadata": {},
   "source": [
    "## 1.导入所需模块"
   ]
  },
  {
   "cell_type": "code",
   "execution_count": null,
   "metadata": {},
   "outputs": [],
   "source": [
    "import cv2\n",
    "import numpy as np\n",
    "import math\n",
    "import os\n",
    "import sys\n",
    "import time\n",
    "from PIL import Image, ImageDraw,ImageFont\n",
    "import threading\n",
    "from nxbot import Robot,event\n",
    "from IPython.display import display\n",
    "import ipywidgets.widgets as widgets\n",
    "from nxbot import Robot,event,bgr8_to_jpeg\n",
    "import traitlets\n",
    "from traitlets.config.configurable import Configurable\n",
    "import ipywidgets"
   ]
  },
  {
   "cell_type": "markdown",
   "metadata": {},
   "source": [
    "## 2.创建可视化小部件"
   ]
  },
  {
   "cell_type": "code",
   "execution_count": null,
   "metadata": {},
   "outputs": [],
   "source": [
    "rbt = Robot()\n",
    "image_widget = widgets.Image(format='jpeg')\n",
    "mask_widget = widgets.Image(format='jpeg')"
   ]
  },
  {
   "cell_type": "markdown",
   "metadata": {},
   "source": [
    "## 3.定义计算HSV均值模块"
   ]
  },
  {
   "cell_type": "code",
   "execution_count": null,
   "metadata": {},
   "outputs": [],
   "source": [
    "def mean_hsv(img,HSV_value):\n",
    "\tHSV = cv2.cvtColor(img, cv2.COLOR_BGR2HSV)\n",
    "\tHSV_value[0]+=np.mean(HSV[:, :, 0])\n",
    "\tHSV_value[1]+=np.mean(HSV[:, :, 1])\n",
    "\tHSV_value[2]+=np.mean(HSV[:, :, 2])\n",
    "\treturn HSV_value"
   ]
  },
  {
   "cell_type": "markdown",
   "metadata": {},
   "source": [
    "## 4.定义计算HSV阈值模块"
   ]
  },
  {
   "cell_type": "code",
   "execution_count": null,
   "metadata": {},
   "outputs": [],
   "source": [
    "def hsv_range(HSV_value):\n",
    "\t# 设置HSV颜色值的范围\n",
    "\tH_range = 5 # 色调\n",
    "\tS_range = 40 # 饱和度\n",
    "\tV_range = 100 # 明亮\n",
    "\n",
    "\tlower_H = int(HSV_value[0] - H_range)\n",
    "\tupper_H = int(HSV_value[0] + H_range)\n",
    "\n",
    "\tlower_S = int(HSV_value[1] - S_range)\n",
    "\tupper_S = int(HSV_value[1] + S_range)\n",
    "\n",
    "\tlower_V = int(HSV_value[2] - V_range)\n",
    "\tupper_V = int(HSV_value[2] + V_range)\n",
    "\n",
    "\tif lower_H<0:\n",
    "\t\tlower_H=0\n",
    "\tif upper_H>180:\n",
    "\t\tupper_H=180\n",
    "\n",
    "\tif lower_S<30:\n",
    "\t\tlower_S=30\n",
    "\tif upper_S>255:\n",
    "\t\tupper_S=255\n",
    "\n",
    "\tif lower_V<10:\n",
    "\t\tlower_V=10\n",
    "\tif upper_V>255:\n",
    "\t\tupper_V=255\n",
    "\n",
    "\tlower_HSV = np.array([lower_H, lower_S, lower_V])\n",
    "\tupper_HSV = np.array([upper_H, upper_S, upper_V])\n",
    "\treturn lower_HSV, upper_HSV\n",
    "\n"
   ]
  },
  {
   "cell_type": "markdown",
   "metadata": {},
   "source": [
    "## 5.定义保存HSV阈值数据模块"
   ]
  },
  {
   "cell_type": "code",
   "execution_count": null,
   "metadata": {},
   "outputs": [],
   "source": [
    "def save_hsv(lower_HSV, upper_HSV):\n",
    "    content =\"HSV颜色范围值为 :\" + str(lower_HSV[0]) + ',' +str(lower_HSV[1])+ ','\\\n",
    "                + str(lower_HSV[2])+ ' ' + str(upper_HSV[0])+ ',' + str(upper_HSV[1])+ ',' + str(upper_HSV[2])\n",
    "    # 将HSV值写入文件HSV_value.txt\n",
    "    filename = \"HSV_value.txt\"\n",
    "    with open(filename, \"w\") as f:\n",
    "        f.write(content)\n",
    "    print(\"HSV颜色范围值保存在文件\" + filename)\n",
    "    print(content)\n"
   ]
  },
  {
   "cell_type": "markdown",
   "metadata": {},
   "source": [
    "## 6.定义测试提取HSV值是否正确模块"
   ]
  },
  {
   "cell_type": "code",
   "execution_count": null,
   "metadata": {},
   "outputs": [],
   "source": [
    "def test(lower_HSV, upper_HSV, image):\n",
    "    hsv = cv2.cvtColor(image, cv2.COLOR_BGR2HSV)\n",
    "    mask = cv2.inRange(hsv, lower_HSV, upper_HSV)\n",
    "    mask = cv2.erode(mask, None, iterations=2)\n",
    "    mask = cv2.dilate(mask, None, iterations=2)\n",
    "    mask = cv2.GaussianBlur(mask, (5, 5), 0)\n",
    "    cv2.putText(mask, 'success!', (20, 30), cv2.FONT_HERSHEY_SIMPLEX, 1,(255, 255, 255), 2, cv2.LINE_AA)\n",
    "    mask_widget.value = bgr8_to_jpeg(cv2.resize(mask,(320,240)))"
   ]
  },
  {
   "cell_type": "markdown",
   "metadata": {},
   "source": [
    "## 7.定义获取机器人摄像头图像线程模块\n",
    "获取机器人图像数据并提取HSV阈值"
   ]
  },
  {
   "cell_type": "code",
   "execution_count": null,
   "metadata": {},
   "outputs": [],
   "source": [
    "HSV_value = [0,0,0]\n",
    "\n",
    "count = 0\n",
    "\n",
    "collect_times = 50\n",
    "\n",
    "def collection():\n",
    "    global detect_flag\n",
    "    detect_flag = True\n",
    "    global HSV_value\n",
    "    global count\n",
    "    global collect_times\n",
    "    lower_HSV = []\n",
    "    upper_HSV = []\n",
    "    while detect_flag:\n",
    "        time.sleep(0.05)\n",
    "        img = rbt.camera.read()\n",
    "        if img is not None:\n",
    "#             img = cv2.flip(img,1)\n",
    "            # 150次以内先做提醒，将颜色块放在矩形框中\n",
    "            if count < 150:\n",
    "                cv2.putText(img, 'put it in the box!', (20, 30), cv2.FONT_HERSHEY_SIMPLEX, 1,\n",
    "                            (0, 255, 0), 2, cv2.LINE_AA)\n",
    "            # 如果在150-200次以内开始收集hsv值，并求出平均值\n",
    "            elif count > 150 and count < 150+collect_times:\n",
    "                cv2.putText(img, 'collecting!', (20, 30), cv2.FONT_HERSHEY_SIMPLEX, 1,\n",
    "                            (0, 255, 0), 2, cv2.LINE_AA)\n",
    "                frame = img[150-20:150+20, 150-20:150+20]\n",
    "                HSV_value = mean_hsv(frame, HSV_value)\n",
    "            # 开始检测，查看是否有提取到矩形框中颜色的HSV值\n",
    "            elif count==150+collect_times:\n",
    "                for i in range(len(HSV_value)):\n",
    "                    HSV_value[i] = HSV_value[i] / collect_times\n",
    "                lower_HSV, upper_HSV = hsv_range(HSV_value)\n",
    "                save_hsv(lower_HSV, upper_HSV)\n",
    "            \n",
    "            elif count>150+collect_times:\n",
    "                test(lower_HSV, upper_HSV, img)\n",
    "            count += 1\n",
    "            img = cv2.rectangle(img, (120, 120), (170,170), (0, 255, 0), 3)\n",
    "            image_widget.value = bgr8_to_jpeg(cv2.resize(img,(320,240)))\n",
    "# 创建线程\n",
    "process1 = threading.Thread(target=collection,)\n",
    "# 启动线程\n",
    "process1.start()"
   ]
  },
  {
   "cell_type": "markdown",
   "metadata": {},
   "source": [
    "## 8.连接机器人开始提取"
   ]
  },
  {
   "cell_type": "code",
   "execution_count": null,
   "metadata": {},
   "outputs": [],
   "source": [
    "rbt.connect()\n",
    "rbt.camera.start()\n",
    "rbt.base.set_ptz(0)\n",
    "display(widgets.HBox([image_widget,mask_widget]))"
   ]
  },
  {
   "cell_type": "markdown",
   "metadata": {},
   "source": [
    "## 9.断开与机器人的连接"
   ]
  },
  {
   "cell_type": "code",
   "execution_count": null,
   "metadata": {},
   "outputs": [],
   "source": [
    "# detect_flag=False\n",
    "# rbt.disconnect()"
   ]
  }
 ],
 "metadata": {
  "kernelspec": {
   "display_name": "Python 3",
   "language": "python",
   "name": "python3"
  },
  "language_info": {
   "codemirror_mode": {
    "name": "ipython",
    "version": 3
   },
   "file_extension": ".py",
   "mimetype": "text/x-python",
   "name": "python",
   "nbconvert_exporter": "python",
   "pygments_lexer": "ipython3",
   "version": "3.6.8"
  }
 },
 "nbformat": 4,
 "nbformat_minor": 4
}
