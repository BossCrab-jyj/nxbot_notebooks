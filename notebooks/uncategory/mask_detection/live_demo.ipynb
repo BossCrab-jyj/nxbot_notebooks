{
 "cells": [
  {
   "cell_type": "markdown",
   "metadata": {},
   "source": [
    "# 口罩检测\n",
    "\n",
    "![title](other_data/01.jpg)\n",
    "\n",
    "## 1.导入所需模块"
   ]
  },
  {
   "cell_type": "code",
   "execution_count": null,
   "metadata": {},
   "outputs": [],
   "source": [
    "# -*- coding:utf-8 -*-\n",
    "from nxbot import Robot,event,bgr8_to_jpeg\n",
    "import cv2\n",
    "import argparse\n",
    "import numpy as np\n",
    "from PIL import Image\n",
    "import ipywidgets.widgets as widgets\n",
    "import ipywidgets\n",
    "import traitlets\n",
    "import threading\n",
    "from IPython.display import display\n",
    "from traitlets.config.configurable import Configurable\n",
    "from utils.anchor_generator import generate_anchors\n",
    "from utils.anchor_decode import decode_bbox\n",
    "from utils.nms import single_class_non_max_suppression\n",
    "from load_model.pytorch_loader import load_pytorch_model, pytorch_inference\n",
    "import warnings\n",
    "warnings.filterwarnings('ignore')"
   ]
  },
  {
   "cell_type": "markdown",
   "metadata": {},
   "source": [
    "## 2.设置参数"
   ]
  },
  {
   "cell_type": "code",
   "execution_count": null,
   "metadata": {},
   "outputs": [],
   "source": [
    "parser = argparse.ArgumentParser(description=\"口罩检测\")\n",
    "parser.add_argument('--img-mode', type=int, default=0, help='0：检测视频，1:检测图片')\n",
    "parser.add_argument('--img-path', type=str, help='图片路径')\n",
    "parser.add_argument('--conf_thresh', type=float, default=0.8, help='人脸检测阈值')\n",
    "parser.add_argument('--iou_thresh', type=float, default=0.5, help='非极大抑制阈值')\n",
    "parser.add_argument('--infer_size', type=tuple, default=(360,360), help='输入网络的图像大小')\n",
    "\n",
    "id2class = {0: 'Mask', 1: 'NoMask'}\n",
    "args = parser.parse_args(args=[])"
   ]
  },
  {
   "cell_type": "markdown",
   "metadata": {},
   "source": [
    "## 3.加载模型"
   ]
  },
  {
   "cell_type": "code",
   "execution_count": null,
   "metadata": {},
   "outputs": [],
   "source": [
    "model = load_pytorch_model('../../../models/local/thirdparty_net/face_mask_detection.pth')"
   ]
  },
  {
   "cell_type": "markdown",
   "metadata": {},
   "source": [
    "## 4.设置检测框参数\n",
    "1. 多尺度特征图大小；\n",
    "2. 多尺度检测框大小；\n",
    "3. 检测框比例。"
   ]
  },
  {
   "cell_type": "code",
   "execution_count": null,
   "metadata": {},
   "outputs": [],
   "source": [
    "feature_map_sizes = [[45, 45], [23, 23], [12, 12], [6, 6], [4, 4]]\n",
    "anchor_sizes = [[0.04, 0.056], [0.08, 0.11], [0.16, 0.22], [0.32, 0.45], [0.64, 0.72]]\n",
    "anchor_ratios = [[1, 0.62, 0.42]] * 5\n",
    "# generate anchors\n",
    "anchors = generate_anchors(feature_map_sizes, anchor_sizes, anchor_ratios)\n",
    "anchors_exp = np.expand_dims(anchors, axis=0)"
   ]
  },
  {
   "cell_type": "markdown",
   "metadata": {},
   "source": [
    "## 5.定义模型推理函数\n",
    "1. 数据处理；\n",
    "2. 模型预测；\n",
    "3. 预测结果进行处理。"
   ]
  },
  {
   "cell_type": "code",
   "execution_count": null,
   "metadata": {},
   "outputs": [],
   "source": [
    "def inference(image,conf_thresh,iou_thresh,target_shape):\n",
    "    height, width, _ = image.shape\n",
    "    # 缩放图片大小\n",
    "    image_resized = cv2.resize(image, target_shape)\n",
    "    # 归一化到0~1\n",
    "    image_np = image_resized / 255.0 \n",
    "    # 给图片数据增加一维，图片image_np信息为 [height, width, channal] 变为 [ 1，height, width, channal]\n",
    "    image_exp = np.expand_dims(image_np, axis=0)\n",
    "    # [ 1，height, width, channal]变为[ 1，channal，height, width]\n",
    "    image_transposed = image_exp.transpose((0, 3, 1, 2))\n",
    "    # 将图像数据放入模型中进行预测，返回类别坐标信息与类别信息\n",
    "    y_bboxes_output, y_cls_output = pytorch_inference(model, image_transposed)\n",
    "    # 多尺度筛选候选框\n",
    "    y_bboxes = decode_bbox(anchors_exp, y_bboxes_output)[0]\n",
    "    # 找出图片中所有类别的概率\n",
    "    y_cls = y_cls_output[0]\n",
    "    # 找出概率最大的值\n",
    "    bbox_max_scores = np.max(y_cls, axis=1)\n",
    "    # 概率最大的索引\n",
    "    bbox_max_score_classes = np.argmax(y_cls, axis=1)\n",
    "    # 非极大抑制找到目标框\n",
    "    keep_idxs = single_class_non_max_suppression(y_bboxes,\n",
    "                                                 bbox_max_scores,\n",
    "                                                 conf_thresh=conf_thresh,\n",
    "                                                 iou_thresh=iou_thresh,\n",
    "                                                 )\n",
    "    # 将找到的目标在图片上标注出来\n",
    "    for idx in keep_idxs:\n",
    "        conf = float(bbox_max_scores[idx])\n",
    "        class_id = bbox_max_score_classes[idx]\n",
    "        bbox = y_bboxes[idx]\n",
    "        xmin = max(0, int(bbox[0] * width))\n",
    "        ymin = max(0, int(bbox[1] * height))\n",
    "        xmax = min(int(bbox[2] * width), width)\n",
    "        ymax = min(int(bbox[3] * height), height)\n",
    "\n",
    "        if class_id == 0:\n",
    "            color = (0, 255, 0)\n",
    "        else:\n",
    "            color = (255, 0, 0)\n",
    "        # 框出人脸\n",
    "        cv2.rectangle(image, (xmin, ymin), (xmax, ymax), color, 2)\n",
    "        # 写出概率\n",
    "        cv2.putText(image, \"%s: %.2f\" % (id2class[class_id], conf), (xmin + 2, ymin - 2),\n",
    "                    cv2.FONT_HERSHEY_SIMPLEX, 0.8, color)\n",
    "        # 将识别结果传给信息显示窗口\n",
    "        result_info.value = str(id2class[class_id])"
   ]
  },
  {
   "cell_type": "markdown",
   "metadata": {},
   "source": [
    "## 6.检测模型是否能正常使用\n",
    "\n",
    "我们通过numpy创建与我们将要预测的图片格式一致的形状为（224，224，3）的数组，这里我们创建的全为1的数组将这个数组经过预处理再将数据放入模型中，如果能运行通过说明模型可以正常使用了。"
   ]
  },
  {
   "cell_type": "code",
   "execution_count": null,
   "metadata": {},
   "outputs": [],
   "source": [
    "try:\n",
    "    img_data = np.ones([224, 224, 3],np.float32)\n",
    "    inference(img_data, args.conf_thresh, args.iou_thresh, target_shape=args.infer_size)\n",
    "except:\n",
    "    print('请检查模型是否正确')"
   ]
  },
  {
   "cell_type": "markdown",
   "metadata": {},
   "source": [
    "## 7.创建信息显示窗口"
   ]
  },
  {
   "cell_type": "code",
   "execution_count": null,
   "metadata": {},
   "outputs": [],
   "source": [
    "image_widget = widgets.Image(format='jpeg')\n",
    "result_info = widgets.Textarea(\n",
    "    placeholder='NXROBO',\n",
    "    description='识别结果',\n",
    "    disabled=False\n",
    ")\n"
   ]
  },
  {
   "cell_type": "markdown",
   "metadata": {},
   "source": [
    "## 8.创建摄像头控制滑块"
   ]
  },
  {
   "cell_type": "code",
   "execution_count": null,
   "metadata": {},
   "outputs": [],
   "source": [
    "# 创建摄像头视角滑块。\n",
    "camera_x_slider = ipywidgets.FloatSlider(min=-90, max=90, step=1, value=0, description='摄像头左右')\n",
    "camera_y_slider = ipywidgets.FloatSlider(min=-90, max=90, step=1, value=0, description='摄像头上下')\n",
    "\n",
    "class Camera(Configurable):\n",
    "    cx_speed = traitlets.Float(default_value=0.0)\n",
    "    cy_speed = traitlets.Float(default_value=0.0)\n",
    "    @traitlets.observe('cx_speed')\n",
    "    def x_speed_value(self, change):\n",
    "        self.cx_speed=change['new']\n",
    "        rbt.base.set_ptz(x = self.cx_speed, y = self.cy_speed)\n",
    "\n",
    "    @traitlets.observe('cy_speed')\n",
    "    def a_speed_value(self, change):\n",
    "        self.cy_speed=change['new']\n",
    "        rbt.base.set_ptz(x = self.cx_speed, y = self.cy_speed)\n",
    "\n",
    "camera = Camera()\n",
    "\n",
    "camera_x_link = traitlets.dlink((camera_x_slider,'value'), (camera, 'cx_speed'), transform=lambda x: x)\n",
    "camera_y_link = traitlets.dlink((camera_y_slider,'value'), (camera, 'cy_speed'), transform=lambda x: x)\n",
    "camera_slider = ipywidgets.VBox([camera_x_slider, camera_y_slider])"
   ]
  },
  {
   "cell_type": "markdown",
   "metadata": {},
   "source": [
    "## 9.使用机器人摄像头进行预测"
   ]
  },
  {
   "cell_type": "code",
   "execution_count": null,
   "metadata": {},
   "outputs": [],
   "source": [
    "def prediction(conf_thresh, iou_thresh, target_shape):\n",
    "    global threading_stop\n",
    "    global see_stop_flag\n",
    "    while threading_stop==False:\n",
    "        img_data = rbt.camera.read()\n",
    "        if img_data is not None:\n",
    "            inference(img_data, conf_thresh, iou_thresh, target_shape)\n",
    "            \n",
    "            img_data = cv2.resize(img_data, (320,240))    \n",
    "            image_widget.value=bgr8_to_jpeg(img_data)\n",
    "    result_info.value = '模型预测线程已关闭！'"
   ]
  },
  {
   "cell_type": "markdown",
   "metadata": {},
   "source": [
    "## 10.连接小车开始进行检测"
   ]
  },
  {
   "cell_type": "code",
   "execution_count": null,
   "metadata": {},
   "outputs": [],
   "source": [
    "rbt = Robot()\n",
    "rbt.connect()\n",
    "# 图片检测\n",
    "if args.img_mode:\n",
    "    imgPath = args.img_path\n",
    "    img = cv2.imread(imgPath)\n",
    "    img = cv2.cvtColor(img, cv2.COLOR_BGR2RGB)\n",
    "    inference(img, args.conf_thresh, args.iou_thresh, target_shape=args.infer_size)\n",
    "# 摄像头检测\n",
    "else:\n",
    "    rbt.camera.start()\n",
    "    threading_stop=False\n",
    "    result_info.value = '正在加载模型'\n",
    "    process1 = threading.Thread(target=prediction, args=(args.conf_thresh, args.iou_thresh, args.infer_size,))\n",
    "    process1.start()\n",
    "    rbt.base.set_ptz(0)\n",
    "    display(result_info, image_widget)\n",
    "# 摄像头滑块\n",
    "display(camera_slider)"
   ]
  },
  {
   "cell_type": "markdown",
   "metadata": {},
   "source": [
    "## 11.断开机器人连接"
   ]
  },
  {
   "cell_type": "code",
   "execution_count": null,
   "metadata": {},
   "outputs": [],
   "source": [
    "# threading_stop=True\n",
    "# rbt.disconnect()"
   ]
  },
  {
   "cell_type": "code",
   "execution_count": null,
   "metadata": {},
   "outputs": [],
   "source": []
  }
 ],
 "metadata": {
  "kernelspec": {
   "display_name": "Python 3",
   "language": "python",
   "name": "python3"
  },
  "language_info": {
   "codemirror_mode": {
    "name": "ipython",
    "version": 3
   },
   "file_extension": ".py",
   "mimetype": "text/x-python",
   "name": "python",
   "nbconvert_exporter": "python",
   "pygments_lexer": "ipython3",
   "version": "3.6.8"
  }
 },
 "nbformat": 4,
 "nbformat_minor": 4
}
