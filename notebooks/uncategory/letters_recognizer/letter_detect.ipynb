{
 "cells": [
  {
   "cell_type": "markdown",
   "metadata": {},
   "source": [
    "# 字母识别-图片识别\n",
    "\n",
    "## 1.导入所需模块"
   ]
  },
  {
   "cell_type": "code",
   "execution_count": null,
   "metadata": {},
   "outputs": [],
   "source": [
    "from nxbot import Robot,event,bgr8_to_jpeg\n",
    "import torch\n",
    "import torchvision\n",
    "import torch.nn as nn\n",
    "import torch.optim as optim\n",
    "import torchvision.transforms as transforms\n",
    "import torch.nn.functional as F\n",
    "import time\n",
    "import cv2\n",
    "import numpy as np\n",
    "from PIL import Image\n",
    "from IPython.display import display\n",
    "import ipywidgets\n",
    "import traitlets\n",
    "import ipywidgets.widgets as widgets\n",
    "import net\n",
    "import threading"
   ]
  },
  {
   "cell_type": "markdown",
   "metadata": {},
   "source": [
    "## 2.实例化模型"
   ]
  },
  {
   "cell_type": "code",
   "execution_count": null,
   "metadata": {},
   "outputs": [],
   "source": [
    "net = net.Net()"
   ]
  },
  {
   "cell_type": "markdown",
   "metadata": {},
   "source": [
    "## 3.加载模型"
   ]
  },
  {
   "cell_type": "code",
   "execution_count": null,
   "metadata": {},
   "outputs": [],
   "source": [
    "# 选择默认的模型或者自己训练的模型\n",
    "model_path = r'../../../models/local/personal_net/letter_classification.pth'\n",
    "# model_path = 'studens_models/EMNIST_student.pth'\n",
    "model = torch.load(model_path)\n",
    "if torch.cuda.is_available():\n",
    "    model = model.cuda()"
   ]
  },
  {
   "cell_type": "markdown",
   "metadata": {},
   "source": [
    "## 4.创建图像显示界面"
   ]
  },
  {
   "cell_type": "code",
   "execution_count": null,
   "metadata": {},
   "outputs": [],
   "source": [
    "image_widget = widgets.Image(format='jpeg')\n",
    "thresh_widget = widgets.Image(format='jpeg')\n",
    "result_info = widgets.Textarea(\n",
    "    placeholder='NXROBO',\n",
    "    description='预测结果',\n",
    "    disabled=False\n",
    ")"
   ]
  },
  {
   "cell_type": "markdown",
   "metadata": {},
   "source": [
    "## 5.对图片进行滤波处理\n",
    "\n",
    "1. 将图片处理成灰度图\n",
    "2. 通过滤波处理找出图片中物体的轮廓"
   ]
  },
  {
   "cell_type": "code",
   "execution_count": null,
   "metadata": {},
   "outputs": [],
   "source": [
    "# 获取轮廓图\n",
    "def get_img_contour_thresh(img):\n",
    "    gray = cv2.cvtColor(img, cv2.COLOR_BGR2GRAY)\n",
    "    blur = cv2.GaussianBlur(gray, (9, 9), 0)\n",
    "    ret, thresh = cv2.threshold(blur, 50, 255, cv2.THRESH_BINARY_INV + cv2.THRESH_OTSU)\n",
    "    contours, _ = cv2.findContours(thresh, cv2.RETR_TREE, cv2.CHAIN_APPROX_SIMPLE)[-2:]\n",
    "    return contours, thresh\n"
   ]
  },
  {
   "cell_type": "markdown",
   "metadata": {},
   "source": [
    "## 6.图片预处理"
   ]
  },
  {
   "cell_type": "code",
   "execution_count": null,
   "metadata": {},
   "outputs": [],
   "source": [
    "\n",
    "# 图片预处理\n",
    "def preprogress(newImage):\n",
    "    \n",
    "    newImage = cv2.flip(newImage, 1)\n",
    "    M = cv2.getRotationMatrix2D((14, 14), 90, 1)\n",
    "    newImage = cv2.warpAffine(newImage, M, (28, 28))\n",
    "    \n",
    "    newImage = np.array(newImage)\n",
    "    newImage = newImage.reshape(28, 28, 1)\n",
    "    transform = transforms.Compose([transforms.ToTensor(),transforms.Normalize((0.1307,), (0.3081,))])\n",
    "    \n",
    "    newImage = transform(newImage)\n",
    "    newImage = torch.unsqueeze(newImage,0).cuda().float()\n",
    "    return newImage"
   ]
  },
  {
   "cell_type": "markdown",
   "metadata": {},
   "source": [
    "## 7.检测模型是否能正常使用\n",
    "\n",
    "我们通过numpy创建与我们将要预测的图片格式一致的形状为（28，28，1）的数组，这里我们创建的全为1的数组将这个数组经过预处理再将数据放入模型中，如果能运行通过说明模型可以正常使用了。"
   ]
  },
  {
   "cell_type": "code",
   "execution_count": null,
   "metadata": {},
   "outputs": [],
   "source": [
    "try:\n",
    "    img_data = np.ones([28,28,1],np.float32)\n",
    "    model(preprogress(img_data))\n",
    "except:\n",
    "    print('请检查模型是否正确')"
   ]
  },
  {
   "cell_type": "markdown",
   "metadata": {},
   "source": [
    "## 8.定义预测函数"
   ]
  },
  {
   "cell_type": "code",
   "execution_count": null,
   "metadata": {},
   "outputs": [],
   "source": [
    "global letter\n",
    "letter=None\n",
    "\n",
    "# 定义类别名称\n",
    "classes = [ 'a', 'b', 'c',  'd',  'e',  'f',\n",
    "    'g',  'h', 'i',  'j', 'k','l', 'm', 'n','o', 'p', 'q', 'r', 's', 't', 'u', 'v','w', 'x', 'y',  'z',]\n",
    "\n",
    "def on_new_image(evt):\n",
    "    global letter\n",
    "    # 读取图像数据\n",
    "    img = evt.dict['data']\n",
    "    contours, thresh_img = get_img_contour_thresh(img)\n",
    "    thresh_img = cv2.resize(thresh_img, (28, 28))\n",
    "    if len(contours) > 0:\n",
    "        contour = max(contours, key=cv2.contourArea)\n",
    "        contour_area = cv2.contourArea(contour)\n",
    "\n",
    "        if (1000 < contour_area < 30000):\n",
    "            newImage = preprogress(thresh_img)\n",
    "            \n",
    "            with torch.no_grad():\n",
    "                out = model(newImage)\n",
    "                prob, index = torch.max(out, 1)\n",
    "                if prob > 0.85:\n",
    "                    index = index.item()\n",
    "                    letter = classes[index]\n",
    "        \n",
    "    cv2.putText(img, \"letter: \" + str(letter), (10, 20),cv2.FONT_HERSHEY_SIMPLEX, 0.6, (0, 0, 255), 2)\n",
    "\n",
    "    img = cv2.resize(img, (320, 240))\n",
    "    image_widget.value = bgr8_to_jpeg(img)\n",
    "    thresh_img = cv2.resize(thresh_img, (320, 240))\n",
    "    thresh_widget.value = bgr8_to_jpeg(thresh_img)"
   ]
  },
  {
   "cell_type": "markdown",
   "metadata": {},
   "source": [
    "## 9.使用线程说出预测结果"
   ]
  },
  {
   "cell_type": "code",
   "execution_count": null,
   "metadata": {},
   "outputs": [],
   "source": [
    "global detect_flag\n",
    "detect_flag = True\n",
    "def interaction():\n",
    "    global detect_flag\n",
    "    while detect_flag:\n",
    "        time.sleep(0.05)\n",
    "        global letter\n",
    "        if letter is not None:\n",
    "            result_info.value = '预测结果是字母：{}'.format(letter)\n",
    "            rbt.speech.play_text('预测结果是字母{}'.format(letter), True)\n",
    "            letter = None\n",
    "# 创建线程\n",
    "process1 = threading.Thread(target=interaction,)"
   ]
  },
  {
   "cell_type": "markdown",
   "metadata": {},
   "source": [
    "## 10.连接小车开始预测"
   ]
  },
  {
   "cell_type": "code",
   "execution_count": null,
   "metadata": {},
   "outputs": [],
   "source": [
    "\n",
    "rbt = Robot()\n",
    "rbt.connect()\n",
    "rbt.camera.start()\n",
    "rbt.event_manager.add_event_listener(event.EventTypes.NEW_CAMERA_IMAGE,on_new_image)\n",
    "process1 = threading.Thread(target=interaction,)\n",
    "process1.start()\n",
    "display(ipywidgets.HBox([image_widget, thresh_widget]))\n",
    "display(result_info)"
   ]
  },
  {
   "cell_type": "markdown",
   "metadata": {},
   "source": [
    "## 11.断开小车连接"
   ]
  },
  {
   "cell_type": "code",
   "execution_count": null,
   "metadata": {},
   "outputs": [],
   "source": [
    "# detect_flag=Fasle\n",
    "# rbt.disconnect()"
   ]
  },
  {
   "cell_type": "code",
   "execution_count": null,
   "metadata": {},
   "outputs": [],
   "source": []
  },
  {
   "cell_type": "code",
   "execution_count": null,
   "metadata": {},
   "outputs": [],
   "source": []
  }
 ],
 "metadata": {
  "kernelspec": {
   "display_name": "Python 3",
   "language": "python",
   "name": "python3"
  },
  "language_info": {
   "codemirror_mode": {
    "name": "ipython",
    "version": 3
   },
   "file_extension": ".py",
   "mimetype": "text/x-python",
   "name": "python",
   "nbconvert_exporter": "python",
   "pygments_lexer": "ipython3",
   "version": "3.6.8"
  },
  "widgets": {
   "application/vnd.jupyter.widget-state+json": {
    "state": {},
    "version_major": 2,
    "version_minor": 0
   }
  }
 },
 "nbformat": 4,
 "nbformat_minor": 4
}
