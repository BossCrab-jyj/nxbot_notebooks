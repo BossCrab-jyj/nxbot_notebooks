{
 "cells": [
  {
   "cell_type": "markdown",
   "metadata": {},
   "source": [
    "# 字母识别-模型训练\n",
    "## 导入所需模块"
   ]
  },
  {
   "cell_type": "code",
   "execution_count": null,
   "metadata": {},
   "outputs": [],
   "source": [
    "import numpy as np\n",
    "# import cv2\n",
    "import torch\n",
    "import torchvision\n",
    "import torch.nn as nn\n",
    "import torch.optim as optim\n",
    "import torchvision.transforms as transforms\n",
    "import torch.nn.functional as F\n",
    "import time\n",
    "import net\n",
    "from torch.optim.lr_scheduler import StepLR\n",
    "import matplotlib.pyplot as plt\n",
    "import warnings\n",
    "warnings.filterwarnings(\"ignore\", category=UserWarning)"
   ]
  },
  {
   "cell_type": "markdown",
   "metadata": {},
   "source": [
    "## 数据预处理\n",
    "加载手写数字数据集并进行图片预处理"
   ]
  },
  {
   "cell_type": "code",
   "execution_count": null,
   "metadata": {},
   "outputs": [],
   "source": [
    "transform=transforms.Compose([transforms.ToTensor(),\n",
    "                              transforms.Normalize((0.1307,), (0.3081,))])\n",
    "\n",
    "# 加载数据\n",
    "trainset = torchvision.datasets.EMNIST(root='../../../models/local/datasets/emnist',train=True, download=False, transform=transform, split='letters')\n",
    "\n",
    "trainloader = torch.utils.data.DataLoader(trainset, batch_size=128,shuffle=False,num_workers=0)\n",
    "\n",
    "\n",
    "testset = torchvision.datasets.EMNIST(root='../../../models/local/datasets/emnist',train=False,download=False,transform=transform, split='letters')\n",
    "testloader = torch.utils.data.DataLoader(testset,batch_size=128,shuffle=False,num_workers=0)\n",
    "\n",
    "print(trainset.train_data[0])\n",
    "\n",
    "classes = [ '' ,'a', 'b', 'c',  'd',  'e',  'f',\n",
    "    'g',  'h', 'i',  'j', 'k','l', 'm', 'n','o', 'p', 'q', 'r', 's', 't', 'u', 'v','w', 'x', 'y',  'z',]\n",
    "\n",
    "plt.imshow(trainset.train_data[0].numpy(), cmap='gray')\n",
    "plt.title('label is {}'.format(classes[int(trainset.train_labels[0])]))\n",
    "plt.show()\n"
   ]
  },
  {
   "cell_type": "markdown",
   "metadata": {},
   "source": [
    "## 参数设置"
   ]
  },
  {
   "cell_type": "code",
   "execution_count": null,
   "metadata": {},
   "outputs": [],
   "source": [
    "\n",
    "device = torch.device(\"cuda:0\" if torch.cuda.is_available() else \"cpu\")\n",
    "#net\n",
    "net = net.Net()\n",
    "net.to(device)\n",
    "\n",
    "criterion = nn.CrossEntropyLoss()\n",
    "\n",
    "optimizer = optim.SGD(net.parameters(), lr=0.001, momentum=0.9)\n",
    "# optimizer = optim.Adam(net.parameters(), lr=0.0001)\n",
    "scheduler = StepLR(optimizer, step_size=20, gamma=0.7)\n",
    "\n",
    "num_epochs = 300 #训练次数"
   ]
  },
  {
   "cell_type": "markdown",
   "metadata": {},
   "source": [
    "## 定义模型训练函数"
   ]
  },
  {
   "cell_type": "code",
   "execution_count": null,
   "metadata": {},
   "outputs": [],
   "source": [
    "def train():\n",
    "    print(\"开始训练\")\n",
    "    correct_preds = 0\n",
    "    for epoch in range(num_epochs):\n",
    "        net.train()\n",
    "        for i, data in enumerate(trainloader):\n",
    "            inputs, labels = data\n",
    "            labels -= 1\n",
    "            inputs, labels = inputs.to(device), labels.to(device)\n",
    "            optimizer.zero_grad()\n",
    "            outputs = net(inputs)\n",
    "            train_loss = criterion(outputs, labels)\n",
    "            train_loss.backward()\n",
    "            optimizer.step()\n",
    "        scheduler.step()\n",
    "        print('epoch：%d，训练数据集：loss:%.4f'%(epoch+1, train_loss.item()))\n",
    "        net.eval()\n",
    "        with torch.no_grad():\n",
    "            # 在接下来的代码中，所有Tensor的requires_grad都会被设置为False\n",
    "            correct = 0\n",
    "            total = 0\n",
    "\n",
    "            for data in testloader:\n",
    "                images, labels = data\n",
    "                labels -= 1\n",
    "                images, labels = images.to(device), labels.to(device)\n",
    "                out = net(images)\n",
    "                valid_loss = criterion(out, labels)\n",
    "                _, predicted = torch.max(out.data, 1)\n",
    "                total += labels.size(0)\n",
    "                correct += (predicted == labels).sum().item()\n",
    "            correct_pre = 100 * correct / total\n",
    "\n",
    "            print('测试数据集loss：    %.4f'%(valid_loss.item()))\n",
    "            print('测试数据集准确率为：{}%'.format(correct_pre))  # 输出识别准确率\n",
    "\n",
    "        # 保存训练模型\n",
    "        if correct_pre > correct_preds:\n",
    "            torch.save(net, 'students_models/EMNIST_student.pth')\n",
    "            correct_preds = correct_pre\n",
    "            print(\"模型已保存\")"
   ]
  },
  {
   "cell_type": "markdown",
   "metadata": {},
   "source": [
    "## 开始训练\n",
    "由于该数据集图片数量较多，在dachbot上进行训练花费时间较长。\n",
    "预计3分钟训练1个epoch。"
   ]
  },
  {
   "cell_type": "code",
   "execution_count": null,
   "metadata": {},
   "outputs": [],
   "source": [
    "train()"
   ]
  },
  {
   "cell_type": "code",
   "execution_count": null,
   "metadata": {},
   "outputs": [],
   "source": []
  }
 ],
 "metadata": {
  "kernelspec": {
   "display_name": "Python 3",
   "language": "python",
   "name": "python3"
  },
  "language_info": {
   "codemirror_mode": {
    "name": "ipython",
    "version": 3
   },
   "file_extension": ".py",
   "mimetype": "text/x-python",
   "name": "python",
   "nbconvert_exporter": "python",
   "pygments_lexer": "ipython3",
   "version": "3.6.8"
  }
 },
 "nbformat": 4,
 "nbformat_minor": 4
}
