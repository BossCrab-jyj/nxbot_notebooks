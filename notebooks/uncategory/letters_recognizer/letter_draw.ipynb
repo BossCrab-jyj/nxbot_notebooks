{
 "cells": [
  {
   "cell_type": "markdown",
   "metadata": {},
   "source": [
    "# 字母识别-颜色轨迹识别\n",
    "\n",
    "\n",
    "* 操作说明： 选择你想识别的HSV颜色阈值，然后用这个颜色的物体在dachbot摄像头前面画出字母，\n",
    "\n",
    "    当dachbot识别到颜色后就会保存你画出的轨迹，然后既可以对你画出的字母进行识别了\n",
    "    \n",
    "   ![title](other_data/01.jpg)\n",
    "   \n",
    "## 1.导入所需模块"
   ]
  },
  {
   "cell_type": "code",
   "execution_count": null,
   "metadata": {},
   "outputs": [],
   "source": [
    "from nxbot import Robot,event,bgr8_to_jpeg\n",
    "import torch\n",
    "import torchvision\n",
    "import torch.nn as nn\n",
    "import torch.optim as optim\n",
    "import torchvision.transforms as transforms\n",
    "import torch.nn.functional as F\n",
    "import time\n",
    "import cv2\n",
    "from collections import deque\n",
    "import numpy as np\n",
    "from PIL import Image\n",
    "from IPython.display import display\n",
    "import ipywidgets\n",
    "import traitlets\n",
    "import ipywidgets.widgets as widgets\n",
    "import net"
   ]
  },
  {
   "cell_type": "markdown",
   "metadata": {},
   "source": [
    "## 2.实例化模型"
   ]
  },
  {
   "cell_type": "code",
   "execution_count": null,
   "metadata": {},
   "outputs": [],
   "source": [
    "'''\n",
    "定义网络结构\n",
    "'''\n",
    "net = net.Net()"
   ]
  },
  {
   "cell_type": "markdown",
   "metadata": {},
   "source": [
    "## 3.加载模型"
   ]
  },
  {
   "cell_type": "code",
   "execution_count": null,
   "metadata": {},
   "outputs": [],
   "source": [
    "'''\n",
    "加载模型\n",
    "'''\n",
    "# 选择默认的模型或者自己训练的模型\n",
    "model_path = r'../../../models/local/personal_net/letter_classification.pth'\n",
    "# model_path = 'studens_models/EMNIST_student.pth'\n",
    "model = torch.load(model_path)\n",
    "if torch.cuda.is_available():\n",
    "    model = model.cuda()"
   ]
  },
  {
   "cell_type": "markdown",
   "metadata": {},
   "source": [
    "## 4.检测模型是否能正常使用\n",
    "\n",
    "我们通过numpy创建与我们将要预测的图片格式一致的形状为（28，28，1）的数组，这里我们创建的全为1的数组将这个数组经过预处理再将数据放入模型中，如果能运行通过说明模型可以正常使用了。"
   ]
  },
  {
   "cell_type": "code",
   "execution_count": null,
   "metadata": {},
   "outputs": [],
   "source": [
    "try:\n",
    "    img_data = np.ones([28,28,1],np.float32)\n",
    "    model(preprogress(img_data)).detach().half().cpu().numpy().flatten()\n",
    "except:\n",
    "    print('请检查模型是否正确')"
   ]
  },
  {
   "cell_type": "markdown",
   "metadata": {},
   "source": [
    "## 5.定义预测函数"
   ]
  },
  {
   "cell_type": "code",
   "execution_count": null,
   "metadata": {},
   "outputs": [],
   "source": [
    "\n",
    "'''\n",
    "通过模型预测结果\n",
    "'''\n",
    "def predict(alphabet):\n",
    "    # 数据预处理\n",
    "    newImage = cv2.resize(alphabet, (28, 28))\n",
    "    newImage = cv2.flip(newImage, 1)\n",
    "    M = cv2.getRotationMatrix2D((14, 14), 90, 1)\n",
    "    newImage = cv2.warpAffine(newImage, M, (28, 28))\n",
    "    \n",
    "    newImage = np.array(newImage)\n",
    "    newImage = newImage.reshape(28, 28, 1)\n",
    "    transform = transforms.Compose([\n",
    "        transforms.ToTensor(),\n",
    "        transforms.Normalize((0.1307,), (0.3081,))])\n",
    "    newImage = transform(newImage)\n",
    "    newImage = torch.unsqueeze(newImage, 0).cuda().float()\n",
    "    \n",
    "    # 对图像进行识别\n",
    "    with torch.no_grad():\n",
    "        out = model(newImage)\n",
    "        prob, index = torch.max(out, 1)\n",
    "        if prob > 0.85:\n",
    "            letter = index.item()\n",
    "    return letter"
   ]
  },
  {
   "cell_type": "markdown",
   "metadata": {},
   "source": [
    "## 6.设置HSV颜色阈值\n",
    "\n",
    "* 找到指定HSV颜色值，并记录该颜色运动轨迹，最后将轨迹灰度图输入模型进行预测。\n",
    "\n",
    "HSV颜色分量范围\n",
    "一般对颜色空间的图像进行有效处理都是在HSV空间进行的，然后对于基本色中对应的HSV分量需要给定一个严格的范围，下面是通过实验计算的模糊范围。\n",
    "\n",
    "H:  0— 180\n",
    "\n",
    "S:  0— 255\n",
    "\n",
    "V:  0— 255\n",
    "\n",
    "此处把部分红色归为紫色范围：\n",
    "\n",
    "![title](other_data/04.png) \n",
    "\n",
    "![title](other_data/03.png)  ![title](other_data/02.png)"
   ]
  },
  {
   "cell_type": "code",
   "execution_count": null,
   "metadata": {},
   "outputs": [],
   "source": [
    "# 红色的HSV颜色体系取值范围\n",
    "Lower_red = np.array([90, 120, 150])\n",
    "Upper_red = np.array([250, 255, 255])"
   ]
  },
  {
   "cell_type": "markdown",
   "metadata": {},
   "source": [
    "## 7.创建显示窗口"
   ]
  },
  {
   "cell_type": "code",
   "execution_count": null,
   "metadata": {},
   "outputs": [],
   "source": [
    "image_widget = widgets.Image(format='jpeg', width=300, height=300)\n",
    "blackboard_widget = widgets.Image(format='jpeg', width=300, height=300)"
   ]
  },
  {
   "cell_type": "markdown",
   "metadata": {},
   "source": [
    "## 8.定义预测函数"
   ]
  },
  {
   "cell_type": "code",
   "execution_count": null,
   "metadata": {},
   "outputs": [],
   "source": [
    "global letter, points, kernel, blackboard\n",
    "letter = ''\n",
    "points = deque(maxlen=512)\n",
    "kernel = np.ones((5, 5), np.uint8)\n",
    "blackboard = np.zeros((300, 300, 3), dtype=np.uint8)\n",
    "\n",
    "\n",
    "# 设置字母识别所有类别\n",
    "classes = [ 'a', 'b', 'c',  'd',  'e',  'f',\n",
    "    'g',  'h', 'i',  'j', 'k','l', 'm', 'n','o', 'p', 'q', 'r', 's', 't', 'u', 'v','w', 'x', 'y', 'z',]\n",
    "\n",
    "\n",
    "'''\n",
    "在图片上画线，并在图片数显示预测结果\n",
    "'''\n",
    "def draw(img):\n",
    "    global letter, points, kernel, blackboard\n",
    "    img = cv2.flip(img, 1)\n",
    "    # BGR格式转换为HSV格式\n",
    "    hsv = cv2.cvtColor(img, cv2.COLOR_BGR2HSV)\n",
    "    # 红色HSV阈值\n",
    "    redMask = cv2.inRange(hsv, Lower_red, Upper_red)\n",
    "    # 图像腐蚀\n",
    "    redMask = cv2.erode(redMask, kernel, iterations=2)\n",
    "    # 图像膨胀\n",
    "    redMask = cv2.dilate(redMask, kernel, iterations=2)\n",
    "    redMask=cv2.GaussianBlur(redMask,(3,3),0)\n",
    "    # 获取轮廓\n",
    "    cnts = cv2.findContours(redMask.copy(), cv2.RETR_EXTERNAL,cv2.CHAIN_APPROX_SIMPLE)[0]\n",
    "    center = None\n",
    "    # 如果检测到红色就将红色运动轨迹记录到points里面\n",
    "    if len(cnts) > 0:\n",
    "        cnt = max(cnts, key=cv2.contourArea)\n",
    "        ((x, y), radius) = cv2.minEnclosingCircle(cnt)\n",
    "        cv2.circle(img, (int(x), int(y)), int(radius), (0, 255, 255), 2)\n",
    "        M = cv2.moments(cnt)\n",
    "        center = (int(M['m10'] / M['m00']), int(M['m01'] / M['m00']))\n",
    "        points.appendleft(center)\n",
    "    # 如果红色消失就对 points 保存的轨迹进行识别\n",
    "    elif len(cnts) == 0:\n",
    "        # points 有数据时才进行识别。\n",
    "        if len(points) != 0:\n",
    "            blackboard_gray = cv2.cvtColor(blackboard, cv2.COLOR_BGR2GRAY)\n",
    "            blur1 = cv2.medianBlur(blackboard_gray, 15)\n",
    "            blur1 = cv2.GaussianBlur(blur1, (5, 5), 0)\n",
    "            thresh1 = cv2.threshold(blur1, 0, 255, cv2.THRESH_BINARY + cv2.THRESH_OTSU)[1]\n",
    "            cnts = cv2.findContours(thresh1.copy(), cv2.RETR_TREE, cv2.CHAIN_APPROX_NONE)[0]\n",
    "            if len(cnts) >= 1:\n",
    "                cnt = max(cnts, key=cv2.contourArea)\n",
    "                if cv2.contourArea(cnt) > 1000:\n",
    "                    # 将检测到的图形用矩形框框出来，输出框坐标\n",
    "                    x, y, w, h = cv2.boundingRect(cnt)\n",
    "                    alphabet = blackboard_gray[y:y + h, x:x + w]\n",
    "                    pre_index = predict(alphabet)\n",
    "                    letter = classes[pre_index]\n",
    "        # 初始化points， blackboard，清除画板。\n",
    "        points = deque(maxlen=512)\n",
    "        blackboard = np.zeros((300, 300, 3), dtype=np.uint8)\n",
    "            \n",
    "    # 在图像上显示运动轨迹。\n",
    "    for i in range(1, len(points)):\n",
    "        if points[i - 1] is None or points[i] is None:\n",
    "            continue\n",
    "        cv2.line(img, points[i - 1], points[i], (255, 0, 0), 12)\n",
    "        cv2.line(blackboard, points[i - 1], points[i], (255, 255, 255), 10)\n",
    "    cv2.putText(img, \"letter: \" + str(letter), (10, 20), cv2.FONT_HERSHEY_SIMPLEX, 0.6, (255, 0, 0), 2)\n",
    "    image_widget.value = bgr8_to_jpeg(img)\n",
    "    blackboard_widget.value = bgr8_to_jpeg(blackboard)"
   ]
  },
  {
   "cell_type": "markdown",
   "metadata": {},
   "source": [
    "## 9.使用线程说出预测结果"
   ]
  },
  {
   "cell_type": "code",
   "execution_count": null,
   "metadata": {},
   "outputs": [],
   "source": [
    "import threading\n",
    "threading_stop=False\n",
    "def interaction():\n",
    "    while threading_stop==False:\n",
    "        global letter\n",
    "        if letter!='':\n",
    "            rbt.speech.play_text('预测结果是字母{}'.format(letter), True)\n",
    "            letter=''\n",
    "        time.sleep(1)"
   ]
  },
  {
   "cell_type": "markdown",
   "metadata": {},
   "source": [
    "## 10.开始预测"
   ]
  },
  {
   "cell_type": "code",
   "execution_count": null,
   "metadata": {},
   "outputs": [],
   "source": [
    "def on_new_image(evt):\n",
    "    # Show images\n",
    "    img = evt.dict['data']\n",
    "    draw(img)\n",
    "    \n",
    "rbt = Robot()\n",
    "rbt.connect()\n",
    "rbt.camera.start()\n",
    "rbt.base.set_ptz(20)\n",
    "rbt.event_manager.add_event_listener(event.EventTypes.NEW_CAMERA_IMAGE,on_new_image)\n",
    "\n",
    "process1 = threading.Thread(target=interaction,)\n",
    "process1.start()\n",
    "\n",
    "display(ipywidgets.HBox([image_widget, blackboard_widget]))"
   ]
  },
  {
   "cell_type": "markdown",
   "metadata": {},
   "source": [
    "## 11.断开机器人连接"
   ]
  },
  {
   "cell_type": "code",
   "execution_count": null,
   "metadata": {},
   "outputs": [],
   "source": [
    "# threading_stop=True\n",
    "# rbt.disconnect()"
   ]
  },
  {
   "cell_type": "code",
   "execution_count": null,
   "metadata": {},
   "outputs": [],
   "source": []
  }
 ],
 "metadata": {
  "kernelspec": {
   "display_name": "Python 3",
   "language": "python",
   "name": "python3"
  },
  "language_info": {
   "codemirror_mode": {
    "name": "ipython",
    "version": 3
   },
   "file_extension": ".py",
   "mimetype": "text/x-python",
   "name": "python",
   "nbconvert_exporter": "python",
   "pygments_lexer": "ipython3",
   "version": "3.6.8"
  }
 },
 "nbformat": 4,
 "nbformat_minor": 4
}
