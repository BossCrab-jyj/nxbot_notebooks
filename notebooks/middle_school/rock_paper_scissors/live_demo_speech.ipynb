{
 "cells": [
  {
   "cell_type": "markdown",
   "metadata": {},
   "source": [
    "# 猜拳游戏\n",
    "\n",
    "![title](other_data/1.jpg)\n",
    "\n",
    "## 1.加载所需模块"
   ]
  },
  {
   "cell_type": "code",
   "execution_count": null,
   "metadata": {},
   "outputs": [],
   "source": [
    "import torch\n",
    "import time\n",
    "import torchvision\n",
    "import traitlets\n",
    "from IPython.display import display\n",
    "import ipywidgets.widgets as widgets\n",
    "from nxbot import Robot,event,bgr8_to_jpeg\n",
    "import torch.nn.functional as F\n",
    "from torch.autograd import Variable\n",
    "from torchvision import datasets, models, transforms\n",
    "from PIL import Image\n",
    "import cv2\n",
    "import numpy as np"
   ]
  },
  {
   "cell_type": "markdown",
   "metadata": {},
   "source": [
    "## 2.加载神经网络\n",
    "\n",
    "加载我们训练好的神经网络模型\n",
    "\n",
    "然后把模型数据传输到GPU设备上，加快运行速度。"
   ]
  },
  {
   "cell_type": "code",
   "execution_count": null,
   "metadata": {},
   "outputs": [],
   "source": [
    "model = torch.load('../../../models/local/resnet18/rock_paper_scissors.pth')\n",
    "device = torch.device('cuda')\n",
    "model = model.to(device)"
   ]
  },
  {
   "cell_type": "markdown",
   "metadata": {},
   "source": [
    "## 3.创建预处理函数\n",
    "\n",
    "我们现在已经加载了我们的模型，但是有一个小问题。我们训练时模型接收的图片格式与机器人拍摄的图片的格式不匹配。为此，我们对机器人拍摄的图片做一些预处理，使得在训练和检测时输入神经网络的图片格式是一致的。"
   ]
  },
  {
   "cell_type": "code",
   "execution_count": null,
   "metadata": {},
   "outputs": [],
   "source": [
    "transforms = transforms.Compose([\n",
    "                # 将图片大小转换为224*224\n",
    "                transforms.Resize((224,224)),\n",
    "                # 将图像数据转换为tensor\n",
    "                transforms.ToTensor(),\n",
    "                # 将图像数据标准化\n",
    "                transforms.Normalize([0.587, 0.578, 0.573], [0.272, 0.273, 0.276])])\n",
    "\n",
    "def preprocess(camera_value):\n",
    "    # 将openvc格式转换为PIL格式\n",
    "    x = cv2.cvtColor(camera_value,cv2.COLOR_BGR2RGB)\n",
    "    x = Image.fromarray(np.uint8(x))\n",
    "    # 给数据在索引0上增加一维\n",
    "    x = transforms(x).unsqueeze(0)\n",
    "    # 将数据传给GPU\n",
    "    x = Variable(x).to(device)\n",
    "    return x"
   ]
  },
  {
   "cell_type": "markdown",
   "metadata": {},
   "source": [
    "## 4.检测模型是否能正常使用\n",
    "\n",
    "我们通过numpy创建与我们将要预测的图片格式一致的形状为（224，224，3）的数组，这里我们创建的全为1的数组将这个数组经过预处理再将数据放入模型中，如果能运行通过说明模型可以正常使用了。"
   ]
  },
  {
   "cell_type": "code",
   "execution_count": null,
   "metadata": {},
   "outputs": [],
   "source": [
    "try:\n",
    "    img_data = Image.fromarray(np.uint8(np.ones([224,224,3],np.float32)))\n",
    "    model(preprocess(img_data))\n",
    "except:\n",
    "    print('请检查模型是否正确')"
   ]
  },
  {
   "cell_type": "markdown",
   "metadata": {},
   "source": [
    "## 5.定义预测函数"
   ]
  },
  {
   "cell_type": "code",
   "execution_count": null,
   "metadata": {},
   "outputs": [],
   "source": [
    "import time\n",
    "import random\n",
    "\n",
    "image_widget = widgets.Image(format='jpeg', width=300, height=300)\n",
    "classes = ['bg', 'paper', 'rock', 'scissors']\n",
    "labels = ['布', '石头', '剪刀', ]\n",
    "\n",
    "def on_new_image(evt):\n",
    "    \n",
    "    img_data = evt.dict['data']\n",
    "    # 水平翻转\n",
    "    img_data=cv2.flip(img_data,1)\n",
    "    x = preprocess(img_data)\n",
    "    y = model(x)\n",
    "    # 我们运用“softmax”函数对输出的结果进行处理，使其输出的值为一个概率值(0-1)。\n",
    "    y = F.softmax(y, dim=1)\n",
    "    \n",
    "    prob = y.squeeze(0).cpu().detach().numpy()\n",
    "    pred_index = y.argmax(1)\n",
    "    label = classes[pred_index]\n",
    "    global predict\n",
    "    predict=None\n",
    "    if label != classes[0]:\n",
    "        if max(prob)>0.6:\n",
    "            cv2.putText(img_data, label, (10, 40), cv2.FONT_HERSHEY_SIMPLEX, 2, (0,255,0), 2, cv2.LINE_AA)\n",
    "            predict = labels[pred_index-1]\n",
    "    # 把dachbot摄像头画面的数据传给图像窗口。\n",
    "    image_widget.value=bgr8_to_jpeg(img_data)"
   ]
  },
  {
   "cell_type": "markdown",
   "metadata": {},
   "source": [
    "## 6.识别结果显示窗口"
   ]
  },
  {
   "cell_type": "code",
   "execution_count": null,
   "metadata": {},
   "outputs": [],
   "source": [
    "result_info = widgets.Textarea(\n",
    "    placeholder='NXROBO',\n",
    "    description='识别结果',\n",
    "    disabled=False\n",
    ")"
   ]
  },
  {
   "cell_type": "markdown",
   "metadata": {},
   "source": [
    "## 7.小车状态信息显示窗口"
   ]
  },
  {
   "cell_type": "code",
   "execution_count": null,
   "metadata": {},
   "outputs": [],
   "source": [
    "robot_info = widgets.Textarea(\n",
    "    placeholder='NXROBO',\n",
    "    description='小车状态信息',\n",
    "    disabled=False\n",
    ")\n",
    "\n",
    "def on_robot_state(evt):\n",
    "    if evt.dict['module']=='nxbot.speech':\n",
    "        robot_info.value = evt.dict['data']"
   ]
  },
  {
   "cell_type": "markdown",
   "metadata": {},
   "source": [
    "## 8.猜拳游戏\n",
    "运行代码后出现摄像头画面后就可以对着机器人说“一起来玩猜拳吧”，机器人就可以和你玩猜拳啦。"
   ]
  },
  {
   "cell_type": "code",
   "execution_count": null,
   "metadata": {},
   "outputs": [],
   "source": [
    "import threading\n",
    "\n",
    "def interaction():\n",
    "    time.sleep(5)\n",
    "    clasess = ['石头', '剪刀', '布']\n",
    "    rbt.speech.play_text('想和我玩猜拳吗?', True)\n",
    "    global exit\n",
    "    exit = False\n",
    "    while exit==False:\n",
    "        time.sleep(0.1)\n",
    "        human_choice = []\n",
    "        value = rbt.speech.asr()\n",
    "        if value:\n",
    "            result_info.value = value\n",
    "            if '不玩了' in value or '不想' in value:\n",
    "                rbt.speech.play_text('再见了',True)\n",
    "                rbt.disconnect()\n",
    "                break\n",
    "\n",
    "            elif '猜拳'in value or '再来一次' in value or '再玩一次' in value or '想' in value or '来吧' in value or '玩' in value:\n",
    "                rbt.speech.play_text('那我们开始吧', True)\n",
    "                random_choose= random.randint(0, 2)\n",
    "                robo_choise = clasess[random_choose]\n",
    "                rbt.speech.play_text('1,2,3',True)\n",
    "                rbt.speech.play_text(robo_choise,True)\n",
    "                \n",
    "                global predict\n",
    "                if predict:\n",
    "                    human_choice.append(predict)\n",
    "                if human_choice!=[]:\n",
    "                    rbt.speech.play_text('我选择了{}，你选择了{}'.format(robo_choise,human_choice[0]),True)\n",
    "                    if human_choice[0] == robo_choise:\n",
    "                        rbt.speech.play_text('我们想的一样呢!', True)\n",
    "                    elif human_choice[0] == '剪刀' and robo_choise == '布':\n",
    "                        rbt.speech.play_text('你赢啦', True)\n",
    "                    elif human_choice[0] == '石头' and robo_choise == '剪刀':\n",
    "                        rbt.speech.play_text('你赢啦', True)\n",
    "                    elif human_choice[0] == '布' and robo_choise == '石头':\n",
    "                        rbt.speech.play_text('你赢啦', True)\n",
    "                    else:\n",
    "                        rbt.speech.play_text('我赢啦', True)\n",
    "                    rbt.speech.play_text('想再玩一次吗?',True)\n",
    "                else:\n",
    "                    rbt.speech.play_text('不要让我一个人玩耍,好吗？',True)\n",
    "                    time.sleep(1)\n",
    "                    rbt.speech.play_text('想和我再玩一次吗?',True)\n"
   ]
  },
  {
   "cell_type": "markdown",
   "metadata": {},
   "source": [
    "## 9.开始运行"
   ]
  },
  {
   "cell_type": "code",
   "execution_count": null,
   "metadata": {},
   "outputs": [],
   "source": [
    "rbt = Robot()\n",
    "rbt.connect()\n",
    "rbt.base.set_ptz(20)\n",
    "rbt.camera.start()\n",
    "rbt.event_manager.add_event_listener(event.EventTypes.NEW_CAMERA_IMAGE,on_new_image)\n",
    "rbt.event_manager.add_event_listener(event.EventTypes.ROBOT_STATE,on_robot_state)\n",
    "\n",
    "rbt.speech.start()\n",
    "process1 = threading.Thread(target=interaction,)\n",
    "process1.start()\n",
    "display(image_widget,robot_info,result_info)"
   ]
  },
  {
   "cell_type": "markdown",
   "metadata": {},
   "source": [
    "## 10.断开与机器人的连接"
   ]
  },
  {
   "cell_type": "code",
   "execution_count": null,
   "metadata": {},
   "outputs": [],
   "source": [
    "# exit = True\n",
    "# rbt.disconnect()"
   ]
  }
 ],
 "metadata": {
  "kernelspec": {
   "display_name": "Python 3",
   "language": "python",
   "name": "python3"
  },
  "language_info": {
   "codemirror_mode": {
    "name": "ipython",
    "version": 3
   },
   "file_extension": ".py",
   "mimetype": "text/x-python",
   "name": "python",
   "nbconvert_exporter": "python",
   "pygments_lexer": "ipython3",
   "version": "3.6.8"
  }
 },
 "nbformat": 4,
 "nbformat_minor": 4
}
