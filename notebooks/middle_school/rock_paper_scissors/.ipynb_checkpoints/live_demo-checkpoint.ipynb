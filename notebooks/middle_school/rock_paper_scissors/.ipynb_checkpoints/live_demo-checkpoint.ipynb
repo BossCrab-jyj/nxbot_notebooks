{
 "cells": [
  {
   "cell_type": "markdown",
   "metadata": {},
   "source": [
    "# 猜拳游戏\n",
    "\n",
    "![title](other_data/1.jpg)"
   ]
  },
  {
   "cell_type": "code",
   "execution_count": 1,
   "metadata": {},
   "outputs": [
    {
     "name": "stdout",
     "output_type": "stream",
     "text": [
      "\n",
      "********************************************************\n",
      "*                NXROBO - Dachbot机器人                *\n",
      "*       (c) 2019 J.Xiao <jie.xiao@nxrobo.com>          *\n",
      "*                https://www.nxrobo.com                *\n",
      "********************************************************\n",
      "               当前SDK版本: 0.3.2.dev\n",
      "            如需退出，可以按 Ctrl-C 组合键\n",
      "            \n"
     ]
    }
   ],
   "source": [
    "import torch\n",
    "import torchvision\n",
    "import traitlets\n",
    "from IPython.display import display\n",
    "import ipywidgets.widgets as widgets\n",
    "from nxbot import Robot,event,bgr8_to_jpeg\n",
    "import torch.nn.functional as F"
   ]
  },
  {
   "cell_type": "markdown",
   "metadata": {},
   "source": [
    "### 加载神经网络\n",
    "\n",
    "在训练模型的demo中我们也加载过“alexnet”神经网络，但是在这里“pretrained=False”表示只加载网络结构，不加载预训练模型。\n",
    "\n",
    "在这里我们需要把网络的类别数量改为4个，因为在我们训练模型时一共有4个类别，分别为：['bg', 'paper', 'rock', 'scissors'] “bg”表示背景类别，添加这个类别进行训练可以减少误识别的情况。"
   ]
  },
  {
   "cell_type": "code",
   "execution_count": 2,
   "metadata": {},
   "outputs": [],
   "source": [
    "model = torchvision.models.alexnet(pretrained=False)\n",
    "model.classifier[6] = torch.nn.Linear(model.classifier[6].in_features, 4)"
   ]
  },
  {
   "cell_type": "markdown",
   "metadata": {},
   "source": [
    "接下来，加载之前训练得到的“best_model.pth”模型。\n",
    "把模型数据传输到GPU设备上，加快运行速度。"
   ]
  },
  {
   "cell_type": "code",
   "execution_count": 3,
   "metadata": {},
   "outputs": [],
   "source": [
    "model.load_state_dict(torch.load('../../models/rock_paper_scissors_model/origin_model/rock_paer_scissors_alexnet.pth'))\n",
    "device = torch.device('cuda')\n",
    "model = model.to(device)"
   ]
  },
  {
   "cell_type": "markdown",
   "metadata": {},
   "source": [
    "### 创建预处理函数\n",
    "\n",
    "我们现在已经加载了我们的模型，但是有一个小问题。我们训练时模型接收的图片格式与dachbot拍摄的图片的格式不匹配。为此，我们对dachbot拍摄的图片做一些预处理，使得在训练和检测时输入神经网络的图片格式是一致的。包括以下步骤：\n",
    "1. 把dachbot拍摄的图片像素缩放为224×224\n",
    "2. 从BGR转换为RGB（蓝绿红转为红绿蓝）\n",
    "3. 从HWC（高/宽/通道）布局转换为CHW（宽/高/通道）布局\n",
    "4. 将数据从CPU内存传输到GPU内存\n",
    "5. 把图像进行标准化处理。"
   ]
  },
  {
   "cell_type": "code",
   "execution_count": 4,
   "metadata": {},
   "outputs": [],
   "source": [
    "import cv2\n",
    "import numpy as np\n",
    "\n",
    "mean = 255.0 * np.array([0.435, 0.406, 0.39])\n",
    "stdev = 255.0 * np.array([0.29, 0.28, 0.284])\n",
    "\n",
    "normalize = torchvision.transforms.Normalize(mean, stdev)\n",
    "\n",
    "def preprocess(camera_value):\n",
    "    global device, normalize\n",
    "    x = camera_value\n",
    "    x = cv2.resize(x,(224,224),interpolation=cv2.INTER_CUBIC)\n",
    "    x = cv2.cvtColor(x, cv2.COLOR_BGR2RGB)\n",
    "    x = x.transpose((2, 0, 1))\n",
    "    x = np.ascontiguousarray(x, dtype=np.float32)\n",
    "    x = normalize(torch.from_numpy(x)).unsqueeze(0).to(device)\n",
    "    return x"
   ]
  },
  {
   "cell_type": "markdown",
   "metadata": {},
   "source": [
    "## 检测模型是否能正常使用\n",
    "\n",
    "我们通过numpy创建与我们将要预测的图片格式一致的形状为（224，224，3）的数组，这里我们创建的全为1的数组将这个数组经过预处理再将数据放入模型中，如果能运行通过说明模型可以正常使用了。"
   ]
  },
  {
   "cell_type": "code",
   "execution_count": 5,
   "metadata": {},
   "outputs": [
    {
     "name": "stdout",
     "output_type": "stream",
     "text": [
      "[ 3.428  -0.8843 -1.165  -1.426 ]\n",
      "3.826749086380005\n"
     ]
    }
   ],
   "source": [
    "try:\n",
    "    img_data = np.ones([224,224,3],np.float32)\n",
    "    model(preprocess(img_data)).detach().half().cpu().numpy().flatten()\n",
    "except:\n",
    "    print('请检查模型是否正确')"
   ]
  },
  {
   "cell_type": "markdown",
   "metadata": {},
   "source": [
    "## 定义预测函数"
   ]
  },
  {
   "cell_type": "code",
   "execution_count": 6,
   "metadata": {},
   "outputs": [],
   "source": [
    "import time\n",
    "import random\n",
    "\n",
    "def rbt_speech(content):\n",
    "    if not rbt.speech.is_playing():\n",
    "        rbt.speech.play_text(content, False)\n",
    "\n",
    "image_widget = widgets.Image(format='jpeg', width=300, height=300)\n",
    "classes = ['bg', 'paper', 'rock', 'scissors']\n",
    "labels = ['布', '石头', '剪刀', ]\n",
    "\n",
    "def on_new_image(evt):\n",
    "    \n",
    "    img_data = evt.dict['data']\n",
    "    x = preprocess(img_data)\n",
    "    y = model(x)\n",
    "    # 我们运用“softmax”函数对输出的结果进行处理，使其输出的值为一个概率值(0-1)。\n",
    "    y = F.softmax(y, dim=1)\n",
    "    \n",
    "    prob = y.squeeze(0).cpu().detach().numpy()\n",
    "    pred_index = y.argmax(1)\n",
    "    label = classes[pred_index]\n",
    "    global predict\n",
    "    predict=None\n",
    "    if label != classes[0]:\n",
    "        if max(prob)>0.8:\n",
    "            cv2.putText(img_data, label, (10, 40), cv2.FONT_HERSHEY_SIMPLEX, 2, (0,255,0), 2, cv2.LINE_AA)\n",
    "            predict = labels[pred_index-1]\n",
    "    # 把dachbot摄像头画面的数据传给图像窗口。\n",
    "    image_widget.value=bgr8_to_jpeg(img_data)"
   ]
  },
  {
   "cell_type": "markdown",
   "metadata": {},
   "source": [
    "## 识别结果显示窗口"
   ]
  },
  {
   "cell_type": "code",
   "execution_count": 7,
   "metadata": {},
   "outputs": [],
   "source": [
    "result_info = widgets.Textarea(\n",
    "    placeholder='NXROBO',\n",
    "    description='识别结果',\n",
    "    disabled=False\n",
    ")"
   ]
  },
  {
   "cell_type": "markdown",
   "metadata": {},
   "source": [
    "## 小车状态信息显示窗口"
   ]
  },
  {
   "cell_type": "code",
   "execution_count": 8,
   "metadata": {},
   "outputs": [],
   "source": [
    "robot_info = widgets.Textarea(\n",
    "    placeholder='NXROBO',\n",
    "    description='小车状态信息',\n",
    "    disabled=False\n",
    ")\n",
    "\n",
    "def on_robot_state(evt):\n",
    "    if evt.dict['module']=='nxbot.speech':\n",
    "        robot_info.value = evt.dict['data']"
   ]
  },
  {
   "cell_type": "markdown",
   "metadata": {},
   "source": [
    "# 猜拳游戏\n",
    "运行代码后出现摄像头画面后就可以对着dachbot说“一起来玩猜拳吧”，dachbot就可以和你玩猜拳啦。"
   ]
  },
  {
   "cell_type": "code",
   "execution_count": 9,
   "metadata": {},
   "outputs": [],
   "source": [
    "import random\n",
    "import threading\n",
    "import re\n",
    "from queue import Queue\n",
    "\n",
    "def interaction():\n",
    "    time.sleep(5)\n",
    "    clasess = ['石头', '剪刀', '布']\n",
    "    rbt.speech.play_text('想和我玩猜拳吗?', True)\n",
    "    while True:\n",
    "        predict_0 = []\n",
    "        value = rbt.speech.asr()\n",
    "        if value:\n",
    "            result_info.value = value\n",
    "            if '不玩了' in value or '不想' in value:\n",
    "                rbt.speech.play_text('再见了',True)\n",
    "                rbt.disconnect()\n",
    "                break\n",
    "\n",
    "            elif '猜拳'in value or '再来一次' in value or '再玩一次' in value or '想' in value or '来吧' in value or '玩' in value:\n",
    "                rbt.speech.play_text('那我们开始吧', True)\n",
    "                random_choose= random.randint(0, 2)\n",
    "                robo_choose = clasess[random_choose]\n",
    "                rbt.speech.play_text('1,2,3',True)\n",
    "                global predict\n",
    "                rbt.speech.play_text(robo_choose,True)\n",
    "                if predict:\n",
    "                    predict_0.append(predict)\n",
    "                if predict_0!=[]:\n",
    "                    rbt.speech.play_text('datchbot选择了{}，你选择了{}'.format(robo_choose,predict_0[0]),True)\n",
    "                    if predict_0[0] == robo_choose:\n",
    "                        rbt.speech.play_text('我们想的一样呢!', True)\n",
    "                    elif predict_0[0] == '剪刀' and robo_choose == '布':\n",
    "                        rbt.speech.play_text('你赢啦', True)\n",
    "                    elif predict_0[0] == '石头' and robo_choose == '剪刀':\n",
    "                        rbt.speech.play_text('你赢啦', True)\n",
    "                    elif predict_0[0] == '布' and robo_choose == '石头':\n",
    "                        rbt.speech.play_text('你赢啦', True)\n",
    "                    else:\n",
    "                        rbt.speech.play_text('datchbot赢啦', True)\n",
    "                    rbt.speech.play_text('想再玩一次吗?',True)\n",
    "                else:\n",
    "                    rbt.speech.play_text('不要让我一个人玩耍,好吗？',True)\n",
    "                    time.sleep(1)\n",
    "                    rbt.speech.play_text('想和我再玩一次吗?',True)\n"
   ]
  },
  {
   "cell_type": "markdown",
   "metadata": {},
   "source": [
    "## 开始运行"
   ]
  },
  {
   "cell_type": "code",
   "execution_count": 10,
   "metadata": {},
   "outputs": [
    {
     "data": {
      "application/vnd.jupyter.widget-view+json": {
       "model_id": "94d7faeb0f264cbeab84bfe7a19b8723",
       "version_major": 2,
       "version_minor": 0
      },
      "text/plain": [
       "Image(value=b'', format='jpeg', height='300', width='300')"
      ]
     },
     "metadata": {},
     "output_type": "display_data"
    },
    {
     "data": {
      "application/vnd.jupyter.widget-view+json": {
       "model_id": "253df83c83354e2296a73b2e7abace29",
       "version_major": 2,
       "version_minor": 0
      },
      "text/plain": [
       "Textarea(value='启动语音识别', description='小车状态信息', placeholder='NXROBO')"
      ]
     },
     "metadata": {},
     "output_type": "display_data"
    },
    {
     "data": {
      "application/vnd.jupyter.widget-view+json": {
       "model_id": "08949c09917946f8887b165765eccea0",
       "version_major": 2,
       "version_minor": 0
      },
      "text/plain": [
       "Textarea(value='', description='识别结果', placeholder='NXROBO')"
      ]
     },
     "metadata": {},
     "output_type": "display_data"
    }
   ],
   "source": [
    "rbt = Robot()\n",
    "rbt.connect()\n",
    "rbt.base.set_ptz(20)\n",
    "rbt.camera.start()\n",
    "rbt.event_manager.add_event_listener(event.EventTypes.NEW_CAMERA_IMAGE,on_new_image)\n",
    "rbt.event_manager.add_event_listener(event.EventTypes.ROBOT_STATE,on_robot_state)\n",
    "\n",
    "rbt.speech.start()\n",
    "process1 = threading.Thread(target=interaction,)\n",
    "process1.start()\n",
    "display(image_widget,robot_info,result_info)"
   ]
  },
  {
   "cell_type": "code",
   "execution_count": null,
   "metadata": {},
   "outputs": [],
   "source": []
  }
 ],
 "metadata": {
  "kernelspec": {
   "display_name": "Python 3",
   "language": "python",
   "name": "python3"
  },
  "language_info": {
   "codemirror_mode": {
    "name": "ipython",
    "version": 3
   },
   "file_extension": ".py",
   "mimetype": "text/x-python",
   "name": "python",
   "nbconvert_exporter": "python",
   "pygments_lexer": "ipython3",
   "version": "3.6.8"
  }
 },
 "nbformat": 4,
 "nbformat_minor": 4
}
