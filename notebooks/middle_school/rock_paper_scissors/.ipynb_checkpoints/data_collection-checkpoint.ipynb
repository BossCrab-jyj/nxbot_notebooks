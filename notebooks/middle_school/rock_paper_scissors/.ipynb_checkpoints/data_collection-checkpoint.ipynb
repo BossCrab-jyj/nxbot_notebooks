{
 "cells": [
  {
   "cell_type": "markdown",
   "metadata": {},
   "source": [
    "# 猜拳数据收集\n"
   ]
  },
  {
   "cell_type": "markdown",
   "metadata": {},
   "source": [
    "## 1.导入机器人所需模块\n",
    " \n",
    "在编写python代码前，需要导入我们要使用的模块，在接下来的过程中我们将使用和学习到以下模块。\n",
    "\n",
    "1. nxbot：机器人模块\n",
    "2. cv2：图像处理模块\n",
    "3. time：时间模块\n",
    "4. IPython.display：显示模块\n",
    "5. ipywidgets.widgets：添加小部件模块"
   ]
  },
  {
   "cell_type": "code",
   "execution_count": null,
   "metadata": {
    "scrolled": true
   },
   "outputs": [],
   "source": [
    "from nxbot import Robot,event,bgr8_to_jpeg\n",
    "import cv2\n",
    "import time\n",
    "from IPython.display import display\n",
    "import ipywidgets.widgets as widgets\n",
    "import ipywidgets\n",
    "import traitlets\n",
    "from traitlets.config.configurable import Configurable"
   ]
  },
  {
   "cell_type": "markdown",
   "metadata": {},
   "source": [
    "## 2.打开机器人的摄像头并显示图像\n",
    " \n",
    "步骤：\n",
    "\n",
    "1. 首先我们实例化从nxbot模块导入的Robot()对象，方便我们编写代码。\n",
    "2. 使用Robot()下的connect()和机器人建立连接。\n",
    "3. 使用widgets.Image创建显示窗口，格式为‘jpeg’。\n",
    "4. 通过rbt.camera.start()启动摄像头\n",
    "5. 通过回调函数监听摄像头的事件，回调函数中‘evt.dict['data']’就是图像数据，通过bgr8_to_jpeg()方法把数据转换为图像格式并把转换后的值赋给image_widget.value，也就是我们上面创建的显示窗口。\n",
    "6. 虽然我们把图片信息赋值给了image_widget，但是我们还是需要通过display（）方法把图片显示出来。"
   ]
  },
  {
   "cell_type": "code",
   "execution_count": null,
   "metadata": {},
   "outputs": [],
   "source": [
    "rbt = Robot()\n",
    "rbt.connect()\n",
    "image_widget = widgets.Image(format='jpeg')\n",
    "\n",
    "def on_new_image(evt):\n",
    "    image_widget.value=bgr8_to_jpeg(evt.dict['data'])\n",
    "\n",
    "rbt.camera.start()\n",
    "rbt.event_manager.add_event_listener(event.EventTypes.NEW_CAMERA_IMAGE,on_new_image)\n",
    "display(image_widget)"
   ]
  },
  {
   "cell_type": "markdown",
   "metadata": {},
   "source": [
    "## 3.创建保存图片文件夹\n",
    "创建一个名为“datasets”的文件夹来存储数据，下面包含“剪刀”，“石头”，“布”和“背景”四个子文件夹，用于分别保存剪刀石头布和背景类别，添加背景类别可以有效防止在没有手势的时候的误识别。\n",
    "> 创建成功后你可以在左边的工具栏中看到“dataset”这个文件夹，打开这个文件见可以看到“剪刀”，“石头”，“布”和“背景”四个子文件夹。（如果没有，可以点击左边工具栏的刷新就可以看到了！）"
   ]
  },
  {
   "cell_type": "code",
   "execution_count": 1,
   "metadata": {},
   "outputs": [],
   "source": [
    "import os\n",
    "data_path = 'datasets'\n",
    "rock_dir = 'datasets/rock'\n",
    "paper_dir = 'datasets/paper'\n",
    "scissors_dir = 'datasets/scissors'\n",
    "bg_dir = 'datasets/bg'\n",
    "try:\n",
    "    os.makedirs(data_path)\n",
    "    os.makedirs(rock_dir)\n",
    "    os.makedirs(paper_dir)\n",
    "    os.makedirs(scissors_dir)\n",
    "    os.makedirs(bg_dir)\n",
    "except FileExistsError:\n",
    "    print('该文件夹已创建！')"
   ]
  },
  {
   "cell_type": "markdown",
   "metadata": {},
   "source": [
    "## 4.创建图片保存与清空按钮\n",
    "创建并显示按钮，通过这些按钮来保存或者删除图片。同时，我们还将添加一些文本框，它会显示当前保存的图片数量。\n",
    "> 收集图片的时候尽可能让所有类别的图片尽量一样多。"
   ]
  },
  {
   "cell_type": "code",
   "execution_count": null,
   "metadata": {},
   "outputs": [],
   "source": [
    "# 创建按键函数\n",
    "def create_button(name,style):\n",
    "    return widgets.Button(description=name, button_style=style, layout=widgets.Layout(width='128px', height='64px'))\n",
    "\n",
    "# 创建保存按钮\n",
    "rock_button = create_button('石头','success')\n",
    "scissors_button = create_button('剪刀','success')\n",
    "paper_button = create_button('布','success')\n",
    "bg_button = create_button('背景','success')\n",
    "\n",
    "# 创建删除按钮\n",
    "del_rock_button = create_button('清空石头图片','danger')\n",
    "del_paper_button = create_button('清空布图片','danger')\n",
    "del_scissors_button = create_button('清空剪刀图片','danger')\n",
    "del_bg_button = create_button('清空背景图片','danger')\n",
    "\n",
    "# 定义计算文件夹图片数量小部件\n",
    "def count_layout(count_dir):\n",
    "    return widgets.IntText(layout=widgets.Layout(width='80px', height='64px'), value=len(os.listdir(count_dir)))\n",
    "\n",
    "# 生成计算文件夹图片数量小部件\n",
    "rock_count = count_layout(rock_dir)\n",
    "paper_count = count_layout(paper_dir)\n",
    "scissors_count = count_layout(scissors_dir)\n",
    "bg_count = count_layout(bg_dir)"
   ]
  },
  {
   "cell_type": "markdown",
   "metadata": {},
   "source": [
    "## 5.给按钮添加保存与删除功能\n",
    "我们还需要给按钮添加保存的功能。现在我们添加一个“on_click”的方法，当我们点击这个图标就可以保存或者删除每个类别的图像了。\n",
    "\n",
    "> 我们保存图片是刚刚已经创建好的“widgets.Image”显示窗口的值，像素为大小为224×224!\n",
    "> 为了确保每张图片的文件名都是不同的，我们将使用python中的“uuid”模块。"
   ]
  },
  {
   "cell_type": "code",
   "execution_count": null,
   "metadata": {},
   "outputs": [],
   "source": [
    "from uuid import uuid1\n",
    "\n",
    "# 定义保存函数\n",
    "def save_snapshot(directory):\n",
    "    image_path = os.path.join(directory, str(uuid1()) + '.jpg')\n",
    "    with open(image_path, 'wb') as f:\n",
    "        f.write(image_widget.value)\n",
    "\n",
    "# 保存功能\n",
    "def save(save_dir, dir_count):\n",
    "    save_snapshot(save_dir)\n",
    "    dir_count.value = len(os.listdir(save_dir))\n",
    "    \n",
    "# 删除功能\n",
    "def delete(del_dir,dir_count):\n",
    "    list_dir = os.listdir(del_dir)\n",
    "    for name in list_dir:\n",
    "        image = os.path.join(del_dir,name)\n",
    "        os.remove(image)\n",
    "    dir_count.value = len(os.listdir(del_dir))\n",
    "    \n",
    "# 添加点击事件\n",
    "rock_button.on_click(lambda x: save(rock_dir, rock_count))\n",
    "paper_button.on_click(lambda x: save(paper_dir, paper_count))\n",
    "scissors_button.on_click(lambda x: save(scissors_dir, scissors_count))\n",
    "bg_button.on_click(lambda x: save(bg_dir, bg_count))\n",
    "\n",
    "del_rock_button.on_click(lambda x: delete(rock_dir, rock_count))\n",
    "del_paper_button.on_click(lambda x: delete(paper_dir, paper_count))\n",
    "del_scissors_button.on_click(lambda x: delete(scissors_dir, scissors_count))\n",
    "del_bg_button.on_click(lambda x: delete(bg_dir, bg_count))\n",
    "# 组合所有部件\n",
    "collect_box = widgets.VBox([widgets.HBox([rock_count, rock_button,del_rock_button]),\n",
    "                           widgets.HBox([paper_count, paper_button, del_paper_button]),\n",
    "                           widgets.HBox([scissors_count, scissors_button, del_scissors_button]),\n",
    "                           widgets.HBox([bg_count, bg_button, del_bg_button])])"
   ]
  },
  {
   "cell_type": "markdown",
   "metadata": {},
   "source": [
    "## 6.创建控制按钮并连接机器人\n",
    "\n",
    "通过“widgets”模块创建前后左右等按键，通过“.on_click()”方法把这些按键和小车相应的运动模式连接起来。\n",
    "\n",
    "### 开始收集图片\n",
    "现在点击“有障碍”按钮和“无障碍”按钮就可以保存对应的图片了，你可以在“free”和“blocked”文件夹下查看图片。\n",
    "现在继续收集一些数据\n",
    "\n",
    "首先将刚刚保存的图片删除，因为刚刚保存的图片有可能不是我们想要的图片。\n",
    "\n",
    "1. 将机器人放置在一个有障碍的场景中，然后点击“有障碍”；\n",
    "2. 将机器人放置在一个没有障碍的场景中，然后点击“无障碍”；\n",
    "3. 重复1,2。\n",
    "    \n",
    ">小提示:您可以通过右键单击单元格并单击“Create new View for Output”将小部件移动到新窗口单独显示出来。\n",
    "\n",
    "#### 尝试在不同的不同角度，光照强度，不同亮度的环境下收集图片；\n",
    "\n",
    ">小提示：小车在哪一种场景下收集的图片，对于这种场景下的识别率就越高，收集图片时使用的场景越多，整个模型的泛化能力越强，在不同场景下的表现也就越好。因此获取不同场景的数据是很重要的，当然图片的数量对模型的影响也是一个重要的因素，在这个例子里面我们建议每个类别至少收集100张图片。"
   ]
  },
  {
   "cell_type": "code",
   "execution_count": null,
   "metadata": {},
   "outputs": [],
   "source": [
    "\n",
    "button_layout = widgets.Layout(width='100px', height='80px', align_self='center')\n",
    "stop_button = widgets.Button(description='停止', button_style='danger', layout=button_layout)\n",
    "forward_button = widgets.Button(description='前进', layout=button_layout)\n",
    "backward_button = widgets.Button(description='后退', layout=button_layout)\n",
    "left_button = widgets.Button(description='左转', layout=button_layout)\n",
    "right_button = widgets.Button(description='右转', layout=button_layout)\n",
    "shiftleft_button = widgets.Button(description='左平移', layout=button_layout)\n",
    "shiftright_button = widgets.Button(description='右平移', layout=button_layout)\n",
    "\n",
    "# display buttons\n",
    "if rbt.name=='dachbot':\n",
    "    up_box = widgets.HBox([shiftleft_button, forward_button, shiftright_button], layout=widgets.Layout(align_self='center'))\n",
    "elif rbt.name=='dbot':\n",
    "    up_box = widgets.HBox([forward_button], layout=widgets.Layout(align_self='center'))\n",
    "middle_box = widgets.HBox([left_button, stop_button, right_button], layout=widgets.Layout(align_self='center'))\n",
    "controls_box = widgets.VBox([up_box, middle_box, backward_button])\n",
    "\n",
    "speed = 0.3\n",
    "time = 1\n",
    "\n",
    "# 创建摄像头视角滑块。\n",
    "camera_x_slider = ipywidgets.FloatSlider(min=-90, max=90, step=1, value=0, description='摄像头左右')\n",
    "camera_y_slider = ipywidgets.FloatSlider(min=-90, max=90, step=1, value=0, description='摄像头上下')\n",
    "\n",
    "class Camera(Configurable):\n",
    "    cx_speed = traitlets.Float(default_value=0.0)\n",
    "    cy_speed = traitlets.Float(default_value=0.0)\n",
    "    @traitlets.observe('cx_speed')\n",
    "    def x_speed_value(self, change):\n",
    "        self.cx_speed=change['new']\n",
    "        rbt.base.set_ptz(self.cy_speed,self.cx_speed)\n",
    "\n",
    "    @traitlets.observe('cy_speed')\n",
    "    def a_speed_value(self, change):\n",
    "        self.cy_speed=change['new']\n",
    "        rbt.base.set_ptz(self.cy_speed,self.cx_speed)\n",
    "\n",
    "camera = Camera()\n",
    "\n",
    "camera_x_link = traitlets.dlink((camera_x_slider,'value'), (camera, 'cx_speed'), transform=lambda x: x)\n",
    "camera_y_link = traitlets.dlink((camera_y_slider,'value'), (camera, 'cy_speed'), transform=lambda x: x)\n",
    "\n",
    "def stop(change):\n",
    "    rbt.base.stop()\n",
    "\n",
    "def step_forward(change):\n",
    "    rbt.base.forward(speed, time)\n",
    "\n",
    "def step_backward(change):\n",
    "    rbt.base.backward(speed, time)\n",
    "\n",
    "def step_left(change):\n",
    "    rbt.base.turnleft(speed, time)\n",
    "\n",
    "def step_right(change):\n",
    "    rbt.base.turnright(speed, time)\n",
    "    \n",
    "def shift_left(change):\n",
    "    rbt.base.shiftleft(speed, time)\n",
    "\n",
    "def shift_right(change):\n",
    "    rbt.base.shiftright(speed, time)\n",
    "\n",
    "stop_button.on_click(stop)\n",
    "forward_button.on_click(step_forward)\n",
    "backward_button.on_click(step_backward)\n",
    "left_button.on_click(step_left)\n",
    "right_button.on_click(step_right)\n",
    "shiftleft_button.on_click(shift_left)\n",
    "shiftright_button.on_click(shift_right)\n",
    "\n",
    "\n",
    "display(widgets.HBox([widgets.VBox([image_widget,collect_box]), controls_box]))\n",
    "display(camera_x_slider, camera_y_slider)"
   ]
  },
  {
   "cell_type": "markdown",
   "metadata": {},
   "source": [
    "## 7.断开连接\n",
    "当你收集了足够的数据，通过“disconnect()”方法来和小车断开连接，释放资源。"
   ]
  },
  {
   "cell_type": "code",
   "execution_count": null,
   "metadata": {},
   "outputs": [],
   "source": [
    "# rbt.disconnect()"
   ]
  },
  {
   "cell_type": "code",
   "execution_count": null,
   "metadata": {},
   "outputs": [],
   "source": []
  }
 ],
 "metadata": {
  "kernelspec": {
   "display_name": "Python 3",
   "language": "python",
   "name": "python3"
  },
  "language_info": {
   "codemirror_mode": {
    "name": "ipython",
    "version": 3
   },
   "file_extension": ".py",
   "mimetype": "text/x-python",
   "name": "python",
   "nbconvert_exporter": "python",
   "pygments_lexer": "ipython3",
   "version": "3.6.8"
  }
 },
 "nbformat": 4,
 "nbformat_minor": 4
}
